{
  "cells": [
    {
      "cell_type": "code",
      "source": [
        "# Mounting the Drive to Google Colab\n",
        "from google.colab import drive\n",
        "drive.mount('/drive')"
      ],
      "metadata": {
        "colab": {
          "base_uri": "https://localhost:8080/"
        },
        "id": "9fJBAACP4R-d",
        "outputId": "08f1e03f-6a32-46c1-e505-2a170a892861"
      },
      "execution_count": 1,
      "outputs": [
        {
          "output_type": "stream",
          "name": "stdout",
          "text": [
            "Drive already mounted at /drive; to attempt to forcibly remount, call drive.mount(\"/drive\", force_remount=True).\n"
          ]
        }
      ]
    },
    {
      "cell_type": "code",
      "execution_count": 2,
      "metadata": {
        "id": "N61oRWbslRFk"
      },
      "outputs": [],
      "source": [
        "import pandas as pd\n",
        "import numpy as np\n",
        "import matplotlib.pyplot as plt\n",
        "from sklearn.model_selection import train_test_split"
      ]
    },
    {
      "cell_type": "code",
      "execution_count": 3,
      "metadata": {
        "id": "YZFV9gQelRFn"
      },
      "outputs": [],
      "source": [
        "# load data\n",
        "data = pd.read_csv(r\"/drive/MyDrive/Colab Notebooks/wifi.csv\")"
      ]
    },
    {
      "cell_type": "code",
      "source": [
        "data.info()"
      ],
      "metadata": {
        "colab": {
          "base_uri": "https://localhost:8080/"
        },
        "id": "wv7wFEYZ4tLA",
        "outputId": "27db589d-eda4-4efd-e0f2-0ce51ff7fe84"
      },
      "execution_count": 4,
      "outputs": [
        {
          "output_type": "stream",
          "name": "stdout",
          "text": [
            "<class 'pandas.core.frame.DataFrame'>\n",
            "RangeIndex: 2000 entries, 0 to 1999\n",
            "Data columns (total 8 columns):\n",
            " #   Column  Non-Null Count  Dtype\n",
            "---  ------  --------------  -----\n",
            " 0   Wifi 1  2000 non-null   int64\n",
            " 1   Wifi 2  2000 non-null   int64\n",
            " 2   Wifi 3  2000 non-null   int64\n",
            " 3   Wifi 4  2000 non-null   int64\n",
            " 4   Wifi 5  2000 non-null   int64\n",
            " 5   Wifi 6  2000 non-null   int64\n",
            " 6   Wifi 7  2000 non-null   int64\n",
            " 7   Room    2000 non-null   int64\n",
            "dtypes: int64(8)\n",
            "memory usage: 125.1 KB\n"
          ]
        }
      ]
    },
    {
      "cell_type": "code",
      "source": [
        "data.head()"
      ],
      "metadata": {
        "colab": {
          "base_uri": "https://localhost:8080/",
          "height": 204
        },
        "id": "xNOH37si4tNC",
        "outputId": "11bdaf96-9f15-4442-ed40-e87e5f87e4a3"
      },
      "execution_count": 5,
      "outputs": [
        {
          "output_type": "execute_result",
          "data": {
            "text/plain": [
              "   Wifi 1  Wifi 2  Wifi 3  Wifi 4  Wifi 5  Wifi 6  Wifi 7  Room\n",
              "0     -64     -56     -61     -66     -71     -82     -81     1\n",
              "1     -68     -57     -61     -65     -71     -85     -85     1\n",
              "2     -63     -60     -60     -67     -76     -85     -84     1\n",
              "3     -61     -60     -68     -62     -77     -90     -80     1\n",
              "4     -63     -65     -60     -63     -77     -81     -87     1"
            ],
            "text/html": [
              "\n",
              "  <div id=\"df-214f89c1-fc28-4bf6-8c99-e4c262aa4542\">\n",
              "    <div class=\"colab-df-container\">\n",
              "      <div>\n",
              "<style scoped>\n",
              "    .dataframe tbody tr th:only-of-type {\n",
              "        vertical-align: middle;\n",
              "    }\n",
              "\n",
              "    .dataframe tbody tr th {\n",
              "        vertical-align: top;\n",
              "    }\n",
              "\n",
              "    .dataframe thead th {\n",
              "        text-align: right;\n",
              "    }\n",
              "</style>\n",
              "<table border=\"1\" class=\"dataframe\">\n",
              "  <thead>\n",
              "    <tr style=\"text-align: right;\">\n",
              "      <th></th>\n",
              "      <th>Wifi 1</th>\n",
              "      <th>Wifi 2</th>\n",
              "      <th>Wifi 3</th>\n",
              "      <th>Wifi 4</th>\n",
              "      <th>Wifi 5</th>\n",
              "      <th>Wifi 6</th>\n",
              "      <th>Wifi 7</th>\n",
              "      <th>Room</th>\n",
              "    </tr>\n",
              "  </thead>\n",
              "  <tbody>\n",
              "    <tr>\n",
              "      <th>0</th>\n",
              "      <td>-64</td>\n",
              "      <td>-56</td>\n",
              "      <td>-61</td>\n",
              "      <td>-66</td>\n",
              "      <td>-71</td>\n",
              "      <td>-82</td>\n",
              "      <td>-81</td>\n",
              "      <td>1</td>\n",
              "    </tr>\n",
              "    <tr>\n",
              "      <th>1</th>\n",
              "      <td>-68</td>\n",
              "      <td>-57</td>\n",
              "      <td>-61</td>\n",
              "      <td>-65</td>\n",
              "      <td>-71</td>\n",
              "      <td>-85</td>\n",
              "      <td>-85</td>\n",
              "      <td>1</td>\n",
              "    </tr>\n",
              "    <tr>\n",
              "      <th>2</th>\n",
              "      <td>-63</td>\n",
              "      <td>-60</td>\n",
              "      <td>-60</td>\n",
              "      <td>-67</td>\n",
              "      <td>-76</td>\n",
              "      <td>-85</td>\n",
              "      <td>-84</td>\n",
              "      <td>1</td>\n",
              "    </tr>\n",
              "    <tr>\n",
              "      <th>3</th>\n",
              "      <td>-61</td>\n",
              "      <td>-60</td>\n",
              "      <td>-68</td>\n",
              "      <td>-62</td>\n",
              "      <td>-77</td>\n",
              "      <td>-90</td>\n",
              "      <td>-80</td>\n",
              "      <td>1</td>\n",
              "    </tr>\n",
              "    <tr>\n",
              "      <th>4</th>\n",
              "      <td>-63</td>\n",
              "      <td>-65</td>\n",
              "      <td>-60</td>\n",
              "      <td>-63</td>\n",
              "      <td>-77</td>\n",
              "      <td>-81</td>\n",
              "      <td>-87</td>\n",
              "      <td>1</td>\n",
              "    </tr>\n",
              "  </tbody>\n",
              "</table>\n",
              "</div>\n",
              "      <button class=\"colab-df-convert\" onclick=\"convertToInteractive('df-214f89c1-fc28-4bf6-8c99-e4c262aa4542')\"\n",
              "              title=\"Convert this dataframe to an interactive table.\"\n",
              "              style=\"display:none;\">\n",
              "        \n",
              "  <svg xmlns=\"http://www.w3.org/2000/svg\" height=\"24px\"viewBox=\"0 0 24 24\"\n",
              "       width=\"24px\">\n",
              "    <path d=\"M0 0h24v24H0V0z\" fill=\"none\"/>\n",
              "    <path d=\"M18.56 5.44l.94 2.06.94-2.06 2.06-.94-2.06-.94-.94-2.06-.94 2.06-2.06.94zm-11 1L8.5 8.5l.94-2.06 2.06-.94-2.06-.94L8.5 2.5l-.94 2.06-2.06.94zm10 10l.94 2.06.94-2.06 2.06-.94-2.06-.94-.94-2.06-.94 2.06-2.06.94z\"/><path d=\"M17.41 7.96l-1.37-1.37c-.4-.4-.92-.59-1.43-.59-.52 0-1.04.2-1.43.59L10.3 9.45l-7.72 7.72c-.78.78-.78 2.05 0 2.83L4 21.41c.39.39.9.59 1.41.59.51 0 1.02-.2 1.41-.59l7.78-7.78 2.81-2.81c.8-.78.8-2.07 0-2.86zM5.41 20L4 18.59l7.72-7.72 1.47 1.35L5.41 20z\"/>\n",
              "  </svg>\n",
              "      </button>\n",
              "      \n",
              "  <style>\n",
              "    .colab-df-container {\n",
              "      display:flex;\n",
              "      flex-wrap:wrap;\n",
              "      gap: 12px;\n",
              "    }\n",
              "\n",
              "    .colab-df-convert {\n",
              "      background-color: #E8F0FE;\n",
              "      border: none;\n",
              "      border-radius: 50%;\n",
              "      cursor: pointer;\n",
              "      display: none;\n",
              "      fill: #1967D2;\n",
              "      height: 32px;\n",
              "      padding: 0 0 0 0;\n",
              "      width: 32px;\n",
              "    }\n",
              "\n",
              "    .colab-df-convert:hover {\n",
              "      background-color: #E2EBFA;\n",
              "      box-shadow: 0px 1px 2px rgba(60, 64, 67, 0.3), 0px 1px 3px 1px rgba(60, 64, 67, 0.15);\n",
              "      fill: #174EA6;\n",
              "    }\n",
              "\n",
              "    [theme=dark] .colab-df-convert {\n",
              "      background-color: #3B4455;\n",
              "      fill: #D2E3FC;\n",
              "    }\n",
              "\n",
              "    [theme=dark] .colab-df-convert:hover {\n",
              "      background-color: #434B5C;\n",
              "      box-shadow: 0px 1px 3px 1px rgba(0, 0, 0, 0.15);\n",
              "      filter: drop-shadow(0px 1px 2px rgba(0, 0, 0, 0.3));\n",
              "      fill: #FFFFFF;\n",
              "    }\n",
              "  </style>\n",
              "\n",
              "      <script>\n",
              "        const buttonEl =\n",
              "          document.querySelector('#df-214f89c1-fc28-4bf6-8c99-e4c262aa4542 button.colab-df-convert');\n",
              "        buttonEl.style.display =\n",
              "          google.colab.kernel.accessAllowed ? 'block' : 'none';\n",
              "\n",
              "        async function convertToInteractive(key) {\n",
              "          const element = document.querySelector('#df-214f89c1-fc28-4bf6-8c99-e4c262aa4542');\n",
              "          const dataTable =\n",
              "            await google.colab.kernel.invokeFunction('convertToInteractive',\n",
              "                                                     [key], {});\n",
              "          if (!dataTable) return;\n",
              "\n",
              "          const docLinkHtml = 'Like what you see? Visit the ' +\n",
              "            '<a target=\"_blank\" href=https://colab.research.google.com/notebooks/data_table.ipynb>data table notebook</a>'\n",
              "            + ' to learn more about interactive tables.';\n",
              "          element.innerHTML = '';\n",
              "          dataTable['output_type'] = 'display_data';\n",
              "          await google.colab.output.renderOutput(dataTable, element);\n",
              "          const docLink = document.createElement('div');\n",
              "          docLink.innerHTML = docLinkHtml;\n",
              "          element.appendChild(docLink);\n",
              "        }\n",
              "      </script>\n",
              "    </div>\n",
              "  </div>\n",
              "  "
            ]
          },
          "metadata": {},
          "execution_count": 5
        }
      ]
    },
    {
      "cell_type": "code",
      "source": [
        "# perform one hot encoding using the pandas get_dummies function\n",
        "one_hot = pd.get_dummies(data['Room'])\n",
        "\n",
        "# merge the one hot encoded variables back into the original dataframe\n",
        "df = pd.concat([data, one_hot], axis=1)\n",
        "\n",
        "# drop the original room column\n",
        "df = df.drop('Room', axis=1)"
      ],
      "metadata": {
        "id": "jQWle9nn52xl"
      },
      "execution_count": 9,
      "outputs": []
    },
    {
      "cell_type": "code",
      "source": [
        "df.head()"
      ],
      "metadata": {
        "colab": {
          "base_uri": "https://localhost:8080/",
          "height": 204
        },
        "id": "jllue-1Y6R4M",
        "outputId": "c7108cf0-459d-4d9b-fd73-5611792e4e80"
      },
      "execution_count": 10,
      "outputs": [
        {
          "output_type": "execute_result",
          "data": {
            "text/plain": [
              "   Wifi 1  Wifi 2  Wifi 3  Wifi 4  Wifi 5  Wifi 6  Wifi 7  1  2  3  4\n",
              "0     -64     -56     -61     -66     -71     -82     -81  1  0  0  0\n",
              "1     -68     -57     -61     -65     -71     -85     -85  1  0  0  0\n",
              "2     -63     -60     -60     -67     -76     -85     -84  1  0  0  0\n",
              "3     -61     -60     -68     -62     -77     -90     -80  1  0  0  0\n",
              "4     -63     -65     -60     -63     -77     -81     -87  1  0  0  0"
            ],
            "text/html": [
              "\n",
              "  <div id=\"df-d0f2f770-8e24-4095-ad90-3c5be9c726e6\">\n",
              "    <div class=\"colab-df-container\">\n",
              "      <div>\n",
              "<style scoped>\n",
              "    .dataframe tbody tr th:only-of-type {\n",
              "        vertical-align: middle;\n",
              "    }\n",
              "\n",
              "    .dataframe tbody tr th {\n",
              "        vertical-align: top;\n",
              "    }\n",
              "\n",
              "    .dataframe thead th {\n",
              "        text-align: right;\n",
              "    }\n",
              "</style>\n",
              "<table border=\"1\" class=\"dataframe\">\n",
              "  <thead>\n",
              "    <tr style=\"text-align: right;\">\n",
              "      <th></th>\n",
              "      <th>Wifi 1</th>\n",
              "      <th>Wifi 2</th>\n",
              "      <th>Wifi 3</th>\n",
              "      <th>Wifi 4</th>\n",
              "      <th>Wifi 5</th>\n",
              "      <th>Wifi 6</th>\n",
              "      <th>Wifi 7</th>\n",
              "      <th>1</th>\n",
              "      <th>2</th>\n",
              "      <th>3</th>\n",
              "      <th>4</th>\n",
              "    </tr>\n",
              "  </thead>\n",
              "  <tbody>\n",
              "    <tr>\n",
              "      <th>0</th>\n",
              "      <td>-64</td>\n",
              "      <td>-56</td>\n",
              "      <td>-61</td>\n",
              "      <td>-66</td>\n",
              "      <td>-71</td>\n",
              "      <td>-82</td>\n",
              "      <td>-81</td>\n",
              "      <td>1</td>\n",
              "      <td>0</td>\n",
              "      <td>0</td>\n",
              "      <td>0</td>\n",
              "    </tr>\n",
              "    <tr>\n",
              "      <th>1</th>\n",
              "      <td>-68</td>\n",
              "      <td>-57</td>\n",
              "      <td>-61</td>\n",
              "      <td>-65</td>\n",
              "      <td>-71</td>\n",
              "      <td>-85</td>\n",
              "      <td>-85</td>\n",
              "      <td>1</td>\n",
              "      <td>0</td>\n",
              "      <td>0</td>\n",
              "      <td>0</td>\n",
              "    </tr>\n",
              "    <tr>\n",
              "      <th>2</th>\n",
              "      <td>-63</td>\n",
              "      <td>-60</td>\n",
              "      <td>-60</td>\n",
              "      <td>-67</td>\n",
              "      <td>-76</td>\n",
              "      <td>-85</td>\n",
              "      <td>-84</td>\n",
              "      <td>1</td>\n",
              "      <td>0</td>\n",
              "      <td>0</td>\n",
              "      <td>0</td>\n",
              "    </tr>\n",
              "    <tr>\n",
              "      <th>3</th>\n",
              "      <td>-61</td>\n",
              "      <td>-60</td>\n",
              "      <td>-68</td>\n",
              "      <td>-62</td>\n",
              "      <td>-77</td>\n",
              "      <td>-90</td>\n",
              "      <td>-80</td>\n",
              "      <td>1</td>\n",
              "      <td>0</td>\n",
              "      <td>0</td>\n",
              "      <td>0</td>\n",
              "    </tr>\n",
              "    <tr>\n",
              "      <th>4</th>\n",
              "      <td>-63</td>\n",
              "      <td>-65</td>\n",
              "      <td>-60</td>\n",
              "      <td>-63</td>\n",
              "      <td>-77</td>\n",
              "      <td>-81</td>\n",
              "      <td>-87</td>\n",
              "      <td>1</td>\n",
              "      <td>0</td>\n",
              "      <td>0</td>\n",
              "      <td>0</td>\n",
              "    </tr>\n",
              "  </tbody>\n",
              "</table>\n",
              "</div>\n",
              "      <button class=\"colab-df-convert\" onclick=\"convertToInteractive('df-d0f2f770-8e24-4095-ad90-3c5be9c726e6')\"\n",
              "              title=\"Convert this dataframe to an interactive table.\"\n",
              "              style=\"display:none;\">\n",
              "        \n",
              "  <svg xmlns=\"http://www.w3.org/2000/svg\" height=\"24px\"viewBox=\"0 0 24 24\"\n",
              "       width=\"24px\">\n",
              "    <path d=\"M0 0h24v24H0V0z\" fill=\"none\"/>\n",
              "    <path d=\"M18.56 5.44l.94 2.06.94-2.06 2.06-.94-2.06-.94-.94-2.06-.94 2.06-2.06.94zm-11 1L8.5 8.5l.94-2.06 2.06-.94-2.06-.94L8.5 2.5l-.94 2.06-2.06.94zm10 10l.94 2.06.94-2.06 2.06-.94-2.06-.94-.94-2.06-.94 2.06-2.06.94z\"/><path d=\"M17.41 7.96l-1.37-1.37c-.4-.4-.92-.59-1.43-.59-.52 0-1.04.2-1.43.59L10.3 9.45l-7.72 7.72c-.78.78-.78 2.05 0 2.83L4 21.41c.39.39.9.59 1.41.59.51 0 1.02-.2 1.41-.59l7.78-7.78 2.81-2.81c.8-.78.8-2.07 0-2.86zM5.41 20L4 18.59l7.72-7.72 1.47 1.35L5.41 20z\"/>\n",
              "  </svg>\n",
              "      </button>\n",
              "      \n",
              "  <style>\n",
              "    .colab-df-container {\n",
              "      display:flex;\n",
              "      flex-wrap:wrap;\n",
              "      gap: 12px;\n",
              "    }\n",
              "\n",
              "    .colab-df-convert {\n",
              "      background-color: #E8F0FE;\n",
              "      border: none;\n",
              "      border-radius: 50%;\n",
              "      cursor: pointer;\n",
              "      display: none;\n",
              "      fill: #1967D2;\n",
              "      height: 32px;\n",
              "      padding: 0 0 0 0;\n",
              "      width: 32px;\n",
              "    }\n",
              "\n",
              "    .colab-df-convert:hover {\n",
              "      background-color: #E2EBFA;\n",
              "      box-shadow: 0px 1px 2px rgba(60, 64, 67, 0.3), 0px 1px 3px 1px rgba(60, 64, 67, 0.15);\n",
              "      fill: #174EA6;\n",
              "    }\n",
              "\n",
              "    [theme=dark] .colab-df-convert {\n",
              "      background-color: #3B4455;\n",
              "      fill: #D2E3FC;\n",
              "    }\n",
              "\n",
              "    [theme=dark] .colab-df-convert:hover {\n",
              "      background-color: #434B5C;\n",
              "      box-shadow: 0px 1px 3px 1px rgba(0, 0, 0, 0.15);\n",
              "      filter: drop-shadow(0px 1px 2px rgba(0, 0, 0, 0.3));\n",
              "      fill: #FFFFFF;\n",
              "    }\n",
              "  </style>\n",
              "\n",
              "      <script>\n",
              "        const buttonEl =\n",
              "          document.querySelector('#df-d0f2f770-8e24-4095-ad90-3c5be9c726e6 button.colab-df-convert');\n",
              "        buttonEl.style.display =\n",
              "          google.colab.kernel.accessAllowed ? 'block' : 'none';\n",
              "\n",
              "        async function convertToInteractive(key) {\n",
              "          const element = document.querySelector('#df-d0f2f770-8e24-4095-ad90-3c5be9c726e6');\n",
              "          const dataTable =\n",
              "            await google.colab.kernel.invokeFunction('convertToInteractive',\n",
              "                                                     [key], {});\n",
              "          if (!dataTable) return;\n",
              "\n",
              "          const docLinkHtml = 'Like what you see? Visit the ' +\n",
              "            '<a target=\"_blank\" href=https://colab.research.google.com/notebooks/data_table.ipynb>data table notebook</a>'\n",
              "            + ' to learn more about interactive tables.';\n",
              "          element.innerHTML = '';\n",
              "          dataTable['output_type'] = 'display_data';\n",
              "          await google.colab.output.renderOutput(dataTable, element);\n",
              "          const docLink = document.createElement('div');\n",
              "          docLink.innerHTML = docLinkHtml;\n",
              "          element.appendChild(docLink);\n",
              "        }\n",
              "      </script>\n",
              "    </div>\n",
              "  </div>\n",
              "  "
            ]
          },
          "metadata": {},
          "execution_count": 10
        }
      ]
    },
    {
      "cell_type": "code",
      "execution_count": 14,
      "metadata": {
        "colab": {
          "base_uri": "https://localhost:8080/"
        },
        "id": "6EC1mMgflRFo",
        "outputId": "cf370108-eff3-40e4-99a3-a8a77510c5b3"
      },
      "outputs": [
        {
          "output_type": "stream",
          "name": "stdout",
          "text": [
            "(2000, 7)\n",
            "(2000, 4)\n"
          ]
        }
      ],
      "source": [
        "# reading the data in dataframe\n",
        "X = df.iloc[:,:-4]\n",
        "y = df.iloc[:,-4:]\n",
        "print(X.shape)\n",
        "print(y.shape)"
      ]
    },
    {
      "cell_type": "code",
      "execution_count": 15,
      "metadata": {
        "colab": {
          "base_uri": "https://localhost:8080/",
          "height": 266
        },
        "id": "VWqluUDQlRFq",
        "outputId": "948e3b52-b9d7-45b4-de24-ffb7196972d3"
      },
      "outputs": [
        {
          "output_type": "execute_result",
          "data": {
            "text/plain": [
              "         0   1   2   3   4\n",
              "Wifi 1 -64 -68 -63 -61 -63\n",
              "Wifi 2 -56 -57 -60 -60 -65\n",
              "Wifi 3 -61 -61 -60 -68 -60\n",
              "Wifi 4 -66 -65 -67 -62 -63\n",
              "Wifi 5 -71 -71 -76 -77 -77\n",
              "Wifi 6 -82 -85 -85 -90 -81\n",
              "Wifi 7 -81 -85 -84 -80 -87"
            ],
            "text/html": [
              "\n",
              "  <div id=\"df-e6b83ef6-d2d0-4821-bdc5-326afedf80e8\">\n",
              "    <div class=\"colab-df-container\">\n",
              "      <div>\n",
              "<style scoped>\n",
              "    .dataframe tbody tr th:only-of-type {\n",
              "        vertical-align: middle;\n",
              "    }\n",
              "\n",
              "    .dataframe tbody tr th {\n",
              "        vertical-align: top;\n",
              "    }\n",
              "\n",
              "    .dataframe thead th {\n",
              "        text-align: right;\n",
              "    }\n",
              "</style>\n",
              "<table border=\"1\" class=\"dataframe\">\n",
              "  <thead>\n",
              "    <tr style=\"text-align: right;\">\n",
              "      <th></th>\n",
              "      <th>0</th>\n",
              "      <th>1</th>\n",
              "      <th>2</th>\n",
              "      <th>3</th>\n",
              "      <th>4</th>\n",
              "    </tr>\n",
              "  </thead>\n",
              "  <tbody>\n",
              "    <tr>\n",
              "      <th>Wifi 1</th>\n",
              "      <td>-64</td>\n",
              "      <td>-68</td>\n",
              "      <td>-63</td>\n",
              "      <td>-61</td>\n",
              "      <td>-63</td>\n",
              "    </tr>\n",
              "    <tr>\n",
              "      <th>Wifi 2</th>\n",
              "      <td>-56</td>\n",
              "      <td>-57</td>\n",
              "      <td>-60</td>\n",
              "      <td>-60</td>\n",
              "      <td>-65</td>\n",
              "    </tr>\n",
              "    <tr>\n",
              "      <th>Wifi 3</th>\n",
              "      <td>-61</td>\n",
              "      <td>-61</td>\n",
              "      <td>-60</td>\n",
              "      <td>-68</td>\n",
              "      <td>-60</td>\n",
              "    </tr>\n",
              "    <tr>\n",
              "      <th>Wifi 4</th>\n",
              "      <td>-66</td>\n",
              "      <td>-65</td>\n",
              "      <td>-67</td>\n",
              "      <td>-62</td>\n",
              "      <td>-63</td>\n",
              "    </tr>\n",
              "    <tr>\n",
              "      <th>Wifi 5</th>\n",
              "      <td>-71</td>\n",
              "      <td>-71</td>\n",
              "      <td>-76</td>\n",
              "      <td>-77</td>\n",
              "      <td>-77</td>\n",
              "    </tr>\n",
              "    <tr>\n",
              "      <th>Wifi 6</th>\n",
              "      <td>-82</td>\n",
              "      <td>-85</td>\n",
              "      <td>-85</td>\n",
              "      <td>-90</td>\n",
              "      <td>-81</td>\n",
              "    </tr>\n",
              "    <tr>\n",
              "      <th>Wifi 7</th>\n",
              "      <td>-81</td>\n",
              "      <td>-85</td>\n",
              "      <td>-84</td>\n",
              "      <td>-80</td>\n",
              "      <td>-87</td>\n",
              "    </tr>\n",
              "  </tbody>\n",
              "</table>\n",
              "</div>\n",
              "      <button class=\"colab-df-convert\" onclick=\"convertToInteractive('df-e6b83ef6-d2d0-4821-bdc5-326afedf80e8')\"\n",
              "              title=\"Convert this dataframe to an interactive table.\"\n",
              "              style=\"display:none;\">\n",
              "        \n",
              "  <svg xmlns=\"http://www.w3.org/2000/svg\" height=\"24px\"viewBox=\"0 0 24 24\"\n",
              "       width=\"24px\">\n",
              "    <path d=\"M0 0h24v24H0V0z\" fill=\"none\"/>\n",
              "    <path d=\"M18.56 5.44l.94 2.06.94-2.06 2.06-.94-2.06-.94-.94-2.06-.94 2.06-2.06.94zm-11 1L8.5 8.5l.94-2.06 2.06-.94-2.06-.94L8.5 2.5l-.94 2.06-2.06.94zm10 10l.94 2.06.94-2.06 2.06-.94-2.06-.94-.94-2.06-.94 2.06-2.06.94z\"/><path d=\"M17.41 7.96l-1.37-1.37c-.4-.4-.92-.59-1.43-.59-.52 0-1.04.2-1.43.59L10.3 9.45l-7.72 7.72c-.78.78-.78 2.05 0 2.83L4 21.41c.39.39.9.59 1.41.59.51 0 1.02-.2 1.41-.59l7.78-7.78 2.81-2.81c.8-.78.8-2.07 0-2.86zM5.41 20L4 18.59l7.72-7.72 1.47 1.35L5.41 20z\"/>\n",
              "  </svg>\n",
              "      </button>\n",
              "      \n",
              "  <style>\n",
              "    .colab-df-container {\n",
              "      display:flex;\n",
              "      flex-wrap:wrap;\n",
              "      gap: 12px;\n",
              "    }\n",
              "\n",
              "    .colab-df-convert {\n",
              "      background-color: #E8F0FE;\n",
              "      border: none;\n",
              "      border-radius: 50%;\n",
              "      cursor: pointer;\n",
              "      display: none;\n",
              "      fill: #1967D2;\n",
              "      height: 32px;\n",
              "      padding: 0 0 0 0;\n",
              "      width: 32px;\n",
              "    }\n",
              "\n",
              "    .colab-df-convert:hover {\n",
              "      background-color: #E2EBFA;\n",
              "      box-shadow: 0px 1px 2px rgba(60, 64, 67, 0.3), 0px 1px 3px 1px rgba(60, 64, 67, 0.15);\n",
              "      fill: #174EA6;\n",
              "    }\n",
              "\n",
              "    [theme=dark] .colab-df-convert {\n",
              "      background-color: #3B4455;\n",
              "      fill: #D2E3FC;\n",
              "    }\n",
              "\n",
              "    [theme=dark] .colab-df-convert:hover {\n",
              "      background-color: #434B5C;\n",
              "      box-shadow: 0px 1px 3px 1px rgba(0, 0, 0, 0.15);\n",
              "      filter: drop-shadow(0px 1px 2px rgba(0, 0, 0, 0.3));\n",
              "      fill: #FFFFFF;\n",
              "    }\n",
              "  </style>\n",
              "\n",
              "      <script>\n",
              "        const buttonEl =\n",
              "          document.querySelector('#df-e6b83ef6-d2d0-4821-bdc5-326afedf80e8 button.colab-df-convert');\n",
              "        buttonEl.style.display =\n",
              "          google.colab.kernel.accessAllowed ? 'block' : 'none';\n",
              "\n",
              "        async function convertToInteractive(key) {\n",
              "          const element = document.querySelector('#df-e6b83ef6-d2d0-4821-bdc5-326afedf80e8');\n",
              "          const dataTable =\n",
              "            await google.colab.kernel.invokeFunction('convertToInteractive',\n",
              "                                                     [key], {});\n",
              "          if (!dataTable) return;\n",
              "\n",
              "          const docLinkHtml = 'Like what you see? Visit the ' +\n",
              "            '<a target=\"_blank\" href=https://colab.research.google.com/notebooks/data_table.ipynb>data table notebook</a>'\n",
              "            + ' to learn more about interactive tables.';\n",
              "          element.innerHTML = '';\n",
              "          dataTable['output_type'] = 'display_data';\n",
              "          await google.colab.output.renderOutput(dataTable, element);\n",
              "          const docLink = document.createElement('div');\n",
              "          docLink.innerHTML = docLinkHtml;\n",
              "          element.appendChild(docLink);\n",
              "        }\n",
              "      </script>\n",
              "    </div>\n",
              "  </div>\n",
              "  "
            ]
          },
          "metadata": {},
          "execution_count": 15
        }
      ],
      "source": [
        "# show first 5 rows, transpose because too many columns\n",
        "X.head().T"
      ]
    },
    {
      "cell_type": "code",
      "execution_count": 16,
      "metadata": {
        "colab": {
          "base_uri": "https://localhost:8080/"
        },
        "id": "NN1VQZGvlRFr",
        "outputId": "116b57d2-c438-4c8d-d163-9ba1c35ebb3f"
      },
      "outputs": [
        {
          "output_type": "execute_result",
          "data": {
            "text/plain": [
              "1  2  3  4\n",
              "0  0  0  1    500\n",
              "      1  0    500\n",
              "   1  0  0    500\n",
              "1  0  0  0    500\n",
              "dtype: int64"
            ]
          },
          "metadata": {},
          "execution_count": 16
        }
      ],
      "source": [
        "# counts of each manign and belign value in target column\n",
        "y.value_counts()"
      ]
    },
    {
      "cell_type": "code",
      "execution_count": 17,
      "metadata": {
        "colab": {
          "base_uri": "https://localhost:8080/"
        },
        "id": "Amlj-5umlRFr",
        "outputId": "28e9ae15-e118-4b98-9565-b3f67c539a83"
      },
      "outputs": [
        {
          "output_type": "stream",
          "name": "stdout",
          "text": [
            "(1600, 7)\n",
            "(400, 7)\n",
            "(1600, 4)\n",
            "(400, 4)\n"
          ]
        }
      ],
      "source": [
        "# splitting to training and testing dataset\n",
        "X_train, X_test, y_train, y_test = train_test_split(X, y, test_size=0.2, random_state=2)\n",
        "print(X_train.shape)\n",
        "print(X_test.shape)\n",
        "print(y_train.shape)\n",
        "print(y_test.shape)"
      ]
    },
    {
      "cell_type": "code",
      "execution_count": 18,
      "metadata": {
        "id": "cUSDf6yllRFs"
      },
      "outputs": [],
      "source": [
        "# standardisation\n",
        "from sklearn.preprocessing import StandardScaler\n",
        "scaler = StandardScaler()\n",
        "\n",
        "X_train = scaler.fit_transform(X_train)\n",
        "X_test = scaler.fit_transform(X_test)"
      ]
    },
    {
      "cell_type": "code",
      "execution_count": 19,
      "metadata": {
        "id": "Xb2uOT7VlRFs"
      },
      "outputs": [],
      "source": [
        "from keras.models import Sequential\n",
        "from keras.layers import Dense, Dropout"
      ]
    },
    {
      "cell_type": "code",
      "execution_count": 21,
      "metadata": {
        "colab": {
          "base_uri": "https://localhost:8080/"
        },
        "id": "_fmBBofglRFt",
        "outputId": "ce71c367-a018-4972-978a-4b128ebef6ca"
      },
      "outputs": [
        {
          "output_type": "stream",
          "name": "stdout",
          "text": [
            "Epoch 1/20\n",
            "16/16 [==============================] - 1s 12ms/step - loss: 1.0249 - accuracy: 0.7200 - val_loss: 0.7745 - val_accuracy: 0.8125\n",
            "Epoch 2/20\n",
            "16/16 [==============================] - 0s 4ms/step - loss: 0.5885 - accuracy: 0.8481 - val_loss: 0.4459 - val_accuracy: 0.8800\n",
            "Epoch 3/20\n",
            "16/16 [==============================] - 0s 3ms/step - loss: 0.3412 - accuracy: 0.9325 - val_loss: 0.2764 - val_accuracy: 0.9350\n",
            "Epoch 4/20\n",
            "16/16 [==============================] - 0s 3ms/step - loss: 0.2124 - accuracy: 0.9531 - val_loss: 0.1990 - val_accuracy: 0.9450\n",
            "Epoch 5/20\n",
            "16/16 [==============================] - 0s 4ms/step - loss: 0.1508 - accuracy: 0.9606 - val_loss: 0.1518 - val_accuracy: 0.9575\n",
            "Epoch 6/20\n",
            "16/16 [==============================] - 0s 4ms/step - loss: 0.1212 - accuracy: 0.9644 - val_loss: 0.1268 - val_accuracy: 0.9625\n",
            "Epoch 7/20\n",
            "16/16 [==============================] - 0s 3ms/step - loss: 0.1040 - accuracy: 0.9675 - val_loss: 0.1142 - val_accuracy: 0.9625\n",
            "Epoch 8/20\n",
            "16/16 [==============================] - 0s 3ms/step - loss: 0.0923 - accuracy: 0.9725 - val_loss: 0.1074 - val_accuracy: 0.9625\n",
            "Epoch 9/20\n",
            "16/16 [==============================] - 0s 3ms/step - loss: 0.0836 - accuracy: 0.9737 - val_loss: 0.0939 - val_accuracy: 0.9700\n",
            "Epoch 10/20\n",
            "16/16 [==============================] - 0s 3ms/step - loss: 0.0774 - accuracy: 0.9750 - val_loss: 0.0958 - val_accuracy: 0.9625\n",
            "Epoch 11/20\n",
            "16/16 [==============================] - 0s 5ms/step - loss: 0.0723 - accuracy: 0.9750 - val_loss: 0.0831 - val_accuracy: 0.9750\n",
            "Epoch 12/20\n",
            "16/16 [==============================] - 0s 3ms/step - loss: 0.0669 - accuracy: 0.9769 - val_loss: 0.0861 - val_accuracy: 0.9675\n",
            "Epoch 13/20\n",
            "16/16 [==============================] - 0s 3ms/step - loss: 0.0645 - accuracy: 0.9794 - val_loss: 0.0763 - val_accuracy: 0.9750\n",
            "Epoch 14/20\n",
            "16/16 [==============================] - 0s 4ms/step - loss: 0.0603 - accuracy: 0.9794 - val_loss: 0.0834 - val_accuracy: 0.9625\n",
            "Epoch 15/20\n",
            "16/16 [==============================] - 0s 3ms/step - loss: 0.0576 - accuracy: 0.9794 - val_loss: 0.0724 - val_accuracy: 0.9675\n",
            "Epoch 16/20\n",
            "16/16 [==============================] - 0s 4ms/step - loss: 0.0554 - accuracy: 0.9825 - val_loss: 0.0781 - val_accuracy: 0.9675\n",
            "Epoch 17/20\n",
            "16/16 [==============================] - 0s 3ms/step - loss: 0.0531 - accuracy: 0.9806 - val_loss: 0.0745 - val_accuracy: 0.9650\n",
            "Epoch 18/20\n",
            "16/16 [==============================] - 0s 3ms/step - loss: 0.0507 - accuracy: 0.9831 - val_loss: 0.0736 - val_accuracy: 0.9625\n",
            "Epoch 19/20\n",
            "16/16 [==============================] - 0s 3ms/step - loss: 0.0496 - accuracy: 0.9819 - val_loss: 0.0688 - val_accuracy: 0.9675\n",
            "Epoch 20/20\n",
            "16/16 [==============================] - 0s 3ms/step - loss: 0.0484 - accuracy: 0.9831 - val_loss: 0.0744 - val_accuracy: 0.9675\n"
          ]
        }
      ],
      "source": [
        "# Neurons in Hidden Layers\n",
        "L1 = 64\n",
        "L2 = 128\n",
        "\n",
        "# Model Architecture\n",
        "model = Sequential()\n",
        "model.add(Dense(L1, input_dim=7, activation=\"relu\"))\n",
        "model.add(Dense(L2, activation=\"relu\"))\n",
        "\n",
        "# output layer\n",
        "model.add(Dense(4, activation=\"softmax\"))\n",
        "\n",
        "# compile nerual network\n",
        "model.compile(loss=\"categorical_crossentropy\", metrics=[\"accuracy\"], optimizer=\"adam\")\n",
        "\n",
        "# training model\n",
        "history = model.fit(X_train, y_train, epochs=20, batch_size=100, validation_data=(X_test, y_test))"
      ]
    },
    {
      "cell_type": "markdown",
      "source": [
        "# Model with initializer and regularizer \n",
        "\n",
        "\n",
        "\n",
        "\n",
        "# Kernel Regularization is the process of adding penalty factors to the network layers to alter the weight propagation through the layers which facilitate the model to converge optimally.\n",
        "\n",
        "\n",
        "\n",
        "\n",
        "# Kernel initializers are used to statistically initialise the weights in the model. This will generate the weights and distribute them, it can be used as the starting weights.\n",
        "\n",
        "\n",
        "\n",
        "\n",
        "# Regularization is a set of techniques that can prevent overfitting in neural networks and thus improve the accuracy of a Deep Learning model when facing completely new data from the problem domain."
      ],
      "metadata": {
        "id": "6nVRAipirCsx"
      }
    },
    {
      "cell_type": "code",
      "source": [
        "from keras import initializers\n",
        "from keras import regularizers"
      ],
      "metadata": {
        "id": "HwGoJmB-nQIE"
      },
      "execution_count": 22,
      "outputs": []
    },
    {
      "cell_type": "code",
      "source": [
        "# neurons in hidden layers\n",
        "L1 = 32\n",
        "L2 = 64\n",
        "# model architecture\n",
        "model = Sequential()\n",
        "model.add(Dense(L1, input_dim=7, activation=\"relu\",\n",
        "              kernel_initializer=\"he_normal\", kernel_regularizer=regularizers.l2(0.01)))\n",
        "model.add(Dense(L2, activation=\"relu\"))\n",
        "\n",
        "#output layer\n",
        "model.add(Dense(4, activation=\"softmax\"))\n",
        "\n",
        "#compile model\n",
        "model.compile(loss=\"categorical_crossentropy\", metrics=[\"accuracy\"], optimizer=\"adam\")\n",
        "\n",
        "# training model\n",
        "history2 = model.fit(X_train, y_train, epochs=20, batch_size=100, validation_data=(X_test, y_test))"
      ],
      "metadata": {
        "colab": {
          "base_uri": "https://localhost:8080/"
        },
        "id": "xPUCsfLWrUsS",
        "outputId": "e0162721-5466-4cec-aea4-77f0315c62f5"
      },
      "execution_count": 25,
      "outputs": [
        {
          "output_type": "stream",
          "name": "stdout",
          "text": [
            "Epoch 1/20\n",
            "16/16 [==============================] - 1s 11ms/step - loss: 2.1742 - accuracy: 0.4194 - val_loss: 1.7698 - val_accuracy: 0.6175\n",
            "Epoch 2/20\n",
            "16/16 [==============================] - 0s 3ms/step - loss: 1.5231 - accuracy: 0.7631 - val_loss: 1.3131 - val_accuracy: 0.8900\n",
            "Epoch 3/20\n",
            "16/16 [==============================] - 0s 3ms/step - loss: 1.1771 - accuracy: 0.9131 - val_loss: 1.0785 - val_accuracy: 0.9250\n",
            "Epoch 4/20\n",
            "16/16 [==============================] - 0s 4ms/step - loss: 0.9947 - accuracy: 0.9356 - val_loss: 0.9496 - val_accuracy: 0.9350\n",
            "Epoch 5/20\n",
            "16/16 [==============================] - 0s 4ms/step - loss: 0.8883 - accuracy: 0.9438 - val_loss: 0.8664 - val_accuracy: 0.9350\n",
            "Epoch 6/20\n",
            "16/16 [==============================] - 0s 3ms/step - loss: 0.8159 - accuracy: 0.9506 - val_loss: 0.8092 - val_accuracy: 0.9375\n",
            "Epoch 7/20\n",
            "16/16 [==============================] - 0s 4ms/step - loss: 0.7615 - accuracy: 0.9544 - val_loss: 0.7584 - val_accuracy: 0.9400\n",
            "Epoch 8/20\n",
            "16/16 [==============================] - 0s 3ms/step - loss: 0.7178 - accuracy: 0.9619 - val_loss: 0.7194 - val_accuracy: 0.9400\n",
            "Epoch 9/20\n",
            "16/16 [==============================] - 0s 5ms/step - loss: 0.6803 - accuracy: 0.9663 - val_loss: 0.6856 - val_accuracy: 0.9450\n",
            "Epoch 10/20\n",
            "16/16 [==============================] - 0s 3ms/step - loss: 0.6474 - accuracy: 0.9688 - val_loss: 0.6538 - val_accuracy: 0.9475\n",
            "Epoch 11/20\n",
            "16/16 [==============================] - 0s 4ms/step - loss: 0.6184 - accuracy: 0.9688 - val_loss: 0.6246 - val_accuracy: 0.9575\n",
            "Epoch 12/20\n",
            "16/16 [==============================] - 0s 4ms/step - loss: 0.5901 - accuracy: 0.9700 - val_loss: 0.5973 - val_accuracy: 0.9625\n",
            "Epoch 13/20\n",
            "16/16 [==============================] - 0s 3ms/step - loss: 0.5643 - accuracy: 0.9700 - val_loss: 0.5759 - val_accuracy: 0.9600\n",
            "Epoch 14/20\n",
            "16/16 [==============================] - 0s 3ms/step - loss: 0.5406 - accuracy: 0.9712 - val_loss: 0.5492 - val_accuracy: 0.9625\n",
            "Epoch 15/20\n",
            "16/16 [==============================] - 0s 4ms/step - loss: 0.5181 - accuracy: 0.9731 - val_loss: 0.5294 - val_accuracy: 0.9675\n",
            "Epoch 16/20\n",
            "16/16 [==============================] - 0s 3ms/step - loss: 0.4966 - accuracy: 0.9750 - val_loss: 0.5105 - val_accuracy: 0.9650\n",
            "Epoch 17/20\n",
            "16/16 [==============================] - 0s 3ms/step - loss: 0.4764 - accuracy: 0.9756 - val_loss: 0.4876 - val_accuracy: 0.9675\n",
            "Epoch 18/20\n",
            "16/16 [==============================] - 0s 3ms/step - loss: 0.4574 - accuracy: 0.9762 - val_loss: 0.4675 - val_accuracy: 0.9675\n",
            "Epoch 19/20\n",
            "16/16 [==============================] - 0s 3ms/step - loss: 0.4391 - accuracy: 0.9762 - val_loss: 0.4532 - val_accuracy: 0.9675\n",
            "Epoch 20/20\n",
            "16/16 [==============================] - 0s 3ms/step - loss: 0.4221 - accuracy: 0.9762 - val_loss: 0.4356 - val_accuracy: 0.9700\n"
          ]
        }
      ]
    },
    {
      "cell_type": "code",
      "source": [
        "# model evaluation with visualisation\n",
        "acc = history.history[\"accuracy\"]\n",
        "val_acc = history.history[\"val_accuracy\"]\n",
        "loss = history.history[\"loss\"]\n",
        "val_loss = history.history[\"val_loss\"]\n",
        "\n",
        "epochs = range(1, len(acc)+1)\n",
        "\n",
        "# model evaluation with visualisation\n",
        "acc2 = history2.history[\"accuracy\"]\n",
        "val_acc2 = history2.history[\"val_accuracy\"]\n",
        "loss2 = history2.history[\"loss\"]\n",
        "val_loss2 = history2.history[\"val_loss\"]\n",
        "\n",
        "epochs2 = range(1, len(acc2)+1)\n",
        "\n",
        "# visualisation\n",
        "plt.figure(figsize=(10,5))\n",
        "plt.plot(epochs, acc, \"g\", label=\"Before Train Accuracy\")\n",
        "plt.plot(epochs, val_acc, \"y\", label=\"Before Test Accuracy\")\n",
        "plt.plot(epochs2, acc2, \"b\", label=\"After Train Accuracy\")\n",
        "plt.plot(epochs2, val_acc2, \"r\", label=\"After Test Accuracy\")\n",
        "plt.legend()\n",
        "plt.title(\"Accuracy\")\n",
        "plt.xlabel(\"Epochs\")\n",
        "plt.ylabel(\"Accuracy\")\n",
        "\n",
        "plt.figure(figsize=(10,6))\n",
        "plt.plot(epochs, loss,'g', label='Before Train Loss')\n",
        "plt.plot(epochs, val_loss, 'y', label='Before Test Loss')\n",
        "plt.plot(epochs2, loss2,'b', label='After Train Loss')\n",
        "plt.plot(epochs2, val_loss2, 'r', label='After Test Loss')\n",
        "plt.legend()\n",
        "plt.title(\"Loss\")\n",
        "plt.xlabel(\"Epochs\")\n",
        "plt.ylabel(\"Loss\")\n",
        "plt.show()"
      ],
      "metadata": {
        "colab": {
          "base_uri": "https://localhost:8080/",
          "height": 737
        },
        "id": "OfXQ2Yo6sf_A",
        "outputId": "ee548f11-9ee5-4eb7-cd83-bc842d45d5fc"
      },
      "execution_count": 26,
      "outputs": [
        {
          "output_type": "display_data",
          "data": {
            "text/plain": [
              "<Figure size 720x360 with 1 Axes>"
            ],
            "image/png": "[encoded data removed]"
          },
          "metadata": {
            "needs_background": "light"
          }
        },
        {
          "output_type": "display_data",
          "data": {
            "text/plain": [
              "<Figure size 720x432 with 1 Axes>"
            ],
            "image/png": "[encoded data removed]"
          },
          "metadata": {
            "needs_background": "light"
          }
        }
      ]
    },
    {
      "cell_type": "code",
      "source": [],
      "metadata": {
        "id": "kTGi0ySNslnK"
      },
      "execution_count": null,
      "outputs": []
    }
  ],
  "metadata": {
    "kernelspec": {
      "display_name": "Python 3",
      "language": "python",
      "name": "python3"
    },
    "language_info": {
      "codemirror_mode": {
        "name": "ipython",
        "version": 3
      },
      "file_extension": ".py",
      "mimetype": "text/x-python",
      "name": "python",
      "nbconvert_exporter": "python",
      "pygments_lexer": "ipython3",
      "version": "3.9.16"
    },
    "orig_nbformat": 4,
    "colab": {
      "provenance": []
    }
  },
  "nbformat": 4,
  "nbformat_minor": 0
}