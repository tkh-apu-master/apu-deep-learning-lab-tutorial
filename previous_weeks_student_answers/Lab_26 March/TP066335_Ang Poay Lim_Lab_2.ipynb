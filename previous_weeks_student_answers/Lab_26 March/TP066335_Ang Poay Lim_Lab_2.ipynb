{
  "nbformat": 4,
  "nbformat_minor": 0,
  "metadata": {
    "colab": {
      "provenance": []
    },
    "kernelspec": {
      "name": "python3",
      "display_name": "Python 3"
    },
    "language_info": {
      "name": "python"
    }
  },
  "cells": [
    {
      "cell_type": "markdown",
      "source": [
        "#**Lab 2**\n",
        "\n",
        "Estimate the location from WIFI Signal Strength.\n",
        "The dataset has 2,000 rows and 8 columns.\n",
        "The data contains wifi signal strength observed from 7 wifi devices on a smartphone collected in an indoor space which could be used to estimate the location in one of the four rooms.\n",
        "You can use ANN analysis for this exerise to improve the ANN performance."
      ],
      "metadata": {
        "id": "exr2CUzLxLiH"
      }
    },
    {
      "cell_type": "code",
      "source": [
        "# Mounting the Drive to Google Colab\n",
        "from google.colab import drive\n",
        "\n",
        "drive.mount('/drive')"
      ],
      "metadata": {
        "colab": {
          "base_uri": "https://localhost:8080/"
        },
        "id": "UF5aQoG_xW69",
        "outputId": "4295f068-3aca-461c-ad75-aa398d6e0df8"
      },
      "execution_count": 140,
      "outputs": [
        {
          "output_type": "stream",
          "name": "stdout",
          "text": [
            "Drive already mounted at /drive; to attempt to forcibly remount, call drive.mount(\"/drive\", force_remount=True).\n"
          ]
        }
      ]
    },
    {
      "cell_type": "code",
      "source": [
        "# Importing required libraries\n",
        "import numpy as np \n",
        "import pandas as pd\n",
        "import matplotlib.pyplot as plt\n",
        "\n",
        "from sklearn.datasets import load_breast_cancer\n",
        "from sklearn.model_selection import train_test_split"
      ],
      "metadata": {
        "id": "Q2poJIcgzY2g"
      },
      "execution_count": 141,
      "outputs": []
    },
    {
      "cell_type": "code",
      "source": [
        "# Open data file\n",
        "path = '/drive/MyDrive/Colab Notebooks/DL/Data/wifi.csv'\n",
        "df = pd.read_csv(path)\n",
        "df"
      ],
      "metadata": {
        "colab": {
          "base_uri": "https://localhost:8080/",
          "height": 423
        },
        "id": "ZHDV-2v21TeB",
        "outputId": "3b03a14a-1bfe-4441-a489-e9ebc71ce599"
      },
      "execution_count": 142,
      "outputs": [
        {
          "output_type": "execute_result",
          "data": {
            "text/plain": [
              "      Wifi 1  Wifi 2  Wifi 3  Wifi 4  Wifi 5  Wifi 6  Wifi 7  Room\n",
              "0        -64     -56     -61     -66     -71     -82     -81     1\n",
              "1        -68     -57     -61     -65     -71     -85     -85     1\n",
              "2        -63     -60     -60     -67     -76     -85     -84     1\n",
              "3        -61     -60     -68     -62     -77     -90     -80     1\n",
              "4        -63     -65     -60     -63     -77     -81     -87     1\n",
              "...      ...     ...     ...     ...     ...     ...     ...   ...\n",
              "1995     -59     -59     -48     -66     -50     -86     -94     4\n",
              "1996     -59     -56     -50     -62     -47     -87     -90     4\n",
              "1997     -62     -59     -46     -65     -45     -87     -88     4\n",
              "1998     -62     -58     -52     -61     -41     -90     -85     4\n",
              "1999     -59     -50     -45     -60     -45     -88     -87     4\n",
              "\n",
              "[2000 rows x 8 columns]"
            ],
            "text/html": [
              "\n",
              "  <div id=\"df-4632eaa6-800d-49a7-86f5-5514dfd397c0\">\n",
              "    <div class=\"colab-df-container\">\n",
              "      <div>\n",
              "<style scoped>\n",
              "    .dataframe tbody tr th:only-of-type {\n",
              "        vertical-align: middle;\n",
              "    }\n",
              "\n",
              "    .dataframe tbody tr th {\n",
              "        vertical-align: top;\n",
              "    }\n",
              "\n",
              "    .dataframe thead th {\n",
              "        text-align: right;\n",
              "    }\n",
              "</style>\n",
              "<table border=\"1\" class=\"dataframe\">\n",
              "  <thead>\n",
              "    <tr style=\"text-align: right;\">\n",
              "      <th></th>\n",
              "      <th>Wifi 1</th>\n",
              "      <th>Wifi 2</th>\n",
              "      <th>Wifi 3</th>\n",
              "      <th>Wifi 4</th>\n",
              "      <th>Wifi 5</th>\n",
              "      <th>Wifi 6</th>\n",
              "      <th>Wifi 7</th>\n",
              "      <th>Room</th>\n",
              "    </tr>\n",
              "  </thead>\n",
              "  <tbody>\n",
              "    <tr>\n",
              "      <th>0</th>\n",
              "      <td>-64</td>\n",
              "      <td>-56</td>\n",
              "      <td>-61</td>\n",
              "      <td>-66</td>\n",
              "      <td>-71</td>\n",
              "      <td>-82</td>\n",
              "      <td>-81</td>\n",
              "      <td>1</td>\n",
              "    </tr>\n",
              "    <tr>\n",
              "      <th>1</th>\n",
              "      <td>-68</td>\n",
              "      <td>-57</td>\n",
              "      <td>-61</td>\n",
              "      <td>-65</td>\n",
              "      <td>-71</td>\n",
              "      <td>-85</td>\n",
              "      <td>-85</td>\n",
              "      <td>1</td>\n",
              "    </tr>\n",
              "    <tr>\n",
              "      <th>2</th>\n",
              "      <td>-63</td>\n",
              "      <td>-60</td>\n",
              "      <td>-60</td>\n",
              "      <td>-67</td>\n",
              "      <td>-76</td>\n",
              "      <td>-85</td>\n",
              "      <td>-84</td>\n",
              "      <td>1</td>\n",
              "    </tr>\n",
              "    <tr>\n",
              "      <th>3</th>\n",
              "      <td>-61</td>\n",
              "      <td>-60</td>\n",
              "      <td>-68</td>\n",
              "      <td>-62</td>\n",
              "      <td>-77</td>\n",
              "      <td>-90</td>\n",
              "      <td>-80</td>\n",
              "      <td>1</td>\n",
              "    </tr>\n",
              "    <tr>\n",
              "      <th>4</th>\n",
              "      <td>-63</td>\n",
              "      <td>-65</td>\n",
              "      <td>-60</td>\n",
              "      <td>-63</td>\n",
              "      <td>-77</td>\n",
              "      <td>-81</td>\n",
              "      <td>-87</td>\n",
              "      <td>1</td>\n",
              "    </tr>\n",
              "    <tr>\n",
              "      <th>...</th>\n",
              "      <td>...</td>\n",
              "      <td>...</td>\n",
              "      <td>...</td>\n",
              "      <td>...</td>\n",
              "      <td>...</td>\n",
              "      <td>...</td>\n",
              "      <td>...</td>\n",
              "      <td>...</td>\n",
              "    </tr>\n",
              "    <tr>\n",
              "      <th>1995</th>\n",
              "      <td>-59</td>\n",
              "      <td>-59</td>\n",
              "      <td>-48</td>\n",
              "      <td>-66</td>\n",
              "      <td>-50</td>\n",
              "      <td>-86</td>\n",
              "      <td>-94</td>\n",
              "      <td>4</td>\n",
              "    </tr>\n",
              "    <tr>\n",
              "      <th>1996</th>\n",
              "      <td>-59</td>\n",
              "      <td>-56</td>\n",
              "      <td>-50</td>\n",
              "      <td>-62</td>\n",
              "      <td>-47</td>\n",
              "      <td>-87</td>\n",
              "      <td>-90</td>\n",
              "      <td>4</td>\n",
              "    </tr>\n",
              "    <tr>\n",
              "      <th>1997</th>\n",
              "      <td>-62</td>\n",
              "      <td>-59</td>\n",
              "      <td>-46</td>\n",
              "      <td>-65</td>\n",
              "      <td>-45</td>\n",
              "      <td>-87</td>\n",
              "      <td>-88</td>\n",
              "      <td>4</td>\n",
              "    </tr>\n",
              "    <tr>\n",
              "      <th>1998</th>\n",
              "      <td>-62</td>\n",
              "      <td>-58</td>\n",
              "      <td>-52</td>\n",
              "      <td>-61</td>\n",
              "      <td>-41</td>\n",
              "      <td>-90</td>\n",
              "      <td>-85</td>\n",
              "      <td>4</td>\n",
              "    </tr>\n",
              "    <tr>\n",
              "      <th>1999</th>\n",
              "      <td>-59</td>\n",
              "      <td>-50</td>\n",
              "      <td>-45</td>\n",
              "      <td>-60</td>\n",
              "      <td>-45</td>\n",
              "      <td>-88</td>\n",
              "      <td>-87</td>\n",
              "      <td>4</td>\n",
              "    </tr>\n",
              "  </tbody>\n",
              "</table>\n",
              "<p>2000 rows × 8 columns</p>\n",
              "</div>\n",
              "      <button class=\"colab-df-convert\" onclick=\"convertToInteractive('df-4632eaa6-800d-49a7-86f5-5514dfd397c0')\"\n",
              "              title=\"Convert this dataframe to an interactive table.\"\n",
              "              style=\"display:none;\">\n",
              "        \n",
              "  <svg xmlns=\"http://www.w3.org/2000/svg\" height=\"24px\"viewBox=\"0 0 24 24\"\n",
              "       width=\"24px\">\n",
              "    <path d=\"M0 0h24v24H0V0z\" fill=\"none\"/>\n",
              "    <path d=\"M18.56 5.44l.94 2.06.94-2.06 2.06-.94-2.06-.94-.94-2.06-.94 2.06-2.06.94zm-11 1L8.5 8.5l.94-2.06 2.06-.94-2.06-.94L8.5 2.5l-.94 2.06-2.06.94zm10 10l.94 2.06.94-2.06 2.06-.94-2.06-.94-.94-2.06-.94 2.06-2.06.94z\"/><path d=\"M17.41 7.96l-1.37-1.37c-.4-.4-.92-.59-1.43-.59-.52 0-1.04.2-1.43.59L10.3 9.45l-7.72 7.72c-.78.78-.78 2.05 0 2.83L4 21.41c.39.39.9.59 1.41.59.51 0 1.02-.2 1.41-.59l7.78-7.78 2.81-2.81c.8-.78.8-2.07 0-2.86zM5.41 20L4 18.59l7.72-7.72 1.47 1.35L5.41 20z\"/>\n",
              "  </svg>\n",
              "      </button>\n",
              "      \n",
              "  <style>\n",
              "    .colab-df-container {\n",
              "      display:flex;\n",
              "      flex-wrap:wrap;\n",
              "      gap: 12px;\n",
              "    }\n",
              "\n",
              "    .colab-df-convert {\n",
              "      background-color: #E8F0FE;\n",
              "      border: none;\n",
              "      border-radius: 50%;\n",
              "      cursor: pointer;\n",
              "      display: none;\n",
              "      fill: #1967D2;\n",
              "      height: 32px;\n",
              "      padding: 0 0 0 0;\n",
              "      width: 32px;\n",
              "    }\n",
              "\n",
              "    .colab-df-convert:hover {\n",
              "      background-color: #E2EBFA;\n",
              "      box-shadow: 0px 1px 2px rgba(60, 64, 67, 0.3), 0px 1px 3px 1px rgba(60, 64, 67, 0.15);\n",
              "      fill: #174EA6;\n",
              "    }\n",
              "\n",
              "    [theme=dark] .colab-df-convert {\n",
              "      background-color: #3B4455;\n",
              "      fill: #D2E3FC;\n",
              "    }\n",
              "\n",
              "    [theme=dark] .colab-df-convert:hover {\n",
              "      background-color: #434B5C;\n",
              "      box-shadow: 0px 1px 3px 1px rgba(0, 0, 0, 0.15);\n",
              "      filter: drop-shadow(0px 1px 2px rgba(0, 0, 0, 0.3));\n",
              "      fill: #FFFFFF;\n",
              "    }\n",
              "  </style>\n",
              "\n",
              "      <script>\n",
              "        const buttonEl =\n",
              "          document.querySelector('#df-4632eaa6-800d-49a7-86f5-5514dfd397c0 button.colab-df-convert');\n",
              "        buttonEl.style.display =\n",
              "          google.colab.kernel.accessAllowed ? 'block' : 'none';\n",
              "\n",
              "        async function convertToInteractive(key) {\n",
              "          const element = document.querySelector('#df-4632eaa6-800d-49a7-86f5-5514dfd397c0');\n",
              "          const dataTable =\n",
              "            await google.colab.kernel.invokeFunction('convertToInteractive',\n",
              "                                                     [key], {});\n",
              "          if (!dataTable) return;\n",
              "\n",
              "          const docLinkHtml = 'Like what you see? Visit the ' +\n",
              "            '<a target=\"_blank\" href=https://colab.research.google.com/notebooks/data_table.ipynb>data table notebook</a>'\n",
              "            + ' to learn more about interactive tables.';\n",
              "          element.innerHTML = '';\n",
              "          dataTable['output_type'] = 'display_data';\n",
              "          await google.colab.output.renderOutput(dataTable, element);\n",
              "          const docLink = document.createElement('div');\n",
              "          docLink.innerHTML = docLinkHtml;\n",
              "          element.appendChild(docLink);\n",
              "        }\n",
              "      </script>\n",
              "    </div>\n",
              "  </div>\n",
              "  "
            ]
          },
          "metadata": {},
          "execution_count": 142
        }
      ]
    },
    {
      "cell_type": "code",
      "source": [
        "# Loading data into pandas dataframe\n",
        "df1 = pd.DataFrame(df, columns = df.columns)\n",
        "df1.head()"
      ],
      "metadata": {
        "colab": {
          "base_uri": "https://localhost:8080/",
          "height": 206
        },
        "id": "H6rAlGCTbL4W",
        "outputId": "e04e29a6-769c-4147-fc13-45270d158fce"
      },
      "execution_count": 143,
      "outputs": [
        {
          "output_type": "execute_result",
          "data": {
            "text/plain": [
              "   Wifi 1  Wifi 2  Wifi 3  Wifi 4  Wifi 5  Wifi 6  Wifi 7  Room\n",
              "0     -64     -56     -61     -66     -71     -82     -81     1\n",
              "1     -68     -57     -61     -65     -71     -85     -85     1\n",
              "2     -63     -60     -60     -67     -76     -85     -84     1\n",
              "3     -61     -60     -68     -62     -77     -90     -80     1\n",
              "4     -63     -65     -60     -63     -77     -81     -87     1"
            ],
            "text/html": [
              "\n",
              "  <div id=\"df-0e31cd57-4288-48fd-8748-2fc4135175fe\">\n",
              "    <div class=\"colab-df-container\">\n",
              "      <div>\n",
              "<style scoped>\n",
              "    .dataframe tbody tr th:only-of-type {\n",
              "        vertical-align: middle;\n",
              "    }\n",
              "\n",
              "    .dataframe tbody tr th {\n",
              "        vertical-align: top;\n",
              "    }\n",
              "\n",
              "    .dataframe thead th {\n",
              "        text-align: right;\n",
              "    }\n",
              "</style>\n",
              "<table border=\"1\" class=\"dataframe\">\n",
              "  <thead>\n",
              "    <tr style=\"text-align: right;\">\n",
              "      <th></th>\n",
              "      <th>Wifi 1</th>\n",
              "      <th>Wifi 2</th>\n",
              "      <th>Wifi 3</th>\n",
              "      <th>Wifi 4</th>\n",
              "      <th>Wifi 5</th>\n",
              "      <th>Wifi 6</th>\n",
              "      <th>Wifi 7</th>\n",
              "      <th>Room</th>\n",
              "    </tr>\n",
              "  </thead>\n",
              "  <tbody>\n",
              "    <tr>\n",
              "      <th>0</th>\n",
              "      <td>-64</td>\n",
              "      <td>-56</td>\n",
              "      <td>-61</td>\n",
              "      <td>-66</td>\n",
              "      <td>-71</td>\n",
              "      <td>-82</td>\n",
              "      <td>-81</td>\n",
              "      <td>1</td>\n",
              "    </tr>\n",
              "    <tr>\n",
              "      <th>1</th>\n",
              "      <td>-68</td>\n",
              "      <td>-57</td>\n",
              "      <td>-61</td>\n",
              "      <td>-65</td>\n",
              "      <td>-71</td>\n",
              "      <td>-85</td>\n",
              "      <td>-85</td>\n",
              "      <td>1</td>\n",
              "    </tr>\n",
              "    <tr>\n",
              "      <th>2</th>\n",
              "      <td>-63</td>\n",
              "      <td>-60</td>\n",
              "      <td>-60</td>\n",
              "      <td>-67</td>\n",
              "      <td>-76</td>\n",
              "      <td>-85</td>\n",
              "      <td>-84</td>\n",
              "      <td>1</td>\n",
              "    </tr>\n",
              "    <tr>\n",
              "      <th>3</th>\n",
              "      <td>-61</td>\n",
              "      <td>-60</td>\n",
              "      <td>-68</td>\n",
              "      <td>-62</td>\n",
              "      <td>-77</td>\n",
              "      <td>-90</td>\n",
              "      <td>-80</td>\n",
              "      <td>1</td>\n",
              "    </tr>\n",
              "    <tr>\n",
              "      <th>4</th>\n",
              "      <td>-63</td>\n",
              "      <td>-65</td>\n",
              "      <td>-60</td>\n",
              "      <td>-63</td>\n",
              "      <td>-77</td>\n",
              "      <td>-81</td>\n",
              "      <td>-87</td>\n",
              "      <td>1</td>\n",
              "    </tr>\n",
              "  </tbody>\n",
              "</table>\n",
              "</div>\n",
              "      <button class=\"colab-df-convert\" onclick=\"convertToInteractive('df-0e31cd57-4288-48fd-8748-2fc4135175fe')\"\n",
              "              title=\"Convert this dataframe to an interactive table.\"\n",
              "              style=\"display:none;\">\n",
              "        \n",
              "  <svg xmlns=\"http://www.w3.org/2000/svg\" height=\"24px\"viewBox=\"0 0 24 24\"\n",
              "       width=\"24px\">\n",
              "    <path d=\"M0 0h24v24H0V0z\" fill=\"none\"/>\n",
              "    <path d=\"M18.56 5.44l.94 2.06.94-2.06 2.06-.94-2.06-.94-.94-2.06-.94 2.06-2.06.94zm-11 1L8.5 8.5l.94-2.06 2.06-.94-2.06-.94L8.5 2.5l-.94 2.06-2.06.94zm10 10l.94 2.06.94-2.06 2.06-.94-2.06-.94-.94-2.06-.94 2.06-2.06.94z\"/><path d=\"M17.41 7.96l-1.37-1.37c-.4-.4-.92-.59-1.43-.59-.52 0-1.04.2-1.43.59L10.3 9.45l-7.72 7.72c-.78.78-.78 2.05 0 2.83L4 21.41c.39.39.9.59 1.41.59.51 0 1.02-.2 1.41-.59l7.78-7.78 2.81-2.81c.8-.78.8-2.07 0-2.86zM5.41 20L4 18.59l7.72-7.72 1.47 1.35L5.41 20z\"/>\n",
              "  </svg>\n",
              "      </button>\n",
              "      \n",
              "  <style>\n",
              "    .colab-df-container {\n",
              "      display:flex;\n",
              "      flex-wrap:wrap;\n",
              "      gap: 12px;\n",
              "    }\n",
              "\n",
              "    .colab-df-convert {\n",
              "      background-color: #E8F0FE;\n",
              "      border: none;\n",
              "      border-radius: 50%;\n",
              "      cursor: pointer;\n",
              "      display: none;\n",
              "      fill: #1967D2;\n",
              "      height: 32px;\n",
              "      padding: 0 0 0 0;\n",
              "      width: 32px;\n",
              "    }\n",
              "\n",
              "    .colab-df-convert:hover {\n",
              "      background-color: #E2EBFA;\n",
              "      box-shadow: 0px 1px 2px rgba(60, 64, 67, 0.3), 0px 1px 3px 1px rgba(60, 64, 67, 0.15);\n",
              "      fill: #174EA6;\n",
              "    }\n",
              "\n",
              "    [theme=dark] .colab-df-convert {\n",
              "      background-color: #3B4455;\n",
              "      fill: #D2E3FC;\n",
              "    }\n",
              "\n",
              "    [theme=dark] .colab-df-convert:hover {\n",
              "      background-color: #434B5C;\n",
              "      box-shadow: 0px 1px 3px 1px rgba(0, 0, 0, 0.15);\n",
              "      filter: drop-shadow(0px 1px 2px rgba(0, 0, 0, 0.3));\n",
              "      fill: #FFFFFF;\n",
              "    }\n",
              "  </style>\n",
              "\n",
              "      <script>\n",
              "        const buttonEl =\n",
              "          document.querySelector('#df-0e31cd57-4288-48fd-8748-2fc4135175fe button.colab-df-convert');\n",
              "        buttonEl.style.display =\n",
              "          google.colab.kernel.accessAllowed ? 'block' : 'none';\n",
              "\n",
              "        async function convertToInteractive(key) {\n",
              "          const element = document.querySelector('#df-0e31cd57-4288-48fd-8748-2fc4135175fe');\n",
              "          const dataTable =\n",
              "            await google.colab.kernel.invokeFunction('convertToInteractive',\n",
              "                                                     [key], {});\n",
              "          if (!dataTable) return;\n",
              "\n",
              "          const docLinkHtml = 'Like what you see? Visit the ' +\n",
              "            '<a target=\"_blank\" href=https://colab.research.google.com/notebooks/data_table.ipynb>data table notebook</a>'\n",
              "            + ' to learn more about interactive tables.';\n",
              "          element.innerHTML = '';\n",
              "          dataTable['output_type'] = 'display_data';\n",
              "          await google.colab.output.renderOutput(dataTable, element);\n",
              "          const docLink = document.createElement('div');\n",
              "          docLink.innerHTML = docLinkHtml;\n",
              "          element.appendChild(docLink);\n",
              "        }\n",
              "      </script>\n",
              "    </div>\n",
              "  </div>\n",
              "  "
            ]
          },
          "metadata": {},
          "execution_count": 143
        }
      ]
    },
    {
      "cell_type": "code",
      "source": [
        "df1.shape"
      ],
      "metadata": {
        "colab": {
          "base_uri": "https://localhost:8080/"
        },
        "id": "-0Gr9Z442In7",
        "outputId": "488f26ef-9515-407c-9d7e-8295a6505fbf"
      },
      "execution_count": 144,
      "outputs": [
        {
          "output_type": "execute_result",
          "data": {
            "text/plain": [
              "(2000, 8)"
            ]
          },
          "metadata": {},
          "execution_count": 144
        }
      ]
    },
    {
      "cell_type": "code",
      "source": [
        "df1.columns"
      ],
      "metadata": {
        "colab": {
          "base_uri": "https://localhost:8080/"
        },
        "id": "r6xOUgK1dSlw",
        "outputId": "d9ea34c1-2d0c-4853-9ec9-55f793d57b6a"
      },
      "execution_count": 145,
      "outputs": [
        {
          "output_type": "execute_result",
          "data": {
            "text/plain": [
              "Index(['Wifi 1', 'Wifi 2', 'Wifi 3', 'Wifi 4', 'Wifi 5', 'Wifi 6', 'Wifi 7',\n",
              "       'Room'],\n",
              "      dtype='object')"
            ]
          },
          "metadata": {},
          "execution_count": 145
        }
      ]
    },
    {
      "cell_type": "code",
      "source": [
        "X = df1.drop('Room', axis = 1)"
      ],
      "metadata": {
        "id": "PYiFAitUd2pk"
      },
      "execution_count": 146,
      "outputs": []
    },
    {
      "cell_type": "code",
      "source": [
        "room_dummies = pd.get_dummies(df1['Room'])\n",
        "\n",
        "dummy = pd.concat([df1['Room'], room_dummies], axis=1)\n",
        "Y = dummy.drop('Room', axis = 1)"
      ],
      "metadata": {
        "id": "G4FPA0pN7yP1"
      },
      "execution_count": 147,
      "outputs": []
    },
    {
      "cell_type": "code",
      "source": [
        "Y.value_counts()"
      ],
      "metadata": {
        "colab": {
          "base_uri": "https://localhost:8080/"
        },
        "id": "6uGOoA2Wd-Tt",
        "outputId": "5a74da3c-cf55-4510-c7eb-8580df78ed95"
      },
      "execution_count": 148,
      "outputs": [
        {
          "output_type": "execute_result",
          "data": {
            "text/plain": [
              "1  2  3  4\n",
              "0  0  0  1    500\n",
              "      1  0    500\n",
              "   1  0  0    500\n",
              "1  0  0  0    500\n",
              "dtype: int64"
            ]
          },
          "metadata": {},
          "execution_count": 148
        }
      ]
    },
    {
      "cell_type": "code",
      "source": [
        "X_train, X_test, Y_train, Y_test = train_test_split(X, Y, test_size = 0.2, random_state = 0)\n",
        "\n",
        "print('X_train shape', X_train.shape)\n",
        "print('X_test shape', X_test.shape)\n",
        "print('Y_train shape', Y_train.shape)\n",
        "print('Y_test shape', Y_test.shape)"
      ],
      "metadata": {
        "colab": {
          "base_uri": "https://localhost:8080/"
        },
        "id": "pZTYaPgYeBRi",
        "outputId": "27d1e317-913a-4e0b-882c-4a5fa61e80db"
      },
      "execution_count": 149,
      "outputs": [
        {
          "output_type": "stream",
          "name": "stdout",
          "text": [
            "X_train shape (1600, 7)\n",
            "X_test shape (400, 7)\n",
            "Y_train shape (1600, 4)\n",
            "Y_test shape (400, 4)\n"
          ]
        }
      ]
    },
    {
      "cell_type": "code",
      "source": [
        "# Normalization\n",
        "from sklearn.preprocessing import StandardScaler\n",
        "\n",
        "scaler = StandardScaler()\n",
        "\n",
        "X_train = scaler.fit_transform(X_train)\n",
        "X_test = scaler.transform(X_test)"
      ],
      "metadata": {
        "id": "Q4tYhgDWeDGW"
      },
      "execution_count": 150,
      "outputs": []
    },
    {
      "cell_type": "code",
      "source": [
        "# Dense means linear equation\n",
        "from keras.models import Sequential\n",
        "from keras.layers import Dense\n",
        "from keras import initializers\n",
        "from keras import regularizers\n",
        "from keras.callbacks import EarlyStopping"
      ],
      "metadata": {
        "id": "vI0EL2iJgVGO"
      },
      "execution_count": 151,
      "outputs": []
    },
    {
      "cell_type": "code",
      "source": [
        "# Buidling the sequential model with 2 hidden layers\n",
        "h1 = 100\n",
        "h2 = 100\n",
        "\n",
        "# Without regularization\n",
        "# Input variables is 7 without the target, \"input_dim\" only for first time\n",
        "model = Sequential()\n",
        "model.add(Dense(h1, input_dim = 7, activation = 'relu'))\n",
        "model.add(Dense(h2, activation = 'relu'))\n",
        "\n",
        "# Output layer, \"1\" because the target variable is either \"Yes\" or \"No\", \"Softmax\" not suitable because it is for multi-class (more than 2 categories)\n",
        "model.add(Dense(4, activation = 'softmax'))\n",
        "\n",
        "# With regularization\n",
        "# Input variables is 7 without the target, \"input_dim\" only for first time\n",
        "model2 = Sequential()\n",
        "model2.add(Dense(h1, input_dim = 7, activation = 'relu', \n",
        "                 kernel_initializer = 'he_normal', \n",
        "                 kernel_regularizer = regularizers.l2(0.01)))\n",
        "model2.add(Dense(h2, activation = 'relu'))\n",
        "\n",
        "# Output layer, \"1\" because the target variable is either \"Yes\" or \"No\", \"Softmax\" not suitable because it is for multi-class (more than 2 categories)\n",
        "model2.add(Dense(4, activation = 'softmax'))"
      ],
      "metadata": {
        "id": "_0QvMRELgdC3"
      },
      "execution_count": 152,
      "outputs": []
    },
    {
      "cell_type": "code",
      "source": [
        "# Compiling the sequential model, \"categorical_crossentropy\" more suitable for multi-class. \"SGD\", \"RMSprop\", \"Adam\" are more commonly used in optimization the weight value.\n",
        "model.compile(loss = 'categorical_crossentropy', metrics = ['accuracy'], optimizer = 'adam')\n",
        "model2.compile(loss = 'categorical_crossentropy', metrics = ['accuracy'], optimizer = 'adam')"
      ],
      "metadata": {
        "id": "aodLXwjohxih"
      },
      "execution_count": 153,
      "outputs": []
    },
    {
      "cell_type": "code",
      "source": [
        "# Training the model for 10 epochs\n",
        "history = model.fit(X_train, Y_train, epochs = 10, batch_size = 100, validation_data = (X_test, Y_test))\n",
        "history2 = model2.fit(X_train, Y_train, epochs = 10, batch_size = 100, validation_data = (X_test, Y_test))"
      ],
      "metadata": {
        "colab": {
          "base_uri": "https://localhost:8080/"
        },
        "id": "w3iFBUcDkhqF",
        "outputId": "37149749-beab-4a38-8835-beb735a0a6ee"
      },
      "execution_count": 154,
      "outputs": [
        {
          "output_type": "stream",
          "name": "stdout",
          "text": [
            "Epoch 1/10\n",
            "16/16 [==============================] - 1s 23ms/step - loss: 0.9841 - accuracy: 0.6956 - val_loss: 0.6861 - val_accuracy: 0.8050\n",
            "Epoch 2/10\n",
            "16/16 [==============================] - 0s 8ms/step - loss: 0.5254 - accuracy: 0.8575 - val_loss: 0.4025 - val_accuracy: 0.8825\n",
            "Epoch 3/10\n",
            "16/16 [==============================] - 0s 5ms/step - loss: 0.3113 - accuracy: 0.9237 - val_loss: 0.2677 - val_accuracy: 0.9300\n",
            "Epoch 4/10\n",
            "16/16 [==============================] - 0s 5ms/step - loss: 0.2036 - accuracy: 0.9506 - val_loss: 0.1916 - val_accuracy: 0.9575\n",
            "Epoch 5/10\n",
            "16/16 [==============================] - 0s 5ms/step - loss: 0.1469 - accuracy: 0.9600 - val_loss: 0.1510 - val_accuracy: 0.9675\n",
            "Epoch 6/10\n",
            "16/16 [==============================] - 0s 6ms/step - loss: 0.1169 - accuracy: 0.9669 - val_loss: 0.1292 - val_accuracy: 0.9650\n",
            "Epoch 7/10\n",
            "16/16 [==============================] - 0s 6ms/step - loss: 0.1002 - accuracy: 0.9700 - val_loss: 0.1143 - val_accuracy: 0.9650\n",
            "Epoch 8/10\n",
            "16/16 [==============================] - 0s 6ms/step - loss: 0.0892 - accuracy: 0.9744 - val_loss: 0.1016 - val_accuracy: 0.9650\n",
            "Epoch 9/10\n",
            "16/16 [==============================] - 0s 6ms/step - loss: 0.0816 - accuracy: 0.9756 - val_loss: 0.0951 - val_accuracy: 0.9725\n",
            "Epoch 10/10\n",
            "16/16 [==============================] - 0s 5ms/step - loss: 0.0755 - accuracy: 0.9756 - val_loss: 0.0891 - val_accuracy: 0.9675\n",
            "Epoch 1/10\n",
            "16/16 [==============================] - 1s 21ms/step - loss: 2.5793 - accuracy: 0.7481 - val_loss: 2.2590 - val_accuracy: 0.8650\n",
            "Epoch 2/10\n",
            "16/16 [==============================] - 0s 8ms/step - loss: 2.0961 - accuracy: 0.9438 - val_loss: 2.0142 - val_accuracy: 0.9450\n",
            "Epoch 3/10\n",
            "16/16 [==============================] - 0s 7ms/step - loss: 1.9145 - accuracy: 0.9613 - val_loss: 1.8727 - val_accuracy: 0.9600\n",
            "Epoch 4/10\n",
            "16/16 [==============================] - 0s 6ms/step - loss: 1.7958 - accuracy: 0.9656 - val_loss: 1.7659 - val_accuracy: 0.9675\n",
            "Epoch 5/10\n",
            "16/16 [==============================] - 0s 9ms/step - loss: 1.6994 - accuracy: 0.9681 - val_loss: 1.6732 - val_accuracy: 0.9675\n",
            "Epoch 6/10\n",
            "16/16 [==============================] - 0s 7ms/step - loss: 1.6137 - accuracy: 0.9731 - val_loss: 1.5899 - val_accuracy: 0.9675\n",
            "Epoch 7/10\n",
            "16/16 [==============================] - 0s 7ms/step - loss: 1.5347 - accuracy: 0.9756 - val_loss: 1.5091 - val_accuracy: 0.9700\n",
            "Epoch 8/10\n",
            "16/16 [==============================] - 0s 6ms/step - loss: 1.4585 - accuracy: 0.9750 - val_loss: 1.4367 - val_accuracy: 0.9725\n",
            "Epoch 9/10\n",
            "16/16 [==============================] - 0s 5ms/step - loss: 1.3878 - accuracy: 0.9737 - val_loss: 1.3675 - val_accuracy: 0.9700\n",
            "Epoch 10/10\n",
            "16/16 [==============================] - 0s 6ms/step - loss: 1.3213 - accuracy: 0.9781 - val_loss: 1.3033 - val_accuracy: 0.9675\n"
          ]
        }
      ]
    },
    {
      "cell_type": "code",
      "source": [
        "import matplotlib.pyplot as plt\n",
        "\n",
        "# Without Regularization\n",
        "acc2 = history.history['accuracy']\n",
        "val_acc = history.history['val_accuracy']\n",
        "loss2 = history.history['loss']\n",
        "val_loss = history.history['val_loss']\n",
        "\n",
        "epochs = range(1, len(acc2) + 1)\n",
        "\n",
        "plt.plot(epochs, acc2, 'b', label = 'Train Accuracy')\n",
        "plt.plot(epochs, val_acc, 'r', label = 'Test Accuracy')\n",
        "plt.legend()\n",
        "plt.figure()\n",
        "\n",
        "plt.plot(epochs, loss2, 'b', label = 'Train Loss')\n",
        "plt.plot(epochs, val_loss, 'r', label = 'Test Loss')\n",
        "plt.legend()\n",
        "plt.show()\n",
        "\n",
        "# With Regularization\n",
        "acc2 = history2.history['accuracy']\n",
        "val_acc = history2.history['val_accuracy']\n",
        "loss2 = history2.history['loss']\n",
        "val_loss = history2.history['val_loss']\n",
        "\n",
        "epochs = range(1, len(acc2) + 1)\n",
        "\n",
        "plt.plot(epochs, acc2, 'b', label = 'Train Accuracy with Regularization')\n",
        "plt.plot(epochs, val_acc, 'r', label = 'Test Accuracy with Regularization')\n",
        "plt.legend()\n",
        "plt.figure()\n",
        "\n",
        "plt.plot(epochs, loss2, 'b', label = 'Train Loss with Regularization')\n",
        "plt.plot(epochs, val_loss, 'r', label = 'Test Loss with Regularization')\n",
        "plt.legend()\n",
        "plt.show()"
      ],
      "metadata": {
        "colab": {
          "base_uri": "https://localhost:8080/",
          "height": 1000
        },
        "id": "faQjJO_hliDU",
        "outputId": "489dc007-bed5-44bf-8ecd-5ad31f4661c1"
      },
      "execution_count": 155,
      "outputs": [
        {
          "output_type": "display_data",
          "data": {
            "text/plain": [
              "<Figure size 432x288 with 1 Axes>"
            ],
            "image/png": "[encoded data removed]"
          },
          "metadata": {
            "needs_background": "light"
          }
        },
        {
          "output_type": "display_data",
          "data": {
            "text/plain": [
              "<Figure size 432x288 with 1 Axes>"
            ],
            "image/png": "[encoded data removed]"
          },
          "metadata": {
            "needs_background": "light"
          }
        },
        {
          "output_type": "display_data",
          "data": {
            "text/plain": [
              "<Figure size 432x288 with 1 Axes>"
            ],
            "image/png": "[encoded data removed]"
          },
          "metadata": {
            "needs_background": "light"
          }
        },
        {
          "output_type": "display_data",
          "data": {
            "text/plain": [
              "<Figure size 432x288 with 1 Axes>"
            ],
            "image/png": "[encoded data removed]"
          },
          "metadata": {
            "needs_background": "light"
          }
        }
      ]
    }
  ]
}