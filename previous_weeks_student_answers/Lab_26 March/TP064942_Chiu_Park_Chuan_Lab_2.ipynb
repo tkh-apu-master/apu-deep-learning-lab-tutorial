{
  "nbformat": 4,
  "nbformat_minor": 0,
  "metadata": {
    "colab": {
      "provenance": []
    },
    "kernelspec": {
      "name": "python3",
      "display_name": "Python 3"
    },
    "language_info": {
      "name": "python"
    }
  },
  "cells": [
    {
      "cell_type": "code",
      "execution_count": 9,
      "metadata": {
        "id": "wqWOni0N7jpL"
      },
      "outputs": [],
      "source": [
        "import keras\n",
        "from keras.models import Sequential\n",
        "from keras.layers import Dense\n",
        "from sklearn.model_selection import train_test_split\n",
        "import numpy as np\n",
        "import pandas as pd\n",
        "import matplotlib.pyplot as plt"
      ]
    },
    {
      "cell_type": "code",
      "source": [
        "dataset = pd.read_csv('wifi.csv')"
      ],
      "metadata": {
        "id": "RTxn-Vf18Uh7"
      },
      "execution_count": 3,
      "outputs": []
    },
    {
      "cell_type": "code",
      "source": [
        "X = dataset.drop('Room', axis=1)\n",
        "y = pd.get_dummies(dataset['Room']).values\n",
        "# Split the data into training and testing sets\n",
        "X_train, X_test, y_train, y_test = train_test_split(X, y, test_size=0.2, random_state=42)"
      ],
      "metadata": {
        "id": "XNHvhFkw9gHT"
      },
      "execution_count": 28,
      "outputs": []
    },
    {
      "cell_type": "code",
      "source": [
        "X_train.shape"
      ],
      "metadata": {
        "colab": {
          "base_uri": "https://localhost:8080/"
        },
        "id": "7IPXGcXhAKH-",
        "outputId": "9390f0f6-adac-48d4-9eb1-68cdd426bdd0"
      },
      "execution_count": 29,
      "outputs": [
        {
          "output_type": "execute_result",
          "data": {
            "text/plain": [
              "(1600, 7)"
            ]
          },
          "metadata": {},
          "execution_count": 29
        }
      ]
    },
    {
      "cell_type": "code",
      "source": [
        "y_test.shape"
      ],
      "metadata": {
        "colab": {
          "base_uri": "https://localhost:8080/"
        },
        "id": "lyI5FwqnDY7t",
        "outputId": "a8878623-12ad-43e2-b715-8cd54650feca"
      },
      "execution_count": 39,
      "outputs": [
        {
          "output_type": "execute_result",
          "data": {
            "text/plain": [
              "(400, 4)"
            ]
          },
          "metadata": {},
          "execution_count": 39
        }
      ]
    },
    {
      "cell_type": "code",
      "source": [
        "# Define the model\n",
        "model = Sequential()\n",
        "model.add(Dense(100, input_dim=X.shape[1], activation='relu'))\n",
        "model.add(Dense(100, activation='relu'))\n",
        "model.add(Dense(4, activation='softmax'))\n",
        "\n",
        "# Compile the model\n",
        "model.compile(loss='categorical_crossentropy', optimizer='adam', metrics=['accuracy'])\n",
        "\n",
        "# Train the model\n",
        "model.fit(X_train, y_train, epochs=100, batch_size=100, validation_data=(X_test, y_test))\n",
        "\n",
        "# Evaluate the model on the testing set\n",
        "scores = model.evaluate(X_test, y_test)\n",
        "print(\"\\n%s: %.2f%%\" % (model.metrics_names[1], scores[1]*100))"
      ],
      "metadata": {
        "colab": {
          "base_uri": "https://localhost:8080/"
        },
        "id": "yqtkoOU99zwG",
        "outputId": "d4e13776-a15b-4c84-c75a-472fe2d89c76"
      },
      "execution_count": 44,
      "outputs": [
        {
          "output_type": "stream",
          "name": "stdout",
          "text": [
            "Epoch 1/100\n",
            "16/16 [==============================] - 1s 18ms/step - loss: 2.0051 - accuracy: 0.4494 - val_loss: 0.8295 - val_accuracy: 0.7125\n",
            "Epoch 2/100\n",
            "16/16 [==============================] - 0s 5ms/step - loss: 0.4292 - accuracy: 0.8506 - val_loss: 0.3027 - val_accuracy: 0.9200\n",
            "Epoch 3/100\n",
            "16/16 [==============================] - 0s 5ms/step - loss: 0.2322 - accuracy: 0.9294 - val_loss: 0.1529 - val_accuracy: 0.9725\n",
            "Epoch 4/100\n",
            "16/16 [==============================] - 0s 5ms/step - loss: 0.1490 - accuracy: 0.9644 - val_loss: 0.1384 - val_accuracy: 0.9650\n",
            "Epoch 5/100\n",
            "16/16 [==============================] - 0s 5ms/step - loss: 0.1269 - accuracy: 0.9694 - val_loss: 0.1169 - val_accuracy: 0.9725\n",
            "Epoch 6/100\n",
            "16/16 [==============================] - 0s 5ms/step - loss: 0.1115 - accuracy: 0.9700 - val_loss: 0.1164 - val_accuracy: 0.9675\n",
            "Epoch 7/100\n",
            "16/16 [==============================] - 0s 6ms/step - loss: 0.1045 - accuracy: 0.9725 - val_loss: 0.1001 - val_accuracy: 0.9750\n",
            "Epoch 8/100\n",
            "16/16 [==============================] - 0s 5ms/step - loss: 0.0944 - accuracy: 0.9744 - val_loss: 0.1014 - val_accuracy: 0.9700\n",
            "Epoch 9/100\n",
            "16/16 [==============================] - 0s 5ms/step - loss: 0.0881 - accuracy: 0.9787 - val_loss: 0.0910 - val_accuracy: 0.9750\n",
            "Epoch 10/100\n",
            "16/16 [==============================] - 0s 5ms/step - loss: 0.0923 - accuracy: 0.9700 - val_loss: 0.1144 - val_accuracy: 0.9625\n",
            "Epoch 11/100\n",
            "16/16 [==============================] - 0s 6ms/step - loss: 0.0870 - accuracy: 0.9731 - val_loss: 0.0989 - val_accuracy: 0.9650\n",
            "Epoch 12/100\n",
            "16/16 [==============================] - 0s 5ms/step - loss: 0.0851 - accuracy: 0.9762 - val_loss: 0.0855 - val_accuracy: 0.9700\n",
            "Epoch 13/100\n",
            "16/16 [==============================] - 0s 6ms/step - loss: 0.0780 - accuracy: 0.9775 - val_loss: 0.0815 - val_accuracy: 0.9750\n",
            "Epoch 14/100\n",
            "16/16 [==============================] - 0s 6ms/step - loss: 0.0764 - accuracy: 0.9775 - val_loss: 0.0925 - val_accuracy: 0.9700\n",
            "Epoch 15/100\n",
            "16/16 [==============================] - 0s 6ms/step - loss: 0.0860 - accuracy: 0.9675 - val_loss: 0.0883 - val_accuracy: 0.9675\n",
            "Epoch 16/100\n",
            "16/16 [==============================] - 0s 6ms/step - loss: 0.0854 - accuracy: 0.9731 - val_loss: 0.0766 - val_accuracy: 0.9750\n",
            "Epoch 17/100\n",
            "16/16 [==============================] - 0s 5ms/step - loss: 0.0742 - accuracy: 0.9737 - val_loss: 0.0733 - val_accuracy: 0.9750\n",
            "Epoch 18/100\n",
            "16/16 [==============================] - 0s 6ms/step - loss: 0.0681 - accuracy: 0.9781 - val_loss: 0.0762 - val_accuracy: 0.9750\n",
            "Epoch 19/100\n",
            "16/16 [==============================] - 0s 4ms/step - loss: 0.0663 - accuracy: 0.9787 - val_loss: 0.0853 - val_accuracy: 0.9725\n",
            "Epoch 20/100\n",
            "16/16 [==============================] - 0s 4ms/step - loss: 0.0699 - accuracy: 0.9731 - val_loss: 0.0769 - val_accuracy: 0.9725\n",
            "Epoch 21/100\n",
            "16/16 [==============================] - 0s 4ms/step - loss: 0.0700 - accuracy: 0.9794 - val_loss: 0.0784 - val_accuracy: 0.9725\n",
            "Epoch 22/100\n",
            "16/16 [==============================] - 0s 3ms/step - loss: 0.0698 - accuracy: 0.9712 - val_loss: 0.0765 - val_accuracy: 0.9725\n",
            "Epoch 23/100\n",
            "16/16 [==============================] - 0s 5ms/step - loss: 0.0700 - accuracy: 0.9775 - val_loss: 0.0712 - val_accuracy: 0.9750\n",
            "Epoch 24/100\n",
            "16/16 [==============================] - 0s 4ms/step - loss: 0.0651 - accuracy: 0.9781 - val_loss: 0.0750 - val_accuracy: 0.9775\n",
            "Epoch 25/100\n",
            "16/16 [==============================] - 0s 5ms/step - loss: 0.0717 - accuracy: 0.9769 - val_loss: 0.0684 - val_accuracy: 0.9750\n",
            "Epoch 26/100\n",
            "16/16 [==============================] - 0s 5ms/step - loss: 0.0721 - accuracy: 0.9737 - val_loss: 0.0796 - val_accuracy: 0.9700\n",
            "Epoch 27/100\n",
            "16/16 [==============================] - 0s 4ms/step - loss: 0.0745 - accuracy: 0.9719 - val_loss: 0.0810 - val_accuracy: 0.9750\n",
            "Epoch 28/100\n",
            "16/16 [==============================] - 0s 4ms/step - loss: 0.0778 - accuracy: 0.9681 - val_loss: 0.0924 - val_accuracy: 0.9650\n",
            "Epoch 29/100\n",
            "16/16 [==============================] - 0s 5ms/step - loss: 0.0756 - accuracy: 0.9737 - val_loss: 0.0754 - val_accuracy: 0.9725\n",
            "Epoch 30/100\n",
            "16/16 [==============================] - 0s 5ms/step - loss: 0.0629 - accuracy: 0.9781 - val_loss: 0.0662 - val_accuracy: 0.9775\n",
            "Epoch 31/100\n",
            "16/16 [==============================] - 0s 4ms/step - loss: 0.0643 - accuracy: 0.9744 - val_loss: 0.0910 - val_accuracy: 0.9650\n",
            "Epoch 32/100\n",
            "16/16 [==============================] - 0s 4ms/step - loss: 0.0736 - accuracy: 0.9719 - val_loss: 0.0854 - val_accuracy: 0.9700\n",
            "Epoch 33/100\n",
            "16/16 [==============================] - 0s 5ms/step - loss: 0.0719 - accuracy: 0.9731 - val_loss: 0.0685 - val_accuracy: 0.9775\n",
            "Epoch 34/100\n",
            "16/16 [==============================] - 0s 4ms/step - loss: 0.0606 - accuracy: 0.9800 - val_loss: 0.0875 - val_accuracy: 0.9675\n",
            "Epoch 35/100\n",
            "16/16 [==============================] - 0s 3ms/step - loss: 0.0685 - accuracy: 0.9762 - val_loss: 0.0915 - val_accuracy: 0.9650\n",
            "Epoch 36/100\n",
            "16/16 [==============================] - 0s 3ms/step - loss: 0.0550 - accuracy: 0.9787 - val_loss: 0.0639 - val_accuracy: 0.9775\n",
            "Epoch 37/100\n",
            "16/16 [==============================] - 0s 4ms/step - loss: 0.0628 - accuracy: 0.9781 - val_loss: 0.1419 - val_accuracy: 0.9525\n",
            "Epoch 38/100\n",
            "16/16 [==============================] - 0s 5ms/step - loss: 0.0691 - accuracy: 0.9750 - val_loss: 0.0962 - val_accuracy: 0.9600\n",
            "Epoch 39/100\n",
            "16/16 [==============================] - 0s 4ms/step - loss: 0.0697 - accuracy: 0.9744 - val_loss: 0.0799 - val_accuracy: 0.9750\n",
            "Epoch 40/100\n",
            "16/16 [==============================] - 0s 4ms/step - loss: 0.0615 - accuracy: 0.9781 - val_loss: 0.1012 - val_accuracy: 0.9625\n",
            "Epoch 41/100\n",
            "16/16 [==============================] - 0s 4ms/step - loss: 0.0783 - accuracy: 0.9681 - val_loss: 0.0810 - val_accuracy: 0.9725\n",
            "Epoch 42/100\n",
            "16/16 [==============================] - 0s 4ms/step - loss: 0.0629 - accuracy: 0.9744 - val_loss: 0.0773 - val_accuracy: 0.9700\n",
            "Epoch 43/100\n",
            "16/16 [==============================] - 0s 5ms/step - loss: 0.0778 - accuracy: 0.9712 - val_loss: 0.1010 - val_accuracy: 0.9625\n",
            "Epoch 44/100\n",
            "16/16 [==============================] - 0s 3ms/step - loss: 0.0908 - accuracy: 0.9669 - val_loss: 0.1611 - val_accuracy: 0.9500\n",
            "Epoch 45/100\n",
            "16/16 [==============================] - 0s 5ms/step - loss: 0.0919 - accuracy: 0.9644 - val_loss: 0.0650 - val_accuracy: 0.9775\n",
            "Epoch 46/100\n",
            "16/16 [==============================] - 0s 4ms/step - loss: 0.0639 - accuracy: 0.9744 - val_loss: 0.0799 - val_accuracy: 0.9725\n",
            "Epoch 47/100\n",
            "16/16 [==============================] - 0s 4ms/step - loss: 0.0612 - accuracy: 0.9787 - val_loss: 0.0714 - val_accuracy: 0.9675\n",
            "Epoch 48/100\n",
            "16/16 [==============================] - 0s 3ms/step - loss: 0.0714 - accuracy: 0.9731 - val_loss: 0.0843 - val_accuracy: 0.9700\n",
            "Epoch 49/100\n",
            "16/16 [==============================] - 0s 4ms/step - loss: 0.0617 - accuracy: 0.9800 - val_loss: 0.0706 - val_accuracy: 0.9800\n",
            "Epoch 50/100\n",
            "16/16 [==============================] - 0s 4ms/step - loss: 0.0579 - accuracy: 0.9750 - val_loss: 0.0750 - val_accuracy: 0.9775\n",
            "Epoch 51/100\n",
            "16/16 [==============================] - 0s 5ms/step - loss: 0.0578 - accuracy: 0.9762 - val_loss: 0.0714 - val_accuracy: 0.9750\n",
            "Epoch 52/100\n",
            "16/16 [==============================] - 0s 3ms/step - loss: 0.0639 - accuracy: 0.9744 - val_loss: 0.1095 - val_accuracy: 0.9625\n",
            "Epoch 53/100\n",
            "16/16 [==============================] - 0s 3ms/step - loss: 0.0613 - accuracy: 0.9781 - val_loss: 0.0687 - val_accuracy: 0.9775\n",
            "Epoch 54/100\n",
            "16/16 [==============================] - 0s 5ms/step - loss: 0.0633 - accuracy: 0.9756 - val_loss: 0.0898 - val_accuracy: 0.9675\n",
            "Epoch 55/100\n",
            "16/16 [==============================] - 0s 4ms/step - loss: 0.0673 - accuracy: 0.9725 - val_loss: 0.0656 - val_accuracy: 0.9725\n",
            "Epoch 56/100\n",
            "16/16 [==============================] - 0s 3ms/step - loss: 0.0694 - accuracy: 0.9756 - val_loss: 0.0946 - val_accuracy: 0.9625\n",
            "Epoch 57/100\n",
            "16/16 [==============================] - 0s 3ms/step - loss: 0.0644 - accuracy: 0.9725 - val_loss: 0.0677 - val_accuracy: 0.9775\n",
            "Epoch 58/100\n",
            "16/16 [==============================] - 0s 4ms/step - loss: 0.0558 - accuracy: 0.9819 - val_loss: 0.0733 - val_accuracy: 0.9700\n",
            "Epoch 59/100\n",
            "16/16 [==============================] - 0s 4ms/step - loss: 0.0670 - accuracy: 0.9725 - val_loss: 0.1545 - val_accuracy: 0.9525\n",
            "Epoch 60/100\n",
            "16/16 [==============================] - 0s 4ms/step - loss: 0.0795 - accuracy: 0.9719 - val_loss: 0.0716 - val_accuracy: 0.9775\n",
            "Epoch 61/100\n",
            "16/16 [==============================] - 0s 4ms/step - loss: 0.0594 - accuracy: 0.9787 - val_loss: 0.0622 - val_accuracy: 0.9775\n",
            "Epoch 62/100\n",
            "16/16 [==============================] - 0s 3ms/step - loss: 0.0610 - accuracy: 0.9762 - val_loss: 0.0846 - val_accuracy: 0.9700\n",
            "Epoch 63/100\n",
            "16/16 [==============================] - 0s 4ms/step - loss: 0.0692 - accuracy: 0.9756 - val_loss: 0.0797 - val_accuracy: 0.9650\n",
            "Epoch 64/100\n",
            "16/16 [==============================] - 0s 4ms/step - loss: 0.0818 - accuracy: 0.9700 - val_loss: 0.1535 - val_accuracy: 0.9500\n",
            "Epoch 65/100\n",
            "16/16 [==============================] - 0s 5ms/step - loss: 0.0751 - accuracy: 0.9731 - val_loss: 0.0651 - val_accuracy: 0.9725\n",
            "Epoch 66/100\n",
            "16/16 [==============================] - 0s 5ms/step - loss: 0.0613 - accuracy: 0.9756 - val_loss: 0.0636 - val_accuracy: 0.9775\n",
            "Epoch 67/100\n",
            "16/16 [==============================] - 0s 4ms/step - loss: 0.0621 - accuracy: 0.9762 - val_loss: 0.0778 - val_accuracy: 0.9800\n",
            "Epoch 68/100\n",
            "16/16 [==============================] - 0s 5ms/step - loss: 0.0605 - accuracy: 0.9744 - val_loss: 0.0896 - val_accuracy: 0.9675\n",
            "Epoch 69/100\n",
            "16/16 [==============================] - 0s 4ms/step - loss: 0.0565 - accuracy: 0.9781 - val_loss: 0.1042 - val_accuracy: 0.9575\n",
            "Epoch 70/100\n",
            "16/16 [==============================] - 0s 4ms/step - loss: 0.0718 - accuracy: 0.9762 - val_loss: 0.0621 - val_accuracy: 0.9800\n",
            "Epoch 71/100\n",
            "16/16 [==============================] - 0s 4ms/step - loss: 0.0724 - accuracy: 0.9750 - val_loss: 0.0678 - val_accuracy: 0.9675\n",
            "Epoch 72/100\n",
            "16/16 [==============================] - 0s 3ms/step - loss: 0.0698 - accuracy: 0.9756 - val_loss: 0.0896 - val_accuracy: 0.9675\n",
            "Epoch 73/100\n",
            "16/16 [==============================] - 0s 5ms/step - loss: 0.0591 - accuracy: 0.9756 - val_loss: 0.0609 - val_accuracy: 0.9775\n",
            "Epoch 74/100\n",
            "16/16 [==============================] - 0s 4ms/step - loss: 0.0664 - accuracy: 0.9781 - val_loss: 0.0841 - val_accuracy: 0.9750\n",
            "Epoch 75/100\n",
            "16/16 [==============================] - 0s 4ms/step - loss: 0.0682 - accuracy: 0.9744 - val_loss: 0.0659 - val_accuracy: 0.9725\n",
            "Epoch 76/100\n",
            "16/16 [==============================] - 0s 4ms/step - loss: 0.0563 - accuracy: 0.9781 - val_loss: 0.0868 - val_accuracy: 0.9675\n",
            "Epoch 77/100\n",
            "16/16 [==============================] - 0s 5ms/step - loss: 0.0760 - accuracy: 0.9712 - val_loss: 0.0795 - val_accuracy: 0.9650\n",
            "Epoch 78/100\n",
            "16/16 [==============================] - 0s 4ms/step - loss: 0.0826 - accuracy: 0.9712 - val_loss: 0.1170 - val_accuracy: 0.9600\n",
            "Epoch 79/100\n",
            "16/16 [==============================] - 0s 5ms/step - loss: 0.0800 - accuracy: 0.9737 - val_loss: 0.0657 - val_accuracy: 0.9725\n",
            "Epoch 80/100\n",
            "16/16 [==============================] - 0s 5ms/step - loss: 0.0645 - accuracy: 0.9737 - val_loss: 0.0739 - val_accuracy: 0.9750\n",
            "Epoch 81/100\n",
            "16/16 [==============================] - 0s 4ms/step - loss: 0.0599 - accuracy: 0.9769 - val_loss: 0.0717 - val_accuracy: 0.9800\n",
            "Epoch 82/100\n",
            "16/16 [==============================] - 0s 4ms/step - loss: 0.0523 - accuracy: 0.9787 - val_loss: 0.0744 - val_accuracy: 0.9750\n",
            "Epoch 83/100\n",
            "16/16 [==============================] - 0s 4ms/step - loss: 0.0571 - accuracy: 0.9794 - val_loss: 0.0742 - val_accuracy: 0.9750\n",
            "Epoch 84/100\n",
            "16/16 [==============================] - 0s 5ms/step - loss: 0.0649 - accuracy: 0.9725 - val_loss: 0.0870 - val_accuracy: 0.9700\n",
            "Epoch 85/100\n",
            "16/16 [==============================] - 0s 3ms/step - loss: 0.0678 - accuracy: 0.9731 - val_loss: 0.1227 - val_accuracy: 0.9575\n",
            "Epoch 86/100\n",
            "16/16 [==============================] - 0s 4ms/step - loss: 0.0715 - accuracy: 0.9756 - val_loss: 0.0652 - val_accuracy: 0.9725\n",
            "Epoch 87/100\n",
            "16/16 [==============================] - 0s 5ms/step - loss: 0.0927 - accuracy: 0.9700 - val_loss: 0.1248 - val_accuracy: 0.9650\n",
            "Epoch 88/100\n",
            "16/16 [==============================] - 0s 4ms/step - loss: 0.0843 - accuracy: 0.9700 - val_loss: 0.0729 - val_accuracy: 0.9800\n",
            "Epoch 89/100\n",
            "16/16 [==============================] - 0s 4ms/step - loss: 0.0812 - accuracy: 0.9681 - val_loss: 0.0691 - val_accuracy: 0.9700\n",
            "Epoch 90/100\n",
            "16/16 [==============================] - 0s 5ms/step - loss: 0.0624 - accuracy: 0.9787 - val_loss: 0.0930 - val_accuracy: 0.9700\n",
            "Epoch 91/100\n",
            "16/16 [==============================] - 0s 4ms/step - loss: 0.0626 - accuracy: 0.9775 - val_loss: 0.0874 - val_accuracy: 0.9725\n",
            "Epoch 92/100\n",
            "16/16 [==============================] - 0s 5ms/step - loss: 0.0657 - accuracy: 0.9756 - val_loss: 0.0908 - val_accuracy: 0.9575\n",
            "Epoch 93/100\n",
            "16/16 [==============================] - 0s 4ms/step - loss: 0.0637 - accuracy: 0.9781 - val_loss: 0.0985 - val_accuracy: 0.9650\n",
            "Epoch 94/100\n",
            "16/16 [==============================] - 0s 4ms/step - loss: 0.0659 - accuracy: 0.9762 - val_loss: 0.0689 - val_accuracy: 0.9800\n",
            "Epoch 95/100\n",
            "16/16 [==============================] - 0s 5ms/step - loss: 0.0588 - accuracy: 0.9756 - val_loss: 0.0705 - val_accuracy: 0.9800\n",
            "Epoch 96/100\n",
            "16/16 [==============================] - 0s 4ms/step - loss: 0.0582 - accuracy: 0.9737 - val_loss: 0.0983 - val_accuracy: 0.9650\n",
            "Epoch 97/100\n",
            "16/16 [==============================] - 0s 5ms/step - loss: 0.0704 - accuracy: 0.9681 - val_loss: 0.0745 - val_accuracy: 0.9775\n",
            "Epoch 98/100\n",
            "16/16 [==============================] - 0s 5ms/step - loss: 0.0609 - accuracy: 0.9769 - val_loss: 0.0708 - val_accuracy: 0.9725\n",
            "Epoch 99/100\n",
            "16/16 [==============================] - 0s 4ms/step - loss: 0.0560 - accuracy: 0.9794 - val_loss: 0.0994 - val_accuracy: 0.9675\n",
            "Epoch 100/100\n",
            "16/16 [==============================] - 0s 6ms/step - loss: 0.0678 - accuracy: 0.9781 - val_loss: 0.0882 - val_accuracy: 0.9675\n",
            "13/13 [==============================] - 0s 2ms/step - loss: 0.0882 - accuracy: 0.9675\n",
            "\n",
            "accuracy: 96.75%\n"
          ]
        }
      ]
    },
    {
      "cell_type": "code",
      "source": [],
      "metadata": {
        "id": "ZWq3F1kw-_Hj"
      },
      "execution_count": null,
      "outputs": []
    }
  ]
}