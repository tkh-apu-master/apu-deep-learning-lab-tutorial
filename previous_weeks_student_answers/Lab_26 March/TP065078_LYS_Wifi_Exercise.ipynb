{
  "nbformat": 4,
  "nbformat_minor": 0,
  "metadata": {
    "colab": {
      "provenance": []
    },
    "kernelspec": {
      "name": "python3",
      "display_name": "Python 3"
    },
    "language_info": {
      "name": "python"
    }
  },
  "cells": [
    {
      "cell_type": "code",
      "execution_count": 40,
      "metadata": {
        "id": "FXgpssHX1MSo"
      },
      "outputs": [],
      "source": [
        "import pandas as pd\n",
        "import numpy as np\n",
        "import matplotlib.pyplot as plt\n",
        "\n",
        "from sklearn.model_selection import train_test_split\n",
        "from sklearn.preprocessing import OneHotEncoder"
      ]
    },
    {
      "cell_type": "code",
      "source": [
        "df_wifi = pd.read_csv('wifi.csv')\n",
        "df_wifi"
      ],
      "metadata": {
        "colab": {
          "base_uri": "https://localhost:8080/",
          "height": 424
        },
        "id": "oxvFCSpk1cA5",
        "outputId": "40cd023d-fade-490b-ded0-5da03285ff1f"
      },
      "execution_count": 2,
      "outputs": [
        {
          "output_type": "execute_result",
          "data": {
            "text/plain": [
              "      Wifi 1  Wifi 2  Wifi 3  Wifi 4  Wifi 5  Wifi 6  Wifi 7  Room\n",
              "0        -64     -56     -61     -66     -71     -82     -81     1\n",
              "1        -68     -57     -61     -65     -71     -85     -85     1\n",
              "2        -63     -60     -60     -67     -76     -85     -84     1\n",
              "3        -61     -60     -68     -62     -77     -90     -80     1\n",
              "4        -63     -65     -60     -63     -77     -81     -87     1\n",
              "...      ...     ...     ...     ...     ...     ...     ...   ...\n",
              "1995     -59     -59     -48     -66     -50     -86     -94     4\n",
              "1996     -59     -56     -50     -62     -47     -87     -90     4\n",
              "1997     -62     -59     -46     -65     -45     -87     -88     4\n",
              "1998     -62     -58     -52     -61     -41     -90     -85     4\n",
              "1999     -59     -50     -45     -60     -45     -88     -87     4\n",
              "\n",
              "[2000 rows x 8 columns]"
            ],
            "text/html": [
              "\n",
              "  <div id=\"df-f32f15a7-ea65-49ba-bd08-e01f73861d45\">\n",
              "    <div class=\"colab-df-container\">\n",
              "      <div>\n",
              "<style scoped>\n",
              "    .dataframe tbody tr th:only-of-type {\n",
              "        vertical-align: middle;\n",
              "    }\n",
              "\n",
              "    .dataframe tbody tr th {\n",
              "        vertical-align: top;\n",
              "    }\n",
              "\n",
              "    .dataframe thead th {\n",
              "        text-align: right;\n",
              "    }\n",
              "</style>\n",
              "<table border=\"1\" class=\"dataframe\">\n",
              "  <thead>\n",
              "    <tr style=\"text-align: right;\">\n",
              "      <th></th>\n",
              "      <th>Wifi 1</th>\n",
              "      <th>Wifi 2</th>\n",
              "      <th>Wifi 3</th>\n",
              "      <th>Wifi 4</th>\n",
              "      <th>Wifi 5</th>\n",
              "      <th>Wifi 6</th>\n",
              "      <th>Wifi 7</th>\n",
              "      <th>Room</th>\n",
              "    </tr>\n",
              "  </thead>\n",
              "  <tbody>\n",
              "    <tr>\n",
              "      <th>0</th>\n",
              "      <td>-64</td>\n",
              "      <td>-56</td>\n",
              "      <td>-61</td>\n",
              "      <td>-66</td>\n",
              "      <td>-71</td>\n",
              "      <td>-82</td>\n",
              "      <td>-81</td>\n",
              "      <td>1</td>\n",
              "    </tr>\n",
              "    <tr>\n",
              "      <th>1</th>\n",
              "      <td>-68</td>\n",
              "      <td>-57</td>\n",
              "      <td>-61</td>\n",
              "      <td>-65</td>\n",
              "      <td>-71</td>\n",
              "      <td>-85</td>\n",
              "      <td>-85</td>\n",
              "      <td>1</td>\n",
              "    </tr>\n",
              "    <tr>\n",
              "      <th>2</th>\n",
              "      <td>-63</td>\n",
              "      <td>-60</td>\n",
              "      <td>-60</td>\n",
              "      <td>-67</td>\n",
              "      <td>-76</td>\n",
              "      <td>-85</td>\n",
              "      <td>-84</td>\n",
              "      <td>1</td>\n",
              "    </tr>\n",
              "    <tr>\n",
              "      <th>3</th>\n",
              "      <td>-61</td>\n",
              "      <td>-60</td>\n",
              "      <td>-68</td>\n",
              "      <td>-62</td>\n",
              "      <td>-77</td>\n",
              "      <td>-90</td>\n",
              "      <td>-80</td>\n",
              "      <td>1</td>\n",
              "    </tr>\n",
              "    <tr>\n",
              "      <th>4</th>\n",
              "      <td>-63</td>\n",
              "      <td>-65</td>\n",
              "      <td>-60</td>\n",
              "      <td>-63</td>\n",
              "      <td>-77</td>\n",
              "      <td>-81</td>\n",
              "      <td>-87</td>\n",
              "      <td>1</td>\n",
              "    </tr>\n",
              "    <tr>\n",
              "      <th>...</th>\n",
              "      <td>...</td>\n",
              "      <td>...</td>\n",
              "      <td>...</td>\n",
              "      <td>...</td>\n",
              "      <td>...</td>\n",
              "      <td>...</td>\n",
              "      <td>...</td>\n",
              "      <td>...</td>\n",
              "    </tr>\n",
              "    <tr>\n",
              "      <th>1995</th>\n",
              "      <td>-59</td>\n",
              "      <td>-59</td>\n",
              "      <td>-48</td>\n",
              "      <td>-66</td>\n",
              "      <td>-50</td>\n",
              "      <td>-86</td>\n",
              "      <td>-94</td>\n",
              "      <td>4</td>\n",
              "    </tr>\n",
              "    <tr>\n",
              "      <th>1996</th>\n",
              "      <td>-59</td>\n",
              "      <td>-56</td>\n",
              "      <td>-50</td>\n",
              "      <td>-62</td>\n",
              "      <td>-47</td>\n",
              "      <td>-87</td>\n",
              "      <td>-90</td>\n",
              "      <td>4</td>\n",
              "    </tr>\n",
              "    <tr>\n",
              "      <th>1997</th>\n",
              "      <td>-62</td>\n",
              "      <td>-59</td>\n",
              "      <td>-46</td>\n",
              "      <td>-65</td>\n",
              "      <td>-45</td>\n",
              "      <td>-87</td>\n",
              "      <td>-88</td>\n",
              "      <td>4</td>\n",
              "    </tr>\n",
              "    <tr>\n",
              "      <th>1998</th>\n",
              "      <td>-62</td>\n",
              "      <td>-58</td>\n",
              "      <td>-52</td>\n",
              "      <td>-61</td>\n",
              "      <td>-41</td>\n",
              "      <td>-90</td>\n",
              "      <td>-85</td>\n",
              "      <td>4</td>\n",
              "    </tr>\n",
              "    <tr>\n",
              "      <th>1999</th>\n",
              "      <td>-59</td>\n",
              "      <td>-50</td>\n",
              "      <td>-45</td>\n",
              "      <td>-60</td>\n",
              "      <td>-45</td>\n",
              "      <td>-88</td>\n",
              "      <td>-87</td>\n",
              "      <td>4</td>\n",
              "    </tr>\n",
              "  </tbody>\n",
              "</table>\n",
              "<p>2000 rows × 8 columns</p>\n",
              "</div>\n",
              "      <button class=\"colab-df-convert\" onclick=\"convertToInteractive('df-f32f15a7-ea65-49ba-bd08-e01f73861d45')\"\n",
              "              title=\"Convert this dataframe to an interactive table.\"\n",
              "              style=\"display:none;\">\n",
              "        \n",
              "  <svg xmlns=\"http://www.w3.org/2000/svg\" height=\"24px\"viewBox=\"0 0 24 24\"\n",
              "       width=\"24px\">\n",
              "    <path d=\"M0 0h24v24H0V0z\" fill=\"none\"/>\n",
              "    <path d=\"M18.56 5.44l.94 2.06.94-2.06 2.06-.94-2.06-.94-.94-2.06-.94 2.06-2.06.94zm-11 1L8.5 8.5l.94-2.06 2.06-.94-2.06-.94L8.5 2.5l-.94 2.06-2.06.94zm10 10l.94 2.06.94-2.06 2.06-.94-2.06-.94-.94-2.06-.94 2.06-2.06.94z\"/><path d=\"M17.41 7.96l-1.37-1.37c-.4-.4-.92-.59-1.43-.59-.52 0-1.04.2-1.43.59L10.3 9.45l-7.72 7.72c-.78.78-.78 2.05 0 2.83L4 21.41c.39.39.9.59 1.41.59.51 0 1.02-.2 1.41-.59l7.78-7.78 2.81-2.81c.8-.78.8-2.07 0-2.86zM5.41 20L4 18.59l7.72-7.72 1.47 1.35L5.41 20z\"/>\n",
              "  </svg>\n",
              "      </button>\n",
              "      \n",
              "  <style>\n",
              "    .colab-df-container {\n",
              "      display:flex;\n",
              "      flex-wrap:wrap;\n",
              "      gap: 12px;\n",
              "    }\n",
              "\n",
              "    .colab-df-convert {\n",
              "      background-color: #E8F0FE;\n",
              "      border: none;\n",
              "      border-radius: 50%;\n",
              "      cursor: pointer;\n",
              "      display: none;\n",
              "      fill: #1967D2;\n",
              "      height: 32px;\n",
              "      padding: 0 0 0 0;\n",
              "      width: 32px;\n",
              "    }\n",
              "\n",
              "    .colab-df-convert:hover {\n",
              "      background-color: #E2EBFA;\n",
              "      box-shadow: 0px 1px 2px rgba(60, 64, 67, 0.3), 0px 1px 3px 1px rgba(60, 64, 67, 0.15);\n",
              "      fill: #174EA6;\n",
              "    }\n",
              "\n",
              "    [theme=dark] .colab-df-convert {\n",
              "      background-color: #3B4455;\n",
              "      fill: #D2E3FC;\n",
              "    }\n",
              "\n",
              "    [theme=dark] .colab-df-convert:hover {\n",
              "      background-color: #434B5C;\n",
              "      box-shadow: 0px 1px 3px 1px rgba(0, 0, 0, 0.15);\n",
              "      filter: drop-shadow(0px 1px 2px rgba(0, 0, 0, 0.3));\n",
              "      fill: #FFFFFF;\n",
              "    }\n",
              "  </style>\n",
              "\n",
              "      <script>\n",
              "        const buttonEl =\n",
              "          document.querySelector('#df-f32f15a7-ea65-49ba-bd08-e01f73861d45 button.colab-df-convert');\n",
              "        buttonEl.style.display =\n",
              "          google.colab.kernel.accessAllowed ? 'block' : 'none';\n",
              "\n",
              "        async function convertToInteractive(key) {\n",
              "          const element = document.querySelector('#df-f32f15a7-ea65-49ba-bd08-e01f73861d45');\n",
              "          const dataTable =\n",
              "            await google.colab.kernel.invokeFunction('convertToInteractive',\n",
              "                                                     [key], {});\n",
              "          if (!dataTable) return;\n",
              "\n",
              "          const docLinkHtml = 'Like what you see? Visit the ' +\n",
              "            '<a target=\"_blank\" href=https://colab.research.google.com/notebooks/data_table.ipynb>data table notebook</a>'\n",
              "            + ' to learn more about interactive tables.';\n",
              "          element.innerHTML = '';\n",
              "          dataTable['output_type'] = 'display_data';\n",
              "          await google.colab.output.renderOutput(dataTable, element);\n",
              "          const docLink = document.createElement('div');\n",
              "          docLink.innerHTML = docLinkHtml;\n",
              "          element.appendChild(docLink);\n",
              "        }\n",
              "      </script>\n",
              "    </div>\n",
              "  </div>\n",
              "  "
            ]
          },
          "metadata": {},
          "execution_count": 2
        }
      ]
    },
    {
      "cell_type": "code",
      "source": [
        "print('Null values \\n')\n",
        "print(df_wifi.isnull().sum(), '\\n')\n",
        "print(df_wifi.info())"
      ],
      "metadata": {
        "colab": {
          "base_uri": "https://localhost:8080/"
        },
        "id": "vfff6oiG1f6-",
        "outputId": "60d6d412-1b85-4171-9f78-fc9544a0d924"
      },
      "execution_count": 3,
      "outputs": [
        {
          "output_type": "stream",
          "name": "stdout",
          "text": [
            "Null values \n",
            "\n",
            "Wifi 1    0\n",
            "Wifi 2    0\n",
            "Wifi 3    0\n",
            "Wifi 4    0\n",
            "Wifi 5    0\n",
            "Wifi 6    0\n",
            "Wifi 7    0\n",
            "Room      0\n",
            "dtype: int64 \n",
            "\n",
            "<class 'pandas.core.frame.DataFrame'>\n",
            "RangeIndex: 2000 entries, 0 to 1999\n",
            "Data columns (total 8 columns):\n",
            " #   Column  Non-Null Count  Dtype\n",
            "---  ------  --------------  -----\n",
            " 0   Wifi 1  2000 non-null   int64\n",
            " 1   Wifi 2  2000 non-null   int64\n",
            " 2   Wifi 3  2000 non-null   int64\n",
            " 3   Wifi 4  2000 non-null   int64\n",
            " 4   Wifi 5  2000 non-null   int64\n",
            " 5   Wifi 6  2000 non-null   int64\n",
            " 6   Wifi 7  2000 non-null   int64\n",
            " 7   Room    2000 non-null   int64\n",
            "dtypes: int64(8)\n",
            "memory usage: 125.1 KB\n",
            "None\n"
          ]
        }
      ]
    },
    {
      "cell_type": "code",
      "source": [
        "x = df_wifi.drop('Room', axis=1)\n",
        "y = pd.get_dummies(df_wifi.Room)\n",
        "\n",
        "x_train, x_test, y_train, y_test = train_test_split(x, y,\n",
        "                                                    test_size=0.2,\n",
        "                                                    train_size=0.8,\n",
        "                                                    random_state=42)\n",
        "\n",
        "print(f'X Train Shape: {x_train.shape}')\n",
        "print(f'Y Train Shape: {y_train.shape}')\n",
        "print(f'X Test Shape: {x_test.shape}')\n",
        "print(f'Y Test Shape: {y_test.shape}')"
      ],
      "metadata": {
        "colab": {
          "base_uri": "https://localhost:8080/"
        },
        "id": "SFikJYvQ1s-0",
        "outputId": "566f0e77-0dcc-4579-d3b2-b7572e559645"
      },
      "execution_count": 45,
      "outputs": [
        {
          "output_type": "stream",
          "name": "stdout",
          "text": [
            "X Train Shape: (1600, 7)\n",
            "Y Train Shape: (1600, 4)\n",
            "X Test Shape: (400, 7)\n",
            "Y Test Shape: (400, 4)\n"
          ]
        }
      ]
    },
    {
      "cell_type": "code",
      "source": [
        "from sklearn.preprocessing import StandardScaler\n",
        "from sklearn.preprocessing import MinMaxScaler\n",
        "\n",
        "scaler = StandardScaler()\n",
        "# scaler = MinMaxScaler(feature_range=(-1, 1))\n",
        "\n",
        "x_train = scaler.fit_transform(x_train)\n",
        "x_test = scaler.transform(x_test)"
      ],
      "metadata": {
        "id": "ttMn2YWg2IMw"
      },
      "execution_count": 5,
      "outputs": []
    },
    {
      "cell_type": "code",
      "source": [
        "from keras.models import Sequential\n",
        "from keras.layers import Dense\n",
        "\n",
        "from keras import initializers \n",
        "from keras import regularizers"
      ],
      "metadata": {
        "id": "CQgdNKGp2NQK"
      },
      "execution_count": 6,
      "outputs": []
    },
    {
      "cell_type": "markdown",
      "source": [
        "<h3>Before Initializers and Regularizers</h3>"
      ],
      "metadata": {
        "id": "vp40E5312bVO"
      }
    },
    {
      "cell_type": "code",
      "source": [
        "L1 = 100\n",
        "L2 = 100\n",
        "L3 = 50\n",
        "\n",
        "model = Sequential()\n",
        "model.add(Dense(L1, input_dim=7, activation='relu'))\n",
        "model.add(Dense(L2, activation='relu'))\n",
        "model.add(Dense(L3, activation='relu'))\n",
        "\n",
        "# output layer\n",
        "model.add(Dense(4, activation='softmax'))\n",
        "\n",
        "# adam\n",
        "model.compile(loss='categorical_crossentropy',\n",
        "              metrics=['accuracy'],\n",
        "              optimizer='adam')"
      ],
      "metadata": {
        "id": "HO1Gz-Rg2kaN"
      },
      "execution_count": 47,
      "outputs": []
    },
    {
      "cell_type": "code",
      "source": [
        "adam_history = model.fit(x_train, y_train, \n",
        "                         epochs=10,\n",
        "                         batch_size=100, \n",
        "                         validation_data=(x_test, y_test))"
      ],
      "metadata": {
        "colab": {
          "base_uri": "https://localhost:8080/"
        },
        "id": "LQRuAcIN2kcq",
        "outputId": "54659d7f-c387-4810-c955-01897535f898"
      },
      "execution_count": 48,
      "outputs": [
        {
          "output_type": "stream",
          "name": "stdout",
          "text": [
            "Epoch 1/10\n",
            "16/16 [==============================] - 1s 17ms/step - loss: 3.2515 - accuracy: 0.3288 - val_loss: 0.6569 - val_accuracy: 0.8475\n",
            "Epoch 2/10\n",
            "16/16 [==============================] - 0s 5ms/step - loss: 0.6176 - accuracy: 0.7625 - val_loss: 0.4016 - val_accuracy: 0.9050\n",
            "Epoch 3/10\n",
            "16/16 [==============================] - 0s 5ms/step - loss: 0.3204 - accuracy: 0.9413 - val_loss: 0.2537 - val_accuracy: 0.9625\n",
            "Epoch 4/10\n",
            "16/16 [==============================] - 0s 5ms/step - loss: 0.2289 - accuracy: 0.9694 - val_loss: 0.2111 - val_accuracy: 0.9650\n",
            "Epoch 5/10\n",
            "16/16 [==============================] - 0s 5ms/step - loss: 0.1707 - accuracy: 0.9688 - val_loss: 0.1652 - val_accuracy: 0.9625\n",
            "Epoch 6/10\n",
            "16/16 [==============================] - 0s 4ms/step - loss: 0.1390 - accuracy: 0.9694 - val_loss: 0.1400 - val_accuracy: 0.9675\n",
            "Epoch 7/10\n",
            "16/16 [==============================] - 0s 5ms/step - loss: 0.1246 - accuracy: 0.9712 - val_loss: 0.1279 - val_accuracy: 0.9650\n",
            "Epoch 8/10\n",
            "16/16 [==============================] - 0s 4ms/step - loss: 0.1092 - accuracy: 0.9750 - val_loss: 0.1457 - val_accuracy: 0.9575\n",
            "Epoch 9/10\n",
            "16/16 [==============================] - 0s 4ms/step - loss: 0.0959 - accuracy: 0.9737 - val_loss: 0.1061 - val_accuracy: 0.9700\n",
            "Epoch 10/10\n",
            "16/16 [==============================] - 0s 5ms/step - loss: 0.1002 - accuracy: 0.9694 - val_loss: 0.1005 - val_accuracy: 0.9600\n"
          ]
        }
      ]
    },
    {
      "cell_type": "code",
      "source": [
        "acc = adam_history.history['accuracy']\n",
        "val_acc = adam_history.history['val_accuracy']\n",
        "loss = adam_history.history['loss']\n",
        "val_loss = adam_history.history['val_loss']\n",
        "\n",
        "epochs = range(1, len(acc)+1)\n",
        "\n",
        "plt.plot(epochs, acc, 'b', label='Train Accuracy')\n",
        "plt.plot(epochs, val_acc, 'r', label='Test Accuracy')\n",
        "plt.legend(loc='upper left')\n",
        "plt.figure()\n",
        "plt.plot(epochs, loss, 'b', label='Train Loss')\n",
        "plt.plot(epochs, val_loss, 'r', label='Test Loss')\n",
        "plt.legend(loc='upper right')\n",
        "plt.show();"
      ],
      "metadata": {
        "colab": {
          "base_uri": "https://localhost:8080/",
          "height": 515
        },
        "id": "BF3TCVMg2kfR",
        "outputId": "b3961797-2ae3-4112-9ab2-7262ec992b22"
      },
      "execution_count": 49,
      "outputs": [
        {
          "output_type": "display_data",
          "data": {
            "text/plain": [
              "<Figure size 432x288 with 1 Axes>"
            ],
            "image/png": "[encoded data removed]"
          },
          "metadata": {
            "needs_background": "light"
          }
        },
        {
          "output_type": "display_data",
          "data": {
            "text/plain": [
              "<Figure size 432x288 with 1 Axes>"
            ],
            "image/png": "[encoded data removed]"
          },
          "metadata": {
            "needs_background": "light"
          }
        }
      ]
    },
    {
      "cell_type": "markdown",
      "source": [
        "<h3>After Initializers and Regularizers</h3"
      ],
      "metadata": {
        "id": "3QSRh5zG5ll2"
      }
    },
    {
      "cell_type": "code",
      "source": [
        "L1 = 100\n",
        "L2 = 100\n",
        "L3 = 50\n",
        "\n",
        "model = Sequential()\n",
        "model.add(Dense(L1, input_dim=7, activation='relu',\n",
        "                kernel_initializer='he_normal',\n",
        "                kernel_regularizer=regularizers.l2(0.01)\n",
        "                ))\n",
        "\n",
        "model.add(Dense(L2, activation='relu'))\n",
        "model.add(Dense(L3, activation='relu'))\n",
        "model.add(Dense(4, activation='softmax'))\n",
        "\n",
        "model.compile(loss='categorical_crossentropy',\n",
        "              metrics=['accuracy'],\n",
        "              optimizer='adam')"
      ],
      "metadata": {
        "id": "_v50bVsb2khW"
      },
      "execution_count": 55,
      "outputs": []
    },
    {
      "cell_type": "code",
      "source": [
        "adam_history = model.fit(x_train, y_train, \n",
        "                         epochs=10,\n",
        "                         batch_size=100, \n",
        "                         validation_data=(x_test, y_test))"
      ],
      "metadata": {
        "colab": {
          "base_uri": "https://localhost:8080/"
        },
        "id": "F2P1i63p2VBY",
        "outputId": "4c18455e-1b8b-45fb-b1f0-b3421e64a980"
      },
      "execution_count": 56,
      "outputs": [
        {
          "output_type": "stream",
          "name": "stdout",
          "text": [
            "Epoch 1/10\n",
            "16/16 [==============================] - 1s 16ms/step - loss: 21.0901 - accuracy: 0.3237 - val_loss: 4.6291 - val_accuracy: 0.3675\n",
            "Epoch 2/10\n",
            "16/16 [==============================] - 0s 5ms/step - loss: 4.3268 - accuracy: 0.5625 - val_loss: 2.5070 - val_accuracy: 0.7425\n",
            "Epoch 3/10\n",
            "16/16 [==============================] - 0s 4ms/step - loss: 2.3312 - accuracy: 0.8475 - val_loss: 2.1700 - val_accuracy: 0.8900\n",
            "Epoch 4/10\n",
            "16/16 [==============================] - 0s 4ms/step - loss: 2.0147 - accuracy: 0.9438 - val_loss: 1.9943 - val_accuracy: 0.9450\n",
            "Epoch 5/10\n",
            "16/16 [==============================] - 0s 4ms/step - loss: 1.9386 - accuracy: 0.9544 - val_loss: 1.9282 - val_accuracy: 0.9525\n",
            "Epoch 6/10\n",
            "16/16 [==============================] - 0s 6ms/step - loss: 1.8997 - accuracy: 0.9538 - val_loss: 1.9130 - val_accuracy: 0.9500\n",
            "Epoch 7/10\n",
            "16/16 [==============================] - 0s 4ms/step - loss: 1.8601 - accuracy: 0.9619 - val_loss: 1.8557 - val_accuracy: 0.9575\n",
            "Epoch 8/10\n",
            "16/16 [==============================] - 0s 5ms/step - loss: 1.8127 - accuracy: 0.9625 - val_loss: 1.8376 - val_accuracy: 0.9450\n",
            "Epoch 9/10\n",
            "16/16 [==============================] - 0s 4ms/step - loss: 1.7942 - accuracy: 0.9613 - val_loss: 1.7830 - val_accuracy: 0.9550\n",
            "Epoch 10/10\n",
            "16/16 [==============================] - 0s 5ms/step - loss: 1.7451 - accuracy: 0.9681 - val_loss: 1.7520 - val_accuracy: 0.9525\n"
          ]
        }
      ]
    },
    {
      "cell_type": "code",
      "source": [
        "acc = adam_history.history['accuracy']\n",
        "val_acc = adam_history.history['val_accuracy']\n",
        "loss = adam_history.history['loss']\n",
        "val_loss = adam_history.history['val_loss']\n",
        "\n",
        "epochs = range(1, len(acc)+1)\n",
        "\n",
        "plt.plot(epochs, acc, 'b', label='Train Accuracy')\n",
        "plt.plot(epochs, val_acc, 'r', label='Test Accuracy')\n",
        "plt.legend(loc='upper left')\n",
        "plt.figure()\n",
        "plt.plot(epochs, loss, 'b', label='Train Loss')\n",
        "plt.plot(epochs, val_loss, 'r', label='Test Loss')\n",
        "plt.legend(loc='upper right')\n",
        "plt.show();"
      ],
      "metadata": {
        "colab": {
          "base_uri": "https://localhost:8080/",
          "height": 517
        },
        "id": "ldkGXfz32R36",
        "outputId": "e1febb45-980d-426b-bbd2-c1a2da6b3edd"
      },
      "execution_count": 57,
      "outputs": [
        {
          "output_type": "display_data",
          "data": {
            "text/plain": [
              "<Figure size 432x288 with 1 Axes>"
            ],
            "image/png": "[encoded data removed]"
          },
          "metadata": {
            "needs_background": "light"
          }
        },
        {
          "output_type": "display_data",
          "data": {
            "text/plain": [
              "<Figure size 432x288 with 1 Axes>"
            ],
            "image/png": "[encoded data removed]"
          },
          "metadata": {
            "needs_background": "light"
          }
        }
      ]
    },
    {
      "cell_type": "code",
      "source": [],
      "metadata": {
        "id": "2A5Cy4B36NPz"
      },
      "execution_count": null,
      "outputs": []
    }
  ]
}