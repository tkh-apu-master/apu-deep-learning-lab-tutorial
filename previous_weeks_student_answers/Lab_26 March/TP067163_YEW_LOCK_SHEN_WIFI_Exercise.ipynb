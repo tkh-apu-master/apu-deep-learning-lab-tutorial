{
  "nbformat": 4,
  "nbformat_minor": 0,
  "metadata": {
    "colab": {
      "provenance": []
    },
    "kernelspec": {
      "name": "python3",
      "display_name": "Python 3"
    },
    "language_info": {
      "name": "python"
    }
  },
  "cells": [
    {
      "cell_type": "markdown",
      "source": [
        "#Exercise\n",
        "Estimate the location from WIFI Signal Strength\n",
        "\n",
        "The dataset has 2,000 rows and 8 columns.The data contains wifi signal strength observed from 7 wifi devices on a smartphone collected in an indoor space which could be used to estimate the location in one of the four rooms.\n",
        "\n",
        "You can use ANN analysis for this exerise to improve the ANN performance."
      ],
      "metadata": {
        "id": "fnYpH0wf1WLE"
      }
    },
    {
      "cell_type": "code",
      "execution_count": 25,
      "metadata": {
        "colab": {
          "base_uri": "https://localhost:8080/"
        },
        "id": "H9_60j3-1TF4",
        "outputId": "a0e170b7-4bf7-495e-89e4-3730c5186676"
      },
      "outputs": [
        {
          "output_type": "stream",
          "name": "stdout",
          "text": [
            "Drive already mounted at /drive; to attempt to forcibly remount, call drive.mount(\"/drive\", force_remount=True).\n"
          ]
        }
      ],
      "source": [
        "# Mounting our Drive to Google Colab\n",
        "from google.colab import drive\n",
        "drive.mount('/drive')"
      ]
    },
    {
      "cell_type": "code",
      "source": [
        "# Import required libraries\n",
        "import pandas as pd\n",
        "import numpy as np\n",
        "import matplotlib.pyplot as plt\n",
        "\n",
        "from sklearn.model_selection import train_test_split"
      ],
      "metadata": {
        "id": "ghferJGK2o3a"
      },
      "execution_count": 26,
      "outputs": []
    },
    {
      "cell_type": "code",
      "source": [
        "# Import data\n",
        "# Define the path\n",
        "path = \"/drive/MyDrive/Colab Notebooks/wifi.csv\"\n",
        "df = pd.read_csv(path)"
      ],
      "metadata": {
        "id": "9rTCCQnm1fBF"
      },
      "execution_count": 47,
      "outputs": []
    },
    {
      "cell_type": "markdown",
      "source": [
        "***Step 1: Explore Data***"
      ],
      "metadata": {
        "id": "afJs8yt221Aj"
      }
    },
    {
      "cell_type": "code",
      "source": [
        "df.head().T"
      ],
      "metadata": {
        "colab": {
          "base_uri": "https://localhost:8080/",
          "height": 300
        },
        "id": "WpEZ58l72icZ",
        "outputId": "9b1011cc-5da7-42d3-b7eb-2b2cac49a443"
      },
      "execution_count": 48,
      "outputs": [
        {
          "output_type": "execute_result",
          "data": {
            "text/plain": [
              "         0   1   2   3   4\n",
              "Wifi 1 -64 -68 -63 -61 -63\n",
              "Wifi 2 -56 -57 -60 -60 -65\n",
              "Wifi 3 -61 -61 -60 -68 -60\n",
              "Wifi 4 -66 -65 -67 -62 -63\n",
              "Wifi 5 -71 -71 -76 -77 -77\n",
              "Wifi 6 -82 -85 -85 -90 -81\n",
              "Wifi 7 -81 -85 -84 -80 -87\n",
              "Room     1   1   1   1   1"
            ],
            "text/html": [
              "\n",
              "  <div id=\"df-ebe8f010-b20f-4736-9d99-b7e9b4a33e43\">\n",
              "    <div class=\"colab-df-container\">\n",
              "      <div>\n",
              "<style scoped>\n",
              "    .dataframe tbody tr th:only-of-type {\n",
              "        vertical-align: middle;\n",
              "    }\n",
              "\n",
              "    .dataframe tbody tr th {\n",
              "        vertical-align: top;\n",
              "    }\n",
              "\n",
              "    .dataframe thead th {\n",
              "        text-align: right;\n",
              "    }\n",
              "</style>\n",
              "<table border=\"1\" class=\"dataframe\">\n",
              "  <thead>\n",
              "    <tr style=\"text-align: right;\">\n",
              "      <th></th>\n",
              "      <th>0</th>\n",
              "      <th>1</th>\n",
              "      <th>2</th>\n",
              "      <th>3</th>\n",
              "      <th>4</th>\n",
              "    </tr>\n",
              "  </thead>\n",
              "  <tbody>\n",
              "    <tr>\n",
              "      <th>Wifi 1</th>\n",
              "      <td>-64</td>\n",
              "      <td>-68</td>\n",
              "      <td>-63</td>\n",
              "      <td>-61</td>\n",
              "      <td>-63</td>\n",
              "    </tr>\n",
              "    <tr>\n",
              "      <th>Wifi 2</th>\n",
              "      <td>-56</td>\n",
              "      <td>-57</td>\n",
              "      <td>-60</td>\n",
              "      <td>-60</td>\n",
              "      <td>-65</td>\n",
              "    </tr>\n",
              "    <tr>\n",
              "      <th>Wifi 3</th>\n",
              "      <td>-61</td>\n",
              "      <td>-61</td>\n",
              "      <td>-60</td>\n",
              "      <td>-68</td>\n",
              "      <td>-60</td>\n",
              "    </tr>\n",
              "    <tr>\n",
              "      <th>Wifi 4</th>\n",
              "      <td>-66</td>\n",
              "      <td>-65</td>\n",
              "      <td>-67</td>\n",
              "      <td>-62</td>\n",
              "      <td>-63</td>\n",
              "    </tr>\n",
              "    <tr>\n",
              "      <th>Wifi 5</th>\n",
              "      <td>-71</td>\n",
              "      <td>-71</td>\n",
              "      <td>-76</td>\n",
              "      <td>-77</td>\n",
              "      <td>-77</td>\n",
              "    </tr>\n",
              "    <tr>\n",
              "      <th>Wifi 6</th>\n",
              "      <td>-82</td>\n",
              "      <td>-85</td>\n",
              "      <td>-85</td>\n",
              "      <td>-90</td>\n",
              "      <td>-81</td>\n",
              "    </tr>\n",
              "    <tr>\n",
              "      <th>Wifi 7</th>\n",
              "      <td>-81</td>\n",
              "      <td>-85</td>\n",
              "      <td>-84</td>\n",
              "      <td>-80</td>\n",
              "      <td>-87</td>\n",
              "    </tr>\n",
              "    <tr>\n",
              "      <th>Room</th>\n",
              "      <td>1</td>\n",
              "      <td>1</td>\n",
              "      <td>1</td>\n",
              "      <td>1</td>\n",
              "      <td>1</td>\n",
              "    </tr>\n",
              "  </tbody>\n",
              "</table>\n",
              "</div>\n",
              "      <button class=\"colab-df-convert\" onclick=\"convertToInteractive('df-ebe8f010-b20f-4736-9d99-b7e9b4a33e43')\"\n",
              "              title=\"Convert this dataframe to an interactive table.\"\n",
              "              style=\"display:none;\">\n",
              "        \n",
              "  <svg xmlns=\"http://www.w3.org/2000/svg\" height=\"24px\"viewBox=\"0 0 24 24\"\n",
              "       width=\"24px\">\n",
              "    <path d=\"M0 0h24v24H0V0z\" fill=\"none\"/>\n",
              "    <path d=\"M18.56 5.44l.94 2.06.94-2.06 2.06-.94-2.06-.94-.94-2.06-.94 2.06-2.06.94zm-11 1L8.5 8.5l.94-2.06 2.06-.94-2.06-.94L8.5 2.5l-.94 2.06-2.06.94zm10 10l.94 2.06.94-2.06 2.06-.94-2.06-.94-.94-2.06-.94 2.06-2.06.94z\"/><path d=\"M17.41 7.96l-1.37-1.37c-.4-.4-.92-.59-1.43-.59-.52 0-1.04.2-1.43.59L10.3 9.45l-7.72 7.72c-.78.78-.78 2.05 0 2.83L4 21.41c.39.39.9.59 1.41.59.51 0 1.02-.2 1.41-.59l7.78-7.78 2.81-2.81c.8-.78.8-2.07 0-2.86zM5.41 20L4 18.59l7.72-7.72 1.47 1.35L5.41 20z\"/>\n",
              "  </svg>\n",
              "      </button>\n",
              "      \n",
              "  <style>\n",
              "    .colab-df-container {\n",
              "      display:flex;\n",
              "      flex-wrap:wrap;\n",
              "      gap: 12px;\n",
              "    }\n",
              "\n",
              "    .colab-df-convert {\n",
              "      background-color: #E8F0FE;\n",
              "      border: none;\n",
              "      border-radius: 50%;\n",
              "      cursor: pointer;\n",
              "      display: none;\n",
              "      fill: #1967D2;\n",
              "      height: 32px;\n",
              "      padding: 0 0 0 0;\n",
              "      width: 32px;\n",
              "    }\n",
              "\n",
              "    .colab-df-convert:hover {\n",
              "      background-color: #E2EBFA;\n",
              "      box-shadow: 0px 1px 2px rgba(60, 64, 67, 0.3), 0px 1px 3px 1px rgba(60, 64, 67, 0.15);\n",
              "      fill: #174EA6;\n",
              "    }\n",
              "\n",
              "    [theme=dark] .colab-df-convert {\n",
              "      background-color: #3B4455;\n",
              "      fill: #D2E3FC;\n",
              "    }\n",
              "\n",
              "    [theme=dark] .colab-df-convert:hover {\n",
              "      background-color: #434B5C;\n",
              "      box-shadow: 0px 1px 3px 1px rgba(0, 0, 0, 0.15);\n",
              "      filter: drop-shadow(0px 1px 2px rgba(0, 0, 0, 0.3));\n",
              "      fill: #FFFFFF;\n",
              "    }\n",
              "  </style>\n",
              "\n",
              "      <script>\n",
              "        const buttonEl =\n",
              "          document.querySelector('#df-ebe8f010-b20f-4736-9d99-b7e9b4a33e43 button.colab-df-convert');\n",
              "        buttonEl.style.display =\n",
              "          google.colab.kernel.accessAllowed ? 'block' : 'none';\n",
              "\n",
              "        async function convertToInteractive(key) {\n",
              "          const element = document.querySelector('#df-ebe8f010-b20f-4736-9d99-b7e9b4a33e43');\n",
              "          const dataTable =\n",
              "            await google.colab.kernel.invokeFunction('convertToInteractive',\n",
              "                                                     [key], {});\n",
              "          if (!dataTable) return;\n",
              "\n",
              "          const docLinkHtml = 'Like what you see? Visit the ' +\n",
              "            '<a target=\"_blank\" href=https://colab.research.google.com/notebooks/data_table.ipynb>data table notebook</a>'\n",
              "            + ' to learn more about interactive tables.';\n",
              "          element.innerHTML = '';\n",
              "          dataTable['output_type'] = 'display_data';\n",
              "          await google.colab.output.renderOutput(dataTable, element);\n",
              "          const docLink = document.createElement('div');\n",
              "          docLink.innerHTML = docLinkHtml;\n",
              "          element.appendChild(docLink);\n",
              "        }\n",
              "      </script>\n",
              "    </div>\n",
              "  </div>\n",
              "  "
            ]
          },
          "metadata": {},
          "execution_count": 48
        }
      ]
    },
    {
      "cell_type": "code",
      "source": [
        "df.shape"
      ],
      "metadata": {
        "colab": {
          "base_uri": "https://localhost:8080/"
        },
        "id": "M2-KnLIS2y16",
        "outputId": "66e475b6-9fdc-4a71-b18c-c4f1aa83513a"
      },
      "execution_count": 29,
      "outputs": [
        {
          "output_type": "execute_result",
          "data": {
            "text/plain": [
              "(2000, 8)"
            ]
          },
          "metadata": {},
          "execution_count": 29
        }
      ]
    },
    {
      "cell_type": "code",
      "source": [
        "df.columns"
      ],
      "metadata": {
        "colab": {
          "base_uri": "https://localhost:8080/"
        },
        "id": "JmygwAdD2wHM",
        "outputId": "541385be-9f7c-47ed-e4e3-2486da81405d"
      },
      "execution_count": 30,
      "outputs": [
        {
          "output_type": "execute_result",
          "data": {
            "text/plain": [
              "Index(['Wifi 1', 'Wifi 2', 'Wifi 3', 'Wifi 4', 'Wifi 5', 'Wifi 6', 'Wifi 7',\n",
              "       'Room'],\n",
              "      dtype='object')"
            ]
          },
          "metadata": {},
          "execution_count": 30
        }
      ]
    },
    {
      "cell_type": "markdown",
      "source": [
        "***Step 2: Split dataset***"
      ],
      "metadata": {
        "id": "e8wKDCus4b31"
      }
    },
    {
      "cell_type": "code",
      "source": [
        "#Convert Target Variable to one-hot encoding (as there is Room 1,2,3,4)\n",
        "room_dummies = pd.get_dummies(df['Room'])\n",
        "room_dummies"
      ],
      "metadata": {
        "colab": {
          "base_uri": "https://localhost:8080/",
          "height": 423
        },
        "id": "LDETm2hT9BFX",
        "outputId": "e7b44c2c-e5a1-4b66-df86-5708a3eedfc9"
      },
      "execution_count": 49,
      "outputs": [
        {
          "output_type": "execute_result",
          "data": {
            "text/plain": [
              "      1  2  3  4\n",
              "0     1  0  0  0\n",
              "1     1  0  0  0\n",
              "2     1  0  0  0\n",
              "3     1  0  0  0\n",
              "4     1  0  0  0\n",
              "...  .. .. .. ..\n",
              "1995  0  0  0  1\n",
              "1996  0  0  0  1\n",
              "1997  0  0  0  1\n",
              "1998  0  0  0  1\n",
              "1999  0  0  0  1\n",
              "\n",
              "[2000 rows x 4 columns]"
            ],
            "text/html": [
              "\n",
              "  <div id=\"df-751e9c74-e8ea-4154-82f9-d9451f7d28db\">\n",
              "    <div class=\"colab-df-container\">\n",
              "      <div>\n",
              "<style scoped>\n",
              "    .dataframe tbody tr th:only-of-type {\n",
              "        vertical-align: middle;\n",
              "    }\n",
              "\n",
              "    .dataframe tbody tr th {\n",
              "        vertical-align: top;\n",
              "    }\n",
              "\n",
              "    .dataframe thead th {\n",
              "        text-align: right;\n",
              "    }\n",
              "</style>\n",
              "<table border=\"1\" class=\"dataframe\">\n",
              "  <thead>\n",
              "    <tr style=\"text-align: right;\">\n",
              "      <th></th>\n",
              "      <th>1</th>\n",
              "      <th>2</th>\n",
              "      <th>3</th>\n",
              "      <th>4</th>\n",
              "    </tr>\n",
              "  </thead>\n",
              "  <tbody>\n",
              "    <tr>\n",
              "      <th>0</th>\n",
              "      <td>1</td>\n",
              "      <td>0</td>\n",
              "      <td>0</td>\n",
              "      <td>0</td>\n",
              "    </tr>\n",
              "    <tr>\n",
              "      <th>1</th>\n",
              "      <td>1</td>\n",
              "      <td>0</td>\n",
              "      <td>0</td>\n",
              "      <td>0</td>\n",
              "    </tr>\n",
              "    <tr>\n",
              "      <th>2</th>\n",
              "      <td>1</td>\n",
              "      <td>0</td>\n",
              "      <td>0</td>\n",
              "      <td>0</td>\n",
              "    </tr>\n",
              "    <tr>\n",
              "      <th>3</th>\n",
              "      <td>1</td>\n",
              "      <td>0</td>\n",
              "      <td>0</td>\n",
              "      <td>0</td>\n",
              "    </tr>\n",
              "    <tr>\n",
              "      <th>4</th>\n",
              "      <td>1</td>\n",
              "      <td>0</td>\n",
              "      <td>0</td>\n",
              "      <td>0</td>\n",
              "    </tr>\n",
              "    <tr>\n",
              "      <th>...</th>\n",
              "      <td>...</td>\n",
              "      <td>...</td>\n",
              "      <td>...</td>\n",
              "      <td>...</td>\n",
              "    </tr>\n",
              "    <tr>\n",
              "      <th>1995</th>\n",
              "      <td>0</td>\n",
              "      <td>0</td>\n",
              "      <td>0</td>\n",
              "      <td>1</td>\n",
              "    </tr>\n",
              "    <tr>\n",
              "      <th>1996</th>\n",
              "      <td>0</td>\n",
              "      <td>0</td>\n",
              "      <td>0</td>\n",
              "      <td>1</td>\n",
              "    </tr>\n",
              "    <tr>\n",
              "      <th>1997</th>\n",
              "      <td>0</td>\n",
              "      <td>0</td>\n",
              "      <td>0</td>\n",
              "      <td>1</td>\n",
              "    </tr>\n",
              "    <tr>\n",
              "      <th>1998</th>\n",
              "      <td>0</td>\n",
              "      <td>0</td>\n",
              "      <td>0</td>\n",
              "      <td>1</td>\n",
              "    </tr>\n",
              "    <tr>\n",
              "      <th>1999</th>\n",
              "      <td>0</td>\n",
              "      <td>0</td>\n",
              "      <td>0</td>\n",
              "      <td>1</td>\n",
              "    </tr>\n",
              "  </tbody>\n",
              "</table>\n",
              "<p>2000 rows × 4 columns</p>\n",
              "</div>\n",
              "      <button class=\"colab-df-convert\" onclick=\"convertToInteractive('df-751e9c74-e8ea-4154-82f9-d9451f7d28db')\"\n",
              "              title=\"Convert this dataframe to an interactive table.\"\n",
              "              style=\"display:none;\">\n",
              "        \n",
              "  <svg xmlns=\"http://www.w3.org/2000/svg\" height=\"24px\"viewBox=\"0 0 24 24\"\n",
              "       width=\"24px\">\n",
              "    <path d=\"M0 0h24v24H0V0z\" fill=\"none\"/>\n",
              "    <path d=\"M18.56 5.44l.94 2.06.94-2.06 2.06-.94-2.06-.94-.94-2.06-.94 2.06-2.06.94zm-11 1L8.5 8.5l.94-2.06 2.06-.94-2.06-.94L8.5 2.5l-.94 2.06-2.06.94zm10 10l.94 2.06.94-2.06 2.06-.94-2.06-.94-.94-2.06-.94 2.06-2.06.94z\"/><path d=\"M17.41 7.96l-1.37-1.37c-.4-.4-.92-.59-1.43-.59-.52 0-1.04.2-1.43.59L10.3 9.45l-7.72 7.72c-.78.78-.78 2.05 0 2.83L4 21.41c.39.39.9.59 1.41.59.51 0 1.02-.2 1.41-.59l7.78-7.78 2.81-2.81c.8-.78.8-2.07 0-2.86zM5.41 20L4 18.59l7.72-7.72 1.47 1.35L5.41 20z\"/>\n",
              "  </svg>\n",
              "      </button>\n",
              "      \n",
              "  <style>\n",
              "    .colab-df-container {\n",
              "      display:flex;\n",
              "      flex-wrap:wrap;\n",
              "      gap: 12px;\n",
              "    }\n",
              "\n",
              "    .colab-df-convert {\n",
              "      background-color: #E8F0FE;\n",
              "      border: none;\n",
              "      border-radius: 50%;\n",
              "      cursor: pointer;\n",
              "      display: none;\n",
              "      fill: #1967D2;\n",
              "      height: 32px;\n",
              "      padding: 0 0 0 0;\n",
              "      width: 32px;\n",
              "    }\n",
              "\n",
              "    .colab-df-convert:hover {\n",
              "      background-color: #E2EBFA;\n",
              "      box-shadow: 0px 1px 2px rgba(60, 64, 67, 0.3), 0px 1px 3px 1px rgba(60, 64, 67, 0.15);\n",
              "      fill: #174EA6;\n",
              "    }\n",
              "\n",
              "    [theme=dark] .colab-df-convert {\n",
              "      background-color: #3B4455;\n",
              "      fill: #D2E3FC;\n",
              "    }\n",
              "\n",
              "    [theme=dark] .colab-df-convert:hover {\n",
              "      background-color: #434B5C;\n",
              "      box-shadow: 0px 1px 3px 1px rgba(0, 0, 0, 0.15);\n",
              "      filter: drop-shadow(0px 1px 2px rgba(0, 0, 0, 0.3));\n",
              "      fill: #FFFFFF;\n",
              "    }\n",
              "  </style>\n",
              "\n",
              "      <script>\n",
              "        const buttonEl =\n",
              "          document.querySelector('#df-751e9c74-e8ea-4154-82f9-d9451f7d28db button.colab-df-convert');\n",
              "        buttonEl.style.display =\n",
              "          google.colab.kernel.accessAllowed ? 'block' : 'none';\n",
              "\n",
              "        async function convertToInteractive(key) {\n",
              "          const element = document.querySelector('#df-751e9c74-e8ea-4154-82f9-d9451f7d28db');\n",
              "          const dataTable =\n",
              "            await google.colab.kernel.invokeFunction('convertToInteractive',\n",
              "                                                     [key], {});\n",
              "          if (!dataTable) return;\n",
              "\n",
              "          const docLinkHtml = 'Like what you see? Visit the ' +\n",
              "            '<a target=\"_blank\" href=https://colab.research.google.com/notebooks/data_table.ipynb>data table notebook</a>'\n",
              "            + ' to learn more about interactive tables.';\n",
              "          element.innerHTML = '';\n",
              "          dataTable['output_type'] = 'display_data';\n",
              "          await google.colab.output.renderOutput(dataTable, element);\n",
              "          const docLink = document.createElement('div');\n",
              "          docLink.innerHTML = docLinkHtml;\n",
              "          element.appendChild(docLink);\n",
              "        }\n",
              "      </script>\n",
              "    </div>\n",
              "  </div>\n",
              "  "
            ]
          },
          "metadata": {},
          "execution_count": 49
        }
      ]
    },
    {
      "cell_type": "code",
      "source": [
        "# Extract features and target variable\n",
        "X = df.drop('Room', axis =1 )\n",
        "Y = room_dummies"
      ],
      "metadata": {
        "id": "WOgSBS5s3WBZ"
      },
      "execution_count": 50,
      "outputs": []
    },
    {
      "cell_type": "code",
      "source": [
        "# Split dataset into training and testing sets\n",
        "X_train, X_test, Y_train, Y_test = train_test_split(X,Y,test_size = 0.20, random_state =0)\n",
        "\n",
        "print(\"X_train shape\", X_train.shape)\n",
        "print(\"y_train shape\", Y_train.shape)\n",
        "print(\"X_test shape\", X_test.shape)\n",
        "print(\"y_test shape\", Y_test.shape)\n",
        "\n",
        "# SPlit into 80/20"
      ],
      "metadata": {
        "colab": {
          "base_uri": "https://localhost:8080/"
        },
        "id": "-KtvyNtJ4wyn",
        "outputId": "1a29e147-164d-495a-e323-3934de05ad05"
      },
      "execution_count": 51,
      "outputs": [
        {
          "output_type": "stream",
          "name": "stdout",
          "text": [
            "X_train shape (1600, 7)\n",
            "y_train shape (1600, 4)\n",
            "X_test shape (400, 7)\n",
            "y_test shape (400, 4)\n"
          ]
        }
      ]
    },
    {
      "cell_type": "code",
      "source": [
        "# Normalisation\n",
        "from sklearn.preprocessing import StandardScaler\n",
        "scaler = StandardScaler()\n",
        "\n",
        "X_train = scaler.fit_transform(X_train)\n",
        "X_test = scaler.transform(X_test)"
      ],
      "metadata": {
        "id": "T4Uru50P4xnc"
      },
      "execution_count": 52,
      "outputs": []
    },
    {
      "cell_type": "markdown",
      "source": [
        "***Step 3: Build the sequential model***"
      ],
      "metadata": {
        "id": "xDV5MJOD5ESs"
      }
    },
    {
      "cell_type": "code",
      "source": [
        "from keras.models import Sequential\n",
        "from keras.layers import Dense\n",
        "\n",
        "# Building the sequential model \n",
        "# Define CNN model\n",
        "\n",
        "L1=100\n",
        "L2=100\n",
        "\n",
        "model = Sequential()\n",
        "model.add(Dense(L1,input_dim=7,activation='relu')) #for first hidden layer\n",
        "model.add(Dense(L2,activation='relu')) #for second hidden layer\n",
        "\n",
        "# output later\n",
        "model.add(Dense(4,activation='softmax')) #the output layer of your neural network has four neurons (4rooms, use softmax as is multi-class classification)"
      ],
      "metadata": {
        "id": "vPG1-Rkg5BfJ"
      },
      "execution_count": 53,
      "outputs": []
    },
    {
      "cell_type": "code",
      "source": [
        "# compiling the sequential model\n",
        "model.compile(loss='categorical_crossentropy', metrics=['accuracy'], optimizer='adam')"
      ],
      "metadata": {
        "id": "uFiuqE2N5n3d"
      },
      "execution_count": 54,
      "outputs": []
    },
    {
      "cell_type": "code",
      "source": [
        "# Train the model\n",
        "history = model.fit(X_train, Y_train, epochs=25, batch_size=100,\n",
        "                    validation_data=(X_test, Y_test))"
      ],
      "metadata": {
        "colab": {
          "base_uri": "https://localhost:8080/"
        },
        "id": "pebNc6Cm52x1",
        "outputId": "1f61906e-d339-45f1-d3e2-e751ab70e79e"
      },
      "execution_count": 55,
      "outputs": [
        {
          "output_type": "stream",
          "name": "stdout",
          "text": [
            "Epoch 1/25\n",
            "16/16 [==============================] - 1s 17ms/step - loss: 1.1593 - accuracy: 0.5719 - val_loss: 0.8602 - val_accuracy: 0.7775\n",
            "Epoch 2/25\n",
            "16/16 [==============================] - 0s 4ms/step - loss: 0.6517 - accuracy: 0.8475 - val_loss: 0.5012 - val_accuracy: 0.8600\n",
            "Epoch 3/25\n",
            "16/16 [==============================] - 0s 4ms/step - loss: 0.3767 - accuracy: 0.9275 - val_loss: 0.3191 - val_accuracy: 0.9300\n",
            "Epoch 4/25\n",
            "16/16 [==============================] - 0s 4ms/step - loss: 0.2381 - accuracy: 0.9575 - val_loss: 0.2206 - val_accuracy: 0.9475\n",
            "Epoch 5/25\n",
            "16/16 [==============================] - 0s 4ms/step - loss: 0.1660 - accuracy: 0.9631 - val_loss: 0.1746 - val_accuracy: 0.9525\n",
            "Epoch 6/25\n",
            "16/16 [==============================] - 0s 4ms/step - loss: 0.1304 - accuracy: 0.9650 - val_loss: 0.1468 - val_accuracy: 0.9575\n",
            "Epoch 7/25\n",
            "16/16 [==============================] - 0s 3ms/step - loss: 0.1101 - accuracy: 0.9681 - val_loss: 0.1266 - val_accuracy: 0.9550\n",
            "Epoch 8/25\n",
            "16/16 [==============================] - 0s 3ms/step - loss: 0.0973 - accuracy: 0.9694 - val_loss: 0.1165 - val_accuracy: 0.9675\n",
            "Epoch 9/25\n",
            "16/16 [==============================] - 0s 5ms/step - loss: 0.0883 - accuracy: 0.9750 - val_loss: 0.1068 - val_accuracy: 0.9700\n",
            "Epoch 10/25\n",
            "16/16 [==============================] - 0s 4ms/step - loss: 0.0814 - accuracy: 0.9750 - val_loss: 0.0938 - val_accuracy: 0.9675\n",
            "Epoch 11/25\n",
            "16/16 [==============================] - 0s 4ms/step - loss: 0.0755 - accuracy: 0.9762 - val_loss: 0.0930 - val_accuracy: 0.9750\n",
            "Epoch 12/25\n",
            "16/16 [==============================] - 0s 7ms/step - loss: 0.0720 - accuracy: 0.9762 - val_loss: 0.0831 - val_accuracy: 0.9725\n",
            "Epoch 13/25\n",
            "16/16 [==============================] - 0s 6ms/step - loss: 0.0664 - accuracy: 0.9775 - val_loss: 0.0778 - val_accuracy: 0.9725\n",
            "Epoch 14/25\n",
            "16/16 [==============================] - 0s 6ms/step - loss: 0.0628 - accuracy: 0.9775 - val_loss: 0.0768 - val_accuracy: 0.9750\n",
            "Epoch 15/25\n",
            "16/16 [==============================] - 0s 6ms/step - loss: 0.0602 - accuracy: 0.9781 - val_loss: 0.0678 - val_accuracy: 0.9750\n",
            "Epoch 16/25\n",
            "16/16 [==============================] - 0s 5ms/step - loss: 0.0569 - accuracy: 0.9787 - val_loss: 0.0700 - val_accuracy: 0.9725\n",
            "Epoch 17/25\n",
            "16/16 [==============================] - 0s 6ms/step - loss: 0.0540 - accuracy: 0.9794 - val_loss: 0.0627 - val_accuracy: 0.9750\n",
            "Epoch 18/25\n",
            "16/16 [==============================] - 0s 6ms/step - loss: 0.0522 - accuracy: 0.9812 - val_loss: 0.0648 - val_accuracy: 0.9775\n",
            "Epoch 19/25\n",
            "16/16 [==============================] - 0s 5ms/step - loss: 0.0504 - accuracy: 0.9819 - val_loss: 0.0591 - val_accuracy: 0.9750\n",
            "Epoch 20/25\n",
            "16/16 [==============================] - 0s 7ms/step - loss: 0.0479 - accuracy: 0.9819 - val_loss: 0.0593 - val_accuracy: 0.9750\n",
            "Epoch 21/25\n",
            "16/16 [==============================] - 0s 5ms/step - loss: 0.0469 - accuracy: 0.9825 - val_loss: 0.0535 - val_accuracy: 0.9775\n",
            "Epoch 22/25\n",
            "16/16 [==============================] - 0s 5ms/step - loss: 0.0455 - accuracy: 0.9825 - val_loss: 0.0552 - val_accuracy: 0.9800\n",
            "Epoch 23/25\n",
            "16/16 [==============================] - 0s 6ms/step - loss: 0.0430 - accuracy: 0.9837 - val_loss: 0.0520 - val_accuracy: 0.9775\n",
            "Epoch 24/25\n",
            "16/16 [==============================] - 0s 6ms/step - loss: 0.0420 - accuracy: 0.9844 - val_loss: 0.0494 - val_accuracy: 0.9800\n",
            "Epoch 25/25\n",
            "16/16 [==============================] - 0s 5ms/step - loss: 0.0401 - accuracy: 0.9856 - val_loss: 0.0513 - val_accuracy: 0.9750\n"
          ]
        }
      ]
    },
    {
      "cell_type": "markdown",
      "source": [
        "***Step 4: Visualize the graph***"
      ],
      "metadata": {
        "id": "HseJcdTJ6GLc"
      }
    },
    {
      "cell_type": "code",
      "source": [
        "import matplotlib.pyplot as plt\n",
        "\n",
        "acc2 =history.history['accuracy']\n",
        "val_acc = history.history['val_accuracy']\n",
        "loss2 = history.history['loss']\n",
        "val_loss = history.history['val_loss']\n",
        "epochs = range(1,len(acc2)+1)\n",
        "\n",
        "\n",
        "plt.plot(epochs, acc2,'b',label='Train Accuracy')\n",
        "plt.plot(epochs, val_acc,'r',label='Test Accuracy')\n",
        "plt.legend()\n",
        "plt.figure()\n",
        "\n",
        "\n",
        "plt.plot(epochs, loss2,'b',label='Train Loss')\n",
        "plt.plot(epochs, val_loss,'r',label='Test Loss')\n",
        "plt.legend()\n",
        "plt.show()"
      ],
      "metadata": {
        "colab": {
          "base_uri": "https://localhost:8080/",
          "height": 516
        },
        "id": "r6r9dnG56F49",
        "outputId": "49519a62-e4e6-464b-aa0d-e9d4da10e092"
      },
      "execution_count": 56,
      "outputs": [
        {
          "output_type": "display_data",
          "data": {
            "text/plain": [
              "<Figure size 432x288 with 1 Axes>"
            ],
            "image/png": "[encoded data removed]"
          },
          "metadata": {
            "needs_background": "light"
          }
        },
        {
          "output_type": "display_data",
          "data": {
            "text/plain": [
              "<Figure size 432x288 with 1 Axes>"
            ],
            "image/png": "[encoded data removed]"
          },
          "metadata": {
            "needs_background": "light"
          }
        }
      ]
    },
    {
      "cell_type": "code",
      "source": [],
      "metadata": {
        "id": "UjY2jrlZ64UW"
      },
      "execution_count": null,
      "outputs": []
    }
  ]
}