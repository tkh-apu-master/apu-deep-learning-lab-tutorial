{
  "nbformat": 4,
  "nbformat_minor": 0,
  "metadata": {
    "colab": {
      "provenance": []
    },
    "kernelspec": {
      "name": "python3",
      "display_name": "Python 3"
    },
    "language_info": {
      "name": "python"
    }
  },
  "cells": [
    {
      "cell_type": "markdown",
      "source": [
        "#Exercise\n",
        "Estimate the location from WIFI signal strength\n",
        "\n",
        "the dataset has 2000 rows and 8 columns. The data contain wifi signal strength observed from 7 wifi devices on smartphone collected in an indoor space which could be used to estimate the location in one of four rooms\n",
        "\n",
        "can use ANN"
      ],
      "metadata": {
        "id": "NYISALSgLpup"
      }
    },
    {
      "cell_type": "code",
      "execution_count": 1,
      "metadata": {
        "colab": {
          "base_uri": "https://localhost:8080/"
        },
        "id": "1wQGNXRaLouJ",
        "outputId": "f5be3748-6af9-4c31-d125-2b7f6a82939e"
      },
      "outputs": [
        {
          "output_type": "stream",
          "name": "stdout",
          "text": [
            "Mounted at /drive\n"
          ]
        }
      ],
      "source": [
        "from google.colab import drive\n",
        "drive.mount('/drive')"
      ]
    },
    {
      "cell_type": "code",
      "source": [
        "#Importing Libraries\n",
        "import numpy as np #numpy is numeric python- use for math function\n",
        "import pandas as pd #pandas is dataset dataframe and etc \n",
        "import matplotlib.pyplot as plt\n",
        "from sklearn.model_selection import train_test_split"
      ],
      "metadata": {
        "id": "KfXEKn0S5xaN"
      },
      "execution_count": 23,
      "outputs": []
    },
    {
      "cell_type": "code",
      "source": [
        "path = '/drive/My Drive/Colab Notebooks/wifi.csv' #/drive/MyDrive/Colab Notebooks/Data (1).csv\n",
        "df= pd.read_csv(path)"
      ],
      "metadata": {
        "id": "1Xiep1l55RvD"
      },
      "execution_count": 5,
      "outputs": []
    },
    {
      "cell_type": "code",
      "source": [
        "X= data.drop('Room', axis=1)\n",
        "Y= pd.get_dummies(data['Room']).values"
      ],
      "metadata": {
        "id": "wnN9VJ3n7YOu"
      },
      "execution_count": 84,
      "outputs": []
    },
    {
      "cell_type": "code",
      "source": [
        "X_train, X_test, y_train, y_test= train_test_split(X, Y, test_size= 0.30,\n",
        "                                                   random_state= 10)\n",
        "\n",
        "print ('X_train shape', X_train.shape) \n",
        "print ('y_train shape', y_train.shape)\n",
        "print ('X_test shape', X_test.shape)\n",
        "print ('y_test shape', y_test.shape)"
      ],
      "metadata": {
        "colab": {
          "base_uri": "https://localhost:8080/"
        },
        "id": "t0z9Zmtz9cP7",
        "outputId": "e843b9ce-af61-47db-ae63-a665560e0126"
      },
      "execution_count": 85,
      "outputs": [
        {
          "output_type": "stream",
          "name": "stdout",
          "text": [
            "X_train shape (1400, 7)\n",
            "y_train shape (1400, 4)\n",
            "X_test shape (600, 7)\n",
            "y_test shape (600, 4)\n"
          ]
        }
      ]
    },
    {
      "cell_type": "code",
      "source": [
        "from keras.models import Sequential \n",
        "from keras.layers import Dense "
      ],
      "metadata": {
        "id": "dwInLhT8-Flr"
      },
      "execution_count": 57,
      "outputs": []
    },
    {
      "cell_type": "code",
      "source": [
        "L1= 100 \n",
        "L2= 100\n",
        "\n",
        "model= Sequential()\n",
        "model.add(Dense(L1, input_dim=7, activation= 'relu')) \n",
        "model.add(Dense(L2, activation= 'relu')) \n",
        "\n",
        "#output layer\n",
        "model.add(Dense(4, activation= 'softmax'))"
      ],
      "metadata": {
        "id": "8AIsKbUV-JGQ"
      },
      "execution_count": 98,
      "outputs": []
    },
    {
      "cell_type": "code",
      "source": [
        "#Compiling the sequential model\n",
        "model.compile(loss= 'categorical_crossentropy', metrics= ['accuracy'], optimizer = 'adam')"
      ],
      "metadata": {
        "id": "08Vs7yZU-hRi"
      },
      "execution_count": 99,
      "outputs": []
    },
    {
      "cell_type": "code",
      "source": [
        "#Training the model for 10 epochs\n",
        "model.fit(X_train, y_train, epochs=10, batch_size= 100,\n",
        "                   validation_data=(X_test, y_test)) "
      ],
      "metadata": {
        "colab": {
          "base_uri": "https://localhost:8080/"
        },
        "id": "AwKGzMHB-jzF",
        "outputId": "896dd449-2c7b-4632-cc1c-800d66048dd0"
      },
      "execution_count": 101,
      "outputs": [
        {
          "output_type": "stream",
          "name": "stdout",
          "text": [
            "Epoch 1/10\n",
            "14/14 [==============================] - 0s 8ms/step - loss: 0.0724 - accuracy: 0.9729 - val_loss: 0.0674 - val_accuracy: 0.9700\n",
            "Epoch 2/10\n",
            "14/14 [==============================] - 0s 6ms/step - loss: 0.0534 - accuracy: 0.9786 - val_loss: 0.0672 - val_accuracy: 0.9717\n",
            "Epoch 3/10\n",
            "14/14 [==============================] - 0s 6ms/step - loss: 0.0629 - accuracy: 0.9779 - val_loss: 0.0761 - val_accuracy: 0.9667\n",
            "Epoch 4/10\n",
            "14/14 [==============================] - 0s 6ms/step - loss: 0.0533 - accuracy: 0.9807 - val_loss: 0.0788 - val_accuracy: 0.9750\n",
            "Epoch 5/10\n",
            "14/14 [==============================] - 0s 5ms/step - loss: 0.0549 - accuracy: 0.9836 - val_loss: 0.0797 - val_accuracy: 0.9717\n",
            "Epoch 6/10\n",
            "14/14 [==============================] - 0s 5ms/step - loss: 0.0562 - accuracy: 0.9793 - val_loss: 0.0655 - val_accuracy: 0.9733\n",
            "Epoch 7/10\n",
            "14/14 [==============================] - 0s 5ms/step - loss: 0.0487 - accuracy: 0.9829 - val_loss: 0.0666 - val_accuracy: 0.9700\n",
            "Epoch 8/10\n",
            "14/14 [==============================] - 0s 6ms/step - loss: 0.0523 - accuracy: 0.9843 - val_loss: 0.0722 - val_accuracy: 0.9733\n",
            "Epoch 9/10\n",
            "14/14 [==============================] - 0s 5ms/step - loss: 0.0531 - accuracy: 0.9807 - val_loss: 0.0703 - val_accuracy: 0.9767\n",
            "Epoch 10/10\n",
            "14/14 [==============================] - 0s 6ms/step - loss: 0.0506 - accuracy: 0.9807 - val_loss: 0.0847 - val_accuracy: 0.9700\n"
          ]
        },
        {
          "output_type": "execute_result",
          "data": {
            "text/plain": [
              "<keras.callbacks.History at 0x7fbf8d3823a0>"
            ]
          },
          "metadata": {},
          "execution_count": 101
        }
      ]
    }
  ]
}