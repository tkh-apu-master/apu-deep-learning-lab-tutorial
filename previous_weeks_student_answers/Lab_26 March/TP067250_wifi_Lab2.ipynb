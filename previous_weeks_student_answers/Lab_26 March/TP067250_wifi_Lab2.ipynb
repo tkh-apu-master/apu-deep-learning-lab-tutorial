{
 "cells": [
  {
   "cell_type": "code",
   "execution_count": 1,
   "id": "45de21de-f3a3-4265-ad59-2bee0674f839",
   "metadata": {
    "tags": []
   },
   "outputs": [],
   "source": [
    "import pandas as pd\n",
    "import matplotlib.pyplot as plt\n",
    "import numpy as np"
   ]
  },
  {
   "cell_type": "code",
   "execution_count": 2,
   "id": "8268566e-41de-410b-a05c-3247fef691e6",
   "metadata": {
    "tags": []
   },
   "outputs": [],
   "source": [
    "wifi = pd.read_csv('wifi.csv')"
   ]
  },
  {
   "cell_type": "code",
   "execution_count": 3,
   "id": "e472aaa8-8985-49c9-a198-86524994fd5c",
   "metadata": {
    "tags": []
   },
   "outputs": [
    {
     "data": {
      "text/html": [
       "<div>\n",
       "<style scoped>\n",
       "    .dataframe tbody tr th:only-of-type {\n",
       "        vertical-align: middle;\n",
       "    }\n",
       "\n",
       "    .dataframe tbody tr th {\n",
       "        vertical-align: top;\n",
       "    }\n",
       "\n",
       "    .dataframe thead th {\n",
       "        text-align: right;\n",
       "    }\n",
       "</style>\n",
       "<table border=\"1\" class=\"dataframe\">\n",
       "  <thead>\n",
       "    <tr style=\"text-align: right;\">\n",
       "      <th></th>\n",
       "      <th>Wifi 1</th>\n",
       "      <th>Wifi 2</th>\n",
       "      <th>Wifi 3</th>\n",
       "      <th>Wifi 4</th>\n",
       "      <th>Wifi 5</th>\n",
       "      <th>Wifi 6</th>\n",
       "      <th>Wifi 7</th>\n",
       "      <th>Room</th>\n",
       "    </tr>\n",
       "  </thead>\n",
       "  <tbody>\n",
       "    <tr>\n",
       "      <th>0</th>\n",
       "      <td>-64</td>\n",
       "      <td>-56</td>\n",
       "      <td>-61</td>\n",
       "      <td>-66</td>\n",
       "      <td>-71</td>\n",
       "      <td>-82</td>\n",
       "      <td>-81</td>\n",
       "      <td>1</td>\n",
       "    </tr>\n",
       "    <tr>\n",
       "      <th>1</th>\n",
       "      <td>-68</td>\n",
       "      <td>-57</td>\n",
       "      <td>-61</td>\n",
       "      <td>-65</td>\n",
       "      <td>-71</td>\n",
       "      <td>-85</td>\n",
       "      <td>-85</td>\n",
       "      <td>1</td>\n",
       "    </tr>\n",
       "    <tr>\n",
       "      <th>2</th>\n",
       "      <td>-63</td>\n",
       "      <td>-60</td>\n",
       "      <td>-60</td>\n",
       "      <td>-67</td>\n",
       "      <td>-76</td>\n",
       "      <td>-85</td>\n",
       "      <td>-84</td>\n",
       "      <td>1</td>\n",
       "    </tr>\n",
       "    <tr>\n",
       "      <th>3</th>\n",
       "      <td>-61</td>\n",
       "      <td>-60</td>\n",
       "      <td>-68</td>\n",
       "      <td>-62</td>\n",
       "      <td>-77</td>\n",
       "      <td>-90</td>\n",
       "      <td>-80</td>\n",
       "      <td>1</td>\n",
       "    </tr>\n",
       "    <tr>\n",
       "      <th>4</th>\n",
       "      <td>-63</td>\n",
       "      <td>-65</td>\n",
       "      <td>-60</td>\n",
       "      <td>-63</td>\n",
       "      <td>-77</td>\n",
       "      <td>-81</td>\n",
       "      <td>-87</td>\n",
       "      <td>1</td>\n",
       "    </tr>\n",
       "    <tr>\n",
       "      <th>5</th>\n",
       "      <td>-64</td>\n",
       "      <td>-55</td>\n",
       "      <td>-63</td>\n",
       "      <td>-66</td>\n",
       "      <td>-76</td>\n",
       "      <td>-88</td>\n",
       "      <td>-83</td>\n",
       "      <td>1</td>\n",
       "    </tr>\n",
       "    <tr>\n",
       "      <th>6</th>\n",
       "      <td>-65</td>\n",
       "      <td>-61</td>\n",
       "      <td>-65</td>\n",
       "      <td>-67</td>\n",
       "      <td>-69</td>\n",
       "      <td>-87</td>\n",
       "      <td>-84</td>\n",
       "      <td>1</td>\n",
       "    </tr>\n",
       "    <tr>\n",
       "      <th>7</th>\n",
       "      <td>-61</td>\n",
       "      <td>-63</td>\n",
       "      <td>-58</td>\n",
       "      <td>-66</td>\n",
       "      <td>-74</td>\n",
       "      <td>-87</td>\n",
       "      <td>-82</td>\n",
       "      <td>1</td>\n",
       "    </tr>\n",
       "    <tr>\n",
       "      <th>8</th>\n",
       "      <td>-65</td>\n",
       "      <td>-60</td>\n",
       "      <td>-59</td>\n",
       "      <td>-63</td>\n",
       "      <td>-76</td>\n",
       "      <td>-86</td>\n",
       "      <td>-82</td>\n",
       "      <td>1</td>\n",
       "    </tr>\n",
       "    <tr>\n",
       "      <th>9</th>\n",
       "      <td>-62</td>\n",
       "      <td>-60</td>\n",
       "      <td>-66</td>\n",
       "      <td>-68</td>\n",
       "      <td>-80</td>\n",
       "      <td>-86</td>\n",
       "      <td>-91</td>\n",
       "      <td>1</td>\n",
       "    </tr>\n",
       "  </tbody>\n",
       "</table>\n",
       "</div>"
      ],
      "text/plain": [
       "   Wifi 1  Wifi 2  Wifi 3  Wifi 4  Wifi 5  Wifi 6  Wifi 7  Room\n",
       "0     -64     -56     -61     -66     -71     -82     -81     1\n",
       "1     -68     -57     -61     -65     -71     -85     -85     1\n",
       "2     -63     -60     -60     -67     -76     -85     -84     1\n",
       "3     -61     -60     -68     -62     -77     -90     -80     1\n",
       "4     -63     -65     -60     -63     -77     -81     -87     1\n",
       "5     -64     -55     -63     -66     -76     -88     -83     1\n",
       "6     -65     -61     -65     -67     -69     -87     -84     1\n",
       "7     -61     -63     -58     -66     -74     -87     -82     1\n",
       "8     -65     -60     -59     -63     -76     -86     -82     1\n",
       "9     -62     -60     -66     -68     -80     -86     -91     1"
      ]
     },
     "execution_count": 3,
     "metadata": {},
     "output_type": "execute_result"
    }
   ],
   "source": [
    "wifi.head(10)"
   ]
  },
  {
   "cell_type": "code",
   "execution_count": 4,
   "id": "2e797b3b-eafb-4271-9184-d075abdfbaa4",
   "metadata": {
    "tags": []
   },
   "outputs": [],
   "source": [
    "X = wifi.drop('Room', axis = 1)\n",
    "Y= wifi['Room']"
   ]
  },
  {
   "cell_type": "code",
   "execution_count": 5,
   "id": "70d7deea-0f13-48e3-8bba-74ceda8c9887",
   "metadata": {
    "tags": []
   },
   "outputs": [],
   "source": [
    "from sklearn.preprocessing import StandardScaler, LabelEncoder, OneHotEncoder\n",
    "from keras.utils import to_categorical\n",
    "\n",
    "le = LabelEncoder()\n",
    "Y = le.fit_transform(Y)\n",
    "\n",
    "ohe = OneHotEncoder()\n",
    "Y = ohe.fit_transform(Y.reshape(-1, 1)).toarray()"
   ]
  },
  {
   "cell_type": "code",
   "execution_count": 6,
   "id": "8597892d-1d6b-4d3a-a10e-83d7120cf277",
   "metadata": {
    "tags": []
   },
   "outputs": [
    {
     "data": {
      "text/plain": [
       "array([[1., 0., 0., 0.],\n",
       "       [1., 0., 0., 0.],\n",
       "       [1., 0., 0., 0.],\n",
       "       ...,\n",
       "       [0., 0., 0., 1.],\n",
       "       [0., 0., 0., 1.],\n",
       "       [0., 0., 0., 1.]])"
      ]
     },
     "execution_count": 6,
     "metadata": {},
     "output_type": "execute_result"
    }
   ],
   "source": [
    "Y"
   ]
  },
  {
   "cell_type": "code",
   "execution_count": 7,
   "id": "f0913c45-48d1-4e7e-ae0a-99c571493dc4",
   "metadata": {
    "tags": []
   },
   "outputs": [],
   "source": [
    "from sklearn.model_selection import train_test_split\n",
    "\n",
    "X_train, X_test, y_train, y_test = train_test_split(X, Y, test_size = 0.2, random_state = 0)"
   ]
  },
  {
   "cell_type": "code",
   "execution_count": 8,
   "id": "8876a232-2233-4ff1-a807-d34f922295c1",
   "metadata": {
    "tags": []
   },
   "outputs": [],
   "source": [
    "from sklearn.preprocessing import StandardScaler\n",
    "\n",
    "scaler = StandardScaler()\n",
    "\n",
    "X_train = scaler.fit_transform(X_train)\n",
    "X_test = scaler.fit_transform(X_test)"
   ]
  },
  {
   "cell_type": "code",
   "execution_count": 9,
   "id": "08de5cc4-0e41-41d9-b37d-69898dec88cd",
   "metadata": {
    "tags": []
   },
   "outputs": [],
   "source": [
    "from keras.models import Sequential\n",
    "from keras.layers import Dense\n",
    "from keras import initializers\n",
    "from keras import regularizers"
   ]
  },
  {
   "cell_type": "code",
   "execution_count": 10,
   "id": "7834def9-7fa5-4055-807e-983f43fdc509",
   "metadata": {
    "tags": []
   },
   "outputs": [],
   "source": [
    "L1 = 256\n",
    "L2 = 128\n",
    "\n",
    "model = Sequential()\n",
    "model.add(Dense(L1, input_dim = 7, activation = 'relu',\n",
    "               kernel_initializer = 'he_normal',\n",
    "               kernel_regularizer = regularizers.l2(0.01)))\n",
    "model.add(Dense(L2, activation='softmax'))\n",
    "\n",
    "# output layer\n",
    "model.add(Dense(4, activation = 'softmax'))"
   ]
  },
  {
   "cell_type": "code",
   "execution_count": 11,
   "id": "7df0385d-5e06-47b7-8797-6f0a96e1bc31",
   "metadata": {
    "tags": []
   },
   "outputs": [],
   "source": [
    "model.compile(loss ='categorical_crossentropy', metrics = ['accuracy'], optimizer = 'adam')"
   ]
  },
  {
   "cell_type": "code",
   "execution_count": 12,
   "id": "37cc3c39-61ea-47c8-b6ea-c104c17e6ded",
   "metadata": {
    "tags": []
   },
   "outputs": [
    {
     "name": "stdout",
     "output_type": "stream",
     "text": [
      "Epoch 1/50\n",
      "16/16 [==============================] - 1s 14ms/step - loss: 6.3221 - accuracy: 0.6675 - val_loss: 6.1466 - val_accuracy: 0.8700\n",
      "Epoch 2/50\n",
      "16/16 [==============================] - 0s 4ms/step - loss: 6.0001 - accuracy: 0.9156 - val_loss: 5.8420 - val_accuracy: 0.9225\n",
      "Epoch 3/50\n",
      "16/16 [==============================] - 0s 4ms/step - loss: 5.7023 - accuracy: 0.9444 - val_loss: 5.5577 - val_accuracy: 0.9425\n",
      "Epoch 4/50\n",
      "16/16 [==============================] - 0s 3ms/step - loss: 5.4301 - accuracy: 0.9600 - val_loss: 5.3008 - val_accuracy: 0.9550\n",
      "Epoch 5/50\n",
      "16/16 [==============================] - 0s 3ms/step - loss: 5.1823 - accuracy: 0.9669 - val_loss: 5.0631 - val_accuracy: 0.9575\n",
      "Epoch 6/50\n",
      "16/16 [==============================] - 0s 4ms/step - loss: 4.9507 - accuracy: 0.9675 - val_loss: 4.8400 - val_accuracy: 0.9625\n",
      "Epoch 7/50\n",
      "16/16 [==============================] - 0s 3ms/step - loss: 4.7326 - accuracy: 0.9669 - val_loss: 4.6287 - val_accuracy: 0.9575\n",
      "Epoch 8/50\n",
      "16/16 [==============================] - 0s 3ms/step - loss: 4.5250 - accuracy: 0.9700 - val_loss: 4.4277 - val_accuracy: 0.9600\n",
      "Epoch 9/50\n",
      "16/16 [==============================] - 0s 3ms/step - loss: 4.3277 - accuracy: 0.9688 - val_loss: 4.2362 - val_accuracy: 0.9625\n",
      "Epoch 10/50\n",
      "16/16 [==============================] - 0s 3ms/step - loss: 4.1397 - accuracy: 0.9706 - val_loss: 4.0538 - val_accuracy: 0.9600\n",
      "Epoch 11/50\n",
      "16/16 [==============================] - 0s 4ms/step - loss: 3.9602 - accuracy: 0.9725 - val_loss: 3.8794 - val_accuracy: 0.9575\n",
      "Epoch 12/50\n",
      "16/16 [==============================] - 0s 3ms/step - loss: 3.7889 - accuracy: 0.9744 - val_loss: 3.7124 - val_accuracy: 0.9600\n",
      "Epoch 13/50\n",
      "16/16 [==============================] - 0s 3ms/step - loss: 3.6258 - accuracy: 0.9750 - val_loss: 3.5535 - val_accuracy: 0.9650\n",
      "Epoch 14/50\n",
      "16/16 [==============================] - 0s 3ms/step - loss: 3.4707 - accuracy: 0.9731 - val_loss: 3.4029 - val_accuracy: 0.9650\n",
      "Epoch 15/50\n",
      "16/16 [==============================] - 0s 3ms/step - loss: 3.3219 - accuracy: 0.9750 - val_loss: 3.2580 - val_accuracy: 0.9700\n",
      "Epoch 16/50\n",
      "16/16 [==============================] - 0s 3ms/step - loss: 3.1808 - accuracy: 0.9756 - val_loss: 3.1202 - val_accuracy: 0.9725\n",
      "Epoch 17/50\n",
      "16/16 [==============================] - 0s 3ms/step - loss: 3.0463 - accuracy: 0.9769 - val_loss: 2.9894 - val_accuracy: 0.9725\n",
      "Epoch 18/50\n",
      "16/16 [==============================] - 0s 3ms/step - loss: 2.9176 - accuracy: 0.9775 - val_loss: 2.8641 - val_accuracy: 0.9725\n",
      "Epoch 19/50\n",
      "16/16 [==============================] - 0s 3ms/step - loss: 2.7948 - accuracy: 0.9775 - val_loss: 2.7446 - val_accuracy: 0.9725\n",
      "Epoch 20/50\n",
      "16/16 [==============================] - 0s 3ms/step - loss: 2.6779 - accuracy: 0.9781 - val_loss: 2.6303 - val_accuracy: 0.9700\n",
      "Epoch 21/50\n",
      "16/16 [==============================] - 0s 3ms/step - loss: 2.5662 - accuracy: 0.9781 - val_loss: 2.5212 - val_accuracy: 0.9725\n",
      "Epoch 22/50\n",
      "16/16 [==============================] - 0s 3ms/step - loss: 2.4597 - accuracy: 0.9775 - val_loss: 2.4178 - val_accuracy: 0.9700\n",
      "Epoch 23/50\n",
      "16/16 [==============================] - 0s 3ms/step - loss: 2.3580 - accuracy: 0.9781 - val_loss: 2.3184 - val_accuracy: 0.9675\n",
      "Epoch 24/50\n",
      "16/16 [==============================] - 0s 3ms/step - loss: 2.2604 - accuracy: 0.9787 - val_loss: 2.2234 - val_accuracy: 0.9725\n",
      "Epoch 25/50\n",
      "16/16 [==============================] - 0s 3ms/step - loss: 2.1678 - accuracy: 0.9800 - val_loss: 2.1327 - val_accuracy: 0.9675\n",
      "Epoch 26/50\n",
      "16/16 [==============================] - 0s 4ms/step - loss: 2.0791 - accuracy: 0.9794 - val_loss: 2.0464 - val_accuracy: 0.9700\n",
      "Epoch 27/50\n",
      "16/16 [==============================] - 0s 4ms/step - loss: 1.9944 - accuracy: 0.9787 - val_loss: 1.9636 - val_accuracy: 0.9700\n",
      "Epoch 28/50\n",
      "16/16 [==============================] - 0s 4ms/step - loss: 1.9132 - accuracy: 0.9800 - val_loss: 1.8846 - val_accuracy: 0.9725\n",
      "Epoch 29/50\n",
      "16/16 [==============================] - 0s 3ms/step - loss: 1.8357 - accuracy: 0.9800 - val_loss: 1.8092 - val_accuracy: 0.9750\n",
      "Epoch 30/50\n",
      "16/16 [==============================] - 0s 4ms/step - loss: 1.7618 - accuracy: 0.9800 - val_loss: 1.7366 - val_accuracy: 0.9725\n",
      "Epoch 31/50\n",
      "16/16 [==============================] - 0s 3ms/step - loss: 1.6909 - accuracy: 0.9794 - val_loss: 1.6681 - val_accuracy: 0.9725\n",
      "Epoch 32/50\n",
      "16/16 [==============================] - 0s 3ms/step - loss: 1.6235 - accuracy: 0.9806 - val_loss: 1.6026 - val_accuracy: 0.9750\n",
      "Epoch 33/50\n",
      "16/16 [==============================] - 0s 4ms/step - loss: 1.5586 - accuracy: 0.9794 - val_loss: 1.5392 - val_accuracy: 0.9750\n",
      "Epoch 34/50\n",
      "16/16 [==============================] - 0s 4ms/step - loss: 1.4968 - accuracy: 0.9806 - val_loss: 1.4793 - val_accuracy: 0.9775\n",
      "Epoch 35/50\n",
      "16/16 [==============================] - 0s 3ms/step - loss: 1.4380 - accuracy: 0.9800 - val_loss: 1.4215 - val_accuracy: 0.9775\n",
      "Epoch 36/50\n",
      "16/16 [==============================] - 0s 3ms/step - loss: 1.3816 - accuracy: 0.9819 - val_loss: 1.3675 - val_accuracy: 0.9775\n",
      "Epoch 37/50\n",
      "16/16 [==============================] - 0s 3ms/step - loss: 1.3282 - accuracy: 0.9819 - val_loss: 1.3144 - val_accuracy: 0.9750\n",
      "Epoch 38/50\n",
      "16/16 [==============================] - 0s 4ms/step - loss: 1.2758 - accuracy: 0.9825 - val_loss: 1.2649 - val_accuracy: 0.9750\n",
      "Epoch 39/50\n",
      "16/16 [==============================] - 0s 3ms/step - loss: 1.2268 - accuracy: 0.9844 - val_loss: 1.2161 - val_accuracy: 0.9750\n",
      "Epoch 40/50\n",
      "16/16 [==============================] - 0s 4ms/step - loss: 1.1806 - accuracy: 0.9825 - val_loss: 1.1721 - val_accuracy: 0.9725\n",
      "Epoch 41/50\n",
      "16/16 [==============================] - 0s 4ms/step - loss: 1.1352 - accuracy: 0.9844 - val_loss: 1.1267 - val_accuracy: 0.9750\n",
      "Epoch 42/50\n",
      "16/16 [==============================] - 0s 4ms/step - loss: 1.0924 - accuracy: 0.9850 - val_loss: 1.0856 - val_accuracy: 0.9750\n",
      "Epoch 43/50\n",
      "16/16 [==============================] - 0s 4ms/step - loss: 1.0513 - accuracy: 0.9844 - val_loss: 1.0463 - val_accuracy: 0.9775\n",
      "Epoch 44/50\n",
      "16/16 [==============================] - 0s 3ms/step - loss: 1.0135 - accuracy: 0.9856 - val_loss: 1.0082 - val_accuracy: 0.9725\n",
      "Epoch 45/50\n",
      "16/16 [==============================] - 0s 3ms/step - loss: 0.9762 - accuracy: 0.9819 - val_loss: 0.9713 - val_accuracy: 0.9775\n",
      "Epoch 46/50\n",
      "16/16 [==============================] - 0s 3ms/step - loss: 0.9404 - accuracy: 0.9869 - val_loss: 0.9369 - val_accuracy: 0.9725\n",
      "Epoch 47/50\n",
      "16/16 [==============================] - 0s 4ms/step - loss: 0.9057 - accuracy: 0.9844 - val_loss: 0.9044 - val_accuracy: 0.9725\n",
      "Epoch 48/50\n",
      "16/16 [==============================] - 0s 3ms/step - loss: 0.8733 - accuracy: 0.9850 - val_loss: 0.8720 - val_accuracy: 0.9750\n",
      "Epoch 49/50\n",
      "16/16 [==============================] - 0s 3ms/step - loss: 0.8427 - accuracy: 0.9850 - val_loss: 0.8431 - val_accuracy: 0.9750\n",
      "Epoch 50/50\n",
      "16/16 [==============================] - 0s 3ms/step - loss: 0.8134 - accuracy: 0.9850 - val_loss: 0.8133 - val_accuracy: 0.9775\n"
     ]
    }
   ],
   "source": [
    "hist = model.fit(X_train, y_train, epochs = 50, batch_size = 100, validation_data = (X_test, y_test))"
   ]
  },
  {
   "cell_type": "code",
   "execution_count": 13,
   "id": "1bacee90-4d12-4676-90cb-c5ebad6f10e9",
   "metadata": {
    "tags": []
   },
   "outputs": [
    {
     "data": {
      "image/png": "[encoded data removed]",
      "text/plain": [
       "<Figure size 640x480 with 1 Axes>"
      ]
     },
     "metadata": {},
     "output_type": "display_data"
    },
    {
     "data": {
      "image/png": "[encoded data removed]",
      "text/plain": [
       "<Figure size 640x480 with 1 Axes>"
      ]
     },
     "metadata": {},
     "output_type": "display_data"
    }
   ],
   "source": [
    "acc = hist.history['accuracy']\n",
    "val_acc = hist.history['val_accuracy']\n",
    "loss = hist.history['loss']\n",
    "val_loss = hist.history['val_loss']\n",
    "\n",
    "epochs = range(1, len(acc)+1)\n",
    "\n",
    "plt.plot(epochs, acc, 'b', label = 'Train Accuracy')\n",
    "plt.plot(epochs, val_acc, 'r', label = 'Test Accuracy')\n",
    "plt.legend()\n",
    "plt.figure()\n",
    "\n",
    "plt.plot(epochs, loss, 'b', label = 'Train Loss')\n",
    "plt.plot(epochs, val_loss, 'r', label = 'Test Loss')\n",
    "plt.legend()\n",
    "plt.show()"
   ]
  },
  {
   "cell_type": "code",
   "execution_count": null,
   "id": "5a6e0088-53ee-45d5-ba44-613baf2750d6",
   "metadata": {},
   "outputs": [],
   "source": []
  }
 ],
 "metadata": {
  "kernelspec": {
   "display_name": "Python 3 (ipykernel)",
   "language": "python",
   "name": "python3"
  },
  "language_info": {
   "codemirror_mode": {
    "name": "ipython",
    "version": 3
   },
   "file_extension": ".py",
   "mimetype": "text/x-python",
   "name": "python",
   "nbconvert_exporter": "python",
   "pygments_lexer": "ipython3",
   "version": "3.10.2"
  }
 },
 "nbformat": 4,
 "nbformat_minor": 5
}
