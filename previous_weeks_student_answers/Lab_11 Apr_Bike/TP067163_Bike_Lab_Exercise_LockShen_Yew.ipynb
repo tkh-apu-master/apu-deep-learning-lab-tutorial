{
  "nbformat": 4,
  "nbformat_minor": 0,
  "metadata": {
    "colab": {
      "provenance": [],
      "toc_visible": true
    },
    "kernelspec": {
      "name": "python3",
      "display_name": "Python 3"
    },
    "language_info": {
      "name": "python"
    }
  },
  "cells": [
    {
      "cell_type": "markdown",
      "source": [
        "#Exercise\n",
        "\n",
        "\n",
        "\n",
        "\n",
        "Predict bike rental count (daily) based on the environmental & seasonal settings. This dataset contains the daily count of rental bikes between years 2011 and 2012 in Capital bikeshare system with the corresponding weather and seasonal information. \n",
        "\n",
        "\n",
        "\n",
        "\n",
        "Bike-sharing rental process is highly correlated to the environmental and seasonal settings. For instance, weather conditions, precipitation, day of week, season, hour of the day, etc. can affect the rental behaviors. \n",
        "\n",
        "\n",
        "\n",
        "\n",
        "Conduct the DNN analysis and improve the performance of the model using different archictecture. \n",
        "\n",
        "\n",
        "\n",
        "\n",
        "Columns Details:\n",
        "\n",
        "1. Instant - Record Index\n",
        "\n",
        "2. dteday - Date (Format: YYYY-MM-DD)\n",
        "\n",
        "3. season - Season (1:   springer, 2: summer, 3: fall, 4: winter)\n",
        "\n",
        "4. yr - Year (0: 2011,   1:2012)\n",
        "\n",
        "5. mnth - Month (1 to 12)\n",
        "\n",
        "6. holiday - Weather day is holiday or not\n",
        "\n",
        "7. weekday - Day of the week\n",
        "\n",
        "8. workingday - Working Day: If day is neither weekend nor holiday is 1, otherwise is 0\n",
        "\n",
        "9. weathersit - Weather Situation (1: Clear/Few clouds; 2: Mist/Cloudy; 3: Light Snow/Light Rain; 4: Heavy Rain/Ice Pallets/Thunderstorm/Snow)\n",
        "\n",
        "10. temp - Normalized temperature in Celsius. \n",
        "\n",
        "11. atemp - Normalized feeling temperature in Celsius. \n",
        "\n",
        "12. hum - Normalized humidity. \n",
        "\n",
        "13. windspeed - Normalized wind speed. \n",
        "\n",
        "14. casual - Count of casual users\n",
        "\n",
        "15. registered - Count of registered users\n",
        "\n",
        "16. cnt - Count of total rental bikes including both casual and registered"
      ],
      "metadata": {
        "id": "9ra4zXEdNdvS"
      }
    },
    {
      "cell_type": "code",
      "execution_count": 1,
      "metadata": {
        "colab": {
          "base_uri": "https://localhost:8080/"
        },
        "id": "FrNissJfNYfl",
        "outputId": "cdfe81e6-3c1b-4cd8-969b-b919a1490368"
      },
      "outputs": [
        {
          "output_type": "stream",
          "name": "stdout",
          "text": [
            "Mounted at /drive\n"
          ]
        }
      ],
      "source": [
        "# Mounting the Drive to Google Colab\n",
        "from google.colab import data_table\n",
        "from google.colab import drive\n",
        "\n",
        "drive.mount('/drive')"
      ]
    },
    {
      "cell_type": "code",
      "source": [
        "# Import required libraries\n",
        "import pandas as pd\n",
        "import numpy as np\n",
        "import matplotlib.pyplot as plt\n",
        "\n",
        "from sklearn.model_selection import train_test_split"
      ],
      "metadata": {
        "id": "4AXCF_QGNeQA"
      },
      "execution_count": 2,
      "outputs": []
    },
    {
      "cell_type": "code",
      "source": [
        "# Import data\n",
        "# Define the path\n",
        "path = \"/drive/MyDrive/Colab Notebooks/bike.csv\"\n",
        "df = pd.read_csv(path)"
      ],
      "metadata": {
        "id": "d1g43V_GOHmt"
      },
      "execution_count": 3,
      "outputs": []
    },
    {
      "cell_type": "markdown",
      "source": [
        "# Explore Dataset"
      ],
      "metadata": {
        "id": "xgr4z__NOOcx"
      }
    },
    {
      "cell_type": "code",
      "source": [
        "df.head()"
      ],
      "metadata": {
        "colab": {
          "base_uri": "https://localhost:8080/",
          "height": 270
        },
        "id": "6queWJIcOLUF",
        "outputId": "097ac35b-fb97-48ef-bcdb-f46ef141adc8"
      },
      "execution_count": 4,
      "outputs": [
        {
          "output_type": "execute_result",
          "data": {
            "text/plain": [
              "   instant    dteday  season  yr  mnth  holiday  weekday  workingday  \\\n",
              "0        1  1/1/2011       1   0     1        0        6           0   \n",
              "1        2  1/2/2011       1   0     1        0        0           0   \n",
              "2        3  1/3/2011       1   0     1        0        1           1   \n",
              "3        4  1/4/2011       1   0     1        0        2           1   \n",
              "4        5  1/5/2011       1   0     1        0        3           1   \n",
              "\n",
              "   weathersit      temp     atemp       hum  windspeed  casual  registered  \\\n",
              "0           2  0.344167  0.363625  0.805833   0.160446     331         654   \n",
              "1           2  0.363478  0.353739  0.696087   0.248539     131         670   \n",
              "2           1  0.196364  0.189405  0.437273   0.248309     120        1229   \n",
              "3           1  0.200000  0.212122  0.590435   0.160296     108        1454   \n",
              "4           1  0.226957  0.229270  0.436957   0.186900      82        1518   \n",
              "\n",
              "    cnt  \n",
              "0   985  \n",
              "1   801  \n",
              "2  1349  \n",
              "3  1562  \n",
              "4  1600  "
            ],
            "text/html": [
              "\n",
              "  <div id=\"df-64ede116-cdf2-4274-ab13-838baacd9eb5\">\n",
              "    <div class=\"colab-df-container\">\n",
              "      <div>\n",
              "<style scoped>\n",
              "    .dataframe tbody tr th:only-of-type {\n",
              "        vertical-align: middle;\n",
              "    }\n",
              "\n",
              "    .dataframe tbody tr th {\n",
              "        vertical-align: top;\n",
              "    }\n",
              "\n",
              "    .dataframe thead th {\n",
              "        text-align: right;\n",
              "    }\n",
              "</style>\n",
              "<table border=\"1\" class=\"dataframe\">\n",
              "  <thead>\n",
              "    <tr style=\"text-align: right;\">\n",
              "      <th></th>\n",
              "      <th>instant</th>\n",
              "      <th>dteday</th>\n",
              "      <th>season</th>\n",
              "      <th>yr</th>\n",
              "      <th>mnth</th>\n",
              "      <th>holiday</th>\n",
              "      <th>weekday</th>\n",
              "      <th>workingday</th>\n",
              "      <th>weathersit</th>\n",
              "      <th>temp</th>\n",
              "      <th>atemp</th>\n",
              "      <th>hum</th>\n",
              "      <th>windspeed</th>\n",
              "      <th>casual</th>\n",
              "      <th>registered</th>\n",
              "      <th>cnt</th>\n",
              "    </tr>\n",
              "  </thead>\n",
              "  <tbody>\n",
              "    <tr>\n",
              "      <th>0</th>\n",
              "      <td>1</td>\n",
              "      <td>1/1/2011</td>\n",
              "      <td>1</td>\n",
              "      <td>0</td>\n",
              "      <td>1</td>\n",
              "      <td>0</td>\n",
              "      <td>6</td>\n",
              "      <td>0</td>\n",
              "      <td>2</td>\n",
              "      <td>0.344167</td>\n",
              "      <td>0.363625</td>\n",
              "      <td>0.805833</td>\n",
              "      <td>0.160446</td>\n",
              "      <td>331</td>\n",
              "      <td>654</td>\n",
              "      <td>985</td>\n",
              "    </tr>\n",
              "    <tr>\n",
              "      <th>1</th>\n",
              "      <td>2</td>\n",
              "      <td>1/2/2011</td>\n",
              "      <td>1</td>\n",
              "      <td>0</td>\n",
              "      <td>1</td>\n",
              "      <td>0</td>\n",
              "      <td>0</td>\n",
              "      <td>0</td>\n",
              "      <td>2</td>\n",
              "      <td>0.363478</td>\n",
              "      <td>0.353739</td>\n",
              "      <td>0.696087</td>\n",
              "      <td>0.248539</td>\n",
              "      <td>131</td>\n",
              "      <td>670</td>\n",
              "      <td>801</td>\n",
              "    </tr>\n",
              "    <tr>\n",
              "      <th>2</th>\n",
              "      <td>3</td>\n",
              "      <td>1/3/2011</td>\n",
              "      <td>1</td>\n",
              "      <td>0</td>\n",
              "      <td>1</td>\n",
              "      <td>0</td>\n",
              "      <td>1</td>\n",
              "      <td>1</td>\n",
              "      <td>1</td>\n",
              "      <td>0.196364</td>\n",
              "      <td>0.189405</td>\n",
              "      <td>0.437273</td>\n",
              "      <td>0.248309</td>\n",
              "      <td>120</td>\n",
              "      <td>1229</td>\n",
              "      <td>1349</td>\n",
              "    </tr>\n",
              "    <tr>\n",
              "      <th>3</th>\n",
              "      <td>4</td>\n",
              "      <td>1/4/2011</td>\n",
              "      <td>1</td>\n",
              "      <td>0</td>\n",
              "      <td>1</td>\n",
              "      <td>0</td>\n",
              "      <td>2</td>\n",
              "      <td>1</td>\n",
              "      <td>1</td>\n",
              "      <td>0.200000</td>\n",
              "      <td>0.212122</td>\n",
              "      <td>0.590435</td>\n",
              "      <td>0.160296</td>\n",
              "      <td>108</td>\n",
              "      <td>1454</td>\n",
              "      <td>1562</td>\n",
              "    </tr>\n",
              "    <tr>\n",
              "      <th>4</th>\n",
              "      <td>5</td>\n",
              "      <td>1/5/2011</td>\n",
              "      <td>1</td>\n",
              "      <td>0</td>\n",
              "      <td>1</td>\n",
              "      <td>0</td>\n",
              "      <td>3</td>\n",
              "      <td>1</td>\n",
              "      <td>1</td>\n",
              "      <td>0.226957</td>\n",
              "      <td>0.229270</td>\n",
              "      <td>0.436957</td>\n",
              "      <td>0.186900</td>\n",
              "      <td>82</td>\n",
              "      <td>1518</td>\n",
              "      <td>1600</td>\n",
              "    </tr>\n",
              "  </tbody>\n",
              "</table>\n",
              "</div>\n",
              "      <button class=\"colab-df-convert\" onclick=\"convertToInteractive('df-64ede116-cdf2-4274-ab13-838baacd9eb5')\"\n",
              "              title=\"Convert this dataframe to an interactive table.\"\n",
              "              style=\"display:none;\">\n",
              "        \n",
              "  <svg xmlns=\"http://www.w3.org/2000/svg\" height=\"24px\"viewBox=\"0 0 24 24\"\n",
              "       width=\"24px\">\n",
              "    <path d=\"M0 0h24v24H0V0z\" fill=\"none\"/>\n",
              "    <path d=\"M18.56 5.44l.94 2.06.94-2.06 2.06-.94-2.06-.94-.94-2.06-.94 2.06-2.06.94zm-11 1L8.5 8.5l.94-2.06 2.06-.94-2.06-.94L8.5 2.5l-.94 2.06-2.06.94zm10 10l.94 2.06.94-2.06 2.06-.94-2.06-.94-.94-2.06-.94 2.06-2.06.94z\"/><path d=\"M17.41 7.96l-1.37-1.37c-.4-.4-.92-.59-1.43-.59-.52 0-1.04.2-1.43.59L10.3 9.45l-7.72 7.72c-.78.78-.78 2.05 0 2.83L4 21.41c.39.39.9.59 1.41.59.51 0 1.02-.2 1.41-.59l7.78-7.78 2.81-2.81c.8-.78.8-2.07 0-2.86zM5.41 20L4 18.59l7.72-7.72 1.47 1.35L5.41 20z\"/>\n",
              "  </svg>\n",
              "      </button>\n",
              "      \n",
              "  <style>\n",
              "    .colab-df-container {\n",
              "      display:flex;\n",
              "      flex-wrap:wrap;\n",
              "      gap: 12px;\n",
              "    }\n",
              "\n",
              "    .colab-df-convert {\n",
              "      background-color: #E8F0FE;\n",
              "      border: none;\n",
              "      border-radius: 50%;\n",
              "      cursor: pointer;\n",
              "      display: none;\n",
              "      fill: #1967D2;\n",
              "      height: 32px;\n",
              "      padding: 0 0 0 0;\n",
              "      width: 32px;\n",
              "    }\n",
              "\n",
              "    .colab-df-convert:hover {\n",
              "      background-color: #E2EBFA;\n",
              "      box-shadow: 0px 1px 2px rgba(60, 64, 67, 0.3), 0px 1px 3px 1px rgba(60, 64, 67, 0.15);\n",
              "      fill: #174EA6;\n",
              "    }\n",
              "\n",
              "    [theme=dark] .colab-df-convert {\n",
              "      background-color: #3B4455;\n",
              "      fill: #D2E3FC;\n",
              "    }\n",
              "\n",
              "    [theme=dark] .colab-df-convert:hover {\n",
              "      background-color: #434B5C;\n",
              "      box-shadow: 0px 1px 3px 1px rgba(0, 0, 0, 0.15);\n",
              "      filter: drop-shadow(0px 1px 2px rgba(0, 0, 0, 0.3));\n",
              "      fill: #FFFFFF;\n",
              "    }\n",
              "  </style>\n",
              "\n",
              "      <script>\n",
              "        const buttonEl =\n",
              "          document.querySelector('#df-64ede116-cdf2-4274-ab13-838baacd9eb5 button.colab-df-convert');\n",
              "        buttonEl.style.display =\n",
              "          google.colab.kernel.accessAllowed ? 'block' : 'none';\n",
              "\n",
              "        async function convertToInteractive(key) {\n",
              "          const element = document.querySelector('#df-64ede116-cdf2-4274-ab13-838baacd9eb5');\n",
              "          const dataTable =\n",
              "            await google.colab.kernel.invokeFunction('convertToInteractive',\n",
              "                                                     [key], {});\n",
              "          if (!dataTable) return;\n",
              "\n",
              "          const docLinkHtml = 'Like what you see? Visit the ' +\n",
              "            '<a target=\"_blank\" href=https://colab.research.google.com/notebooks/data_table.ipynb>data table notebook</a>'\n",
              "            + ' to learn more about interactive tables.';\n",
              "          element.innerHTML = '';\n",
              "          dataTable['output_type'] = 'display_data';\n",
              "          await google.colab.output.renderOutput(dataTable, element);\n",
              "          const docLink = document.createElement('div');\n",
              "          docLink.innerHTML = docLinkHtml;\n",
              "          element.appendChild(docLink);\n",
              "        }\n",
              "      </script>\n",
              "    </div>\n",
              "  </div>\n",
              "  "
            ]
          },
          "metadata": {},
          "execution_count": 4
        }
      ]
    },
    {
      "cell_type": "code",
      "source": [
        "df.shape"
      ],
      "metadata": {
        "colab": {
          "base_uri": "https://localhost:8080/"
        },
        "id": "Qr8UGI8WOT8E",
        "outputId": "b252cfdd-80e1-45e7-d416-761c102161dd"
      },
      "execution_count": 5,
      "outputs": [
        {
          "output_type": "execute_result",
          "data": {
            "text/plain": [
              "(731, 16)"
            ]
          },
          "metadata": {},
          "execution_count": 5
        }
      ]
    },
    {
      "cell_type": "code",
      "source": [
        "df.columns"
      ],
      "metadata": {
        "colab": {
          "base_uri": "https://localhost:8080/"
        },
        "id": "fn2AJA1COX2Z",
        "outputId": "92d9809c-cdac-460e-abf8-d9cfe5a8f753"
      },
      "execution_count": 6,
      "outputs": [
        {
          "output_type": "execute_result",
          "data": {
            "text/plain": [
              "Index(['instant', 'dteday', 'season', 'yr', 'mnth', 'holiday', 'weekday',\n",
              "       'workingday', 'weathersit', 'temp', 'atemp', 'hum', 'windspeed',\n",
              "       'casual', 'registered', 'cnt'],\n",
              "      dtype='object')"
            ]
          },
          "metadata": {},
          "execution_count": 6
        }
      ]
    },
    {
      "cell_type": "code",
      "source": [
        "# Checking missing values for each feature/column\n",
        "df.isnull().sum()"
      ],
      "metadata": {
        "colab": {
          "base_uri": "https://localhost:8080/"
        },
        "id": "8pOayKlMPD8M",
        "outputId": "d37f859a-6514-461d-8c13-b17a26b2b772"
      },
      "execution_count": 7,
      "outputs": [
        {
          "output_type": "execute_result",
          "data": {
            "text/plain": [
              "instant       0\n",
              "dteday        0\n",
              "season        0\n",
              "yr            0\n",
              "mnth          0\n",
              "holiday       0\n",
              "weekday       0\n",
              "workingday    0\n",
              "weathersit    0\n",
              "temp          0\n",
              "atemp         0\n",
              "hum           0\n",
              "windspeed     0\n",
              "casual        0\n",
              "registered    0\n",
              "cnt           0\n",
              "dtype: int64"
            ]
          },
          "metadata": {},
          "execution_count": 7
        }
      ]
    },
    {
      "cell_type": "code",
      "source": [
        "# Drop irrelavant columns\n",
        "df1 = df.drop(['instant',\t'dteday'], axis = 1)\n",
        "\n",
        "# as record index and date does not affect the bike rental"
      ],
      "metadata": {
        "id": "MXSMYtfxRM0R"
      },
      "execution_count": 10,
      "outputs": []
    },
    {
      "cell_type": "markdown",
      "source": [
        "# Split Dataset"
      ],
      "metadata": {
        "id": "2ONM-XqNOeEh"
      }
    },
    {
      "cell_type": "code",
      "source": [
        "X = df1.drop(['cnt'], axis = 1)\n",
        "Y = df1['cnt']"
      ],
      "metadata": {
        "id": "vruJw9iLQ2l7"
      },
      "execution_count": 11,
      "outputs": []
    },
    {
      "cell_type": "code",
      "source": [
        "# Split dataset\n",
        "X_train, X_test, Y_train, Y_test = train_test_split(X,Y,test_size = 0.20, random_state =0)\n",
        "\n",
        "print(\"X_train shape\", X_train.shape)\n",
        "print(\"y_train shape\", Y_train.shape)\n",
        "print(\"X_test shape\", X_test.shape)\n",
        "print(\"y_test shape\", Y_test.shape)\n",
        "\n",
        "# SPlit into 80/20"
      ],
      "metadata": {
        "colab": {
          "base_uri": "https://localhost:8080/"
        },
        "id": "hQoQCOemOaGa",
        "outputId": "2cefbfcf-d67f-48dd-a49c-de7d55c9cc9b"
      },
      "execution_count": 12,
      "outputs": [
        {
          "output_type": "stream",
          "name": "stdout",
          "text": [
            "X_train shape (584, 13)\n",
            "y_train shape (584,)\n",
            "X_test shape (147, 13)\n",
            "y_test shape (147,)\n"
          ]
        }
      ]
    },
    {
      "cell_type": "markdown",
      "source": [
        "# Building the model"
      ],
      "metadata": {
        "id": "yADdhb6fR6n3"
      }
    },
    {
      "cell_type": "code",
      "source": [
        "from keras.models import Sequential\n",
        "from keras.layers import Dense\n",
        "\n",
        "L1=200\n",
        "L2=100\n",
        "L3=50\n",
        "\n",
        "model = Sequential()\n",
        "model.add(Dense(L1,input_dim=13,activation='relu')) #input dimension equal to pixel\n",
        "model.add(Dense(L2,activation='relu'))\n",
        "model.add(Dense(L3,activation='relu'))\n",
        "\n",
        "# output layer \n",
        "model.add(Dense(1, activation='linear')) "
      ],
      "metadata": {
        "id": "KZanoezaOfIt"
      },
      "execution_count": 13,
      "outputs": []
    },
    {
      "cell_type": "code",
      "source": [
        "#Compiling the sequantial model\n",
        "model.compile(loss = 'mse', metrics = ['mae'], optimizer = 'adam')"
      ],
      "metadata": {
        "id": "xeT_p2JTSS1M"
      },
      "execution_count": 14,
      "outputs": []
    },
    {
      "cell_type": "code",
      "source": [
        "history = model.fit(X_train, Y_train, epochs =10, batch_size = 100, validation_data = (X_test, Y_test))"
      ],
      "metadata": {
        "colab": {
          "base_uri": "https://localhost:8080/"
        },
        "id": "5yRUkzViSVVS",
        "outputId": "3f6b715b-3c40-413b-e58a-c9585313583a"
      },
      "execution_count": 16,
      "outputs": [
        {
          "output_type": "stream",
          "name": "stdout",
          "text": [
            "Epoch 1/10\n",
            "6/6 [==============================] - 1s 39ms/step - loss: 15838112.0000 - mae: 3623.0933 - val_loss: 9648520.0000 - val_mae: 2801.5317\n",
            "Epoch 2/10\n",
            "6/6 [==============================] - 0s 7ms/step - loss: 5726417.0000 - mae: 2123.8464 - val_loss: 1871025.2500 - val_mae: 1144.8044\n",
            "Epoch 3/10\n",
            "6/6 [==============================] - 0s 7ms/step - loss: 769772.4375 - mae: 662.5563 - val_loss: 859230.2500 - val_mae: 775.7576\n",
            "Epoch 4/10\n",
            "6/6 [==============================] - 0s 7ms/step - loss: 1273898.1250 - mae: 955.9459 - val_loss: 1082399.5000 - val_mae: 859.7946\n",
            "Epoch 5/10\n",
            "6/6 [==============================] - 0s 7ms/step - loss: 616502.0000 - mae: 650.8928 - val_loss: 214007.2656 - val_mae: 347.2467\n",
            "Epoch 6/10\n",
            "6/6 [==============================] - 0s 7ms/step - loss: 252433.6406 - mae: 348.2009 - val_loss: 396225.7500 - val_mae: 457.5484\n",
            "Epoch 7/10\n",
            "6/6 [==============================] - 0s 7ms/step - loss: 297988.5938 - mae: 398.8397 - val_loss: 177330.6719 - val_mae: 297.8312\n",
            "Epoch 8/10\n",
            "6/6 [==============================] - 0s 7ms/step - loss: 94986.7031 - mae: 221.0300 - val_loss: 66718.3984 - val_mae: 217.0581\n",
            "Epoch 9/10\n",
            "6/6 [==============================] - 0s 7ms/step - loss: 81620.8750 - mae: 233.6460 - val_loss: 62558.2383 - val_mae: 197.9394\n",
            "Epoch 10/10\n",
            "6/6 [==============================] - 0s 7ms/step - loss: 34315.0977 - mae: 138.7413 - val_loss: 13251.6289 - val_mae: 96.9628\n"
          ]
        }
      ]
    },
    {
      "cell_type": "code",
      "source": [
        "mae2 = history.history['mae']\n",
        "val_mae = history.history['val_mae']\n",
        "loss2 = history.history['loss']\n",
        "val_loss = history.history['val_loss']\n",
        "\n",
        "epochs = range(1, len(mae2)+1)\n",
        "\n",
        "plt.plot(epochs, mae2, 'b', label = 'Train MAE')\n",
        "plt.plot(epochs, val_mae, 'r', label = 'Test MAE')\n",
        "plt.legend()\n",
        "plt.figure()\n",
        "\n",
        "plt.plot(epochs, loss2, 'b', label = 'Train Loss')\n",
        "plt.plot(epochs, val_loss, 'r', label = 'Test Loss')\n",
        "plt.legend()\n",
        "plt.figure()"
      ],
      "metadata": {
        "colab": {
          "base_uri": "https://localhost:8080/",
          "height": 894
        },
        "id": "trqcG_RwSZyM",
        "outputId": "f4764388-1508-4278-80e3-fe2bd93bfcfa"
      },
      "execution_count": 17,
      "outputs": [
        {
          "output_type": "execute_result",
          "data": {
            "text/plain": [
              "<Figure size 640x480 with 0 Axes>"
            ]
          },
          "metadata": {},
          "execution_count": 17
        },
        {
          "output_type": "display_data",
          "data": {
            "text/plain": [
              "<Figure size 640x480 with 1 Axes>"
            ],
            "image/png": "[encoded data removed]"
          },
          "metadata": {}
        },
        {
          "output_type": "display_data",
          "data": {
            "text/plain": [
              "<Figure size 640x480 with 1 Axes>"
            ],
            "image/png": "[encoded data removed]"
          },
          "metadata": {}
        },
        {
          "output_type": "display_data",
          "data": {
            "text/plain": [
              "<Figure size 640x480 with 0 Axes>"
            ]
          },
          "metadata": {}
        }
      ]
    },
    {
      "cell_type": "markdown",
      "source": [
        "### Model with initializer and regularizer ###"
      ],
      "metadata": {
        "id": "bYDuzry2SnDD"
      }
    },
    {
      "cell_type": "code",
      "source": [
        "from keras import initializers\n",
        "from keras import regularizers\n",
        "\n",
        "\n",
        "from keras.models import Sequential\n",
        "from keras.layers import Dense\n",
        "\n",
        "L1=200\n",
        "L2=100\n",
        "L3=50\n",
        "\n",
        "model = Sequential()\n",
        "model.add(Dense(L1,input_dim=13,activation='relu',\n",
        "                kernel_initializer='he_normal', kernel_regularizer= regularizers.l1(0.01))) #input dimension equal to pixel\n",
        "model.add(Dense(L2,activation='relu'))\n",
        "model.add(Dense(L3,activation='relu'))\n",
        "\n",
        "# output layer \n",
        "model.add(Dense(1, activation='linear')) \n",
        "\n",
        "#Compiling the sequantial model\n",
        "model.compile(loss = 'mse', metrics = ['mae'], optimizer = 'adam')\n",
        "\n",
        "history = model.fit(X_train, Y_train, epochs =10, batch_size = 100, validation_data = (X_test, Y_test))\n",
        "\n",
        "mae2 = history.history['mae']\n",
        "val_mae = history.history['val_mae']\n",
        "loss2 = history.history['loss']\n",
        "val_loss = history.history['val_loss']\n",
        "\n",
        "epochs = range(1, len(mae2)+1)\n",
        "\n",
        "plt.plot(epochs, mae2, 'b', label = 'Train MAE')\n",
        "plt.plot(epochs, val_mae, 'r', label = 'Test MAE')\n",
        "plt.legend()\n",
        "plt.figure()\n",
        "\n",
        "plt.plot(epochs, loss2, 'b', label = 'Train Loss')\n",
        "plt.plot(epochs, val_loss, 'r', label = 'Test Loss')\n",
        "plt.legend()\n",
        "plt.figure()"
      ],
      "metadata": {
        "colab": {
          "base_uri": "https://localhost:8080/",
          "height": 1000
        },
        "id": "UV8FqEroSfcL",
        "outputId": "ca13d26f-e700-4d31-cc59-97e0d371ab9e"
      },
      "execution_count": 24,
      "outputs": [
        {
          "output_type": "stream",
          "name": "stdout",
          "text": [
            "Epoch 1/10\n",
            "6/6 [==============================] - 1s 34ms/step - loss: 12693719.0000 - mae: 3223.6831 - val_loss: 4462193.0000 - val_mae: 1921.7262\n",
            "Epoch 2/10\n",
            "6/6 [==============================] - 0s 10ms/step - loss: 1599289.8750 - mae: 981.3969 - val_loss: 153371.9531 - val_mae: 335.4455\n",
            "Epoch 3/10\n",
            "6/6 [==============================] - 0s 7ms/step - loss: 865741.9375 - mae: 816.8033 - val_loss: 1345035.7500 - val_mae: 1056.1764\n",
            "Epoch 4/10\n",
            "6/6 [==============================] - 0s 12ms/step - loss: 777697.6875 - mae: 777.5406 - val_loss: 93801.7969 - val_mae: 256.1803\n",
            "Epoch 5/10\n",
            "6/6 [==============================] - 0s 8ms/step - loss: 64597.5625 - mae: 198.2905 - val_loss: 206527.0312 - val_mae: 394.4257\n",
            "Epoch 6/10\n",
            "6/6 [==============================] - 0s 8ms/step - loss: 236755.3906 - mae: 428.3507 - val_loss: 191986.6094 - val_mae: 382.7099\n",
            "Epoch 7/10\n",
            "6/6 [==============================] - 0s 9ms/step - loss: 90541.3281 - mae: 233.6687 - val_loss: 9623.1729 - val_mae: 78.0379\n",
            "Epoch 8/10\n",
            "6/6 [==============================] - 0s 12ms/step - loss: 27013.4199 - mae: 134.6006 - val_loss: 38667.0742 - val_mae: 166.8796\n",
            "Epoch 9/10\n",
            "6/6 [==============================] - 0s 7ms/step - loss: 19866.6465 - mae: 109.5375 - val_loss: 7540.0171 - val_mae: 69.3895\n",
            "Epoch 10/10\n",
            "6/6 [==============================] - 0s 8ms/step - loss: 12164.4746 - mae: 86.0586 - val_loss: 7649.6157 - val_mae: 70.5088\n"
          ]
        },
        {
          "output_type": "execute_result",
          "data": {
            "text/plain": [
              "<Figure size 640x480 with 0 Axes>"
            ]
          },
          "metadata": {},
          "execution_count": 24
        },
        {
          "output_type": "display_data",
          "data": {
            "text/plain": [
              "<Figure size 640x480 with 1 Axes>"
            ],
            "image/png": "[encoded data removed]"
          },
          "metadata": {}
        },
        {
          "output_type": "display_data",
          "data": {
            "text/plain": [
              "<Figure size 640x480 with 1 Axes>"
            ],
            "image/png": "[encoded data removed]"
          },
          "metadata": {}
        },
        {
          "output_type": "display_data",
          "data": {
            "text/plain": [
              "<Figure size 640x480 with 0 Axes>"
            ]
          },
          "metadata": {}
        }
      ]
    },
    {
      "cell_type": "markdown",
      "source": [
        "### Drop out & Early Stop ###"
      ],
      "metadata": {
        "id": "PhoRj1nUT2W7"
      }
    },
    {
      "cell_type": "code",
      "source": [
        "from keras import initializers\n",
        "from keras import regularizers\n",
        "from keras.layers import Dense, Dropout\n",
        "from keras.callbacks import EarlyStopping\n",
        "\n",
        "\n",
        "from keras.models import Sequential\n",
        "from keras.layers import Dense\n",
        "\n",
        "L1=200\n",
        "L2=100\n",
        "L3=50\n",
        "\n",
        "model = Sequential()\n",
        "model.add(Dense(L1,input_dim=13,activation='relu',\n",
        "                kernel_initializer='he_normal', kernel_regularizer= regularizers.l1(0.01)))\n",
        "model.add(Dropout(rate = 0.2))\n",
        "model.add(Dense(L2,activation='relu'))\n",
        "model.add(Dropout(rate = 0.2))\n",
        "model.add(Dense(L3,activation='relu'))\n",
        "model.add(Dropout(rate = 0.2))\n",
        "\n",
        "# output layer \n",
        "model.add(Dense(1, activation='linear')) \n",
        "\n",
        "#Compiling the sequantial model\n",
        "model.compile(loss = 'mse', metrics = ['mae'], optimizer = 'adam')\n",
        "\n",
        "# Stop the model if no improvement seen after 5 times\n",
        "early_stopping_monitor =EarlyStopping(patience = 5 ) \n",
        "\n",
        "history = model.fit(X_train, Y_train, epochs =20, batch_size = 100, validation_data = (X_test, Y_test), callbacks= [early_stopping_monitor])\n",
        "\n",
        "mae2 = history.history['mae']\n",
        "val_mae = history.history['val_mae']\n",
        "loss2 = history.history['loss']\n",
        "val_loss = history.history['val_loss']\n",
        "\n",
        "epochs = range(1, len(mae2)+1)\n",
        "\n",
        "plt.plot(epochs, mae2, 'b', label = 'Train MAE')\n",
        "plt.plot(epochs, val_mae, 'r', label = 'Test MAE')\n",
        "plt.legend()\n",
        "plt.figure()\n",
        "\n",
        "plt.plot(epochs, loss2, 'b', label = 'Train Loss')\n",
        "plt.plot(epochs, val_loss, 'r', label = 'Test Loss')\n",
        "plt.legend()\n",
        "plt.figure()"
      ],
      "metadata": {
        "colab": {
          "base_uri": "https://localhost:8080/",
          "height": 1000
        },
        "id": "O_PYZjcTSneR",
        "outputId": "636862cc-0e5a-4a86-ff38-e770986c5532"
      },
      "execution_count": 27,
      "outputs": [
        {
          "output_type": "stream",
          "name": "stdout",
          "text": [
            "Epoch 1/20\n",
            "6/6 [==============================] - 1s 44ms/step - loss: 13504835.0000 - mae: 3204.3274 - val_loss: 2904988.2500 - val_mae: 1526.6163\n",
            "Epoch 2/20\n",
            "6/6 [==============================] - 0s 11ms/step - loss: 2346731.5000 - mae: 1138.6626 - val_loss: 1033905.9375 - val_mae: 893.6196\n",
            "Epoch 3/20\n",
            "6/6 [==============================] - 0s 15ms/step - loss: 2769051.2500 - mae: 1257.1635 - val_loss: 60518.5859 - val_mae: 197.0168\n",
            "Epoch 4/20\n",
            "6/6 [==============================] - 0s 10ms/step - loss: 1309808.5000 - mae: 854.3272 - val_loss: 880062.8125 - val_mae: 825.5219\n",
            "Epoch 5/20\n",
            "6/6 [==============================] - 0s 13ms/step - loss: 1358739.5000 - mae: 865.8290 - val_loss: 851926.8125 - val_mae: 816.8257\n",
            "Epoch 6/20\n",
            "6/6 [==============================] - 0s 14ms/step - loss: 1332034.0000 - mae: 851.6469 - val_loss: 179256.6719 - val_mae: 349.0951\n",
            "Epoch 7/20\n",
            "6/6 [==============================] - 0s 11ms/step - loss: 1255883.0000 - mae: 839.4348 - val_loss: 46564.9922 - val_mae: 169.9818\n",
            "Epoch 8/20\n",
            "6/6 [==============================] - 0s 13ms/step - loss: 1182309.2500 - mae: 795.0257 - val_loss: 229576.6250 - val_mae: 417.9286\n",
            "Epoch 9/20\n",
            "6/6 [==============================] - 0s 14ms/step - loss: 1260279.7500 - mae: 820.1309 - val_loss: 392749.0000 - val_mae: 558.6723\n",
            "Epoch 10/20\n",
            "6/6 [==============================] - 0s 15ms/step - loss: 1118881.7500 - mae: 778.3566 - val_loss: 208980.4062 - val_mae: 402.5934\n",
            "Epoch 11/20\n",
            "6/6 [==============================] - 0s 15ms/step - loss: 1023045.6875 - mae: 741.5026 - val_loss: 330004.7812 - val_mae: 510.9651\n",
            "Epoch 12/20\n",
            "6/6 [==============================] - 0s 10ms/step - loss: 1010707.3125 - mae: 729.8118 - val_loss: 444121.4688 - val_mae: 593.9279\n"
          ]
        },
        {
          "output_type": "execute_result",
          "data": {
            "text/plain": [
              "<Figure size 640x480 with 0 Axes>"
            ]
          },
          "metadata": {},
          "execution_count": 27
        },
        {
          "output_type": "display_data",
          "data": {
            "text/plain": [
              "<Figure size 640x480 with 1 Axes>"
            ],
            "image/png": "[encoded data removed]"
          },
          "metadata": {}
        },
        {
          "output_type": "display_data",
          "data": {
            "text/plain": [
              "<Figure size 640x480 with 1 Axes>"
            ],
            "image/png": "[encoded data removed]"
          },
          "metadata": {}
        },
        {
          "output_type": "display_data",
          "data": {
            "text/plain": [
              "<Figure size 640x480 with 0 Axes>"
            ]
          },
          "metadata": {}
        }
      ]
    },
    {
      "cell_type": "markdown",
      "source": [
        "# Grid Search Hyperparameter"
      ],
      "metadata": {
        "id": "nYDqfV9wUz5y"
      }
    },
    {
      "cell_type": "code",
      "source": [
        "pip install scikeras"
      ],
      "metadata": {
        "colab": {
          "base_uri": "https://localhost:8080/"
        },
        "id": "MvBSGASPTb0C",
        "outputId": "4d65bd1a-48f7-43e5-8162-f37d5119baa0"
      },
      "execution_count": 28,
      "outputs": [
        {
          "output_type": "stream",
          "name": "stdout",
          "text": [
            "Looking in indexes: https://pypi.org/simple, https://us-python.pkg.dev/colab-wheels/public/simple/\n",
            "Collecting scikeras\n",
            "  Downloading scikeras-0.10.0-py3-none-any.whl (27 kB)\n",
            "Requirement already satisfied: packaging>=0.21 in /usr/local/lib/python3.9/dist-packages (from scikeras) (23.0)\n",
            "Requirement already satisfied: scikit-learn>=1.0.0 in /usr/local/lib/python3.9/dist-packages (from scikeras) (1.2.2)\n",
            "Requirement already satisfied: threadpoolctl>=2.0.0 in /usr/local/lib/python3.9/dist-packages (from scikit-learn>=1.0.0->scikeras) (3.1.0)\n",
            "Requirement already satisfied: joblib>=1.1.1 in /usr/local/lib/python3.9/dist-packages (from scikit-learn>=1.0.0->scikeras) (1.2.0)\n",
            "Requirement already satisfied: scipy>=1.3.2 in /usr/local/lib/python3.9/dist-packages (from scikit-learn>=1.0.0->scikeras) (1.10.1)\n",
            "Requirement already satisfied: numpy>=1.17.3 in /usr/local/lib/python3.9/dist-packages (from scikit-learn>=1.0.0->scikeras) (1.22.4)\n",
            "Installing collected packages: scikeras\n",
            "Successfully installed scikeras-0.10.0\n"
          ]
        }
      ]
    },
    {
      "cell_type": "code",
      "source": [
        "from sklearn.model_selection import GridSearchCV\n",
        "from scikeras.wrappers import KerasClassifier\n",
        "from scikeras.wrappers import KerasRegressor "
      ],
      "metadata": {
        "id": "b3Vvvum-U5s0"
      },
      "execution_count": 30,
      "outputs": []
    },
    {
      "cell_type": "code",
      "source": [
        "# Function to create model, required for KerasClassifier\n",
        "def create_model():\n",
        "  # create model\n",
        "  model5 = Sequential()\n",
        "  model5.add(Dense(200,input_dim=13,activation='relu',\n",
        "                kernel_initializer='he_normal', kernel_regularizer= regularizers.l1(0.01)))\n",
        "  model5.add(Dense(100, activation='relu'))\n",
        "  model5.add(Dense(50, activation='relu'))\n",
        "  model5.add(Dense(1, activation='linear'))\n",
        "\n",
        "  # Compile model\n",
        "  model5.compile(loss = 'mse', metrics = ['mae'], optimizer = 'adam')\n",
        "  return model5\n"
      ],
      "metadata": {
        "id": "WQrarr_VU7f5"
      },
      "execution_count": 31,
      "outputs": []
    },
    {
      "cell_type": "markdown",
      "source": [
        "# Tune the Batch Size and Epochs"
      ],
      "metadata": {
        "id": "wrKNeJD2VqHA"
      }
    },
    {
      "cell_type": "markdown",
      "source": [
        "KerasClassifier should be used when the target variable is categorical or discrete, and KerasRegressor should be used when the target variable is continuous.\n",
        "\n",
        "Here are some examples:\n",
        "\n",
        "KerasClassifier can be used for classification tasks such as image classification, text classification, sentiment analysis, or fraud detection where the target variable is a categorical variable.\n",
        "\n",
        "KerasRegressor can be used for regression tasks such as predicting housing prices, stock prices, or the length of stay in a hospital where the target variable is a continuous variable.\n",
        "\n",
        "In both cases, the Keras model needs to be appropriately designed and trained to achieve good performance on the task at hand.\n",
        "\n",
        "In summary, the choice between KerasClassifier and KerasRegressor depends on the nature of the target variable in the problem being addressed."
      ],
      "metadata": {
        "id": "CCQNSlY8WVP9"
      }
    },
    {
      "cell_type": "code",
      "source": [
        "# create model\n",
        "model5 = KerasRegressor(model=create_model,\n",
        "                         verbose=0)\n",
        "\n",
        "# define the grid search parameter\n",
        "batch_size = [50,100,128]\n",
        "epochs = [10,15,20]\n",
        "\n",
        "# parameter dictionary  for grid search\n",
        "param_grid = dict(batch_size=batch_size,\n",
        "                  epochs=epochs)\n",
        "# cv - number of cross validation \n",
        "# n_jobs specifies the number of CPU cores to use during parallel processing.\n",
        "\n",
        "grid = GridSearchCV(estimator=model5,\n",
        "                    param_grid=param_grid,\n",
        "                    n_jobs=-1,cv=3)\n",
        "\n",
        "grid_result = grid.fit(X_train, Y_train)"
      ],
      "metadata": {
        "id": "2kF3IvfiVpfh"
      },
      "execution_count": 33,
      "outputs": []
    },
    {
      "cell_type": "code",
      "source": [
        "# summarize results\n",
        "print(\"Best: %f using %s\" % (grid_result.best_score_,\n",
        "                             grid_result.best_params_))\n",
        "means = grid_result.cv_results_['mean_test_score']\n",
        "stds = grid_result.cv_results_['std_test_score']\n",
        "params = grid_result.cv_results_['params']\n",
        "\n",
        "for mean, stdev, param in zip(means, stds, params):\n",
        "  print(\"%f (%f) with: %r\" % (mean, stdev, param))"
      ],
      "metadata": {
        "colab": {
          "base_uri": "https://localhost:8080/"
        },
        "id": "ffc7vQaGVsY_",
        "outputId": "faf0ee35-92d2-40d9-e781-1d86e02334a1"
      },
      "execution_count": 34,
      "outputs": [
        {
          "output_type": "stream",
          "name": "stdout",
          "text": [
            "Best: 0.999945 using {'batch_size': 50, 'epochs': 15}\n",
            "0.998769 (0.000597) with: {'batch_size': 50, 'epochs': 10}\n",
            "0.999945 (0.000027) with: {'batch_size': 50, 'epochs': 15}\n",
            "0.999856 (0.000164) with: {'batch_size': 50, 'epochs': 20}\n",
            "0.989377 (0.009836) with: {'batch_size': 100, 'epochs': 10}\n",
            "0.996597 (0.000824) with: {'batch_size': 100, 'epochs': 15}\n",
            "0.999019 (0.000373) with: {'batch_size': 100, 'epochs': 20}\n",
            "0.985298 (0.012153) with: {'batch_size': 128, 'epochs': 10}\n",
            "0.994496 (0.005384) with: {'batch_size': 128, 'epochs': 15}\n",
            "0.998697 (0.000888) with: {'batch_size': 128, 'epochs': 20}\n"
          ]
        }
      ]
    },
    {
      "cell_type": "markdown",
      "source": [
        "# Tune the Training Optimization Algorithm (Only)"
      ],
      "metadata": {
        "id": "ms_XOwYtWcfE"
      }
    },
    {
      "cell_type": "code",
      "source": [
        "# create model\n",
        "model6 = KerasRegressor(model=create_model,\n",
        "                          loss = 'mse',\n",
        "                         epochs=15, batch_size=50, verbose=0)\n",
        "\n",
        "# define the grid search parameter\n",
        "optimizer = ['SGD', 'RMSprop','Adagrad','Adadelta',\n",
        "             'Adam','Adamax','Nadam']\n",
        "\n",
        "# parameter dictionary  for grid search\n",
        "param_grid = dict(optimizer=optimizer)\n",
        "# cv - number of cross validation \n",
        "# n_jobs specifies the number of CPU cores to use during parallel processing.\n",
        "\n",
        "grid = GridSearchCV(estimator=model6,\n",
        "                    param_grid=param_grid,\n",
        "                    n_jobs=-1,cv=3)\n",
        "\n",
        "grid_result = grid.fit(X_train, Y_train)"
      ],
      "metadata": {
        "id": "NFyhk2FoWbOh"
      },
      "execution_count": 36,
      "outputs": []
    },
    {
      "cell_type": "code",
      "source": [
        "# summarize results\n",
        "print(\"Best: %f using %s\" % (grid_result.best_score_,\n",
        "                             grid_result.best_params_))\n",
        "means = grid_result.cv_results_['mean_test_score']\n",
        "stds = grid_result.cv_results_['std_test_score']\n",
        "params = grid_result.cv_results_['params']\n",
        "\n",
        "for mean, stdev, param in zip(means, stds, params):\n",
        "  print(\"%f (%f) with: %r\" % (mean, stdev, param))"
      ],
      "metadata": {
        "colab": {
          "base_uri": "https://localhost:8080/"
        },
        "id": "7QK5e4FeWc5A",
        "outputId": "491381d8-b6b2-4087-c772-9b1ffcc7f9bc"
      },
      "execution_count": 37,
      "outputs": [
        {
          "output_type": "stream",
          "name": "stdout",
          "text": [
            "Best: 0.999944 using {'optimizer': 'Adam'}\n",
            "0.999930 (0.000025) with: {'optimizer': 'SGD'}\n",
            "0.999907 (0.000056) with: {'optimizer': 'RMSprop'}\n",
            "0.999863 (0.000086) with: {'optimizer': 'Adagrad'}\n",
            "0.999624 (0.000029) with: {'optimizer': 'Adadelta'}\n",
            "0.999944 (0.000034) with: {'optimizer': 'Adam'}\n",
            "0.999838 (0.000134) with: {'optimizer': 'Adamax'}\n",
            "0.999742 (0.000250) with: {'optimizer': 'Nadam'}\n"
          ]
        }
      ]
    },
    {
      "cell_type": "markdown",
      "source": [
        "# Tune the Neuron Activation Function"
      ],
      "metadata": {
        "id": "5n3fZRRcW-Dm"
      }
    },
    {
      "cell_type": "code",
      "source": [
        "def create_model(activation='relu'):\n",
        "  # create model\n",
        "  model8 = Sequential()\n",
        "  model8.add(Dense(200,input_dim=13,activation=activation,\n",
        "                kernel_initializer='he_normal', kernel_regularizer= regularizers.l1(0.01)))\n",
        "  model8.add(Dense(100, activation=activation))\n",
        "  model8.add(Dense(50, activation=activation))\n",
        "  model8.add(Dense(1, activation='linear'))\n",
        "\n",
        "  # Compile model\n",
        "  model8.compile(loss = 'mse', metrics = ['mae'], optimizer = 'adam')\n",
        "  return model8\n"
      ],
      "metadata": {
        "id": "RbfRnh20XHYv"
      },
      "execution_count": 44,
      "outputs": []
    },
    {
      "cell_type": "code",
      "source": [
        "model8 = KerasRegressor(model=create_model, epochs=15, batch_size=50, verbose=0)  \n",
        "activation = ['softmax','softplus','softsign','relu','tanh','sigmoid','hard_sigmoid','linear']\n",
        "param_grid = dict(model__activation=activation)\n",
        "grid = GridSearchCV(estimator=model8, param_grid=param_grid, n_jobs=-1, cv=3)\n",
        "\n",
        "grid_result = grid.fit(X_train, Y_train)"
      ],
      "metadata": {
        "id": "S2ypS1e4W6B-"
      },
      "execution_count": 45,
      "outputs": []
    },
    {
      "cell_type": "code",
      "source": [
        "# summarize results\n",
        "print(\"Best: %f using %s\" % (grid_result.best_score_,\n",
        "                             grid_result.best_params_))\n",
        "means = grid_result.cv_results_['mean_test_score']\n",
        "stds = grid_result.cv_results_['std_test_score']\n",
        "params = grid_result.cv_results_['params']\n",
        "\n",
        "for mean, stdev, param in zip(means, stds, params):\n",
        "  print(\"%f (%f) with: %r\" % (mean, stdev, param))"
      ],
      "metadata": {
        "colab": {
          "base_uri": "https://localhost:8080/"
        },
        "id": "ht-TFK6oW-Zv",
        "outputId": "fc80c848-2fa3-4084-ca8f-6b40ac992ca5"
      },
      "execution_count": 46,
      "outputs": [
        {
          "output_type": "stream",
          "name": "stdout",
          "text": [
            "Best: 0.999993 using {'model__activation': 'linear'}\n",
            "-5.603846 (0.372540) with: {'model__activation': 'softmax'}\n",
            "0.999914 (0.000031) with: {'model__activation': 'softplus'}\n",
            "-5.573107 (0.369324) with: {'model__activation': 'softsign'}\n",
            "0.999810 (0.000233) with: {'model__activation': 'relu'}\n",
            "-5.569951 (0.370021) with: {'model__activation': 'tanh'}\n",
            "-5.583933 (0.369324) with: {'model__activation': 'sigmoid'}\n",
            "-5.582280 (0.368416) with: {'model__activation': 'hard_sigmoid'}\n",
            "0.999993 (0.000005) with: {'model__activation': 'linear'}\n"
          ]
        }
      ]
    },
    {
      "cell_type": "markdown",
      "source": [
        "# Final Model"
      ],
      "metadata": {
        "id": "exlbhFwjW_he"
      }
    },
    {
      "cell_type": "code",
      "source": [
        "L1=200\n",
        "L2=100\n",
        "L3=50\n",
        "\n",
        "model = Sequential()\n",
        "model.add(Dense(L1,input_dim=13,activation='linear',\n",
        "                kernel_initializer='he_normal', kernel_regularizer= regularizers.l1(0.01))) #input dimension equal to pixel\n",
        "model.add(Dense(L2,activation='linear'))\n",
        "model.add(Dense(L3,activation='linear'))\n",
        "\n",
        "# output layer \n",
        "model.add(Dense(1, activation='linear')) \n",
        "\n",
        "#Compiling the sequantial model\n",
        "model.compile(loss = 'mse', metrics = ['mae'], optimizer = 'adam')\n",
        "\n",
        "history = model.fit(X_train, Y_train, epochs =15, batch_size = 50, validation_data = (X_test, Y_test))\n",
        "\n",
        "mae2 = history.history['mae']\n",
        "val_mae = history.history['val_mae']\n",
        "loss2 = history.history['loss']\n",
        "val_loss = history.history['val_loss']\n",
        "\n",
        "epochs = range(1, len(mae2)+1)\n",
        "\n",
        "plt.plot(epochs, mae2, 'b', label = 'Train MAE')\n",
        "plt.plot(epochs, val_mae, 'r', label = 'Test MAE')\n",
        "plt.legend()\n",
        "plt.figure()\n",
        "\n",
        "plt.plot(epochs, loss2, 'b', label = 'Train Loss')\n",
        "plt.plot(epochs, val_loss, 'r', label = 'Test Loss')\n",
        "plt.legend()\n",
        "plt.figure()"
      ],
      "metadata": {
        "colab": {
          "base_uri": "https://localhost:8080/",
          "height": 1000
        },
        "id": "Zay1siYVYL55",
        "outputId": "d62923ba-a649-45dc-b707-e7a056223ff7"
      },
      "execution_count": 47,
      "outputs": [
        {
          "output_type": "stream",
          "name": "stdout",
          "text": [
            "Epoch 1/15\n",
            "12/12 [==============================] - 1s 16ms/step - loss: 4726885.5000 - mae: 1715.7135 - val_loss: 2952891.5000 - val_mae: 1568.5424\n",
            "Epoch 2/15\n",
            "12/12 [==============================] - 0s 6ms/step - loss: 1053548.6250 - mae: 831.3517 - val_loss: 899214.1875 - val_mae: 854.5438\n",
            "Epoch 3/15\n",
            "12/12 [==============================] - 0s 5ms/step - loss: 299127.9375 - mae: 449.9460 - val_loss: 148495.9062 - val_mae: 351.7751\n",
            "Epoch 4/15\n",
            "12/12 [==============================] - 0s 6ms/step - loss: 79781.0781 - mae: 235.7989 - val_loss: 28.8967 - val_mae: 3.8569\n",
            "Epoch 5/15\n",
            "12/12 [==============================] - 0s 4ms/step - loss: 22371.6934 - mae: 115.9146 - val_loss: 16540.6543 - val_mae: 116.3708\n",
            "Epoch 6/15\n",
            "12/12 [==============================] - 0s 6ms/step - loss: 7465.9761 - mae: 71.3981 - val_loss: 1881.0293 - val_mae: 38.8857\n",
            "Epoch 7/15\n",
            "12/12 [==============================] - 0s 5ms/step - loss: 1968.2404 - mae: 35.7372 - val_loss: 1928.0166 - val_mae: 40.0055\n",
            "Epoch 8/15\n",
            "12/12 [==============================] - 0s 4ms/step - loss: 761.1418 - mae: 22.5447 - val_loss: 27.1130 - val_mae: 3.6456\n",
            "Epoch 9/15\n",
            "12/12 [==============================] - 0s 6ms/step - loss: 182.3989 - mae: 10.5978 - val_loss: 121.8610 - val_mae: 9.4681\n",
            "Epoch 10/15\n",
            "12/12 [==============================] - 0s 5ms/step - loss: 60.4081 - mae: 5.8617 - val_loss: 48.8848 - val_mae: 5.6524\n",
            "Epoch 11/15\n",
            "12/12 [==============================] - 0s 4ms/step - loss: 23.1430 - mae: 3.1090 - val_loss: 22.0168 - val_mae: 3.0774\n",
            "Epoch 12/15\n",
            "12/12 [==============================] - 0s 4ms/step - loss: 14.3929 - mae: 1.9869 - val_loss: 14.5314 - val_mae: 2.1117\n",
            "Epoch 13/15\n",
            "12/12 [==============================] - 0s 6ms/step - loss: 12.9433 - mae: 1.7741 - val_loss: 14.7963 - val_mae: 2.0963\n",
            "Epoch 14/15\n",
            "12/12 [==============================] - 0s 6ms/step - loss: 12.6159 - mae: 1.6918 - val_loss: 11.8370 - val_mae: 1.5370\n",
            "Epoch 15/15\n",
            "12/12 [==============================] - 0s 4ms/step - loss: 11.3789 - mae: 1.4474 - val_loss: 10.7428 - val_mae: 1.2622\n"
          ]
        },
        {
          "output_type": "execute_result",
          "data": {
            "text/plain": [
              "<Figure size 640x480 with 0 Axes>"
            ]
          },
          "metadata": {},
          "execution_count": 47
        },
        {
          "output_type": "display_data",
          "data": {
            "text/plain": [
              "<Figure size 640x480 with 1 Axes>"
            ],
            "image/png": "[encoded data removed]"
          },
          "metadata": {}
        },
        {
          "output_type": "display_data",
          "data": {
            "text/plain": [
              "<Figure size 640x480 with 1 Axes>"
            ],
            "image/png": "[encoded data removed]"
          },
          "metadata": {}
        },
        {
          "output_type": "display_data",
          "data": {
            "text/plain": [
              "<Figure size 640x480 with 0 Axes>"
            ]
          },
          "metadata": {}
        }
      ]
    },
    {
      "cell_type": "code",
      "source": [],
      "metadata": {
        "id": "qXyj9_TYYb4g"
      },
      "execution_count": null,
      "outputs": []
    }
  ]
}