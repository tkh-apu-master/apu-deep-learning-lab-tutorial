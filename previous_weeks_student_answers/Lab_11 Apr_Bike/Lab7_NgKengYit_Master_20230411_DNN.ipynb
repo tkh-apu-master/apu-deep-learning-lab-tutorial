{
  "nbformat": 4,
  "nbformat_minor": 0,
  "metadata": {
    "colab": {
      "provenance": [],
      "toc_visible": true
    },
    "kernelspec": {
      "name": "python3",
      "display_name": "Python 3"
    },
    "language_info": {
      "name": "python"
    },
    "accelerator": "GPU",
    "gpuClass": "standard"
  },
  "cells": [
    {
      "cell_type": "markdown",
      "source": [
        "#Exercise\n",
        "\n",
        "\n",
        "\n",
        "\n",
        "Predict bike rental count (daily) based on the environmental & seasonal settings. This dataset contains the daily count of rental bikes between years 2011 and 2012 in Capital bikeshare system with the corresponding weather and seasonal information. \n",
        "\n",
        "\n",
        "\n",
        "\n",
        "Bike-sharing rental process is highly correlated to the environmental and seasonal settings. For instance, weather conditions, precipitation, day of week, season, hour of the day, etc. can affect the rental behaviors. \n",
        "\n",
        "\n",
        "\n",
        "\n",
        "Conduct the DNN analysis and improve the performance of the model using different archictecture. \n",
        "\n",
        "\n",
        "\n",
        "\n",
        "Columns Details:\n",
        "\n",
        "1. Instant - Record Index\n",
        "\n",
        "2. dteday - Date (Format: YYYY-MM-DD)\n",
        "\n",
        "3. season - Season (1:   springer, 2: summer, 3: fall, 4: winter)\n",
        "\n",
        "4. yr - Year (0: 2011,   1:2012)\n",
        "\n",
        "5. mnth - Month (1 to 12)\n",
        "\n",
        "6. holiday - Weather day is holiday or not\n",
        "\n",
        "7. weekday - Day of the week\n",
        "\n",
        "8. workingday - Working Day: If day is neither weekend nor holiday is 1, otherwise is 0\n",
        "\n",
        "9. weathersit - Weather Situation (1: Clear/Few clouds; 2: Mist/Cloudy; 3: Light Snow/Light Rain; 4: Heavy Rain/Ice Pallets/Thunderstorm/Snow)\n",
        "\n",
        "10. temp - Normalized temperature in Celsius. \n",
        "\n",
        "11. atemp - Normalized feeling temperature in Celsius. \n",
        "\n",
        "12. hum - Normalized humidity. \n",
        "\n",
        "13. windspeed - Normalized wind speed. \n",
        "\n",
        "14. casual - Count of casual users\n",
        "\n",
        "15. registered - Count of registered users\n",
        "\n",
        "16. cnt - Count of total rental bikes including both casual and registered"
      ],
      "metadata": {
        "id": "VhAvD4_M1Rln"
      }
    },
    {
      "cell_type": "markdown",
      "source": [
        "#1. Path & Loading file"
      ],
      "metadata": {
        "id": "IaIFSQmM1ayP"
      }
    },
    {
      "cell_type": "code",
      "source": [
        "#Import required libraries\n",
        "import numpy as np\n",
        "import pandas as pd\n",
        "import matplotlib.pyplot as plt"
      ],
      "metadata": {
        "id": "YjzTCqmRaiMI"
      },
      "execution_count": 1,
      "outputs": []
    },
    {
      "cell_type": "code",
      "source": [
        "from sklearn.model_selection import train_test_split\n",
        "from keras.models import Sequential\n",
        "from keras.layers import Dense, Dropout\n",
        "from keras.utils import to_categorical\n",
        "from keras import initializers\n",
        "from keras import regularizers\n",
        "from keras.callbacks import EarlyStopping"
      ],
      "metadata": {
        "id": "Vu6V7Ki2avRo"
      },
      "execution_count": 3,
      "outputs": []
    },
    {
      "cell_type": "code",
      "source": [
        "from sklearn.preprocessing import LabelEncoder\n",
        "from sklearn.impute import SimpleImputer\n",
        "from sklearn.preprocessing import StandardScaler"
      ],
      "metadata": {
        "id": "KkrQtV78W5hz"
      },
      "execution_count": 2,
      "outputs": []
    },
    {
      "cell_type": "code",
      "source": [
        "#Dataset for classification\n",
        "path = \"/content/drive/MyDrive/Colab Notebooks/202303_DL Module/Lab Dataset/bike.csv\"\n",
        "df =  pd.read_csv(path)"
      ],
      "metadata": {
        "id": "prrlPj9ha5rA"
      },
      "execution_count": 4,
      "outputs": []
    },
    {
      "cell_type": "markdown",
      "source": [
        "Explore the dataset"
      ],
      "metadata": {
        "id": "M-W0wdgWa_w5"
      }
    },
    {
      "cell_type": "code",
      "source": [
        "df.shape"
      ],
      "metadata": {
        "colab": {
          "base_uri": "https://localhost:8080/"
        },
        "id": "2kKdh8462RBW",
        "outputId": "381172b3-0440-40bf-e2be-0074844e25a2"
      },
      "execution_count": 5,
      "outputs": [
        {
          "output_type": "execute_result",
          "data": {
            "text/plain": [
              "(731, 16)"
            ]
          },
          "metadata": {},
          "execution_count": 5
        }
      ]
    },
    {
      "cell_type": "code",
      "source": [
        "df.head().T"
      ],
      "metadata": {
        "colab": {
          "base_uri": "https://localhost:8080/",
          "height": 551
        },
        "id": "1CwfXMfKdCCo",
        "outputId": "f59a5494-9422-4887-9e19-2a5339b961ff"
      },
      "execution_count": 6,
      "outputs": [
        {
          "output_type": "execute_result",
          "data": {
            "text/plain": [
              "                   0         1         2         3         4\n",
              "instant            1         2         3         4         5\n",
              "dteday      1/1/2011  1/2/2011  1/3/2011  1/4/2011  1/5/2011\n",
              "season             1         1         1         1         1\n",
              "yr                 0         0         0         0         0\n",
              "mnth               1         1         1         1         1\n",
              "holiday            0         0         0         0         0\n",
              "weekday            6         0         1         2         3\n",
              "workingday         0         0         1         1         1\n",
              "weathersit         2         2         1         1         1\n",
              "temp        0.344167  0.363478  0.196364       0.2  0.226957\n",
              "atemp       0.363625  0.353739  0.189405  0.212122   0.22927\n",
              "hum         0.805833  0.696087  0.437273  0.590435  0.436957\n",
              "windspeed   0.160446  0.248539  0.248309  0.160296    0.1869\n",
              "casual           331       131       120       108        82\n",
              "registered       654       670      1229      1454      1518\n",
              "cnt              985       801      1349      1562      1600"
            ],
            "text/html": [
              "\n",
              "  <div id=\"df-acf3972b-f8fd-48bf-a8e7-2621e8577a60\">\n",
              "    <div class=\"colab-df-container\">\n",
              "      <div>\n",
              "<style scoped>\n",
              "    .dataframe tbody tr th:only-of-type {\n",
              "        vertical-align: middle;\n",
              "    }\n",
              "\n",
              "    .dataframe tbody tr th {\n",
              "        vertical-align: top;\n",
              "    }\n",
              "\n",
              "    .dataframe thead th {\n",
              "        text-align: right;\n",
              "    }\n",
              "</style>\n",
              "<table border=\"1\" class=\"dataframe\">\n",
              "  <thead>\n",
              "    <tr style=\"text-align: right;\">\n",
              "      <th></th>\n",
              "      <th>0</th>\n",
              "      <th>1</th>\n",
              "      <th>2</th>\n",
              "      <th>3</th>\n",
              "      <th>4</th>\n",
              "    </tr>\n",
              "  </thead>\n",
              "  <tbody>\n",
              "    <tr>\n",
              "      <th>instant</th>\n",
              "      <td>1</td>\n",
              "      <td>2</td>\n",
              "      <td>3</td>\n",
              "      <td>4</td>\n",
              "      <td>5</td>\n",
              "    </tr>\n",
              "    <tr>\n",
              "      <th>dteday</th>\n",
              "      <td>1/1/2011</td>\n",
              "      <td>1/2/2011</td>\n",
              "      <td>1/3/2011</td>\n",
              "      <td>1/4/2011</td>\n",
              "      <td>1/5/2011</td>\n",
              "    </tr>\n",
              "    <tr>\n",
              "      <th>season</th>\n",
              "      <td>1</td>\n",
              "      <td>1</td>\n",
              "      <td>1</td>\n",
              "      <td>1</td>\n",
              "      <td>1</td>\n",
              "    </tr>\n",
              "    <tr>\n",
              "      <th>yr</th>\n",
              "      <td>0</td>\n",
              "      <td>0</td>\n",
              "      <td>0</td>\n",
              "      <td>0</td>\n",
              "      <td>0</td>\n",
              "    </tr>\n",
              "    <tr>\n",
              "      <th>mnth</th>\n",
              "      <td>1</td>\n",
              "      <td>1</td>\n",
              "      <td>1</td>\n",
              "      <td>1</td>\n",
              "      <td>1</td>\n",
              "    </tr>\n",
              "    <tr>\n",
              "      <th>holiday</th>\n",
              "      <td>0</td>\n",
              "      <td>0</td>\n",
              "      <td>0</td>\n",
              "      <td>0</td>\n",
              "      <td>0</td>\n",
              "    </tr>\n",
              "    <tr>\n",
              "      <th>weekday</th>\n",
              "      <td>6</td>\n",
              "      <td>0</td>\n",
              "      <td>1</td>\n",
              "      <td>2</td>\n",
              "      <td>3</td>\n",
              "    </tr>\n",
              "    <tr>\n",
              "      <th>workingday</th>\n",
              "      <td>0</td>\n",
              "      <td>0</td>\n",
              "      <td>1</td>\n",
              "      <td>1</td>\n",
              "      <td>1</td>\n",
              "    </tr>\n",
              "    <tr>\n",
              "      <th>weathersit</th>\n",
              "      <td>2</td>\n",
              "      <td>2</td>\n",
              "      <td>1</td>\n",
              "      <td>1</td>\n",
              "      <td>1</td>\n",
              "    </tr>\n",
              "    <tr>\n",
              "      <th>temp</th>\n",
              "      <td>0.344167</td>\n",
              "      <td>0.363478</td>\n",
              "      <td>0.196364</td>\n",
              "      <td>0.2</td>\n",
              "      <td>0.226957</td>\n",
              "    </tr>\n",
              "    <tr>\n",
              "      <th>atemp</th>\n",
              "      <td>0.363625</td>\n",
              "      <td>0.353739</td>\n",
              "      <td>0.189405</td>\n",
              "      <td>0.212122</td>\n",
              "      <td>0.22927</td>\n",
              "    </tr>\n",
              "    <tr>\n",
              "      <th>hum</th>\n",
              "      <td>0.805833</td>\n",
              "      <td>0.696087</td>\n",
              "      <td>0.437273</td>\n",
              "      <td>0.590435</td>\n",
              "      <td>0.436957</td>\n",
              "    </tr>\n",
              "    <tr>\n",
              "      <th>windspeed</th>\n",
              "      <td>0.160446</td>\n",
              "      <td>0.248539</td>\n",
              "      <td>0.248309</td>\n",
              "      <td>0.160296</td>\n",
              "      <td>0.1869</td>\n",
              "    </tr>\n",
              "    <tr>\n",
              "      <th>casual</th>\n",
              "      <td>331</td>\n",
              "      <td>131</td>\n",
              "      <td>120</td>\n",
              "      <td>108</td>\n",
              "      <td>82</td>\n",
              "    </tr>\n",
              "    <tr>\n",
              "      <th>registered</th>\n",
              "      <td>654</td>\n",
              "      <td>670</td>\n",
              "      <td>1229</td>\n",
              "      <td>1454</td>\n",
              "      <td>1518</td>\n",
              "    </tr>\n",
              "    <tr>\n",
              "      <th>cnt</th>\n",
              "      <td>985</td>\n",
              "      <td>801</td>\n",
              "      <td>1349</td>\n",
              "      <td>1562</td>\n",
              "      <td>1600</td>\n",
              "    </tr>\n",
              "  </tbody>\n",
              "</table>\n",
              "</div>\n",
              "      <button class=\"colab-df-convert\" onclick=\"convertToInteractive('df-acf3972b-f8fd-48bf-a8e7-2621e8577a60')\"\n",
              "              title=\"Convert this dataframe to an interactive table.\"\n",
              "              style=\"display:none;\">\n",
              "        \n",
              "  <svg xmlns=\"http://www.w3.org/2000/svg\" height=\"24px\"viewBox=\"0 0 24 24\"\n",
              "       width=\"24px\">\n",
              "    <path d=\"M0 0h24v24H0V0z\" fill=\"none\"/>\n",
              "    <path d=\"M18.56 5.44l.94 2.06.94-2.06 2.06-.94-2.06-.94-.94-2.06-.94 2.06-2.06.94zm-11 1L8.5 8.5l.94-2.06 2.06-.94-2.06-.94L8.5 2.5l-.94 2.06-2.06.94zm10 10l.94 2.06.94-2.06 2.06-.94-2.06-.94-.94-2.06-.94 2.06-2.06.94z\"/><path d=\"M17.41 7.96l-1.37-1.37c-.4-.4-.92-.59-1.43-.59-.52 0-1.04.2-1.43.59L10.3 9.45l-7.72 7.72c-.78.78-.78 2.05 0 2.83L4 21.41c.39.39.9.59 1.41.59.51 0 1.02-.2 1.41-.59l7.78-7.78 2.81-2.81c.8-.78.8-2.07 0-2.86zM5.41 20L4 18.59l7.72-7.72 1.47 1.35L5.41 20z\"/>\n",
              "  </svg>\n",
              "      </button>\n",
              "      \n",
              "  <style>\n",
              "    .colab-df-container {\n",
              "      display:flex;\n",
              "      flex-wrap:wrap;\n",
              "      gap: 12px;\n",
              "    }\n",
              "\n",
              "    .colab-df-convert {\n",
              "      background-color: #E8F0FE;\n",
              "      border: none;\n",
              "      border-radius: 50%;\n",
              "      cursor: pointer;\n",
              "      display: none;\n",
              "      fill: #1967D2;\n",
              "      height: 32px;\n",
              "      padding: 0 0 0 0;\n",
              "      width: 32px;\n",
              "    }\n",
              "\n",
              "    .colab-df-convert:hover {\n",
              "      background-color: #E2EBFA;\n",
              "      box-shadow: 0px 1px 2px rgba(60, 64, 67, 0.3), 0px 1px 3px 1px rgba(60, 64, 67, 0.15);\n",
              "      fill: #174EA6;\n",
              "    }\n",
              "\n",
              "    [theme=dark] .colab-df-convert {\n",
              "      background-color: #3B4455;\n",
              "      fill: #D2E3FC;\n",
              "    }\n",
              "\n",
              "    [theme=dark] .colab-df-convert:hover {\n",
              "      background-color: #434B5C;\n",
              "      box-shadow: 0px 1px 3px 1px rgba(0, 0, 0, 0.15);\n",
              "      filter: drop-shadow(0px 1px 2px rgba(0, 0, 0, 0.3));\n",
              "      fill: #FFFFFF;\n",
              "    }\n",
              "  </style>\n",
              "\n",
              "      <script>\n",
              "        const buttonEl =\n",
              "          document.querySelector('#df-acf3972b-f8fd-48bf-a8e7-2621e8577a60 button.colab-df-convert');\n",
              "        buttonEl.style.display =\n",
              "          google.colab.kernel.accessAllowed ? 'block' : 'none';\n",
              "\n",
              "        async function convertToInteractive(key) {\n",
              "          const element = document.querySelector('#df-acf3972b-f8fd-48bf-a8e7-2621e8577a60');\n",
              "          const dataTable =\n",
              "            await google.colab.kernel.invokeFunction('convertToInteractive',\n",
              "                                                     [key], {});\n",
              "          if (!dataTable) return;\n",
              "\n",
              "          const docLinkHtml = 'Like what you see? Visit the ' +\n",
              "            '<a target=\"_blank\" href=https://colab.research.google.com/notebooks/data_table.ipynb>data table notebook</a>'\n",
              "            + ' to learn more about interactive tables.';\n",
              "          element.innerHTML = '';\n",
              "          dataTable['output_type'] = 'display_data';\n",
              "          await google.colab.output.renderOutput(dataTable, element);\n",
              "          const docLink = document.createElement('div');\n",
              "          docLink.innerHTML = docLinkHtml;\n",
              "          element.appendChild(docLink);\n",
              "        }\n",
              "      </script>\n",
              "    </div>\n",
              "  </div>\n",
              "  "
            ]
          },
          "metadata": {},
          "execution_count": 6
        }
      ]
    },
    {
      "cell_type": "code",
      "source": [
        "df.columns"
      ],
      "metadata": {
        "colab": {
          "base_uri": "https://localhost:8080/"
        },
        "id": "xTzYEmYBdk33",
        "outputId": "0765489a-089a-4703-87fd-673092e8484b"
      },
      "execution_count": 7,
      "outputs": [
        {
          "output_type": "execute_result",
          "data": {
            "text/plain": [
              "Index(['instant', 'dteday', 'season', 'yr', 'mnth', 'holiday', 'weekday',\n",
              "       'workingday', 'weathersit', 'temp', 'atemp', 'hum', 'windspeed',\n",
              "       'casual', 'registered', 'cnt'],\n",
              "      dtype='object')"
            ]
          },
          "metadata": {},
          "execution_count": 7
        }
      ]
    },
    {
      "cell_type": "code",
      "source": [
        "df.info()"
      ],
      "metadata": {
        "colab": {
          "base_uri": "https://localhost:8080/"
        },
        "id": "6WEhsJ17XcoL",
        "outputId": "b3d21b9f-b9a0-4b17-81ea-1ccb52240fa7"
      },
      "execution_count": 8,
      "outputs": [
        {
          "output_type": "stream",
          "name": "stdout",
          "text": [
            "<class 'pandas.core.frame.DataFrame'>\n",
            "RangeIndex: 731 entries, 0 to 730\n",
            "Data columns (total 16 columns):\n",
            " #   Column      Non-Null Count  Dtype  \n",
            "---  ------      --------------  -----  \n",
            " 0   instant     731 non-null    int64  \n",
            " 1   dteday      731 non-null    object \n",
            " 2   season      731 non-null    int64  \n",
            " 3   yr          731 non-null    int64  \n",
            " 4   mnth        731 non-null    int64  \n",
            " 5   holiday     731 non-null    int64  \n",
            " 6   weekday     731 non-null    int64  \n",
            " 7   workingday  731 non-null    int64  \n",
            " 8   weathersit  731 non-null    int64  \n",
            " 9   temp        731 non-null    float64\n",
            " 10  atemp       731 non-null    float64\n",
            " 11  hum         731 non-null    float64\n",
            " 12  windspeed   731 non-null    float64\n",
            " 13  casual      731 non-null    int64  \n",
            " 14  registered  731 non-null    int64  \n",
            " 15  cnt         731 non-null    int64  \n",
            "dtypes: float64(4), int64(11), object(1)\n",
            "memory usage: 91.5+ KB\n"
          ]
        }
      ]
    },
    {
      "cell_type": "code",
      "source": [
        "df =df.drop(['dteday'], axis =1)"
      ],
      "metadata": {
        "id": "tixF9BpO7Zj1"
      },
      "execution_count": 9,
      "outputs": []
    },
    {
      "cell_type": "code",
      "source": [
        "df.head().T"
      ],
      "metadata": {
        "colab": {
          "base_uri": "https://localhost:8080/",
          "height": 519
        },
        "id": "Kr4CflMh7f1e",
        "outputId": "9a82a5ef-da7a-4bea-db8a-991438ca542f"
      },
      "execution_count": 10,
      "outputs": [
        {
          "output_type": "execute_result",
          "data": {
            "text/plain": [
              "                     0           1            2            3            4\n",
              "instant       1.000000    2.000000     3.000000     4.000000     5.000000\n",
              "season        1.000000    1.000000     1.000000     1.000000     1.000000\n",
              "yr            0.000000    0.000000     0.000000     0.000000     0.000000\n",
              "mnth          1.000000    1.000000     1.000000     1.000000     1.000000\n",
              "holiday       0.000000    0.000000     0.000000     0.000000     0.000000\n",
              "weekday       6.000000    0.000000     1.000000     2.000000     3.000000\n",
              "workingday    0.000000    0.000000     1.000000     1.000000     1.000000\n",
              "weathersit    2.000000    2.000000     1.000000     1.000000     1.000000\n",
              "temp          0.344167    0.363478     0.196364     0.200000     0.226957\n",
              "atemp         0.363625    0.353739     0.189405     0.212122     0.229270\n",
              "hum           0.805833    0.696087     0.437273     0.590435     0.436957\n",
              "windspeed     0.160446    0.248539     0.248309     0.160296     0.186900\n",
              "casual      331.000000  131.000000   120.000000   108.000000    82.000000\n",
              "registered  654.000000  670.000000  1229.000000  1454.000000  1518.000000\n",
              "cnt         985.000000  801.000000  1349.000000  1562.000000  1600.000000"
            ],
            "text/html": [
              "\n",
              "  <div id=\"df-63a368e5-05fe-440f-88bf-ae71f20e1aae\">\n",
              "    <div class=\"colab-df-container\">\n",
              "      <div>\n",
              "<style scoped>\n",
              "    .dataframe tbody tr th:only-of-type {\n",
              "        vertical-align: middle;\n",
              "    }\n",
              "\n",
              "    .dataframe tbody tr th {\n",
              "        vertical-align: top;\n",
              "    }\n",
              "\n",
              "    .dataframe thead th {\n",
              "        text-align: right;\n",
              "    }\n",
              "</style>\n",
              "<table border=\"1\" class=\"dataframe\">\n",
              "  <thead>\n",
              "    <tr style=\"text-align: right;\">\n",
              "      <th></th>\n",
              "      <th>0</th>\n",
              "      <th>1</th>\n",
              "      <th>2</th>\n",
              "      <th>3</th>\n",
              "      <th>4</th>\n",
              "    </tr>\n",
              "  </thead>\n",
              "  <tbody>\n",
              "    <tr>\n",
              "      <th>instant</th>\n",
              "      <td>1.000000</td>\n",
              "      <td>2.000000</td>\n",
              "      <td>3.000000</td>\n",
              "      <td>4.000000</td>\n",
              "      <td>5.000000</td>\n",
              "    </tr>\n",
              "    <tr>\n",
              "      <th>season</th>\n",
              "      <td>1.000000</td>\n",
              "      <td>1.000000</td>\n",
              "      <td>1.000000</td>\n",
              "      <td>1.000000</td>\n",
              "      <td>1.000000</td>\n",
              "    </tr>\n",
              "    <tr>\n",
              "      <th>yr</th>\n",
              "      <td>0.000000</td>\n",
              "      <td>0.000000</td>\n",
              "      <td>0.000000</td>\n",
              "      <td>0.000000</td>\n",
              "      <td>0.000000</td>\n",
              "    </tr>\n",
              "    <tr>\n",
              "      <th>mnth</th>\n",
              "      <td>1.000000</td>\n",
              "      <td>1.000000</td>\n",
              "      <td>1.000000</td>\n",
              "      <td>1.000000</td>\n",
              "      <td>1.000000</td>\n",
              "    </tr>\n",
              "    <tr>\n",
              "      <th>holiday</th>\n",
              "      <td>0.000000</td>\n",
              "      <td>0.000000</td>\n",
              "      <td>0.000000</td>\n",
              "      <td>0.000000</td>\n",
              "      <td>0.000000</td>\n",
              "    </tr>\n",
              "    <tr>\n",
              "      <th>weekday</th>\n",
              "      <td>6.000000</td>\n",
              "      <td>0.000000</td>\n",
              "      <td>1.000000</td>\n",
              "      <td>2.000000</td>\n",
              "      <td>3.000000</td>\n",
              "    </tr>\n",
              "    <tr>\n",
              "      <th>workingday</th>\n",
              "      <td>0.000000</td>\n",
              "      <td>0.000000</td>\n",
              "      <td>1.000000</td>\n",
              "      <td>1.000000</td>\n",
              "      <td>1.000000</td>\n",
              "    </tr>\n",
              "    <tr>\n",
              "      <th>weathersit</th>\n",
              "      <td>2.000000</td>\n",
              "      <td>2.000000</td>\n",
              "      <td>1.000000</td>\n",
              "      <td>1.000000</td>\n",
              "      <td>1.000000</td>\n",
              "    </tr>\n",
              "    <tr>\n",
              "      <th>temp</th>\n",
              "      <td>0.344167</td>\n",
              "      <td>0.363478</td>\n",
              "      <td>0.196364</td>\n",
              "      <td>0.200000</td>\n",
              "      <td>0.226957</td>\n",
              "    </tr>\n",
              "    <tr>\n",
              "      <th>atemp</th>\n",
              "      <td>0.363625</td>\n",
              "      <td>0.353739</td>\n",
              "      <td>0.189405</td>\n",
              "      <td>0.212122</td>\n",
              "      <td>0.229270</td>\n",
              "    </tr>\n",
              "    <tr>\n",
              "      <th>hum</th>\n",
              "      <td>0.805833</td>\n",
              "      <td>0.696087</td>\n",
              "      <td>0.437273</td>\n",
              "      <td>0.590435</td>\n",
              "      <td>0.436957</td>\n",
              "    </tr>\n",
              "    <tr>\n",
              "      <th>windspeed</th>\n",
              "      <td>0.160446</td>\n",
              "      <td>0.248539</td>\n",
              "      <td>0.248309</td>\n",
              "      <td>0.160296</td>\n",
              "      <td>0.186900</td>\n",
              "    </tr>\n",
              "    <tr>\n",
              "      <th>casual</th>\n",
              "      <td>331.000000</td>\n",
              "      <td>131.000000</td>\n",
              "      <td>120.000000</td>\n",
              "      <td>108.000000</td>\n",
              "      <td>82.000000</td>\n",
              "    </tr>\n",
              "    <tr>\n",
              "      <th>registered</th>\n",
              "      <td>654.000000</td>\n",
              "      <td>670.000000</td>\n",
              "      <td>1229.000000</td>\n",
              "      <td>1454.000000</td>\n",
              "      <td>1518.000000</td>\n",
              "    </tr>\n",
              "    <tr>\n",
              "      <th>cnt</th>\n",
              "      <td>985.000000</td>\n",
              "      <td>801.000000</td>\n",
              "      <td>1349.000000</td>\n",
              "      <td>1562.000000</td>\n",
              "      <td>1600.000000</td>\n",
              "    </tr>\n",
              "  </tbody>\n",
              "</table>\n",
              "</div>\n",
              "      <button class=\"colab-df-convert\" onclick=\"convertToInteractive('df-63a368e5-05fe-440f-88bf-ae71f20e1aae')\"\n",
              "              title=\"Convert this dataframe to an interactive table.\"\n",
              "              style=\"display:none;\">\n",
              "        \n",
              "  <svg xmlns=\"http://www.w3.org/2000/svg\" height=\"24px\"viewBox=\"0 0 24 24\"\n",
              "       width=\"24px\">\n",
              "    <path d=\"M0 0h24v24H0V0z\" fill=\"none\"/>\n",
              "    <path d=\"M18.56 5.44l.94 2.06.94-2.06 2.06-.94-2.06-.94-.94-2.06-.94 2.06-2.06.94zm-11 1L8.5 8.5l.94-2.06 2.06-.94-2.06-.94L8.5 2.5l-.94 2.06-2.06.94zm10 10l.94 2.06.94-2.06 2.06-.94-2.06-.94-.94-2.06-.94 2.06-2.06.94z\"/><path d=\"M17.41 7.96l-1.37-1.37c-.4-.4-.92-.59-1.43-.59-.52 0-1.04.2-1.43.59L10.3 9.45l-7.72 7.72c-.78.78-.78 2.05 0 2.83L4 21.41c.39.39.9.59 1.41.59.51 0 1.02-.2 1.41-.59l7.78-7.78 2.81-2.81c.8-.78.8-2.07 0-2.86zM5.41 20L4 18.59l7.72-7.72 1.47 1.35L5.41 20z\"/>\n",
              "  </svg>\n",
              "      </button>\n",
              "      \n",
              "  <style>\n",
              "    .colab-df-container {\n",
              "      display:flex;\n",
              "      flex-wrap:wrap;\n",
              "      gap: 12px;\n",
              "    }\n",
              "\n",
              "    .colab-df-convert {\n",
              "      background-color: #E8F0FE;\n",
              "      border: none;\n",
              "      border-radius: 50%;\n",
              "      cursor: pointer;\n",
              "      display: none;\n",
              "      fill: #1967D2;\n",
              "      height: 32px;\n",
              "      padding: 0 0 0 0;\n",
              "      width: 32px;\n",
              "    }\n",
              "\n",
              "    .colab-df-convert:hover {\n",
              "      background-color: #E2EBFA;\n",
              "      box-shadow: 0px 1px 2px rgba(60, 64, 67, 0.3), 0px 1px 3px 1px rgba(60, 64, 67, 0.15);\n",
              "      fill: #174EA6;\n",
              "    }\n",
              "\n",
              "    [theme=dark] .colab-df-convert {\n",
              "      background-color: #3B4455;\n",
              "      fill: #D2E3FC;\n",
              "    }\n",
              "\n",
              "    [theme=dark] .colab-df-convert:hover {\n",
              "      background-color: #434B5C;\n",
              "      box-shadow: 0px 1px 3px 1px rgba(0, 0, 0, 0.15);\n",
              "      filter: drop-shadow(0px 1px 2px rgba(0, 0, 0, 0.3));\n",
              "      fill: #FFFFFF;\n",
              "    }\n",
              "  </style>\n",
              "\n",
              "      <script>\n",
              "        const buttonEl =\n",
              "          document.querySelector('#df-63a368e5-05fe-440f-88bf-ae71f20e1aae button.colab-df-convert');\n",
              "        buttonEl.style.display =\n",
              "          google.colab.kernel.accessAllowed ? 'block' : 'none';\n",
              "\n",
              "        async function convertToInteractive(key) {\n",
              "          const element = document.querySelector('#df-63a368e5-05fe-440f-88bf-ae71f20e1aae');\n",
              "          const dataTable =\n",
              "            await google.colab.kernel.invokeFunction('convertToInteractive',\n",
              "                                                     [key], {});\n",
              "          if (!dataTable) return;\n",
              "\n",
              "          const docLinkHtml = 'Like what you see? Visit the ' +\n",
              "            '<a target=\"_blank\" href=https://colab.research.google.com/notebooks/data_table.ipynb>data table notebook</a>'\n",
              "            + ' to learn more about interactive tables.';\n",
              "          element.innerHTML = '';\n",
              "          dataTable['output_type'] = 'display_data';\n",
              "          await google.colab.output.renderOutput(dataTable, element);\n",
              "          const docLink = document.createElement('div');\n",
              "          docLink.innerHTML = docLinkHtml;\n",
              "          element.appendChild(docLink);\n",
              "        }\n",
              "      </script>\n",
              "    </div>\n",
              "  </div>\n",
              "  "
            ]
          },
          "metadata": {},
          "execution_count": 10
        }
      ]
    },
    {
      "cell_type": "code",
      "source": [
        "df[['instant', 'season', 'yr', 'mnth', 'holiday', 'weekday',\n",
        "       'workingday', 'weathersit', 'temp', 'atemp', 'hum', 'windspeed',\n",
        "       'casual', 'registered', 'cnt']] = df[['instant', 'season', 'yr', 'mnth', 'holiday', 'weekday',\n",
        "       'workingday', 'weathersit', 'temp', 'atemp', 'hum', 'windspeed',\n",
        "       'casual', 'registered', 'cnt']].astype('float64')"
      ],
      "metadata": {
        "id": "2xvFWI8OX0k7"
      },
      "execution_count": 11,
      "outputs": []
    },
    {
      "cell_type": "code",
      "source": [
        "df.info()"
      ],
      "metadata": {
        "colab": {
          "base_uri": "https://localhost:8080/"
        },
        "id": "dX_nTU8JX__i",
        "outputId": "c7b520da-3ca9-4668-8474-28a133554dc8"
      },
      "execution_count": 12,
      "outputs": [
        {
          "output_type": "stream",
          "name": "stdout",
          "text": [
            "<class 'pandas.core.frame.DataFrame'>\n",
            "RangeIndex: 731 entries, 0 to 730\n",
            "Data columns (total 15 columns):\n",
            " #   Column      Non-Null Count  Dtype  \n",
            "---  ------      --------------  -----  \n",
            " 0   instant     731 non-null    float64\n",
            " 1   season      731 non-null    float64\n",
            " 2   yr          731 non-null    float64\n",
            " 3   mnth        731 non-null    float64\n",
            " 4   holiday     731 non-null    float64\n",
            " 5   weekday     731 non-null    float64\n",
            " 6   workingday  731 non-null    float64\n",
            " 7   weathersit  731 non-null    float64\n",
            " 8   temp        731 non-null    float64\n",
            " 9   atemp       731 non-null    float64\n",
            " 10  hum         731 non-null    float64\n",
            " 11  windspeed   731 non-null    float64\n",
            " 12  casual      731 non-null    float64\n",
            " 13  registered  731 non-null    float64\n",
            " 14  cnt         731 non-null    float64\n",
            "dtypes: float64(15)\n",
            "memory usage: 85.8 KB\n"
          ]
        }
      ]
    },
    {
      "cell_type": "markdown",
      "source": [
        "#Split Data Here"
      ],
      "metadata": {
        "id": "lkL9nK1peKjX"
      }
    },
    {
      "cell_type": "code",
      "source": [
        "X = df.drop(['cnt'], axis = 1)\n",
        "Y = df['cnt']"
      ],
      "metadata": {
        "id": "HmFjfsF5eRAn"
      },
      "execution_count": 13,
      "outputs": []
    },
    {
      "cell_type": "code",
      "source": [
        "Y.value_counts()"
      ],
      "metadata": {
        "colab": {
          "base_uri": "https://localhost:8080/"
        },
        "id": "bFC8LJx_eZEf",
        "outputId": "c4c91468-e548-4927-ef83-bfbe2a295e95"
      },
      "execution_count": 14,
      "outputs": [
        {
          "output_type": "execute_result",
          "data": {
            "text/plain": [
              "5409.0    2\n",
              "2424.0    2\n",
              "5698.0    2\n",
              "4459.0    2\n",
              "5119.0    2\n",
              "         ..\n",
              "5046.0    1\n",
              "4713.0    1\n",
              "4763.0    1\n",
              "4785.0    1\n",
              "2729.0    1\n",
              "Name: cnt, Length: 696, dtype: int64"
            ]
          },
          "metadata": {},
          "execution_count": 14
        }
      ]
    },
    {
      "cell_type": "code",
      "source": [
        "X_train, X_test, y_train, y_test = train_test_split(X, Y, test_size = 0.2, random_state= 1)"
      ],
      "metadata": {
        "id": "R725oGxWeb8f"
      },
      "execution_count": 15,
      "outputs": []
    },
    {
      "cell_type": "code",
      "source": [
        "print(\"X_train shape is \", X_train.shape) \n",
        "print(\"Y_train shape is \", y_train.shape) \n",
        "print(\"X_test shape is \", X_test.shape)\n",
        "print(\"Y_test shape is \", y_test.shape)"
      ],
      "metadata": {
        "colab": {
          "base_uri": "https://localhost:8080/"
        },
        "id": "3RFMTDlJeuPX",
        "outputId": "2c306e92-ab34-460b-99d1-261b1e4441ac"
      },
      "execution_count": 16,
      "outputs": [
        {
          "output_type": "stream",
          "name": "stdout",
          "text": [
            "X_train shape is  (584, 14)\n",
            "Y_train shape is  (584,)\n",
            "X_test shape is  (147, 14)\n",
            "Y_test shape is  (147,)\n"
          ]
        }
      ]
    },
    {
      "cell_type": "markdown",
      "source": [
        "#Building Model Architecture"
      ],
      "metadata": {
        "id": "SS8rM4E0g7P3"
      }
    },
    {
      "cell_type": "markdown",
      "source": [
        "##Drop Out"
      ],
      "metadata": {
        "id": "bGBKmlGVYwfp"
      }
    },
    {
      "cell_type": "code",
      "source": [
        "#Building a linear stack of layers with the sequantial model\n",
        "L1 = 200\n",
        "L2 = 100\n",
        "L3 = 50 \n",
        "\n",
        "model = Sequential()\n",
        "model.add(Dense(L1, input_dim = 14, activation = 'relu'))#first hidden layer (need to add input dimension)\n",
        "model.add(Dropout(rate = 0.2))\n",
        "model.add(Dense(L2, activation= 'relu'))# second hidden layer (do not need to add input dimension))\n",
        "model.add(Dropout(rate = 0.2))\n",
        "model.add(Dense(L3, activation= 'relu'))\n",
        "model.add(Dropout(rate = 0.2))\n",
        "\n",
        "#output layer (Softmax = multinominal)* because of multiclass\n",
        "model.add(Dense(1, activation= 'linear'))"
      ],
      "metadata": {
        "id": "Fd437crMg_n2"
      },
      "execution_count": 17,
      "outputs": []
    },
    {
      "cell_type": "code",
      "source": [
        "#Compiling the sequantial model\n",
        "model.compile(loss = 'mse', metrics = ['mae'], optimizer = 'adam')"
      ],
      "metadata": {
        "id": "7REFPghIijSu"
      },
      "execution_count": 18,
      "outputs": []
    },
    {
      "cell_type": "code",
      "source": [
        "history = model.fit(X_train, y_train, epochs =10, batch_size = 100, validation_data = (X_test, y_test))"
      ],
      "metadata": {
        "colab": {
          "base_uri": "https://localhost:8080/"
        },
        "id": "we1sPa_3Y_Ia",
        "outputId": "7264db40-7f77-4d49-ed63-bb3a6a7a446f"
      },
      "execution_count": 19,
      "outputs": [
        {
          "output_type": "stream",
          "name": "stdout",
          "text": [
            "Epoch 1/10\n",
            "6/6 [==============================] - 6s 44ms/step - loss: 21943542.0000 - mae: 4282.1011 - val_loss: 11583311.0000 - val_mae: 3082.1248\n",
            "Epoch 2/10\n",
            "6/6 [==============================] - 0s 12ms/step - loss: 8945254.0000 - mae: 2662.5000 - val_loss: 2122449.5000 - val_mae: 1284.7313\n",
            "Epoch 3/10\n",
            "6/6 [==============================] - 0s 8ms/step - loss: 1577220.3750 - mae: 971.3293 - val_loss: 1253430.5000 - val_mae: 970.7990\n",
            "Epoch 4/10\n",
            "6/6 [==============================] - 0s 12ms/step - loss: 2866316.7500 - mae: 1313.4247 - val_loss: 396556.8125 - val_mae: 537.6014\n",
            "Epoch 5/10\n",
            "6/6 [==============================] - 0s 10ms/step - loss: 1256372.1250 - mae: 843.8168 - val_loss: 495316.3125 - val_mae: 579.0717\n",
            "Epoch 6/10\n",
            "6/6 [==============================] - 0s 9ms/step - loss: 1338970.2500 - mae: 861.1968 - val_loss: 793444.0000 - val_mae: 769.4721\n",
            "Epoch 7/10\n",
            "6/6 [==============================] - 0s 12ms/step - loss: 1243273.1250 - mae: 814.2945 - val_loss: 271075.2188 - val_mae: 414.2046\n",
            "Epoch 8/10\n",
            "6/6 [==============================] - 0s 9ms/step - loss: 1063717.3750 - mae: 767.4172 - val_loss: 56998.6992 - val_mae: 159.7584\n",
            "Epoch 9/10\n",
            "6/6 [==============================] - 0s 12ms/step - loss: 1003918.3750 - mae: 753.7398 - val_loss: 131756.2031 - val_mae: 276.2946\n",
            "Epoch 10/10\n",
            "6/6 [==============================] - 0s 8ms/step - loss: 966414.6875 - mae: 720.0159 - val_loss: 231659.2031 - val_mae: 408.5207\n"
          ]
        }
      ]
    },
    {
      "cell_type": "code",
      "source": [
        "mae2 = history.history['mae']\n",
        "val_mae = history.history['val_mae']\n",
        "loss2 = history.history['loss']\n",
        "val_loss = history.history['val_loss']\n",
        "\n",
        "epochs = range(1, len(mae2)+1)\n",
        "\n",
        "plt.plot(epochs, mae2, 'b', label = 'Train MAE')\n",
        "plt.plot(epochs, val_mae, 'r', label = 'Test MAE')\n",
        "plt.legend()\n",
        "plt.figure()\n",
        "\n",
        "plt.plot(epochs, loss2, 'b', label = 'Train Loss')\n",
        "plt.plot(epochs, val_loss, 'r', label = 'Test Loss')\n",
        "plt.legend()\n",
        "plt.figure()"
      ],
      "metadata": {
        "colab": {
          "base_uri": "https://localhost:8080/",
          "height": 893
        },
        "id": "lHZYQkg4ZDv1",
        "outputId": "81875b25-9524-43e2-bd31-f70418698ea2"
      },
      "execution_count": 20,
      "outputs": [
        {
          "output_type": "execute_result",
          "data": {
            "text/plain": [
              "<Figure size 640x480 with 0 Axes>"
            ]
          },
          "metadata": {},
          "execution_count": 20
        },
        {
          "output_type": "display_data",
          "data": {
            "text/plain": [
              "<Figure size 640x480 with 1 Axes>"
            ],
            "image/png": "[encoded data removed]"
          },
          "metadata": {}
        },
        {
          "output_type": "display_data",
          "data": {
            "text/plain": [
              "<Figure size 640x480 with 1 Axes>"
            ],
            "image/png": "[encoded data removed]"
          },
          "metadata": {}
        },
        {
          "output_type": "display_data",
          "data": {
            "text/plain": [
              "<Figure size 640x480 with 0 Axes>"
            ]
          },
          "metadata": {}
        }
      ]
    },
    {
      "cell_type": "markdown",
      "source": [
        "##Initializer & Regularizer"
      ],
      "metadata": {
        "id": "Jc0Zpv0TZIqK"
      }
    },
    {
      "cell_type": "code",
      "source": [
        "#Building a linear stack of layers with the sequantial model\n",
        "L1 = 200\n",
        "L2 = 100\n",
        "L3 = 50 \n",
        "\n",
        "model2 = Sequential()\n",
        "model2.add(Dense(L1, input_dim = 14, activation = 'relu',kernel_initializer='he_normal', kernel_regularizer= regularizers.l1(0.01)))#first hidden layer (need to add input dimension)\n",
        "model2.add(Dense(L2, activation= 'relu'))# second hidden layer (do not need to add input dimension))\n",
        "model2.add(Dense(L3, activation= 'relu'))\n",
        "\n",
        "\n",
        "#output layer (Softmax = multinominal)* because of multiclass\n",
        "model2.add(Dense(1, activation= 'linear'))"
      ],
      "metadata": {
        "id": "Y7eCsaZaZL26"
      },
      "execution_count": 21,
      "outputs": []
    },
    {
      "cell_type": "code",
      "source": [
        "#Compiling the sequantial model\n",
        "model2.compile(loss = 'mse', metrics = ['mae'], optimizer = 'adam')"
      ],
      "metadata": {
        "id": "GnzHMX9YZQTK"
      },
      "execution_count": 22,
      "outputs": []
    },
    {
      "cell_type": "code",
      "source": [
        "history2 = model2.fit(X_train, y_train, epochs =10, batch_size = 100, validation_data = (X_test, y_test))"
      ],
      "metadata": {
        "colab": {
          "base_uri": "https://localhost:8080/"
        },
        "id": "vaJDwPaxZSoq",
        "outputId": "8ab224e5-33d2-4001-8401-9cd19af86a43"
      },
      "execution_count": 23,
      "outputs": [
        {
          "output_type": "stream",
          "name": "stdout",
          "text": [
            "Epoch 1/10\n",
            "6/6 [==============================] - 5s 115ms/step - loss: 3406647.7500 - mae: 1389.7811 - val_loss: 2165992.0000 - val_mae: 1326.0415\n",
            "Epoch 2/10\n",
            "6/6 [==============================] - 0s 22ms/step - loss: 1041828.9375 - mae: 799.8322 - val_loss: 161514.9062 - val_mae: 319.2934\n",
            "Epoch 3/10\n",
            "6/6 [==============================] - 0s 37ms/step - loss: 503889.3750 - mae: 617.7980 - val_loss: 216803.1094 - val_mae: 388.9959\n",
            "Epoch 4/10\n",
            "6/6 [==============================] - 0s 15ms/step - loss: 128916.1250 - mae: 281.8642 - val_loss: 211142.7969 - val_mae: 396.7585\n",
            "Epoch 5/10\n",
            "6/6 [==============================] - 0s 15ms/step - loss: 158688.7500 - mae: 335.9370 - val_loss: 16072.6465 - val_mae: 100.1548\n",
            "Epoch 6/10\n",
            "6/6 [==============================] - 0s 14ms/step - loss: 51748.5742 - mae: 184.0544 - val_loss: 61729.0469 - val_mae: 212.6584\n",
            "Epoch 7/10\n",
            "6/6 [==============================] - 0s 13ms/step - loss: 30173.9512 - mae: 132.5731 - val_loss: 21297.7012 - val_mae: 125.6712\n",
            "Epoch 8/10\n",
            "6/6 [==============================] - 0s 12ms/step - loss: 27130.7793 - mae: 143.3937 - val_loss: 3823.1777 - val_mae: 44.4725\n",
            "Epoch 9/10\n",
            "6/6 [==============================] - 0s 10ms/step - loss: 11218.4785 - mae: 84.5026 - val_loss: 5133.3989 - val_mae: 52.8629\n",
            "Epoch 10/10\n",
            "6/6 [==============================] - 0s 9ms/step - loss: 3778.2856 - mae: 47.8779 - val_loss: 6066.9810 - val_mae: 60.8928\n"
          ]
        }
      ]
    },
    {
      "cell_type": "code",
      "source": [
        "mae2 = history2.history['mae']\n",
        "val_mae = history2.history['val_mae']\n",
        "loss2 = history2.history['loss']\n",
        "val_loss = history2.history['val_loss']\n",
        "\n",
        "epochs = range(1, len(mae2)+1)\n",
        "\n",
        "plt.plot(epochs, mae2, 'b', label = 'Train MAE')\n",
        "plt.plot(epochs, val_mae, 'r', label = 'Test MAE')\n",
        "plt.legend()\n",
        "plt.figure()\n",
        "\n",
        "plt.plot(epochs, loss2, 'b', label = 'Train Loss')\n",
        "plt.plot(epochs, val_loss, 'r', label = 'Test Loss')\n",
        "plt.legend()\n",
        "plt.figure()"
      ],
      "metadata": {
        "colab": {
          "base_uri": "https://localhost:8080/",
          "height": 893
        },
        "id": "fCLbflSYZVlK",
        "outputId": "9f1c7187-998c-4330-d46f-b7fe0bc8d18d"
      },
      "execution_count": 24,
      "outputs": [
        {
          "output_type": "execute_result",
          "data": {
            "text/plain": [
              "<Figure size 640x480 with 0 Axes>"
            ]
          },
          "metadata": {},
          "execution_count": 24
        },
        {
          "output_type": "display_data",
          "data": {
            "text/plain": [
              "<Figure size 640x480 with 1 Axes>"
            ],
            "image/png": "[encoded data removed]"
          },
          "metadata": {}
        },
        {
          "output_type": "display_data",
          "data": {
            "text/plain": [
              "<Figure size 640x480 with 1 Axes>"
            ],
            "image/png": "[encoded data removed]"
          },
          "metadata": {}
        },
        {
          "output_type": "display_data",
          "data": {
            "text/plain": [
              "<Figure size 640x480 with 0 Axes>"
            ]
          },
          "metadata": {}
        }
      ]
    },
    {
      "cell_type": "markdown",
      "source": [
        "##Early Stop"
      ],
      "metadata": {
        "id": "HUG9eYrpZZHS"
      }
    },
    {
      "cell_type": "code",
      "source": [
        "#Building a linear stack of layers with the sequantial model\n",
        "L1 = 200\n",
        "L2 = 100\n",
        "L3 = 50 \n",
        "\n",
        "model3 = Sequential()\n",
        "model3.add(Dense(L1, input_dim = 14, activation = 'relu'))#first hidden layer (need to add input dimension)\n",
        "model3.add(Dropout(rate = 0.2))\n",
        "model3.add(Dense(L2, activation= 'relu'))# second hidden layer (do not need to add input dimension))\n",
        "model3.add(Dropout(rate = 0.2))\n",
        "model3.add(Dense(L3, activation= 'relu'))\n",
        "model3.add(Dropout(rate = 0.2))\n",
        "model3.add(Dense(L3, activation= 'relu'))\n",
        "model3.add(Dropout(rate = 0.2))\n",
        "\n",
        "#output layer (Softmax = multinominal)* because of multiclass\n",
        "model3.add(Dense(1, activation= 'linear'))"
      ],
      "metadata": {
        "id": "_4Vrl6tqZdMI"
      },
      "execution_count": 25,
      "outputs": []
    },
    {
      "cell_type": "code",
      "source": [
        "#Compiling the sequantial model\n",
        "model3.compile(loss = 'mse', metrics = ['mae'], optimizer = 'adam')"
      ],
      "metadata": {
        "id": "P7bZTD90Zi_x"
      },
      "execution_count": 26,
      "outputs": []
    },
    {
      "cell_type": "code",
      "source": [
        "early_stopping_monitor =EarlyStopping(patience = 6 ) #stop if no improvement after 6 times\n",
        "\n",
        "history3 = model3.fit(X_train, y_train, epochs =30, batch_size = 100, validation_data = (X_test, y_test), callbacks= [early_stopping_monitor])"
      ],
      "metadata": {
        "colab": {
          "base_uri": "https://localhost:8080/"
        },
        "id": "UadGbph7ZoTg",
        "outputId": "b946d68f-d39d-4578-d839-297e89d44a31"
      },
      "execution_count": 27,
      "outputs": [
        {
          "output_type": "stream",
          "name": "stdout",
          "text": [
            "Epoch 1/30\n",
            "6/6 [==============================] - 3s 39ms/step - loss: 23605782.0000 - mae: 4463.8481 - val_loss: 14691816.0000 - val_mae: 3473.7244\n",
            "Epoch 2/30\n",
            "6/6 [==============================] - 0s 18ms/step - loss: 12999215.0000 - mae: 3260.4529 - val_loss: 5167541.0000 - val_mae: 2046.0186\n",
            "Epoch 3/30\n",
            "6/6 [==============================] - 0s 16ms/step - loss: 3669197.2500 - mae: 1529.1975 - val_loss: 153809.5781 - val_mae: 333.1683\n",
            "Epoch 4/30\n",
            "6/6 [==============================] - 0s 16ms/step - loss: 3236082.0000 - mae: 1340.1431 - val_loss: 665292.1875 - val_mae: 697.5703\n",
            "Epoch 5/30\n",
            "6/6 [==============================] - 0s 16ms/step - loss: 2570582.5000 - mae: 1175.6725 - val_loss: 319079.1250 - val_mae: 442.4099\n",
            "Epoch 6/30\n",
            "6/6 [==============================] - 0s 15ms/step - loss: 1970423.5000 - mae: 1042.2129 - val_loss: 914224.6250 - val_mae: 830.8592\n",
            "Epoch 7/30\n",
            "6/6 [==============================] - 0s 12ms/step - loss: 1918894.0000 - mae: 1054.5656 - val_loss: 420494.9375 - val_mae: 551.5562\n",
            "Epoch 8/30\n",
            "6/6 [==============================] - 0s 16ms/step - loss: 1502388.1250 - mae: 917.0486 - val_loss: 42394.8672 - val_mae: 159.2642\n",
            "Epoch 9/30\n",
            "6/6 [==============================] - 0s 15ms/step - loss: 1588922.0000 - mae: 924.1672 - val_loss: 43827.4844 - val_mae: 164.3179\n",
            "Epoch 10/30\n",
            "6/6 [==============================] - 0s 15ms/step - loss: 1376291.6250 - mae: 875.0013 - val_loss: 206380.7188 - val_mae: 388.1929\n",
            "Epoch 11/30\n",
            "6/6 [==============================] - 0s 15ms/step - loss: 1357373.8750 - mae: 862.0075 - val_loss: 279869.2812 - val_mae: 459.6331\n",
            "Epoch 12/30\n",
            "6/6 [==============================] - 0s 16ms/step - loss: 1317867.6250 - mae: 856.4984 - val_loss: 150095.7500 - val_mae: 333.0623\n",
            "Epoch 13/30\n",
            "6/6 [==============================] - 0s 15ms/step - loss: 1230885.6250 - mae: 822.6886 - val_loss: 115588.4375 - val_mae: 292.9524\n",
            "Epoch 14/30\n",
            "6/6 [==============================] - 0s 15ms/step - loss: 1100268.8750 - mae: 799.7489 - val_loss: 485222.3750 - val_mae: 619.5497\n"
          ]
        }
      ]
    },
    {
      "cell_type": "code",
      "source": [
        "mae2 = history3.history['mae']\n",
        "val_mae = history3.history['val_mae']\n",
        "loss2 = history3.history['loss']\n",
        "val_loss = history3.history['val_loss']\n",
        "\n",
        "epochs = range(1, len(mae2)+1)\n",
        "\n",
        "plt.plot(epochs, mae2, 'b', label = 'Train MAE')\n",
        "plt.plot(epochs, val_mae, 'r', label = 'Test MAE')\n",
        "plt.legend()\n",
        "plt.figure()\n",
        "\n",
        "plt.plot(epochs, loss2, 'b', label = 'Train Loss')\n",
        "plt.plot(epochs, val_loss, 'r', label = 'Test Loss')\n",
        "plt.legend()\n",
        "plt.figure()"
      ],
      "metadata": {
        "colab": {
          "base_uri": "https://localhost:8080/",
          "height": 893
        },
        "id": "EWd43zr1ZsC5",
        "outputId": "6508a34b-54ee-4141-fb78-0d3dea121893"
      },
      "execution_count": 28,
      "outputs": [
        {
          "output_type": "execute_result",
          "data": {
            "text/plain": [
              "<Figure size 640x480 with 0 Axes>"
            ]
          },
          "metadata": {},
          "execution_count": 28
        },
        {
          "output_type": "display_data",
          "data": {
            "text/plain": [
              "<Figure size 640x480 with 1 Axes>"
            ],
            "image/png": "[encoded data removed]"
          },
          "metadata": {}
        },
        {
          "output_type": "display_data",
          "data": {
            "text/plain": [
              "<Figure size 640x480 with 1 Axes>"
            ],
            "image/png": "[encoded data removed]"
          },
          "metadata": {}
        },
        {
          "output_type": "display_data",
          "data": {
            "text/plain": [
              "<Figure size 640x480 with 0 Axes>"
            ]
          },
          "metadata": {}
        }
      ]
    },
    {
      "cell_type": "markdown",
      "source": [
        "#Grid Search Hyperparameters"
      ],
      "metadata": {
        "id": "QmAqOjoLZwyx"
      }
    },
    {
      "cell_type": "code",
      "source": [
        "!pip install scikeras"
      ],
      "metadata": {
        "colab": {
          "base_uri": "https://localhost:8080/"
        },
        "id": "YbbWzSfQZzOp",
        "outputId": "92a3aecf-0251-4ece-93df-12bf089bfd0e"
      },
      "execution_count": 29,
      "outputs": [
        {
          "output_type": "stream",
          "name": "stdout",
          "text": [
            "Looking in indexes: https://pypi.org/simple, https://us-python.pkg.dev/colab-wheels/public/simple/\n",
            "Collecting scikeras\n",
            "  Downloading scikeras-0.10.0-py3-none-any.whl (27 kB)\n",
            "Requirement already satisfied: packaging>=0.21 in /usr/local/lib/python3.9/dist-packages (from scikeras) (23.0)\n",
            "Requirement already satisfied: scikit-learn>=1.0.0 in /usr/local/lib/python3.9/dist-packages (from scikeras) (1.2.2)\n",
            "Requirement already satisfied: numpy>=1.17.3 in /usr/local/lib/python3.9/dist-packages (from scikit-learn>=1.0.0->scikeras) (1.22.4)\n",
            "Requirement already satisfied: joblib>=1.1.1 in /usr/local/lib/python3.9/dist-packages (from scikit-learn>=1.0.0->scikeras) (1.1.1)\n",
            "Requirement already satisfied: scipy>=1.3.2 in /usr/local/lib/python3.9/dist-packages (from scikit-learn>=1.0.0->scikeras) (1.10.1)\n",
            "Requirement already satisfied: threadpoolctl>=2.0.0 in /usr/local/lib/python3.9/dist-packages (from scikit-learn>=1.0.0->scikeras) (3.1.0)\n",
            "Installing collected packages: scikeras\n",
            "Successfully installed scikeras-0.10.0\n"
          ]
        }
      ]
    },
    {
      "cell_type": "code",
      "source": [
        "from sklearn.model_selection import GridSearchCV\n",
        "from scikeras.wrappers import KerasClassifier \n",
        "from scikeras.wrappers import KerasRegressor "
      ],
      "metadata": {
        "id": "cDM0Y3j9Z1cJ"
      },
      "execution_count": 30,
      "outputs": []
    },
    {
      "cell_type": "markdown",
      "source": [
        "##Tune the Batch Size and Epochs"
      ],
      "metadata": {
        "id": "incWJSaDZ6dp"
      }
    },
    {
      "cell_type": "code",
      "source": [
        "#Building a linear stack of layers with the sequantial model\n",
        "def create_model():\n",
        "  model4 = Sequential()\n",
        "  model4.add(Dense(200, input_dim = 14, activation = 'relu'))#first hidden layer (need to add input dimension)\n",
        "  model4.add(Dense(100, activation= 'relu'))# second hidden layer (do not need to add input dimension))\n",
        "  model4.add(Dense(50, activation= 'relu'))\n",
        "  model4.add(Dense(10, activation= 'relu'))\n",
        "\n",
        "  #output layer (Softmax = multinominal)* because of multiclass\n",
        "  model4.add(Dense(1, activation= 'linear'))\n",
        "\n",
        "  #Compiling the sequantial model\n",
        "  model4.compile(loss = 'mse', metrics = ['mae'], optimizer = 'adam')\n",
        "\n",
        "  return model4"
      ],
      "metadata": {
        "id": "5tnOqE-tZ8Bp"
      },
      "execution_count": 33,
      "outputs": []
    },
    {
      "cell_type": "code",
      "source": [
        "#create model\n",
        "\n",
        "model4 = KerasRegressor(model = create_model, loss = 'mse',verbose = 0)\n",
        "\n",
        "#define the grid search parameters\n",
        "batch_size = [10, 20, 30, 40, 50]\n",
        "epochs = [10,15,20]\n",
        "param_grid =  dict(batch_size =  batch_size,\n",
        "                   epochs = epochs)\n",
        "grid = GridSearchCV(estimator = model4,\n",
        "                    param_grid = param_grid,\n",
        "                    n_jobs = -1, cv = 3) #n_jobs is processing, cv is cross_validation \n",
        "grid_result = grid.fit(X_train, y_train)"
      ],
      "metadata": {
        "colab": {
          "base_uri": "https://localhost:8080/"
        },
        "id": "VaPTEi9NaAaf",
        "outputId": "ddfd6cce-002b-42fe-a36c-29207753e5b4"
      },
      "execution_count": 44,
      "outputs": [
        {
          "output_type": "stream",
          "name": "stderr",
          "text": [
            "/usr/local/lib/python3.9/dist-packages/joblib/externals/loky/process_executor.py:702: UserWarning: A worker stopped while some jobs were given to the executor. This can be caused by a too short worker timeout or by a memory leak.\n",
            "  warnings.warn(\n"
          ]
        }
      ]
    },
    {
      "cell_type": "code",
      "source": [
        "#summarize result\n",
        "print(\"Best: %f using %s\" % (grid_result.best_score_, grid_result.best_params_))\n",
        "means = grid_result.cv_results_['mean_test_score']\n",
        "stds = grid_result.cv_results_['std_test_score']\n",
        "params = grid_result.cv_results_['params']\n",
        "for mean, stdev, param in zip(means, stds, params):\n",
        "  print(\"%f (%f) with: %r\" % (mean, stdev, param))"
      ],
      "metadata": {
        "colab": {
          "base_uri": "https://localhost:8080/"
        },
        "id": "f9ITZ3bhaIfR",
        "outputId": "5f012499-1c79-4ea0-bf6a-297cc21048b7"
      },
      "execution_count": 45,
      "outputs": [
        {
          "output_type": "stream",
          "name": "stdout",
          "text": [
            "Best: 0.999993 using {'batch_size': 10, 'epochs': 15}\n",
            "0.999983 (0.000014) with: {'batch_size': 10, 'epochs': 10}\n",
            "0.999993 (0.000006) with: {'batch_size': 10, 'epochs': 15}\n",
            "0.999993 (0.000002) with: {'batch_size': 10, 'epochs': 20}\n",
            "0.999957 (0.000028) with: {'batch_size': 20, 'epochs': 10}\n",
            "0.999978 (0.000022) with: {'batch_size': 20, 'epochs': 15}\n",
            "0.999984 (0.000015) with: {'batch_size': 20, 'epochs': 20}\n",
            "0.999786 (0.000097) with: {'batch_size': 30, 'epochs': 10}\n",
            "0.999968 (0.000009) with: {'batch_size': 30, 'epochs': 15}\n",
            "0.999985 (0.000008) with: {'batch_size': 30, 'epochs': 20}\n",
            "0.998885 (0.001206) with: {'batch_size': 40, 'epochs': 10}\n",
            "0.999902 (0.000078) with: {'batch_size': 40, 'epochs': 15}\n",
            "0.999979 (0.000003) with: {'batch_size': 40, 'epochs': 20}\n",
            "0.994686 (0.004067) with: {'batch_size': 50, 'epochs': 10}\n",
            "0.999680 (0.000273) with: {'batch_size': 50, 'epochs': 15}\n",
            "0.999966 (0.000010) with: {'batch_size': 50, 'epochs': 20}\n"
          ]
        }
      ]
    },
    {
      "cell_type": "markdown",
      "source": [
        "##Tune the training Optimization Algorithm (only)"
      ],
      "metadata": {
        "id": "0XcO-Jk_aLZ6"
      }
    },
    {
      "cell_type": "code",
      "source": [
        "#create model\n",
        "\n",
        "model5 = KerasRegressor(model = create_model,\n",
        "                        loss = 'mse',\n",
        "                         epochs = 20, batch_size = 128, verbose = 0)\n",
        "\n",
        "#define the grid search parameters\n",
        "optimizer = ['SGD', 'RMSprop', 'Adagrad', 'Adadelta', 'Adam', 'Adamax', 'Nadam']\n",
        "\n",
        "param_grid =  dict(optimizer = optimizer)\n",
        "\n",
        "grid2 = GridSearchCV(estimator = model5,\n",
        "                    param_grid = param_grid,\n",
        "                    n_jobs = -1, cv = 3) #n_jobs is processing, cv is cross_validation \n",
        "\n",
        "grid_result2 = grid2.fit(X_train, y_train)"
      ],
      "metadata": {
        "colab": {
          "base_uri": "https://localhost:8080/"
        },
        "id": "NmIRSxSBaNKi",
        "outputId": "b28bcf93-4c85-4a13-c1ad-74c3b2fe4066"
      },
      "execution_count": 36,
      "outputs": [
        {
          "output_type": "stream",
          "name": "stderr",
          "text": [
            "/usr/local/lib/python3.9/dist-packages/joblib/externals/loky/process_executor.py:702: UserWarning: A worker stopped while some jobs were given to the executor. This can be caused by a too short worker timeout or by a memory leak.\n",
            "  warnings.warn(\n"
          ]
        }
      ]
    },
    {
      "cell_type": "code",
      "source": [
        "#summarize result\n",
        "print(\"Best: %f using %s\" % (grid_result2.best_score_, grid_result2.best_params_))\n",
        "means2 = grid_result2.cv_results_['mean_test_score']\n",
        "stds2 = grid_result2.cv_results_['std_test_score']\n",
        "params2 = grid_result2.cv_results_['params']\n",
        "for mean, stdev, param in zip(means2, stds2, params2):\n",
        "  print(\"%f (%f) with: %r\" % (mean, stdev, param))"
      ],
      "metadata": {
        "colab": {
          "base_uri": "https://localhost:8080/"
        },
        "id": "U-ZOsVxOaQWK",
        "outputId": "a77f7690-ea8c-4e8b-b0e0-6b32dce6f669"
      },
      "execution_count": 37,
      "outputs": [
        {
          "output_type": "stream",
          "name": "stdout",
          "text": [
            "Best: 0.997679 using {'optimizer': 'Adagrad'}\n",
            "0.996220 (0.003348) with: {'optimizer': 'SGD'}\n",
            "0.995806 (0.001932) with: {'optimizer': 'RMSprop'}\n",
            "0.997679 (0.001993) with: {'optimizer': 'Adagrad'}\n",
            "0.992968 (0.007187) with: {'optimizer': 'Adadelta'}\n",
            "0.997166 (0.000771) with: {'optimizer': 'Adam'}\n",
            "0.996981 (0.002238) with: {'optimizer': 'Adamax'}\n",
            "0.992446 (0.003071) with: {'optimizer': 'Nadam'}\n"
          ]
        }
      ]
    },
    {
      "cell_type": "markdown",
      "source": [
        "##Tune the Neuron Activation Function"
      ],
      "metadata": {
        "id": "TselyR6iaTbh"
      }
    },
    {
      "cell_type": "code",
      "source": [
        "#Building a linear stack of layers with the sequantial model\n",
        "def create_model2(activation = 'relu'):\n",
        "  model4 = Sequential()\n",
        "  model4.add(Dense(200, input_dim = 14, activation = activation))#first hidden layer (need to add input dimension)\n",
        "  model4.add(Dense(100, activation= activation))# second hidden layer (do not need to add input dimension))\n",
        "  model4.add(Dense(50, activation= activation))\n",
        "  model4.add(Dense(10, activation= activation))\n",
        "\n",
        "  #output layer (Softmax = multinominal)* because of multiclass\n",
        "  model4.add(Dense(1, activation= 'linear'))\n",
        "\n",
        "  #Compiling the sequantial model\n",
        "  model4.compile(loss = 'mse', metrics = ['mae'], optimizer = 'adam')\n",
        "\n",
        "  return model4"
      ],
      "metadata": {
        "id": "icnN_76MaWXK"
      },
      "execution_count": 38,
      "outputs": []
    },
    {
      "cell_type": "code",
      "source": [
        "#create model\n",
        "\n",
        "model6 = KerasRegressor(model = create_model2,\n",
        "                        loss = 'mse', \n",
        "                         epochs = 10, batch_size = 10, verbose = 0)\n",
        "\n",
        "#define the grid search parameters\n",
        "activation = ['elu', 'selu', 'relu', 'softmax', 'tanh']\n",
        "\n",
        "param_grid =  dict(model__activation = activation)\n",
        "\n",
        "grid3 = GridSearchCV(estimator = model6,\n",
        "                    param_grid = param_grid,\n",
        "                    n_jobs = -1, cv = 3) #n_jobs is processing, cv is cross_validation \n",
        "\n",
        "grid_result3 = grid3.fit(X_train, y_train)"
      ],
      "metadata": {
        "id": "6V4zelehaddU"
      },
      "execution_count": 39,
      "outputs": []
    },
    {
      "cell_type": "code",
      "source": [
        "#summarize result\n",
        "print(\"Best: %f using %s\" % (grid_result3.best_score_, grid_result3.best_params_))\n",
        "means3 = grid_result3.cv_results_['mean_test_score']\n",
        "stds3 = grid_result3.cv_results_['std_test_score']\n",
        "params3 = grid_result3.cv_results_['params']\n",
        "for mean, stdev, param in zip(means3, stds3, params3):\n",
        "  print(\"%f (%f) with: %r\" % (mean, stdev, param))"
      ],
      "metadata": {
        "colab": {
          "base_uri": "https://localhost:8080/"
        },
        "id": "qkyfWM2Oajyi",
        "outputId": "4ea7d120-d8c2-4ea2-9945-1081bc25fab5"
      },
      "execution_count": 40,
      "outputs": [
        {
          "output_type": "stream",
          "name": "stdout",
          "text": [
            "Best: 0.999989 using {'model__activation': 'selu'}\n",
            "0.999979 (0.000014) with: {'model__activation': 'elu'}\n",
            "0.999989 (0.000003) with: {'model__activation': 'selu'}\n",
            "0.999978 (0.000024) with: {'model__activation': 'relu'}\n",
            "-5.697854 (0.087395) with: {'model__activation': 'softmax'}\n",
            "-5.680768 (0.087043) with: {'model__activation': 'tanh'}\n"
          ]
        }
      ]
    },
    {
      "cell_type": "markdown",
      "source": [
        "#Final Model"
      ],
      "metadata": {
        "id": "ZoZbO0CBal6p"
      }
    },
    {
      "cell_type": "code",
      "source": [
        "  modelf = Sequential()\n",
        "  modelf.add(Dense(200, input_dim = 14, activation = 'selu'))#first hidden layer (need to add input dimension)\n",
        "  modelf.add(Dense(100, activation= 'selu'))# second hidden layer (do not need to add input dimension))\n",
        "  modelf.add(Dense(50, activation= 'selu'))\n",
        "  modelf.add(Dense(10, activation= 'selu'))\n",
        "\n",
        "  #output layer (Softmax = multinominal)* because of multiclass\n",
        "  modelf.add(Dense(1, activation= 'linear'))\n",
        "\n",
        "  #Compiling the sequantial model\n",
        "  modelf.compile(loss = 'mse', metrics = ['mae'], optimizer = 'Adagrad')"
      ],
      "metadata": {
        "id": "JavvgGVVaopy"
      },
      "execution_count": 41,
      "outputs": []
    },
    {
      "cell_type": "code",
      "source": [
        "early_stopping_monitor =EarlyStopping(patience = 6 ) #stop if no improvement after 6 times\n",
        "\n",
        "historyf = modelf.fit(X_train, y_train, epochs =15, batch_size = 10, validation_data = (X_test, y_test), callbacks= [early_stopping_monitor])"
      ],
      "metadata": {
        "colab": {
          "base_uri": "https://localhost:8080/"
        },
        "id": "BRao0O9fbBc5",
        "outputId": "3402415c-b21c-4381-918f-c37405e73f95"
      },
      "execution_count": 46,
      "outputs": [
        {
          "output_type": "stream",
          "name": "stdout",
          "text": [
            "Epoch 1/15\n",
            "59/59 [==============================] - 0s 5ms/step - loss: 2121080.0000 - mae: 1262.3607 - val_loss: 658965.3750 - val_mae: 655.1777\n",
            "Epoch 2/15\n",
            "59/59 [==============================] - 0s 4ms/step - loss: 459924.3750 - mae: 510.2548 - val_loss: 165733.7812 - val_mae: 265.6981\n",
            "Epoch 3/15\n",
            "59/59 [==============================] - 0s 5ms/step - loss: 167688.2031 - mae: 276.9512 - val_loss: 111068.4844 - val_mae: 230.4575\n",
            "Epoch 4/15\n",
            "59/59 [==============================] - 0s 5ms/step - loss: 122853.1094 - mae: 250.8349 - val_loss: 100398.9062 - val_mae: 237.2771\n",
            "Epoch 5/15\n",
            "59/59 [==============================] - 0s 5ms/step - loss: 104693.2344 - mae: 241.2839 - val_loss: 85931.1172 - val_mae: 219.6104\n",
            "Epoch 6/15\n",
            "59/59 [==============================] - 0s 7ms/step - loss: 90328.7031 - mae: 224.6811 - val_loss: 76230.8359 - val_mae: 210.5907\n",
            "Epoch 7/15\n",
            "59/59 [==============================] - 0s 6ms/step - loss: 76790.8203 - mae: 209.2130 - val_loss: 62666.0898 - val_mae: 187.4117\n",
            "Epoch 8/15\n",
            "59/59 [==============================] - 0s 6ms/step - loss: 63518.7461 - mae: 188.4281 - val_loss: 52375.6523 - val_mae: 171.7831\n",
            "Epoch 9/15\n",
            "59/59 [==============================] - 0s 6ms/step - loss: 51703.9766 - mae: 168.4774 - val_loss: 43624.9531 - val_mae: 158.8322\n",
            "Epoch 10/15\n",
            "59/59 [==============================] - 0s 6ms/step - loss: 40731.7930 - mae: 150.3196 - val_loss: 33676.5664 - val_mae: 136.0915\n",
            "Epoch 11/15\n",
            "59/59 [==============================] - 0s 6ms/step - loss: 31658.1367 - mae: 131.8813 - val_loss: 26607.1289 - val_mae: 120.9988\n",
            "Epoch 12/15\n",
            "59/59 [==============================] - 0s 6ms/step - loss: 23771.8633 - mae: 114.4340 - val_loss: 20929.0664 - val_mae: 108.2406\n",
            "Epoch 13/15\n",
            "59/59 [==============================] - 0s 6ms/step - loss: 17833.9707 - mae: 99.8434 - val_loss: 15554.4219 - val_mae: 90.5032\n",
            "Epoch 14/15\n",
            "59/59 [==============================] - 0s 7ms/step - loss: 13308.2324 - mae: 86.0926 - val_loss: 11732.5439 - val_mae: 78.2222\n",
            "Epoch 15/15\n",
            "59/59 [==============================] - 0s 6ms/step - loss: 9610.6436 - mae: 72.9787 - val_loss: 8672.0078 - val_mae: 66.4399\n"
          ]
        }
      ]
    },
    {
      "cell_type": "code",
      "source": [
        "mae2 = historyf.history['mae']\n",
        "val_mae = historyf.history['val_mae']\n",
        "loss2 = historyf.history['loss']\n",
        "val_loss = historyf.history['val_loss']\n",
        "\n",
        "epochs = range(1, len(mae2)+1)\n",
        "\n",
        "plt.plot(epochs, mae2, 'b', label = 'Train MAE')\n",
        "plt.plot(epochs, val_mae, 'r', label = 'Test MAE')\n",
        "plt.legend()\n",
        "plt.figure()\n",
        "\n",
        "plt.plot(epochs, loss2, 'b', label = 'Train Loss')\n",
        "plt.plot(epochs, val_loss, 'r', label = 'Test Loss')\n",
        "plt.legend()\n",
        "plt.figure()"
      ],
      "metadata": {
        "colab": {
          "base_uri": "https://localhost:8080/",
          "height": 893
        },
        "id": "GXJQScpvbF-x",
        "outputId": "9c991fc3-ad72-4998-8686-32dc0f5d7125"
      },
      "execution_count": 47,
      "outputs": [
        {
          "output_type": "execute_result",
          "data": {
            "text/plain": [
              "<Figure size 640x480 with 0 Axes>"
            ]
          },
          "metadata": {},
          "execution_count": 47
        },
        {
          "output_type": "display_data",
          "data": {
            "text/plain": [
              "<Figure size 640x480 with 1 Axes>"
            ],
            "image/png": "[encoded data removed]"
          },
          "metadata": {}
        },
        {
          "output_type": "display_data",
          "data": {
            "text/plain": [
              "<Figure size 640x480 with 1 Axes>"
            ],
            "image/png": "[encoded data removed]"
          },
          "metadata": {}
        },
        {
          "output_type": "display_data",
          "data": {
            "text/plain": [
              "<Figure size 640x480 with 0 Axes>"
            ]
          },
          "metadata": {}
        }
      ]
    }
  ]
}