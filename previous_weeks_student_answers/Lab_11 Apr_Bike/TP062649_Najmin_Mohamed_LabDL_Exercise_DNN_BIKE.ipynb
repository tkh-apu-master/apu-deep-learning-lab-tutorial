{
  "nbformat": 4,
  "nbformat_minor": 0,
  "metadata": {
    "colab": {
      "provenance": []
    },
    "kernelspec": {
      "name": "python3",
      "display_name": "Python 3"
    },
    "language_info": {
      "name": "python"
    }
  },
  "cells": [
    {
      "cell_type": "markdown",
      "source": [
        "#Exercise\n",
        "\n",
        "Predict bike rental count (daily) based on the environmental & seasonal settings. This dataset contains the daily count of rental bikes between years 2011 and 2012 in Capital bikeshare system with the corresponding weather and seasonal information. \n",
        "\n",
        "\n",
        "Bike-sharing rental process is highly correlated to the environmental and seasonal settings. For instance, weather conditions, precipitation, day of week, season, hour of the day, etc. can affect the rental behaviors. \n",
        "\n",
        "\n",
        "Conduct the DNN analysis and improve the performance of the model using different archictecture. \n"
      ],
      "metadata": {
        "id": "kgdHBGJBOSgF"
      }
    },
    {
      "cell_type": "markdown",
      "source": [
        "Columns Details:\n",
        "\n",
        "1. Instant - Record Index\n",
        "2. dteday - Date (Format: YYYY-MM-DD)\n",
        "3. season - Season (1:   springer, 2: summer, 3: fall, 4: winter)\n",
        "4. yr - Year (0: 2011,   1:2012)\n",
        "5. mnth - Month (1 to 12)\n",
        "6. holiday - Weather day is holiday or not\n",
        "7. weekday - Day of the week\n",
        "8. workingday - Working Day: If day is neither weekend nor holiday is 1, otherwise is 0\n",
        "9. weathersit - Weather Situation (1: Clear/Few clouds; 2: Mist/Cloudy; 3: Light Snow/Light Rain; 4: Heavy Rain/Ice Pallets/Thunderstorm/Snow)\n",
        "10. temp - Normalized temperature in Celsius. \n",
        "11. atemp - Normalized feeling temperature in Celsius. \n",
        "12. hum - Normalized humidity. \n",
        "13. windspeed - Normalized wind speed. \n",
        "14. casual - Count of casual users\n",
        "15. registered - Count of registered users\n",
        "16. cnt - Count of total rental bikes including both casual and registered"
      ],
      "metadata": {
        "id": "zlDQhB9Ak-id"
      }
    },
    {
      "cell_type": "code",
      "source": [
        "#Mounting Drive to Google Colab\n",
        "from google.colab import drive \n",
        "drive.mount('/drive')"
      ],
      "metadata": {
        "colab": {
          "base_uri": "https://localhost:8080/"
        },
        "id": "FEUZtK_Xk-ME",
        "outputId": "fc585a3f-80f2-41a2-9f7e-0af3bf7e2e66"
      },
      "execution_count": 1,
      "outputs": [
        {
          "output_type": "stream",
          "name": "stdout",
          "text": [
            "Mounted at /drive\n"
          ]
        }
      ]
    },
    {
      "cell_type": "code",
      "source": [
        "path = '/drive/MyDrive/Colab Notebooks/bike.csv'"
      ],
      "metadata": {
        "id": "Ts7lnZMrm8Ry"
      },
      "execution_count": 2,
      "outputs": []
    },
    {
      "cell_type": "code",
      "source": [
        "import pandas as pd\n",
        "import numpy as np\n",
        "import matplotlib.pyplot as plt"
      ],
      "metadata": {
        "id": "oxux5vVXqBb3"
      },
      "execution_count": 3,
      "outputs": []
    },
    {
      "cell_type": "code",
      "source": [
        "data = pd.read_csv(path)\n",
        "\n",
        "data.head()"
      ],
      "metadata": {
        "colab": {
          "base_uri": "https://localhost:8080/",
          "height": 270
        },
        "id": "LlgZ83PrnAVb",
        "outputId": "8918a1ce-9df8-4d56-f5ab-5bfaec8f0597"
      },
      "execution_count": 4,
      "outputs": [
        {
          "output_type": "execute_result",
          "data": {
            "text/plain": [
              "   instant    dteday  season  yr  mnth  holiday  weekday  workingday  \\\n",
              "0        1  1/1/2011       1   0     1        0        6           0   \n",
              "1        2  1/2/2011       1   0     1        0        0           0   \n",
              "2        3  1/3/2011       1   0     1        0        1           1   \n",
              "3        4  1/4/2011       1   0     1        0        2           1   \n",
              "4        5  1/5/2011       1   0     1        0        3           1   \n",
              "\n",
              "   weathersit      temp     atemp       hum  windspeed  casual  registered  \\\n",
              "0           2  0.344167  0.363625  0.805833   0.160446     331         654   \n",
              "1           2  0.363478  0.353739  0.696087   0.248539     131         670   \n",
              "2           1  0.196364  0.189405  0.437273   0.248309     120        1229   \n",
              "3           1  0.200000  0.212122  0.590435   0.160296     108        1454   \n",
              "4           1  0.226957  0.229270  0.436957   0.186900      82        1518   \n",
              "\n",
              "    cnt  \n",
              "0   985  \n",
              "1   801  \n",
              "2  1349  \n",
              "3  1562  \n",
              "4  1600  "
            ],
            "text/html": [
              "\n",
              "  <div id=\"df-c154db71-c70a-4d1e-80a0-14a37d8af255\">\n",
              "    <div class=\"colab-df-container\">\n",
              "      <div>\n",
              "<style scoped>\n",
              "    .dataframe tbody tr th:only-of-type {\n",
              "        vertical-align: middle;\n",
              "    }\n",
              "\n",
              "    .dataframe tbody tr th {\n",
              "        vertical-align: top;\n",
              "    }\n",
              "\n",
              "    .dataframe thead th {\n",
              "        text-align: right;\n",
              "    }\n",
              "</style>\n",
              "<table border=\"1\" class=\"dataframe\">\n",
              "  <thead>\n",
              "    <tr style=\"text-align: right;\">\n",
              "      <th></th>\n",
              "      <th>instant</th>\n",
              "      <th>dteday</th>\n",
              "      <th>season</th>\n",
              "      <th>yr</th>\n",
              "      <th>mnth</th>\n",
              "      <th>holiday</th>\n",
              "      <th>weekday</th>\n",
              "      <th>workingday</th>\n",
              "      <th>weathersit</th>\n",
              "      <th>temp</th>\n",
              "      <th>atemp</th>\n",
              "      <th>hum</th>\n",
              "      <th>windspeed</th>\n",
              "      <th>casual</th>\n",
              "      <th>registered</th>\n",
              "      <th>cnt</th>\n",
              "    </tr>\n",
              "  </thead>\n",
              "  <tbody>\n",
              "    <tr>\n",
              "      <th>0</th>\n",
              "      <td>1</td>\n",
              "      <td>1/1/2011</td>\n",
              "      <td>1</td>\n",
              "      <td>0</td>\n",
              "      <td>1</td>\n",
              "      <td>0</td>\n",
              "      <td>6</td>\n",
              "      <td>0</td>\n",
              "      <td>2</td>\n",
              "      <td>0.344167</td>\n",
              "      <td>0.363625</td>\n",
              "      <td>0.805833</td>\n",
              "      <td>0.160446</td>\n",
              "      <td>331</td>\n",
              "      <td>654</td>\n",
              "      <td>985</td>\n",
              "    </tr>\n",
              "    <tr>\n",
              "      <th>1</th>\n",
              "      <td>2</td>\n",
              "      <td>1/2/2011</td>\n",
              "      <td>1</td>\n",
              "      <td>0</td>\n",
              "      <td>1</td>\n",
              "      <td>0</td>\n",
              "      <td>0</td>\n",
              "      <td>0</td>\n",
              "      <td>2</td>\n",
              "      <td>0.363478</td>\n",
              "      <td>0.353739</td>\n",
              "      <td>0.696087</td>\n",
              "      <td>0.248539</td>\n",
              "      <td>131</td>\n",
              "      <td>670</td>\n",
              "      <td>801</td>\n",
              "    </tr>\n",
              "    <tr>\n",
              "      <th>2</th>\n",
              "      <td>3</td>\n",
              "      <td>1/3/2011</td>\n",
              "      <td>1</td>\n",
              "      <td>0</td>\n",
              "      <td>1</td>\n",
              "      <td>0</td>\n",
              "      <td>1</td>\n",
              "      <td>1</td>\n",
              "      <td>1</td>\n",
              "      <td>0.196364</td>\n",
              "      <td>0.189405</td>\n",
              "      <td>0.437273</td>\n",
              "      <td>0.248309</td>\n",
              "      <td>120</td>\n",
              "      <td>1229</td>\n",
              "      <td>1349</td>\n",
              "    </tr>\n",
              "    <tr>\n",
              "      <th>3</th>\n",
              "      <td>4</td>\n",
              "      <td>1/4/2011</td>\n",
              "      <td>1</td>\n",
              "      <td>0</td>\n",
              "      <td>1</td>\n",
              "      <td>0</td>\n",
              "      <td>2</td>\n",
              "      <td>1</td>\n",
              "      <td>1</td>\n",
              "      <td>0.200000</td>\n",
              "      <td>0.212122</td>\n",
              "      <td>0.590435</td>\n",
              "      <td>0.160296</td>\n",
              "      <td>108</td>\n",
              "      <td>1454</td>\n",
              "      <td>1562</td>\n",
              "    </tr>\n",
              "    <tr>\n",
              "      <th>4</th>\n",
              "      <td>5</td>\n",
              "      <td>1/5/2011</td>\n",
              "      <td>1</td>\n",
              "      <td>0</td>\n",
              "      <td>1</td>\n",
              "      <td>0</td>\n",
              "      <td>3</td>\n",
              "      <td>1</td>\n",
              "      <td>1</td>\n",
              "      <td>0.226957</td>\n",
              "      <td>0.229270</td>\n",
              "      <td>0.436957</td>\n",
              "      <td>0.186900</td>\n",
              "      <td>82</td>\n",
              "      <td>1518</td>\n",
              "      <td>1600</td>\n",
              "    </tr>\n",
              "  </tbody>\n",
              "</table>\n",
              "</div>\n",
              "      <button class=\"colab-df-convert\" onclick=\"convertToInteractive('df-c154db71-c70a-4d1e-80a0-14a37d8af255')\"\n",
              "              title=\"Convert this dataframe to an interactive table.\"\n",
              "              style=\"display:none;\">\n",
              "        \n",
              "  <svg xmlns=\"http://www.w3.org/2000/svg\" height=\"24px\"viewBox=\"0 0 24 24\"\n",
              "       width=\"24px\">\n",
              "    <path d=\"M0 0h24v24H0V0z\" fill=\"none\"/>\n",
              "    <path d=\"M18.56 5.44l.94 2.06.94-2.06 2.06-.94-2.06-.94-.94-2.06-.94 2.06-2.06.94zm-11 1L8.5 8.5l.94-2.06 2.06-.94-2.06-.94L8.5 2.5l-.94 2.06-2.06.94zm10 10l.94 2.06.94-2.06 2.06-.94-2.06-.94-.94-2.06-.94 2.06-2.06.94z\"/><path d=\"M17.41 7.96l-1.37-1.37c-.4-.4-.92-.59-1.43-.59-.52 0-1.04.2-1.43.59L10.3 9.45l-7.72 7.72c-.78.78-.78 2.05 0 2.83L4 21.41c.39.39.9.59 1.41.59.51 0 1.02-.2 1.41-.59l7.78-7.78 2.81-2.81c.8-.78.8-2.07 0-2.86zM5.41 20L4 18.59l7.72-7.72 1.47 1.35L5.41 20z\"/>\n",
              "  </svg>\n",
              "      </button>\n",
              "      \n",
              "  <style>\n",
              "    .colab-df-container {\n",
              "      display:flex;\n",
              "      flex-wrap:wrap;\n",
              "      gap: 12px;\n",
              "    }\n",
              "\n",
              "    .colab-df-convert {\n",
              "      background-color: #E8F0FE;\n",
              "      border: none;\n",
              "      border-radius: 50%;\n",
              "      cursor: pointer;\n",
              "      display: none;\n",
              "      fill: #1967D2;\n",
              "      height: 32px;\n",
              "      padding: 0 0 0 0;\n",
              "      width: 32px;\n",
              "    }\n",
              "\n",
              "    .colab-df-convert:hover {\n",
              "      background-color: #E2EBFA;\n",
              "      box-shadow: 0px 1px 2px rgba(60, 64, 67, 0.3), 0px 1px 3px 1px rgba(60, 64, 67, 0.15);\n",
              "      fill: #174EA6;\n",
              "    }\n",
              "\n",
              "    [theme=dark] .colab-df-convert {\n",
              "      background-color: #3B4455;\n",
              "      fill: #D2E3FC;\n",
              "    }\n",
              "\n",
              "    [theme=dark] .colab-df-convert:hover {\n",
              "      background-color: #434B5C;\n",
              "      box-shadow: 0px 1px 3px 1px rgba(0, 0, 0, 0.15);\n",
              "      filter: drop-shadow(0px 1px 2px rgba(0, 0, 0, 0.3));\n",
              "      fill: #FFFFFF;\n",
              "    }\n",
              "  </style>\n",
              "\n",
              "      <script>\n",
              "        const buttonEl =\n",
              "          document.querySelector('#df-c154db71-c70a-4d1e-80a0-14a37d8af255 button.colab-df-convert');\n",
              "        buttonEl.style.display =\n",
              "          google.colab.kernel.accessAllowed ? 'block' : 'none';\n",
              "\n",
              "        async function convertToInteractive(key) {\n",
              "          const element = document.querySelector('#df-c154db71-c70a-4d1e-80a0-14a37d8af255');\n",
              "          const dataTable =\n",
              "            await google.colab.kernel.invokeFunction('convertToInteractive',\n",
              "                                                     [key], {});\n",
              "          if (!dataTable) return;\n",
              "\n",
              "          const docLinkHtml = 'Like what you see? Visit the ' +\n",
              "            '<a target=\"_blank\" href=https://colab.research.google.com/notebooks/data_table.ipynb>data table notebook</a>'\n",
              "            + ' to learn more about interactive tables.';\n",
              "          element.innerHTML = '';\n",
              "          dataTable['output_type'] = 'display_data';\n",
              "          await google.colab.output.renderOutput(dataTable, element);\n",
              "          const docLink = document.createElement('div');\n",
              "          docLink.innerHTML = docLinkHtml;\n",
              "          element.appendChild(docLink);\n",
              "        }\n",
              "      </script>\n",
              "    </div>\n",
              "  </div>\n",
              "  "
            ]
          },
          "metadata": {},
          "execution_count": 4
        }
      ]
    },
    {
      "cell_type": "code",
      "source": [
        "data.columns"
      ],
      "metadata": {
        "colab": {
          "base_uri": "https://localhost:8080/"
        },
        "id": "5yaG0234p93Z",
        "outputId": "af89fc14-bfd5-40d0-c2c7-6e587b834ec6"
      },
      "execution_count": 5,
      "outputs": [
        {
          "output_type": "execute_result",
          "data": {
            "text/plain": [
              "Index(['instant', 'dteday', 'season', 'yr', 'mnth', 'holiday', 'weekday',\n",
              "       'workingday', 'weathersit', 'temp', 'atemp', 'hum', 'windspeed',\n",
              "       'casual', 'registered', 'cnt'],\n",
              "      dtype='object')"
            ]
          },
          "metadata": {},
          "execution_count": 5
        }
      ]
    },
    {
      "cell_type": "code",
      "source": [
        "data.info()"
      ],
      "metadata": {
        "colab": {
          "base_uri": "https://localhost:8080/"
        },
        "id": "IIpCyxI6qF1W",
        "outputId": "860072f9-67a2-4603-b4ea-923f50c52a68"
      },
      "execution_count": 6,
      "outputs": [
        {
          "output_type": "stream",
          "name": "stdout",
          "text": [
            "<class 'pandas.core.frame.DataFrame'>\n",
            "RangeIndex: 731 entries, 0 to 730\n",
            "Data columns (total 16 columns):\n",
            " #   Column      Non-Null Count  Dtype  \n",
            "---  ------      --------------  -----  \n",
            " 0   instant     731 non-null    int64  \n",
            " 1   dteday      731 non-null    object \n",
            " 2   season      731 non-null    int64  \n",
            " 3   yr          731 non-null    int64  \n",
            " 4   mnth        731 non-null    int64  \n",
            " 5   holiday     731 non-null    int64  \n",
            " 6   weekday     731 non-null    int64  \n",
            " 7   workingday  731 non-null    int64  \n",
            " 8   weathersit  731 non-null    int64  \n",
            " 9   temp        731 non-null    float64\n",
            " 10  atemp       731 non-null    float64\n",
            " 11  hum         731 non-null    float64\n",
            " 12  windspeed   731 non-null    float64\n",
            " 13  casual      731 non-null    int64  \n",
            " 14  registered  731 non-null    int64  \n",
            " 15  cnt         731 non-null    int64  \n",
            "dtypes: float64(4), int64(11), object(1)\n",
            "memory usage: 91.5+ KB\n"
          ]
        }
      ]
    },
    {
      "cell_type": "code",
      "source": [
        "# Checking missing values for each feature/column\n",
        "data.isnull().sum()"
      ],
      "metadata": {
        "colab": {
          "base_uri": "https://localhost:8080/"
        },
        "id": "0v9AtqD0jKsE",
        "outputId": "18f13b8a-e8c5-4f5a-f9b6-11b206f5a2fe"
      },
      "execution_count": 7,
      "outputs": [
        {
          "output_type": "execute_result",
          "data": {
            "text/plain": [
              "instant       0\n",
              "dteday        0\n",
              "season        0\n",
              "yr            0\n",
              "mnth          0\n",
              "holiday       0\n",
              "weekday       0\n",
              "workingday    0\n",
              "weathersit    0\n",
              "temp          0\n",
              "atemp         0\n",
              "hum           0\n",
              "windspeed     0\n",
              "casual        0\n",
              "registered    0\n",
              "cnt           0\n",
              "dtype: int64"
            ]
          },
          "metadata": {},
          "execution_count": 7
        }
      ]
    },
    {
      "cell_type": "code",
      "source": [
        "data =data.drop(['instant','dteday'], axis =1)"
      ],
      "metadata": {
        "id": "6N8fjMfHqSO3"
      },
      "execution_count": 8,
      "outputs": []
    },
    {
      "cell_type": "code",
      "source": [
        "data.head()"
      ],
      "metadata": {
        "colab": {
          "base_uri": "https://localhost:8080/",
          "height": 270
        },
        "id": "-4byt4lqql4O",
        "outputId": "37d55458-378f-41f9-b190-295fcfc341dc"
      },
      "execution_count": 9,
      "outputs": [
        {
          "output_type": "execute_result",
          "data": {
            "text/plain": [
              "   season  yr  mnth  holiday  weekday  workingday  weathersit      temp  \\\n",
              "0       1   0     1        0        6           0           2  0.344167   \n",
              "1       1   0     1        0        0           0           2  0.363478   \n",
              "2       1   0     1        0        1           1           1  0.196364   \n",
              "3       1   0     1        0        2           1           1  0.200000   \n",
              "4       1   0     1        0        3           1           1  0.226957   \n",
              "\n",
              "      atemp       hum  windspeed  casual  registered   cnt  \n",
              "0  0.363625  0.805833   0.160446     331         654   985  \n",
              "1  0.353739  0.696087   0.248539     131         670   801  \n",
              "2  0.189405  0.437273   0.248309     120        1229  1349  \n",
              "3  0.212122  0.590435   0.160296     108        1454  1562  \n",
              "4  0.229270  0.436957   0.186900      82        1518  1600  "
            ],
            "text/html": [
              "\n",
              "  <div id=\"df-f4ad60dd-b590-4ad3-8681-ab6c51cbae21\">\n",
              "    <div class=\"colab-df-container\">\n",
              "      <div>\n",
              "<style scoped>\n",
              "    .dataframe tbody tr th:only-of-type {\n",
              "        vertical-align: middle;\n",
              "    }\n",
              "\n",
              "    .dataframe tbody tr th {\n",
              "        vertical-align: top;\n",
              "    }\n",
              "\n",
              "    .dataframe thead th {\n",
              "        text-align: right;\n",
              "    }\n",
              "</style>\n",
              "<table border=\"1\" class=\"dataframe\">\n",
              "  <thead>\n",
              "    <tr style=\"text-align: right;\">\n",
              "      <th></th>\n",
              "      <th>season</th>\n",
              "      <th>yr</th>\n",
              "      <th>mnth</th>\n",
              "      <th>holiday</th>\n",
              "      <th>weekday</th>\n",
              "      <th>workingday</th>\n",
              "      <th>weathersit</th>\n",
              "      <th>temp</th>\n",
              "      <th>atemp</th>\n",
              "      <th>hum</th>\n",
              "      <th>windspeed</th>\n",
              "      <th>casual</th>\n",
              "      <th>registered</th>\n",
              "      <th>cnt</th>\n",
              "    </tr>\n",
              "  </thead>\n",
              "  <tbody>\n",
              "    <tr>\n",
              "      <th>0</th>\n",
              "      <td>1</td>\n",
              "      <td>0</td>\n",
              "      <td>1</td>\n",
              "      <td>0</td>\n",
              "      <td>6</td>\n",
              "      <td>0</td>\n",
              "      <td>2</td>\n",
              "      <td>0.344167</td>\n",
              "      <td>0.363625</td>\n",
              "      <td>0.805833</td>\n",
              "      <td>0.160446</td>\n",
              "      <td>331</td>\n",
              "      <td>654</td>\n",
              "      <td>985</td>\n",
              "    </tr>\n",
              "    <tr>\n",
              "      <th>1</th>\n",
              "      <td>1</td>\n",
              "      <td>0</td>\n",
              "      <td>1</td>\n",
              "      <td>0</td>\n",
              "      <td>0</td>\n",
              "      <td>0</td>\n",
              "      <td>2</td>\n",
              "      <td>0.363478</td>\n",
              "      <td>0.353739</td>\n",
              "      <td>0.696087</td>\n",
              "      <td>0.248539</td>\n",
              "      <td>131</td>\n",
              "      <td>670</td>\n",
              "      <td>801</td>\n",
              "    </tr>\n",
              "    <tr>\n",
              "      <th>2</th>\n",
              "      <td>1</td>\n",
              "      <td>0</td>\n",
              "      <td>1</td>\n",
              "      <td>0</td>\n",
              "      <td>1</td>\n",
              "      <td>1</td>\n",
              "      <td>1</td>\n",
              "      <td>0.196364</td>\n",
              "      <td>0.189405</td>\n",
              "      <td>0.437273</td>\n",
              "      <td>0.248309</td>\n",
              "      <td>120</td>\n",
              "      <td>1229</td>\n",
              "      <td>1349</td>\n",
              "    </tr>\n",
              "    <tr>\n",
              "      <th>3</th>\n",
              "      <td>1</td>\n",
              "      <td>0</td>\n",
              "      <td>1</td>\n",
              "      <td>0</td>\n",
              "      <td>2</td>\n",
              "      <td>1</td>\n",
              "      <td>1</td>\n",
              "      <td>0.200000</td>\n",
              "      <td>0.212122</td>\n",
              "      <td>0.590435</td>\n",
              "      <td>0.160296</td>\n",
              "      <td>108</td>\n",
              "      <td>1454</td>\n",
              "      <td>1562</td>\n",
              "    </tr>\n",
              "    <tr>\n",
              "      <th>4</th>\n",
              "      <td>1</td>\n",
              "      <td>0</td>\n",
              "      <td>1</td>\n",
              "      <td>0</td>\n",
              "      <td>3</td>\n",
              "      <td>1</td>\n",
              "      <td>1</td>\n",
              "      <td>0.226957</td>\n",
              "      <td>0.229270</td>\n",
              "      <td>0.436957</td>\n",
              "      <td>0.186900</td>\n",
              "      <td>82</td>\n",
              "      <td>1518</td>\n",
              "      <td>1600</td>\n",
              "    </tr>\n",
              "  </tbody>\n",
              "</table>\n",
              "</div>\n",
              "      <button class=\"colab-df-convert\" onclick=\"convertToInteractive('df-f4ad60dd-b590-4ad3-8681-ab6c51cbae21')\"\n",
              "              title=\"Convert this dataframe to an interactive table.\"\n",
              "              style=\"display:none;\">\n",
              "        \n",
              "  <svg xmlns=\"http://www.w3.org/2000/svg\" height=\"24px\"viewBox=\"0 0 24 24\"\n",
              "       width=\"24px\">\n",
              "    <path d=\"M0 0h24v24H0V0z\" fill=\"none\"/>\n",
              "    <path d=\"M18.56 5.44l.94 2.06.94-2.06 2.06-.94-2.06-.94-.94-2.06-.94 2.06-2.06.94zm-11 1L8.5 8.5l.94-2.06 2.06-.94-2.06-.94L8.5 2.5l-.94 2.06-2.06.94zm10 10l.94 2.06.94-2.06 2.06-.94-2.06-.94-.94-2.06-.94 2.06-2.06.94z\"/><path d=\"M17.41 7.96l-1.37-1.37c-.4-.4-.92-.59-1.43-.59-.52 0-1.04.2-1.43.59L10.3 9.45l-7.72 7.72c-.78.78-.78 2.05 0 2.83L4 21.41c.39.39.9.59 1.41.59.51 0 1.02-.2 1.41-.59l7.78-7.78 2.81-2.81c.8-.78.8-2.07 0-2.86zM5.41 20L4 18.59l7.72-7.72 1.47 1.35L5.41 20z\"/>\n",
              "  </svg>\n",
              "      </button>\n",
              "      \n",
              "  <style>\n",
              "    .colab-df-container {\n",
              "      display:flex;\n",
              "      flex-wrap:wrap;\n",
              "      gap: 12px;\n",
              "    }\n",
              "\n",
              "    .colab-df-convert {\n",
              "      background-color: #E8F0FE;\n",
              "      border: none;\n",
              "      border-radius: 50%;\n",
              "      cursor: pointer;\n",
              "      display: none;\n",
              "      fill: #1967D2;\n",
              "      height: 32px;\n",
              "      padding: 0 0 0 0;\n",
              "      width: 32px;\n",
              "    }\n",
              "\n",
              "    .colab-df-convert:hover {\n",
              "      background-color: #E2EBFA;\n",
              "      box-shadow: 0px 1px 2px rgba(60, 64, 67, 0.3), 0px 1px 3px 1px rgba(60, 64, 67, 0.15);\n",
              "      fill: #174EA6;\n",
              "    }\n",
              "\n",
              "    [theme=dark] .colab-df-convert {\n",
              "      background-color: #3B4455;\n",
              "      fill: #D2E3FC;\n",
              "    }\n",
              "\n",
              "    [theme=dark] .colab-df-convert:hover {\n",
              "      background-color: #434B5C;\n",
              "      box-shadow: 0px 1px 3px 1px rgba(0, 0, 0, 0.15);\n",
              "      filter: drop-shadow(0px 1px 2px rgba(0, 0, 0, 0.3));\n",
              "      fill: #FFFFFF;\n",
              "    }\n",
              "  </style>\n",
              "\n",
              "      <script>\n",
              "        const buttonEl =\n",
              "          document.querySelector('#df-f4ad60dd-b590-4ad3-8681-ab6c51cbae21 button.colab-df-convert');\n",
              "        buttonEl.style.display =\n",
              "          google.colab.kernel.accessAllowed ? 'block' : 'none';\n",
              "\n",
              "        async function convertToInteractive(key) {\n",
              "          const element = document.querySelector('#df-f4ad60dd-b590-4ad3-8681-ab6c51cbae21');\n",
              "          const dataTable =\n",
              "            await google.colab.kernel.invokeFunction('convertToInteractive',\n",
              "                                                     [key], {});\n",
              "          if (!dataTable) return;\n",
              "\n",
              "          const docLinkHtml = 'Like what you see? Visit the ' +\n",
              "            '<a target=\"_blank\" href=https://colab.research.google.com/notebooks/data_table.ipynb>data table notebook</a>'\n",
              "            + ' to learn more about interactive tables.';\n",
              "          element.innerHTML = '';\n",
              "          dataTable['output_type'] = 'display_data';\n",
              "          await google.colab.output.renderOutput(dataTable, element);\n",
              "          const docLink = document.createElement('div');\n",
              "          docLink.innerHTML = docLinkHtml;\n",
              "          element.appendChild(docLink);\n",
              "        }\n",
              "      </script>\n",
              "    </div>\n",
              "  </div>\n",
              "  "
            ]
          },
          "metadata": {},
          "execution_count": 9
        }
      ]
    },
    {
      "cell_type": "code",
      "source": [
        "y = data[\"cnt\"]"
      ],
      "metadata": {
        "id": "ZDDXKDEKoOra"
      },
      "execution_count": 10,
      "outputs": []
    },
    {
      "cell_type": "code",
      "source": [
        "X = data.drop(\"cnt\", axis = 1)"
      ],
      "metadata": {
        "id": "7C8qq6M2oPGf"
      },
      "execution_count": 11,
      "outputs": []
    },
    {
      "cell_type": "code",
      "source": [
        "#Split data\n",
        "from sklearn.model_selection import train_test_split\n",
        "\n",
        "X_train, X_test, y_train, y_test = train_test_split(X, y, test_size=0.2, random_state=0)"
      ],
      "metadata": {
        "id": "_e6lOa74obXa"
      },
      "execution_count": 12,
      "outputs": []
    },
    {
      "cell_type": "code",
      "source": [
        "print(X_train.shape, y_train.shape, X_test.shape, y_test.shape)"
      ],
      "metadata": {
        "colab": {
          "base_uri": "https://localhost:8080/"
        },
        "id": "51UhR5dModVf",
        "outputId": "d89745f8-1078-4f5d-8d82-2ef6e9201d8f"
      },
      "execution_count": 13,
      "outputs": [
        {
          "output_type": "stream",
          "name": "stdout",
          "text": [
            "(584, 13) (584,) (147, 13) (147,)\n"
          ]
        }
      ]
    },
    {
      "cell_type": "code",
      "source": [
        "# keras imports for the dataset and building our neural network\n",
        "from keras.models import Sequential\n",
        "from keras.layers import Dense\n",
        "from keras.utils import to_categorical"
      ],
      "metadata": {
        "id": "ILYS4RuS_4HU"
      },
      "execution_count": 14,
      "outputs": []
    },
    {
      "cell_type": "code",
      "source": [
        "#Building a Linear stack of layers with the Sequential Model\n",
        "\n",
        "L1=200\n",
        "L2=100\n",
        "L3=50\n",
        "\n",
        "model0 = Sequential()\n",
        "model0.add(Dense(L1, input_dim=13, activation ='relu'))\n",
        "model0.add(Dense(L2, activation = 'relu'))\n",
        "model0.add(Dense(L3, activation='relu'))\n",
        "\n",
        "#Output Layer \n",
        "model0.add(Dense(1, activation ='linear'))"
      ],
      "metadata": {
        "id": "xhwfS6sNK7Di"
      },
      "execution_count": 15,
      "outputs": []
    },
    {
      "cell_type": "code",
      "source": [
        "#Compiling the Sequential Model\n",
        "model0.compile(loss='mse', metrics=['mae'], optimizer='adam')"
      ],
      "metadata": {
        "id": "tbLjpRkWLu3I"
      },
      "execution_count": 16,
      "outputs": []
    },
    {
      "cell_type": "code",
      "source": [
        "#Training the model\n",
        "history0 = model0.fit(X_train, y_train, epochs=10, batch_size=100, validation_data=(X_test, y_test))"
      ],
      "metadata": {
        "colab": {
          "base_uri": "https://localhost:8080/"
        },
        "id": "iETOkt03NA2J",
        "outputId": "7fd0b42a-42ef-4974-9d63-26c43a769c9d"
      },
      "execution_count": 17,
      "outputs": [
        {
          "output_type": "stream",
          "name": "stdout",
          "text": [
            "Epoch 1/10\n",
            "6/6 [==============================] - 1s 38ms/step - loss: 16793892.0000 - mae: 3760.0181 - val_loss: 10968411.0000 - val_mae: 3007.1289\n",
            "Epoch 2/10\n",
            "6/6 [==============================] - 0s 9ms/step - loss: 6932342.5000 - mae: 2371.6289 - val_loss: 2681570.0000 - val_mae: 1464.3326\n",
            "Epoch 3/10\n",
            "6/6 [==============================] - 0s 10ms/step - loss: 955375.1250 - mae: 742.1956 - val_loss: 215792.6875 - val_mae: 384.6633\n",
            "Epoch 4/10\n",
            "6/6 [==============================] - 0s 10ms/step - loss: 812979.1250 - mae: 772.5262 - val_loss: 1255282.2500 - val_mae: 998.1971\n",
            "Epoch 5/10\n",
            "6/6 [==============================] - 0s 8ms/step - loss: 776810.0625 - mae: 767.5485 - val_loss: 155278.9688 - val_mae: 325.3469\n",
            "Epoch 6/10\n",
            "6/6 [==============================] - 0s 8ms/step - loss: 94677.6406 - mae: 237.1891 - val_loss: 205464.4062 - val_mae: 348.8968\n",
            "Epoch 7/10\n",
            "6/6 [==============================] - 0s 7ms/step - loss: 239844.4688 - mae: 395.3241 - val_loss: 230979.0781 - val_mae: 390.4870\n",
            "Epoch 8/10\n",
            "6/6 [==============================] - 0s 7ms/step - loss: 123665.7109 - mae: 266.0408 - val_loss: 30545.9805 - val_mae: 130.9701\n",
            "Epoch 9/10\n",
            "6/6 [==============================] - 0s 8ms/step - loss: 35876.6094 - mae: 148.8737 - val_loss: 61671.9883 - val_mae: 203.8942\n",
            "Epoch 10/10\n",
            "6/6 [==============================] - 0s 9ms/step - loss: 55369.2500 - mae: 197.3109 - val_loss: 26301.0195 - val_mae: 123.5333\n"
          ]
        }
      ]
    },
    {
      "cell_type": "code",
      "source": [
        "import matplotlib.pyplot as plt\n",
        "\n",
        "mae2 = history0.history['mae']\n",
        "val_mae = history0.history['val_mae']\n",
        "loss2 = history0.history['loss']\n",
        "val_loss = history0.history['val_loss']\n",
        "\n",
        "epochs = range(1,len(mae2)+1)\n",
        "\n",
        "plt.plot(epochs, mae2,'b',label='Train MAE')\n",
        "plt.plot(epochs, val_mae,'r',label='Test MAE')\n",
        "plt.legend()\n",
        "plt.figure()\n",
        "\n",
        "plt.plot(epochs, loss2,'b',label='Train Loss')\n",
        "plt.plot(epochs, val_loss,'r',label='Test Loss')\n",
        "plt.legend()\n",
        "plt.show()"
      ],
      "metadata": {
        "id": "WXsoVfqFN-mz",
        "colab": {
          "base_uri": "https://localhost:8080/",
          "height": 858
        },
        "outputId": "1f99b458-f448-48d3-be11-df2404378ea2"
      },
      "execution_count": 18,
      "outputs": [
        {
          "output_type": "display_data",
          "data": {
            "text/plain": [
              "<Figure size 640x480 with 1 Axes>"
            ],
            "image/png": "[encoded data removed]"
          },
          "metadata": {}
        },
        {
          "output_type": "display_data",
          "data": {
            "text/plain": [
              "<Figure size 640x480 with 1 Axes>"
            ],
            "image/png": "[encoded data removed]"
          },
          "metadata": {}
        }
      ]
    },
    {
      "cell_type": "markdown",
      "source": [
        "## Model with Initializer & Regularizer"
      ],
      "metadata": {
        "id": "NjwIgTARCeUw"
      }
    },
    {
      "cell_type": "code",
      "source": [
        "from keras import initializers\n",
        "from keras import regularizers"
      ],
      "metadata": {
        "id": "pW-hz34SCdRB"
      },
      "execution_count": 19,
      "outputs": []
    },
    {
      "cell_type": "code",
      "source": [
        "L1=200\n",
        "L2=100\n",
        "L3=50\n",
        "\n",
        "model1 = Sequential()\n",
        "model1.add(Dense(L1, input_dim=13, activation ='relu', \n",
        "                 kernel_initializer='he_normal', kernel_regularizer=regularizers.l1(0.01)))\n",
        "model1.add(Dense(L2, activation = 'relu'))\n",
        "model1.add(Dense(L3, activation='relu'))\n",
        "\n",
        "#Output Layer\n",
        "model1.add(Dense(1, activation ='linear'))"
      ],
      "metadata": {
        "id": "iHY-nQ3uCv8I"
      },
      "execution_count": 20,
      "outputs": []
    },
    {
      "cell_type": "code",
      "source": [
        "#Compiling the Sequential Model\n",
        "model1.compile(loss='mse', metrics=['mae'], optimizer='adam')"
      ],
      "metadata": {
        "id": "DY4M5EXMDR8N"
      },
      "execution_count": 21,
      "outputs": []
    },
    {
      "cell_type": "code",
      "source": [
        "#Training the model\n",
        "history1 = model1.fit(X_train, y_train, epochs=10, batch_size=100, validation_data=(X_test, y_test))"
      ],
      "metadata": {
        "id": "pcRpq8_yDX08",
        "colab": {
          "base_uri": "https://localhost:8080/"
        },
        "outputId": "007d9621-7869-412b-8451-36762af20ae8"
      },
      "execution_count": 22,
      "outputs": [
        {
          "output_type": "stream",
          "name": "stdout",
          "text": [
            "Epoch 1/10\n",
            "6/6 [==============================] - 1s 46ms/step - loss: 14598646.0000 - mae: 3368.8550 - val_loss: 2914862.2500 - val_mae: 1460.1675\n",
            "Epoch 2/10\n",
            "6/6 [==============================] - 0s 10ms/step - loss: 1231230.5000 - mae: 861.9828 - val_loss: 1898729.3750 - val_mae: 1144.4337\n",
            "Epoch 3/10\n",
            "6/6 [==============================] - 0s 9ms/step - loss: 1644841.0000 - mae: 1079.2214 - val_loss: 549509.6875 - val_mae: 634.9819\n",
            "Epoch 4/10\n",
            "6/6 [==============================] - 0s 13ms/step - loss: 343154.0312 - mae: 443.5238 - val_loss: 609001.7500 - val_mae: 583.8013\n",
            "Epoch 5/10\n",
            "6/6 [==============================] - 0s 10ms/step - loss: 512839.2188 - mae: 537.2398 - val_loss: 296619.6875 - val_mae: 376.8832\n",
            "Epoch 6/10\n",
            "6/6 [==============================] - 0s 14ms/step - loss: 178598.1875 - mae: 320.1101 - val_loss: 185004.9844 - val_mae: 369.9555\n",
            "Epoch 7/10\n",
            "6/6 [==============================] - 0s 13ms/step - loss: 179405.1406 - mae: 363.6647 - val_loss: 98106.5312 - val_mae: 269.6004\n",
            "Epoch 8/10\n",
            "6/6 [==============================] - 0s 11ms/step - loss: 64645.9648 - mae: 200.5833 - val_loss: 70162.2031 - val_mae: 198.8411\n",
            "Epoch 9/10\n",
            "6/6 [==============================] - 0s 10ms/step - loss: 59175.5156 - mae: 181.8742 - val_loss: 23235.0488 - val_mae: 115.9161\n",
            "Epoch 10/10\n",
            "6/6 [==============================] - 0s 10ms/step - loss: 20830.1758 - mae: 113.8917 - val_loss: 21863.1191 - val_mae: 118.9772\n"
          ]
        }
      ]
    },
    {
      "cell_type": "code",
      "source": [
        "mae2 = history1.history['mae']\n",
        "val_mae = history1.history['val_mae']\n",
        "loss2 = history1.history['loss']\n",
        "val_loss = history1.history['val_loss']\n",
        "\n",
        "epochs = range(1,len(mae2)+1)\n",
        "\n",
        "plt.plot(epochs, mae2,'b',label='Train MAE')\n",
        "plt.plot(epochs, val_mae,'r',label='Test MAE')\n",
        "plt.legend()\n",
        "plt.figure()\n",
        "\n",
        "plt.plot(epochs, loss2,'b',label='Train Loss')\n",
        "plt.plot(epochs, val_loss,'r',label='Test Loss')\n",
        "plt.legend()\n",
        "plt.show()"
      ],
      "metadata": {
        "id": "sngMgr2JDn0A",
        "colab": {
          "base_uri": "https://localhost:8080/",
          "height": 860
        },
        "outputId": "6b263409-60df-4dd8-c88b-1f11510f7af1"
      },
      "execution_count": 23,
      "outputs": [
        {
          "output_type": "display_data",
          "data": {
            "text/plain": [
              "<Figure size 640x480 with 1 Axes>"
            ],
            "image/png": "[encoded data removed]"
          },
          "metadata": {}
        },
        {
          "output_type": "display_data",
          "data": {
            "text/plain": [
              "<Figure size 640x480 with 1 Axes>"
            ],
            "image/png": "[encoded data removed]"
          },
          "metadata": {}
        }
      ]
    },
    {
      "cell_type": "markdown",
      "source": [
        "## Dropout"
      ],
      "metadata": {
        "id": "YkV-o3-gFSHN"
      }
    },
    {
      "cell_type": "code",
      "source": [
        "from keras.layers import Dense, Dropout"
      ],
      "metadata": {
        "id": "W7v4J9UkFSHO"
      },
      "execution_count": 24,
      "outputs": []
    },
    {
      "cell_type": "code",
      "source": [
        "L1=200\n",
        "L2=100\n",
        "L3=50\n",
        "\n",
        "model2 = Sequential()\n",
        "model2.add(Dense(L1, input_dim = 13, activation = 'relu',\n",
        "                   kernel_initializer='he_normal', kernel_regularizer=regularizers.l1(0.01)))\n",
        "model2.add(Dropout(rate = 0.2))\n",
        "model2.add(Dense(L2, activation= 'relu'))\n",
        "model2.add(Dropout(rate = 0.2))\n",
        "model2.add(Dense(L3, activation= 'relu'))\n",
        "model2.add(Dropout(rate = 0.2))\n",
        "\n",
        "#Output Layer\n",
        "model2.add(Dense(1, activation ='linear'))"
      ],
      "metadata": {
        "id": "oNUmjPMhFSHP"
      },
      "execution_count": 25,
      "outputs": []
    },
    {
      "cell_type": "code",
      "source": [
        "#Compiling the Sequential Model\n",
        "model2.compile(loss='mse', metrics=['mae'], optimizer='adam')"
      ],
      "metadata": {
        "id": "f7tn1p-YFSHQ"
      },
      "execution_count": 26,
      "outputs": []
    },
    {
      "cell_type": "code",
      "source": [
        "#Training the model\n",
        "history2 = model2.fit(X_train, y_train, epochs=10, batch_size=100, validation_data=(X_test, y_test))"
      ],
      "metadata": {
        "colab": {
          "base_uri": "https://localhost:8080/"
        },
        "outputId": "165ae01f-8eec-4f59-97ee-4c46169656ce",
        "id": "iOhniKRUFSHR"
      },
      "execution_count": 27,
      "outputs": [
        {
          "output_type": "stream",
          "name": "stdout",
          "text": [
            "Epoch 1/10\n",
            "6/6 [==============================] - 1s 35ms/step - loss: 10477805.0000 - mae: 2622.1267 - val_loss: 84459.3281 - val_mae: 184.4037\n",
            "Epoch 2/10\n",
            "6/6 [==============================] - 0s 9ms/step - loss: 3120746.2500 - mae: 1297.0389 - val_loss: 1207822.5000 - val_mae: 998.8401\n",
            "Epoch 3/10\n",
            "6/6 [==============================] - 0s 8ms/step - loss: 2255026.7500 - mae: 1106.0540 - val_loss: 229298.7969 - val_mae: 399.3240\n",
            "Epoch 4/10\n",
            "6/6 [==============================] - 0s 12ms/step - loss: 1769867.3750 - mae: 981.5537 - val_loss: 967880.9375 - val_mae: 880.3600\n",
            "Epoch 5/10\n",
            "6/6 [==============================] - 0s 12ms/step - loss: 1655534.5000 - mae: 987.7680 - val_loss: 224049.2188 - val_mae: 414.9200\n",
            "Epoch 6/10\n",
            "6/6 [==============================] - 0s 8ms/step - loss: 1622525.6250 - mae: 925.2198 - val_loss: 6917.9688 - val_mae: 69.2911\n",
            "Epoch 7/10\n",
            "6/6 [==============================] - 0s 8ms/step - loss: 1212814.6250 - mae: 824.1265 - val_loss: 271030.0000 - val_mae: 470.5951\n",
            "Epoch 8/10\n",
            "6/6 [==============================] - 0s 8ms/step - loss: 1165856.5000 - mae: 808.8671 - val_loss: 461177.2500 - val_mae: 614.6172\n",
            "Epoch 9/10\n",
            "6/6 [==============================] - 0s 8ms/step - loss: 1268770.8750 - mae: 836.7267 - val_loss: 278468.4062 - val_mae: 470.6785\n",
            "Epoch 10/10\n",
            "6/6 [==============================] - 0s 10ms/step - loss: 1052331.1250 - mae: 748.6599 - val_loss: 464989.6562 - val_mae: 617.6348\n"
          ]
        }
      ]
    },
    {
      "cell_type": "code",
      "source": [
        "mae2 = history1.history['mae']\n",
        "val_mae = history1.history['val_mae']\n",
        "loss2 = history1.history['loss']\n",
        "val_loss = history1.history['val_loss']\n",
        "\n",
        "epochs = range(1,len(mae2)+1)\n",
        "\n",
        "plt.plot(epochs, mae2,'b',label='Train MAE')\n",
        "plt.plot(epochs, val_mae,'r',label='Test MAE')\n",
        "plt.legend()\n",
        "plt.figure()\n",
        "\n",
        "plt.plot(epochs, loss2,'b',label='Train Loss')\n",
        "plt.plot(epochs, val_loss,'r',label='Test Loss')\n",
        "plt.legend()\n",
        "plt.show()"
      ],
      "metadata": {
        "colab": {
          "base_uri": "https://localhost:8080/",
          "height": 860
        },
        "outputId": "b92d1490-cdd3-40e7-e019-62d2e7f3962f",
        "id": "MfPd0WJ_FSHR"
      },
      "execution_count": 29,
      "outputs": [
        {
          "output_type": "display_data",
          "data": {
            "text/plain": [
              "<Figure size 640x480 with 1 Axes>"
            ],
            "image/png": "[encoded data removed]"
          },
          "metadata": {}
        },
        {
          "output_type": "display_data",
          "data": {
            "text/plain": [
              "<Figure size 640x480 with 1 Axes>"
            ],
            "image/png": "[encoded data removed]"
          },
          "metadata": {}
        }
      ]
    },
    {
      "cell_type": "markdown",
      "source": [
        "## Early Stopping"
      ],
      "metadata": {
        "id": "JZ54XFQAGM2g"
      }
    },
    {
      "cell_type": "code",
      "source": [
        "from keras.callbacks import EarlyStopping"
      ],
      "metadata": {
        "id": "fCIm4YL4GM2i"
      },
      "execution_count": 30,
      "outputs": []
    },
    {
      "cell_type": "code",
      "source": [
        "L1=200\n",
        "L2=100\n",
        "L3=50\n",
        "\n",
        "model3 = Sequential()\n",
        "model3.add(Dense(L1, input_dim = 13, activation = 'relu',\n",
        "                 kernel_initializer='he_normal', kernel_regularizer=regularizers.l1(0.01)))\n",
        "model3.add(Dropout(rate = 0.2))\n",
        "model3.add(Dense(L2, activation= 'relu'))\n",
        "model3.add(Dropout(rate = 0.2))\n",
        "model3.add(Dense(L3, activation= 'relu'))\n",
        "model3.add(Dropout(rate = 0.2))\n",
        "\n",
        "\n",
        "#Output Layer\n",
        "model3.add(Dense(1, activation ='linear'))"
      ],
      "metadata": {
        "id": "IDP9MG81Taps"
      },
      "execution_count": 31,
      "outputs": []
    },
    {
      "cell_type": "code",
      "source": [
        "#Compiling the Sequential Model\n",
        "model3.compile(loss='mse', metrics=['mae'], optimizer='adam')"
      ],
      "metadata": {
        "id": "EFC4F8KvTo8C"
      },
      "execution_count": 32,
      "outputs": []
    },
    {
      "cell_type": "code",
      "source": [
        "early_stopping_monitor = EarlyStopping(patience= 5)\n",
        "\n",
        "#Training the model\n",
        "history3 = model3.fit(X_train, y_train, epochs=20, batch_size=100, validation_data=(X_test, y_test), callbacks=[early_stopping_monitor])"
      ],
      "metadata": {
        "colab": {
          "base_uri": "https://localhost:8080/"
        },
        "outputId": "c7dffe5c-c72c-4758-874f-aca4459b8475",
        "id": "yhV4SK9TGM2n"
      },
      "execution_count": 33,
      "outputs": [
        {
          "output_type": "stream",
          "name": "stdout",
          "text": [
            "Epoch 1/20\n",
            "6/6 [==============================] - 1s 40ms/step - loss: 16710951.0000 - mae: 3598.1658 - val_loss: 4484590.5000 - val_mae: 1904.5682\n",
            "Epoch 2/20\n",
            "6/6 [==============================] - 0s 8ms/step - loss: 3152155.5000 - mae: 1377.2687 - val_loss: 634392.6875 - val_mae: 662.2988\n",
            "Epoch 3/20\n",
            "6/6 [==============================] - 0s 8ms/step - loss: 3684909.2500 - mae: 1431.8391 - val_loss: 221575.0469 - val_mae: 410.0958\n",
            "Epoch 4/20\n",
            "6/6 [==============================] - 0s 8ms/step - loss: 1965234.3750 - mae: 1059.3220 - val_loss: 677537.7500 - val_mae: 686.7401\n",
            "Epoch 5/20\n",
            "6/6 [==============================] - 0s 9ms/step - loss: 1870440.7500 - mae: 989.3162 - val_loss: 892764.1875 - val_mae: 813.8602\n",
            "Epoch 6/20\n",
            "6/6 [==============================] - 0s 11ms/step - loss: 1887934.8750 - mae: 1012.2661 - val_loss: 349790.0938 - val_mae: 481.3651\n",
            "Epoch 7/20\n",
            "6/6 [==============================] - 0s 14ms/step - loss: 1618635.7500 - mae: 949.0584 - val_loss: 92641.2734 - val_mae: 215.7684\n",
            "Epoch 8/20\n",
            "6/6 [==============================] - 0s 14ms/step - loss: 1465306.1250 - mae: 895.7188 - val_loss: 108331.6172 - val_mae: 250.9470\n",
            "Epoch 9/20\n",
            "6/6 [==============================] - 0s 15ms/step - loss: 1465855.8750 - mae: 901.0662 - val_loss: 197291.0000 - val_mae: 376.9709\n",
            "Epoch 10/20\n",
            "6/6 [==============================] - 0s 14ms/step - loss: 1436303.8750 - mae: 883.3715 - val_loss: 208010.7031 - val_mae: 397.2777\n",
            "Epoch 11/20\n",
            "6/6 [==============================] - 0s 13ms/step - loss: 1363225.7500 - mae: 858.7878 - val_loss: 93503.9219 - val_mae: 262.7018\n",
            "Epoch 12/20\n",
            "6/6 [==============================] - 0s 14ms/step - loss: 1292385.1250 - mae: 850.2788 - val_loss: 228573.4688 - val_mae: 427.5523\n"
          ]
        }
      ]
    },
    {
      "cell_type": "code",
      "source": [
        "mae2 = history1.history['mae']\n",
        "val_mae = history1.history['val_mae']\n",
        "loss2 = history1.history['loss']\n",
        "val_loss = history1.history['val_loss']\n",
        "\n",
        "epochs = range(1,len(mae2)+1)\n",
        "\n",
        "plt.plot(epochs, mae2,'b',label='Train MAE')\n",
        "plt.plot(epochs, val_mae,'r',label='Test MAE')\n",
        "plt.legend()\n",
        "plt.figure()\n",
        "\n",
        "plt.plot(epochs, loss2,'b',label='Train Loss')\n",
        "plt.plot(epochs, val_loss,'r',label='Test Loss')\n",
        "plt.legend()\n",
        "plt.show()"
      ],
      "metadata": {
        "colab": {
          "base_uri": "https://localhost:8080/",
          "height": 860
        },
        "outputId": "fe66e53a-21a2-49fa-8f47-b602091a86eb",
        "id": "dFdupQYVGM2o"
      },
      "execution_count": 34,
      "outputs": [
        {
          "output_type": "display_data",
          "data": {
            "text/plain": [
              "<Figure size 640x480 with 1 Axes>"
            ],
            "image/png": "[encoded data removed]"
          },
          "metadata": {}
        },
        {
          "output_type": "display_data",
          "data": {
            "text/plain": [
              "<Figure size 640x480 with 1 Axes>"
            ],
            "image/png": "[encoded data removed]"
          },
          "metadata": {}
        }
      ]
    },
    {
      "cell_type": "markdown",
      "source": [
        "## Grid Search Hyperparameters\n",
        "\n",
        "https://scikit-learn.org/stable/modules/generated/sklearn.model_selection.GridSearchCV.html\n",
        "\n",
        "KerasClassifier should be used when the target variable is categorical or discrete, and KerasRegressor should be used when the target variable is continuous.\n",
        "\n",
        "Here are some examples:\n",
        "\n",
        "KerasClassifier can be used for classification tasks such as image classification, text classification, sentiment analysis, or fraud detection where the target variable is a categorical variable.\n",
        "\n",
        "KerasRegressor can be used for regression tasks such as predicting housing prices, stock prices, or the length of stay in a hospital where the target variable is a continuous variable.\n",
        "\n",
        "In both cases, the Keras model needs to be appropriately designed and trained to achieve good performance on the task at hand.\n",
        "\n",
        "In summary, the choice between KerasClassifier and KerasRegressor depends on the nature of the target variable in the problem being addressed."
      ],
      "metadata": {
        "id": "CAEq4w00U-f-"
      }
    },
    {
      "cell_type": "code",
      "source": [
        "pip install scikeras"
      ],
      "metadata": {
        "colab": {
          "base_uri": "https://localhost:8080/"
        },
        "id": "IJgZIEcaU-gB",
        "outputId": "0f5ba586-8d7e-4eb6-a7b1-0c86d1959a95"
      },
      "execution_count": 35,
      "outputs": [
        {
          "output_type": "stream",
          "name": "stdout",
          "text": [
            "Looking in indexes: https://pypi.org/simple, https://us-python.pkg.dev/colab-wheels/public/simple/\n",
            "Collecting scikeras\n",
            "  Downloading scikeras-0.10.0-py3-none-any.whl (27 kB)\n",
            "Requirement already satisfied: packaging>=0.21 in /usr/local/lib/python3.9/dist-packages (from scikeras) (23.0)\n",
            "Requirement already satisfied: scikit-learn>=1.0.0 in /usr/local/lib/python3.9/dist-packages (from scikeras) (1.2.2)\n",
            "Requirement already satisfied: numpy>=1.17.3 in /usr/local/lib/python3.9/dist-packages (from scikit-learn>=1.0.0->scikeras) (1.22.4)\n",
            "Requirement already satisfied: scipy>=1.3.2 in /usr/local/lib/python3.9/dist-packages (from scikit-learn>=1.0.0->scikeras) (1.10.1)\n",
            "Requirement already satisfied: threadpoolctl>=2.0.0 in /usr/local/lib/python3.9/dist-packages (from scikit-learn>=1.0.0->scikeras) (3.1.0)\n",
            "Requirement already satisfied: joblib>=1.1.1 in /usr/local/lib/python3.9/dist-packages (from scikit-learn>=1.0.0->scikeras) (1.2.0)\n",
            "Installing collected packages: scikeras\n",
            "Successfully installed scikeras-0.10.0\n"
          ]
        }
      ]
    },
    {
      "cell_type": "code",
      "source": [
        "from sklearn.model_selection import GridSearchCV\n",
        "from scikeras.wrappers import KerasRegressor "
      ],
      "metadata": {
        "id": "x_QfxYKOVs20"
      },
      "execution_count": 36,
      "outputs": []
    },
    {
      "cell_type": "code",
      "source": [
        "#Function to create model\n",
        "def create_model():\n",
        "  model4 = Sequential()\n",
        "  model4.add(Dense(200, input_dim = 13, activation = 'relu',  \n",
        "                   kernel_initializer='he_normal', kernel_regularizer=regularizers.l1(0.01)))             \n",
        "  model4.add(Dense(100, activation= 'relu'))\n",
        "  model4.add(Dense(50, activation= 'relu'))\n",
        "  model4.add(Dense(1, activation= 'linear'))\n",
        "\n",
        "  #Compiling the sequantial model\n",
        "  model4.compile(loss = 'mse', metrics = ['mae'], optimizer = 'adam')\n",
        "\n",
        "  return model4"
      ],
      "metadata": {
        "id": "mlmA4HVMWFUv"
      },
      "execution_count": 47,
      "outputs": []
    },
    {
      "cell_type": "markdown",
      "source": [
        "## Tune the Batch Size and Epoch"
      ],
      "metadata": {
        "id": "YBTdHJdaXjEu"
      }
    },
    {
      "cell_type": "code",
      "source": [
        "#Create Model\n",
        "model4 = KerasRegressor(model=create_model, \n",
        "                        loss = 'mse', \n",
        "                        verbose=0)\n",
        "\n",
        "#Define the Grid Search Parameters\n",
        "batch_size=[50, 100, 150, 200]\n",
        "epochs = [10, 15, 20, 25]\n",
        "\n",
        "param_grid = dict(batch_size=batch_size, \n",
        "                  epochs = epochs)\n",
        "\n",
        "grid = GridSearchCV (estimator = model4, \n",
        "                     param_grid=param_grid, \n",
        "                     n_jobs=-1, \n",
        "                     cv=3)\n",
        "\n",
        "grid_result = grid.fit(X_train, y_train)"
      ],
      "metadata": {
        "id": "1lfQdRR-XpE1"
      },
      "execution_count": 48,
      "outputs": []
    },
    {
      "cell_type": "code",
      "source": [
        "#Summarize Results\n",
        "print(\"Best: %f using %s\" % (grid_result.best_score_, grid_result.best_params_))\n",
        "means = grid_result.cv_results_['mean_test_score']\n",
        "stds = grid_result.cv_results_['std_test_score']\n",
        "params = grid_result.cv_results_['params']\n",
        "for mean, stdev, param in zip(means, stds, params):\n",
        "  print(\"%f (%f) with: %r\" % (mean, stdev, param))"
      ],
      "metadata": {
        "id": "VKA2wffKZgpJ",
        "colab": {
          "base_uri": "https://localhost:8080/"
        },
        "outputId": "b80998a9-960d-47a8-9ebf-03af3784bb69"
      },
      "execution_count": 49,
      "outputs": [
        {
          "output_type": "stream",
          "name": "stdout",
          "text": [
            "Best: 0.999990 using {'batch_size': 50, 'epochs': 25}\n",
            "0.998063 (0.000116) with: {'batch_size': 50, 'epochs': 10}\n",
            "0.999720 (0.000152) with: {'batch_size': 50, 'epochs': 15}\n",
            "0.999978 (0.000027) with: {'batch_size': 50, 'epochs': 20}\n",
            "0.999990 (0.000009) with: {'batch_size': 50, 'epochs': 25}\n",
            "0.971485 (0.017769) with: {'batch_size': 100, 'epochs': 10}\n",
            "0.997375 (0.000749) with: {'batch_size': 100, 'epochs': 15}\n",
            "0.998867 (0.000883) with: {'batch_size': 100, 'epochs': 20}\n",
            "0.999602 (0.000212) with: {'batch_size': 100, 'epochs': 25}\n",
            "0.964089 (0.021063) with: {'batch_size': 150, 'epochs': 10}\n",
            "0.987777 (0.005131) with: {'batch_size': 150, 'epochs': 15}\n",
            "0.996867 (0.000524) with: {'batch_size': 150, 'epochs': 20}\n",
            "0.998623 (0.000789) with: {'batch_size': 150, 'epochs': 25}\n",
            "0.784296 (0.133704) with: {'batch_size': 200, 'epochs': 10}\n",
            "0.947369 (0.033894) with: {'batch_size': 200, 'epochs': 15}\n",
            "0.983779 (0.006384) with: {'batch_size': 200, 'epochs': 20}\n",
            "0.982690 (0.015948) with: {'batch_size': 200, 'epochs': 25}\n"
          ]
        }
      ]
    },
    {
      "cell_type": "markdown",
      "source": [
        "#Tune the training Optimization Algorithm (only)"
      ],
      "metadata": {
        "id": "u9he6tCuWRsq"
      }
    },
    {
      "cell_type": "code",
      "source": [
        "#Create Model\n",
        "model5 = KerasRegressor(model = create_model,\n",
        "                        loss = 'mse',\n",
        "                         epochs = 25, batch_size = 50, verbose = 0)\n",
        "\n",
        "#define the grid search parameters\n",
        "optimizer = ['SGD', 'RMSprop', 'Adagrad', 'Adadelta', 'Adam', 'Adamax', 'Nadam']\n",
        "\n",
        "param_grid =  dict(optimizer = optimizer)\n",
        "\n",
        "grid2 = GridSearchCV(estimator = model5,\n",
        "                    param_grid = param_grid,\n",
        "                    n_jobs = -1, cv = 3)\n",
        "\n",
        "grid_result2 = grid2.fit(X_train, y_train)"
      ],
      "metadata": {
        "id": "pGwYlX1aWM7k"
      },
      "execution_count": 50,
      "outputs": []
    },
    {
      "cell_type": "code",
      "source": [
        "#Summarize result\n",
        "print(\"Best: %f using %s\" % (grid_result2.best_score_, grid_result2.best_params_))\n",
        "means2 = grid_result2.cv_results_['mean_test_score']\n",
        "stds2 = grid_result2.cv_results_['std_test_score']\n",
        "params2 = grid_result2.cv_results_['params']\n",
        "for mean, stdev, param in zip(means2, stds2, params2):\n",
        "  print(\"%f (%f) with: %r\" % (mean, stdev, param))"
      ],
      "metadata": {
        "colab": {
          "base_uri": "https://localhost:8080/"
        },
        "id": "yAeu45rYWmR8",
        "outputId": "4017ea49-3654-4585-98a6-e90b90f30cbc"
      },
      "execution_count": 51,
      "outputs": [
        {
          "output_type": "stream",
          "name": "stdout",
          "text": [
            "Best: 0.999994 using {'optimizer': 'Adam'}\n",
            "0.999987 (0.000007) with: {'optimizer': 'SGD'}\n",
            "0.999988 (0.000005) with: {'optimizer': 'RMSprop'}\n",
            "0.999973 (0.000029) with: {'optimizer': 'Adagrad'}\n",
            "0.999991 (0.000003) with: {'optimizer': 'Adadelta'}\n",
            "0.999994 (0.000002) with: {'optimizer': 'Adam'}\n",
            "0.999920 (0.000039) with: {'optimizer': 'Adamax'}\n",
            "0.999972 (0.000024) with: {'optimizer': 'Nadam'}\n"
          ]
        }
      ]
    },
    {
      "cell_type": "markdown",
      "source": [
        "#Tune the Neuron Activation Function"
      ],
      "metadata": {
        "id": "1111TOCTWsTf"
      }
    },
    {
      "cell_type": "code",
      "source": [
        "#Building a linear stack of layers with the sequantial model\n",
        "def create_model2(activation = 'relu'):\n",
        "  model4 = Sequential()\n",
        "  model4.add(Dense(200, input_dim = 13, activation = 'relu',  \n",
        "                   kernel_initializer='he_normal', kernel_regularizer=regularizers.l1(0.01)))             \n",
        "  model4.add(Dense(100, activation= 'relu'))\n",
        "  model4.add(Dense(50, activation= 'relu'))\n",
        "  model4.add(Dense(1, activation= 'linear'))\n",
        "\n",
        "  #Compiling the sequantial model\n",
        "  model4.compile(loss = 'mse', metrics = ['mae'], optimizer = 'Adam')\n",
        "\n",
        "  return model4"
      ],
      "metadata": {
        "id": "6T1Ue0PVWuYG"
      },
      "execution_count": 52,
      "outputs": []
    },
    {
      "cell_type": "code",
      "source": [
        "#Create Model\n",
        "model6 = KerasRegressor(model = create_model2,\n",
        "                        loss = 'mse',\n",
        "                         epochs = 25, batch_size = 50, verbose = 0)\n",
        "\n",
        "#Define the grid search parameters\n",
        "activation = ['elu', 'selu', 'relu', 'softmax', 'tanh']\n",
        "\n",
        "param_grid =  dict(model__activation  = activation)\n",
        "\n",
        "grid3 = GridSearchCV(estimator = model6,\n",
        "                    param_grid = param_grid,\n",
        "                    n_jobs = -1, cv = 3)\n",
        "\n",
        "grid_result3 = grid3.fit(X_train, y_train)"
      ],
      "metadata": {
        "id": "eYhKYZU0XXRU"
      },
      "execution_count": 53,
      "outputs": []
    },
    {
      "cell_type": "code",
      "source": [
        "#Summarize result\n",
        "print(\"Best: %f using %s\" % (grid_result3.best_score_, grid_result3.best_params_))\n",
        "means3 = grid_result3.cv_results_['mean_test_score']\n",
        "stds3 = grid_result3.cv_results_['std_test_score']\n",
        "params3 = grid_result3.cv_results_['params']\n",
        "for mean, stdev, param in zip(means3, stds3, params3):\n",
        "  print(\"%f (%f) with: %r\" % (mean, stdev, param))"
      ],
      "metadata": {
        "colab": {
          "base_uri": "https://localhost:8080/"
        },
        "id": "MmDrySWhX825",
        "outputId": "22aa5199-4d4e-41b1-ecb0-3866aff931f7"
      },
      "execution_count": 54,
      "outputs": [
        {
          "output_type": "stream",
          "name": "stdout",
          "text": [
            "Best: 0.999996 using {'model__activation': 'selu'}\n",
            "0.999992 (0.000005) with: {'model__activation': 'elu'}\n",
            "0.999996 (0.000000) with: {'model__activation': 'selu'}\n",
            "0.999984 (0.000003) with: {'model__activation': 'relu'}\n",
            "0.999986 (0.000004) with: {'model__activation': 'softmax'}\n",
            "0.999989 (0.000007) with: {'model__activation': 'tanh'}\n"
          ]
        }
      ]
    },
    {
      "cell_type": "markdown",
      "source": [
        "#Final Model"
      ],
      "metadata": {
        "id": "6mgJ7_jyYEVQ"
      }
    },
    {
      "cell_type": "code",
      "source": [
        "#Final\n",
        "modelf = Sequential()\n",
        "modelf.add(Dense(200, input_dim = 13, activation = 'selu',\n",
        "                 kernel_initializer='he_normal', kernel_regularizer=regularizers.l1(0.01)))\n",
        "modelf.add(Dense(100, activation= 'selu'))\n",
        "modelf.add(Dense(50, activation= 'selu'))\n",
        "\n",
        "#Output layer\n",
        "modelf.add(Dense(1, activation= 'linear'))\n",
        "\n",
        "#Compiling the sequantial model\n",
        "modelf.compile(loss = 'mse', metrics = ['mae'], optimizer = 'adam')"
      ],
      "metadata": {
        "id": "cuBOupGbYGAm"
      },
      "execution_count": 56,
      "outputs": []
    },
    {
      "cell_type": "code",
      "source": [
        "historyf = modelf.fit(X_train, y_train, epochs =25, batch_size = 50, validation_data = (X_test, y_test))"
      ],
      "metadata": {
        "colab": {
          "base_uri": "https://localhost:8080/"
        },
        "id": "nCmSZB4XYMn4",
        "outputId": "fe131bc7-a538-4fd2-e037-cbaf5c2b73a4"
      },
      "execution_count": 57,
      "outputs": [
        {
          "output_type": "stream",
          "name": "stdout",
          "text": [
            "Epoch 1/25\n",
            "12/12 [==============================] - 1s 23ms/step - loss: 5093517.5000 - mae: 1747.6167 - val_loss: 1054932.2500 - val_mae: 887.8743\n",
            "Epoch 2/25\n",
            "12/12 [==============================] - 0s 6ms/step - loss: 666211.5625 - mae: 612.2153 - val_loss: 117447.3047 - val_mae: 275.9423\n",
            "Epoch 3/25\n",
            "12/12 [==============================] - 0s 7ms/step - loss: 149669.6094 - mae: 302.5143 - val_loss: 86547.4453 - val_mae: 259.8132\n",
            "Epoch 4/25\n",
            "12/12 [==============================] - 0s 5ms/step - loss: 28506.3457 - mae: 130.0555 - val_loss: 14834.9111 - val_mae: 92.4321\n",
            "Epoch 5/25\n",
            "12/12 [==============================] - 0s 5ms/step - loss: 7381.8330 - mae: 65.1372 - val_loss: 3589.8596 - val_mae: 34.8513\n",
            "Epoch 6/25\n",
            "12/12 [==============================] - 0s 6ms/step - loss: 2395.3848 - mae: 34.7600 - val_loss: 1759.4462 - val_mae: 35.2683\n",
            "Epoch 7/25\n",
            "12/12 [==============================] - 0s 7ms/step - loss: 969.5328 - mae: 23.2749 - val_loss: 456.5960 - val_mae: 15.3239\n",
            "Epoch 8/25\n",
            "12/12 [==============================] - 0s 6ms/step - loss: 354.8635 - mae: 13.8534 - val_loss: 332.4399 - val_mae: 12.1049\n",
            "Epoch 9/25\n",
            "12/12 [==============================] - 0s 5ms/step - loss: 202.7488 - mae: 10.0588 - val_loss: 232.9911 - val_mae: 10.1441\n",
            "Epoch 10/25\n",
            "12/12 [==============================] - 0s 7ms/step - loss: 153.1335 - mae: 8.8094 - val_loss: 184.0471 - val_mae: 9.3641\n",
            "Epoch 11/25\n",
            "12/12 [==============================] - 0s 6ms/step - loss: 139.2085 - mae: 8.4796 - val_loss: 162.0605 - val_mae: 8.8537\n",
            "Epoch 12/25\n",
            "12/12 [==============================] - 0s 6ms/step - loss: 116.8716 - mae: 7.8362 - val_loss: 151.4750 - val_mae: 8.5718\n",
            "Epoch 13/25\n",
            "12/12 [==============================] - 0s 5ms/step - loss: 105.0555 - mae: 7.4492 - val_loss: 135.2555 - val_mae: 8.0875\n",
            "Epoch 14/25\n",
            "12/12 [==============================] - 0s 5ms/step - loss: 96.2128 - mae: 7.1313 - val_loss: 116.6891 - val_mae: 7.5345\n",
            "Epoch 15/25\n",
            "12/12 [==============================] - 0s 6ms/step - loss: 86.8784 - mae: 6.7165 - val_loss: 108.3293 - val_mae: 7.3309\n",
            "Epoch 16/25\n",
            "12/12 [==============================] - 0s 7ms/step - loss: 77.8426 - mae: 6.3358 - val_loss: 94.6912 - val_mae: 6.8081\n",
            "Epoch 17/25\n",
            "12/12 [==============================] - 0s 6ms/step - loss: 67.0664 - mae: 5.8500 - val_loss: 86.9387 - val_mae: 6.5372\n",
            "Epoch 18/25\n",
            "12/12 [==============================] - 0s 5ms/step - loss: 62.0272 - mae: 5.5338 - val_loss: 77.0270 - val_mae: 6.1736\n",
            "Epoch 19/25\n",
            "12/12 [==============================] - 0s 7ms/step - loss: 54.6245 - mae: 5.2719 - val_loss: 68.8916 - val_mae: 5.8613\n",
            "Epoch 20/25\n",
            "12/12 [==============================] - 0s 7ms/step - loss: 49.5721 - mae: 4.9639 - val_loss: 67.3110 - val_mae: 5.7687\n",
            "Epoch 21/25\n",
            "12/12 [==============================] - 0s 6ms/step - loss: 48.8257 - mae: 4.9714 - val_loss: 55.7471 - val_mae: 5.1644\n",
            "Epoch 22/25\n",
            "12/12 [==============================] - 0s 5ms/step - loss: 43.1122 - mae: 4.6683 - val_loss: 51.1097 - val_mae: 4.9038\n",
            "Epoch 23/25\n",
            "12/12 [==============================] - 0s 6ms/step - loss: 40.3050 - mae: 4.4791 - val_loss: 48.8122 - val_mae: 4.9235\n",
            "Epoch 24/25\n",
            "12/12 [==============================] - 0s 7ms/step - loss: 37.8735 - mae: 4.3480 - val_loss: 46.2503 - val_mae: 4.6800\n",
            "Epoch 25/25\n",
            "12/12 [==============================] - 0s 5ms/step - loss: 35.0221 - mae: 4.1913 - val_loss: 43.7874 - val_mae: 4.5733\n"
          ]
        }
      ]
    },
    {
      "cell_type": "code",
      "source": [
        "import matplotlib.pyplot as plt\n",
        "\n",
        "mae2 = historyf.history['mae']\n",
        "val_mae = historyf.history['val_mae']\n",
        "loss2 = historyf.history['loss']\n",
        "val_loss = historyf.history['val_loss']\n",
        "\n",
        "epochs = range(1, len(mae2)+1)\n",
        "\n",
        "plt.plot(epochs, mae2, 'b', label = 'Train MAE')\n",
        "plt.plot(epochs, val_mae, 'r', label = 'Test MAE')\n",
        "plt.legend()\n",
        "plt.figure()\n",
        "\n",
        "plt.plot(epochs, loss2, 'b', label = 'Train Loss')\n",
        "plt.plot(epochs, val_loss, 'r', label = 'Test Loss')\n",
        "plt.legend()\n",
        "plt.figure()"
      ],
      "metadata": {
        "colab": {
          "base_uri": "https://localhost:8080/",
          "height": 893
        },
        "id": "6G5YslEwYQEd",
        "outputId": "c09e67b0-01cc-4eb2-a15c-6aa695f4fbbd"
      },
      "execution_count": 58,
      "outputs": [
        {
          "output_type": "execute_result",
          "data": {
            "text/plain": [
              "<Figure size 640x480 with 0 Axes>"
            ]
          },
          "metadata": {},
          "execution_count": 58
        },
        {
          "output_type": "display_data",
          "data": {
            "text/plain": [
              "<Figure size 640x480 with 1 Axes>"
            ],
            "image/png": "[encoded data removed]"
          },
          "metadata": {}
        },
        {
          "output_type": "display_data",
          "data": {
            "text/plain": [
              "<Figure size 640x480 with 1 Axes>"
            ],
            "image/png": "[encoded data removed]"
          },
          "metadata": {}
        },
        {
          "output_type": "display_data",
          "data": {
            "text/plain": [
              "<Figure size 640x480 with 0 Axes>"
            ]
          },
          "metadata": {}
        }
      ]
    }
  ]
}