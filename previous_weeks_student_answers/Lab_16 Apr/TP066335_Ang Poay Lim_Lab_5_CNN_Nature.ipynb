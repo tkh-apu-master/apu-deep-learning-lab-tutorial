{
  "cells": [
    {
      "cell_type": "markdown",
      "metadata": {
        "id": "ikMe98nuDga-"
      },
      "source": [
        "#**Lab 5 - CNN Nature**"
      ]
    },
    {
      "cell_type": "code",
      "execution_count": null,
      "metadata": {
        "colab": {
          "base_uri": "https://localhost:8080/"
        },
        "id": "P-fAI1gGHt6l",
        "outputId": "0244dd4d-3bef-4729-a741-e4a52b33b228"
      },
      "outputs": [
        {
          "output_type": "stream",
          "name": "stdout",
          "text": [
            "Drive already mounted at /drive; to attempt to forcibly remount, call drive.mount(\"/drive\", force_remount=True).\n"
          ]
        }
      ],
      "source": [
        "from google.colab import drive\n",
        "\n",
        "drive.mount('/drive')"
      ]
    },
    {
      "cell_type": "code",
      "execution_count": null,
      "metadata": {
        "id": "FhDV65yaUDRF"
      },
      "outputs": [],
      "source": [
        "# First path in below cell - Your Google Drive file location where you want to unzip\n",
        "# Second path in below cell - Path where you want to extract the zip file in Google Drive\n",
        "# !unzip '/drive/MyDrive/Colab Notebooks/DL/Data/nature/nature.zip' -d '/drive/MyDrive/Colab Notebooks/DL/Data/nature/nature'"
      ]
    },
    {
      "cell_type": "code",
      "execution_count": null,
      "metadata": {
        "colab": {
          "base_uri": "https://localhost:8080/"
        },
        "id": "v4rIlzirDf8-",
        "outputId": "fa4521a2-29d5-412c-d0ae-fc96c737542a"
      },
      "outputs": [
        {
          "output_type": "stream",
          "name": "stdout",
          "text": [
            "Found 2700 images belonging to 6 classes.\n",
            "Found 536 images belonging to 6 classes.\n"
          ]
        }
      ],
      "source": [
        "from keras.preprocessing.image import ImageDataGenerator\n",
        "\n",
        "# Define data generator for data augmentation\n",
        "train_datagen = ImageDataGenerator(rescale = 1./255,            # Normalize the data.\n",
        "                                   rotation_range = 0.1,        # Randomly rotate images by up to 20 degrees\n",
        "                                   width_shift_range = 0.001,   # Randomly shift images horizontally by up to 20% of the width\n",
        "                                   height_shift_range = 0.001,  # Randomly shift images vertically by up to 20% of the height\n",
        "                                   shear_range = 0.001,         # Randomly apply shear transformation with a max shear of 0.2\n",
        "                                   zoom_range = 0.001,          # Randomly zoom in/out of images by up to 20% \n",
        "                                   horizontal_flip = True,      # Randomly flip images horizontally\n",
        "                                   vertical_flip = False,       # Do not randomly flip images vertically\n",
        "                                   fill_mode = 'nearest')       # Fill any newly created pixels with the nearest pixel value\n",
        "                                   \n",
        "test_datagen = ImageDataGenerator(rescale = 1./255)\n",
        "\n",
        "# Load and augment images from a directory\n",
        "train_directory = '/drive/MyDrive/Colab Notebooks/DL/Data/nature/nature/nature/seg_train/seg_train'\n",
        "test_directory = '/drive/MyDrive/Colab Notebooks/DL/Data/nature/nature/nature/seg_test/seg_test'\n",
        "\n",
        "train_generator = train_datagen.flow_from_directory(train_directory, \n",
        "                                                    target_size = (32, 32), \n",
        "                                                    batch_size = 32, \n",
        "                                                    class_mode = 'categorical')\n",
        "\n",
        "test_generator = test_datagen.flow_from_directory(test_directory, \n",
        "                                                  target_size = (32, 32), \n",
        "                                                  batch_size = 32, \n",
        "                                                  class_mode = 'categorical')"
      ]
    },
    {
      "cell_type": "code",
      "execution_count": null,
      "metadata": {
        "colab": {
          "base_uri": "https://localhost:8080/"
        },
        "id": "4ONPDNZKpgqF",
        "outputId": "7dbc8afe-29f8-43dc-9c1b-24e84695a9e6"
      },
      "outputs": [
        {
          "output_type": "stream",
          "name": "stdout",
          "text": [
            "train image type: float32\n",
            "train lable type: int32\n",
            "test image type: float32\n",
            "test lable type: int32\n"
          ]
        }
      ],
      "source": [
        "print('train image type:', train_generator.image_data_generator.dtype)\n",
        "print('train lable type:', train_generator.labels.dtype)\n",
        "print('test image type:', test_generator.image_data_generator.dtype)\n",
        "print('test lable type:', test_generator.labels.dtype)"
      ]
    },
    {
      "cell_type": "code",
      "execution_count": null,
      "metadata": {
        "id": "Nr8IOK3kUPIV"
      },
      "outputs": [],
      "source": [
        "import numpy as np\n",
        "\n",
        "# Get a batch of augmented images and their corresponding labels for training data\n",
        "x_train, y_train = train_generator.next()\n",
        "\n",
        "# Get a batch of augmented images and their corresponding labels for testing data\n",
        "x_test, y_test = test_generator.next()\n",
        "\n",
        "# Loop through the rest of the batches and append the images and labels to the arrays\n",
        "for i in range(train_generator.__len__()-1):\n",
        "  x, y = train_generator.next()\n",
        "  x_train = np.append(x_train, x, axis = 0)\n",
        "  y_train = np.append(y_train, y, axis = 0)\n",
        "\n",
        "for i in range(test_generator.__len__()-1):\n",
        "  x, y = test_generator.next()\n",
        "  x_test = np.append(x_test, x, axis = 0)\n",
        "  y_test = np.append(y_test, y, axis = 0)"
      ]
    },
    {
      "cell_type": "code",
      "execution_count": null,
      "metadata": {
        "colab": {
          "base_uri": "https://localhost:8080/"
        },
        "id": "78V01lUqKL-9",
        "outputId": "bc2a0d42-3391-4279-ba7f-9d9be7a35f94"
      },
      "outputs": [
        {
          "output_type": "stream",
          "name": "stdout",
          "text": [
            "x_train shape (2700, 32, 32, 3)\n",
            "x_test shape (536, 32, 32, 3)\n",
            "y_train shape (2700, 6)\n",
            "y_test shape (536, 6)\n"
          ]
        }
      ],
      "source": [
        "print(\"x_train shape\", x_train.shape)\n",
        "print(\"x_test shape\", x_test.shape)\n",
        "print(\"y_train shape\", y_train.shape)\n",
        "print(\"y_test shape\", y_test.shape)"
      ]
    },
    {
      "cell_type": "code",
      "execution_count": null,
      "metadata": {
        "colab": {
          "base_uri": "https://localhost:8080/"
        },
        "id": "Zaxhf-3THcNY",
        "outputId": "ad5a7f42-db92-41a6-8205-6251a305ce06"
      },
      "outputs": [
        {
          "output_type": "stream",
          "name": "stdout",
          "text": [
            "Epoch 1/100\n",
            "270/270 [==============================] - 29s 91ms/step - loss: 1.5127 - accuracy: 0.4007 - val_loss: 1.2217 - val_accuracy: 0.5261\n",
            "Epoch 2/100\n",
            "270/270 [==============================] - 23s 86ms/step - loss: 1.2057 - accuracy: 0.5200 - val_loss: 1.2389 - val_accuracy: 0.5410\n",
            "Epoch 3/100\n",
            "270/270 [==============================] - 22s 80ms/step - loss: 1.1101 - accuracy: 0.5700 - val_loss: 1.0906 - val_accuracy: 0.6213\n",
            "Epoch 4/100\n",
            "270/270 [==============================] - 21s 78ms/step - loss: 1.0319 - accuracy: 0.5967 - val_loss: 1.0393 - val_accuracy: 0.5858\n",
            "Epoch 5/100\n",
            "270/270 [==============================] - 26s 97ms/step - loss: 0.9871 - accuracy: 0.6207 - val_loss: 1.1290 - val_accuracy: 0.5821\n",
            "Epoch 6/100\n",
            "270/270 [==============================] - 24s 88ms/step - loss: 0.9385 - accuracy: 0.6500 - val_loss: 0.9436 - val_accuracy: 0.6511\n",
            "Epoch 7/100\n",
            "270/270 [==============================] - 22s 83ms/step - loss: 0.8677 - accuracy: 0.6841 - val_loss: 0.9817 - val_accuracy: 0.6642\n",
            "Epoch 8/100\n",
            "270/270 [==============================] - 24s 90ms/step - loss: 0.7837 - accuracy: 0.7344 - val_loss: 0.9444 - val_accuracy: 0.6959\n",
            "Epoch 9/100\n",
            "270/270 [==============================] - 21s 77ms/step - loss: 0.7277 - accuracy: 0.7515 - val_loss: 1.0068 - val_accuracy: 0.6828\n",
            "Epoch 10/100\n",
            "270/270 [==============================] - 23s 84ms/step - loss: 0.6680 - accuracy: 0.7837 - val_loss: 1.0355 - val_accuracy: 0.6754\n",
            "Epoch 11/100\n",
            "270/270 [==============================] - 21s 78ms/step - loss: 0.6029 - accuracy: 0.8070 - val_loss: 1.0051 - val_accuracy: 0.7052\n",
            "Epoch 12/100\n",
            "270/270 [==============================] - 21s 78ms/step - loss: 0.5665 - accuracy: 0.8241 - val_loss: 1.0810 - val_accuracy: 0.6884\n",
            "Epoch 13/100\n",
            "270/270 [==============================] - 25s 92ms/step - loss: 0.5202 - accuracy: 0.8426 - val_loss: 1.0808 - val_accuracy: 0.7220\n",
            "Epoch 14/100\n",
            "270/270 [==============================] - 21s 78ms/step - loss: 0.4717 - accuracy: 0.8630 - val_loss: 1.2688 - val_accuracy: 0.6791\n",
            "Epoch 15/100\n",
            "270/270 [==============================] - 23s 87ms/step - loss: 0.4342 - accuracy: 0.8844 - val_loss: 1.1831 - val_accuracy: 0.7071\n",
            "Epoch 16/100\n",
            "270/270 [==============================] - 21s 79ms/step - loss: 0.3963 - accuracy: 0.8926 - val_loss: 1.1671 - val_accuracy: 0.7183\n"
          ]
        }
      ],
      "source": [
        "import tensorflow as tf\n",
        "\n",
        "from keras import regularizers\n",
        "from keras.models import Sequential\n",
        "from keras.layers import Dense, Conv2D, MaxPooling2D, Flatten, Dropout\n",
        "from keras.callbacks import EarlyStopping\n",
        "\n",
        "# build the model\n",
        "c1 = 64\n",
        "c2 = 128\n",
        "\n",
        "h1 = 256\n",
        "h2 = 128\n",
        "\n",
        "activation_function = 'relu'\n",
        "regularizer_rate = 0.0001\n",
        "dropout_rate = 0.5\n",
        "early_stopping = EarlyStopping(patience = 10, restore_best_weights = True)\n",
        "\n",
        "model = Sequential()\n",
        "model.add(Conv2D(c1, (3, 3), input_shape = x_train.shape[1:], padding = 'same', activation = activation_function))\n",
        "model.add(MaxPooling2D((2, 2), strides = (2,2)))\n",
        "model.add(Conv2D(c2, (3, 3), padding = 'same', activation = activation_function))\n",
        "model.add(MaxPooling2D((2, 2), strides = (2,2)))\n",
        "model.add(Flatten())\n",
        "model.add(Dense(h1, activation = activation_function, kernel_regularizer=tf.keras.regularizers.l2(regularizer_rate)))\n",
        "model.add(Dropout(dropout_rate))\n",
        "model.add(Dense(h2, activation = activation_function, kernel_regularizer=tf.keras.regularizers.l2(regularizer_rate)))\n",
        "model.add(Dropout(dropout_rate))\n",
        "model.add(Dense(y_train.shape[1], activation = 'softmax'))\n",
        "\n",
        "# compile the model\n",
        "model.compile(optimizer = 'adam',loss = 'categorical_crossentropy', metrics = ['accuracy'])\n",
        "\n",
        "# Train the model\n",
        "history = model.fit(x_train, y_train, validation_data = (x_test, y_test), epochs = 100, batch_size = 10, callbacks = [early_stopping])"
      ]
    },
    {
      "cell_type": "code",
      "execution_count": null,
      "metadata": {
        "colab": {
          "base_uri": "https://localhost:8080/",
          "height": 843
        },
        "id": "NnCHbFJTxiO3",
        "outputId": "64045039-c8d7-48a7-f9ae-3156a30a3156"
      },
      "outputs": [
        {
          "output_type": "display_data",
          "data": {
            "text/plain": [
              "<Figure size 640x480 with 1 Axes>"
            ],
            "image/png": "[encoded data removed]"
          },
          "metadata": {}
        },
        {
          "output_type": "display_data",
          "data": {
            "text/plain": [
              "<Figure size 640x480 with 1 Axes>"
            ],
            "image/png": "[encoded data removed]"
          },
          "metadata": {}
        }
      ],
      "source": [
        "# History of the epochs / iterations\n",
        "import matplotlib.pyplot as plt\n",
        "\n",
        "acc = history.history['accuracy']\n",
        "val_acc = history.history['val_accuracy']\n",
        "loss = history.history['loss']\n",
        "val_loss = history.history['val_loss']\n",
        "\n",
        "epochs = range(1, len(acc) + 1)\n",
        "\n",
        "plt.figure()\n",
        "plt.plot(epochs, acc, 'b', label = 'Train Accuracy')\n",
        "plt.plot(epochs, val_acc, 'r', label = 'Test Accuracy')\n",
        "plt.legend()\n",
        "\n",
        "plt.figure()\n",
        "plt.plot(epochs, loss, 'b', label = 'Train Loss')\n",
        "plt.plot(epochs, val_loss, 'r', label = 'Test Loss')\n",
        "plt.legend()\n",
        "\n",
        "plt.show()"
      ]
    },
    {
      "cell_type": "markdown",
      "metadata": {
        "id": "QgE_xo5sw--U"
      },
      "source": [
        "#**Grid Search Hypermarketers**"
      ]
    },
    {
      "cell_type": "code",
      "execution_count": null,
      "metadata": {
        "colab": {
          "base_uri": "https://localhost:8080/"
        },
        "id": "lRdLBCSMxBjV",
        "outputId": "78867395-188a-481b-ee80-be82058f57f5"
      },
      "outputs": [
        {
          "output_type": "stream",
          "name": "stdout",
          "text": [
            "Looking in indexes: https://pypi.org/simple, https://us-python.pkg.dev/colab-wheels/public/simple/\n",
            "Requirement already satisfied: scikeras in /usr/local/lib/python3.9/dist-packages (0.10.0)\n",
            "Requirement already satisfied: packaging>=0.21 in /usr/local/lib/python3.9/dist-packages (from scikeras) (23.0)\n",
            "Requirement already satisfied: scikit-learn>=1.0.0 in /usr/local/lib/python3.9/dist-packages (from scikeras) (1.2.2)\n",
            "Requirement already satisfied: scipy>=1.3.2 in /usr/local/lib/python3.9/dist-packages (from scikit-learn>=1.0.0->scikeras) (1.10.1)\n",
            "Requirement already satisfied: threadpoolctl>=2.0.0 in /usr/local/lib/python3.9/dist-packages (from scikit-learn>=1.0.0->scikeras) (3.1.0)\n",
            "Requirement already satisfied: joblib>=1.1.1 in /usr/local/lib/python3.9/dist-packages (from scikit-learn>=1.0.0->scikeras) (1.2.0)\n",
            "Requirement already satisfied: numpy>=1.17.3 in /usr/local/lib/python3.9/dist-packages (from scikit-learn>=1.0.0->scikeras) (1.22.4)\n"
          ]
        }
      ],
      "source": [
        "pip install scikeras"
      ]
    },
    {
      "cell_type": "code",
      "execution_count": null,
      "metadata": {
        "id": "-kWLl1DXxD7r"
      },
      "outputs": [],
      "source": [
        "def create_model(c1 = 1, c2 = 1, h1 = 1, h2 = 1, regularizer_rate = 0.001, dropout_rate = 0.5):\n",
        "\n",
        "  activation_function = 'relu'\n",
        "\n",
        "  model = Sequential()\n",
        "  model.add(Conv2D(c1, (3, 3), padding = 'same', input_shape = x_train.shape[1:], activation = activation_function))\n",
        "  model.add(MaxPooling2D((2, 2), strides = (2, 2)))\n",
        "  model.add(Conv2D(c2, (3, 3), padding = 'same', activation = activation_function))\n",
        "  model.add(MaxPooling2D((2, 2), strides = (2, 2)))\n",
        "  model.add(Flatten())\n",
        "  model.add(Dense(h1, activation = activation_function, kernel_regularizer = regularizers.l2(regularizer_rate)))\n",
        "  model.add(Dropout(dropout_rate))\n",
        "  model.add(Dense(h2, activation = activation_function, kernel_regularizer = regularizers.l2(regularizer_rate)))\n",
        "  model.add(Dropout(dropout_rate))\n",
        "  model.add(Dense(y_train.shape[1], activation = 'softmax'))\n",
        "\n",
        "  # Compile model\n",
        "  model.compile(loss = 'categorical_crossentropy',  metrics = ['accuracy'], optimizer = 'adam')\n",
        "\n",
        "  return model"
      ]
    },
    {
      "cell_type": "code",
      "execution_count": null,
      "metadata": {
        "colab": {
          "base_uri": "https://localhost:8080/",
          "height": 400
        },
        "id": "FMIN8SVQxFzJ",
        "outputId": "a48fc108-5e9b-4db8-8f4f-04d7d8feef2b"
      },
      "outputs": [
        {
          "output_type": "stream",
          "name": "stderr",
          "text": [
            "/usr/local/lib/python3.9/dist-packages/joblib/externals/loky/process_executor.py:700: UserWarning: A worker stopped while some jobs were given to the executor. This can be caused by a too short worker timeout or by a memory leak.\n",
            "  warnings.warn(\n"
          ]
        },
        {
          "output_type": "error",
          "ename": "KeyboardInterrupt",
          "evalue": "ignored",
          "traceback": [
            "\u001b[0;31m---------------------------------------------------------------------------\u001b[0m",
            "\u001b[0;31mKeyboardInterrupt\u001b[0m                         Traceback (most recent call last)",
            "\u001b[0;32m<ipython-input-164-95a024534029>\u001b[0m in \u001b[0;36m<cell line: 17>\u001b[0;34m()\u001b[0m\n\u001b[1;32m     15\u001b[0m \u001b[0mparam_grid\u001b[0m \u001b[0;34m=\u001b[0m \u001b[0mdict\u001b[0m\u001b[0;34m(\u001b[0m\u001b[0mc1\u001b[0m \u001b[0;34m=\u001b[0m \u001b[0mc1\u001b[0m\u001b[0;34m,\u001b[0m \u001b[0mc2\u001b[0m \u001b[0;34m=\u001b[0m \u001b[0mc2\u001b[0m\u001b[0;34m,\u001b[0m \u001b[0mh1\u001b[0m \u001b[0;34m=\u001b[0m \u001b[0mh1\u001b[0m\u001b[0;34m,\u001b[0m \u001b[0mh2\u001b[0m \u001b[0;34m=\u001b[0m \u001b[0mh2\u001b[0m\u001b[0;34m)\u001b[0m\u001b[0;34m\u001b[0m\u001b[0;34m\u001b[0m\u001b[0m\n\u001b[1;32m     16\u001b[0m \u001b[0mgrid\u001b[0m \u001b[0;34m=\u001b[0m \u001b[0mGridSearchCV\u001b[0m\u001b[0;34m(\u001b[0m\u001b[0mestimator\u001b[0m \u001b[0;34m=\u001b[0m \u001b[0mmodel\u001b[0m\u001b[0;34m,\u001b[0m \u001b[0mparam_grid\u001b[0m \u001b[0;34m=\u001b[0m \u001b[0mparam_grid\u001b[0m\u001b[0;34m,\u001b[0m \u001b[0mn_jobs\u001b[0m \u001b[0;34m=\u001b[0m \u001b[0;34m-\u001b[0m\u001b[0;36m1\u001b[0m\u001b[0;34m,\u001b[0m \u001b[0mcv\u001b[0m \u001b[0;34m=\u001b[0m \u001b[0;36m3\u001b[0m\u001b[0;34m)\u001b[0m\u001b[0;34m\u001b[0m\u001b[0;34m\u001b[0m\u001b[0m\n\u001b[0;32m---> 17\u001b[0;31m \u001b[0mgrid_result\u001b[0m \u001b[0;34m=\u001b[0m \u001b[0mgrid\u001b[0m\u001b[0;34m.\u001b[0m\u001b[0mfit\u001b[0m\u001b[0;34m(\u001b[0m\u001b[0mx_train\u001b[0m\u001b[0;34m,\u001b[0m \u001b[0my_train\u001b[0m\u001b[0;34m,\u001b[0m \u001b[0mvalidation_data\u001b[0m \u001b[0;34m=\u001b[0m \u001b[0;34m(\u001b[0m\u001b[0mx_test\u001b[0m\u001b[0;34m,\u001b[0m \u001b[0my_test\u001b[0m\u001b[0;34m)\u001b[0m\u001b[0;34m,\u001b[0m \u001b[0mepochs\u001b[0m \u001b[0;34m=\u001b[0m \u001b[0;36m100\u001b[0m\u001b[0;34m,\u001b[0m \u001b[0mbatch_size\u001b[0m \u001b[0;34m=\u001b[0m \u001b[0;36m10\u001b[0m\u001b[0;34m,\u001b[0m \u001b[0mcallbacks\u001b[0m \u001b[0;34m=\u001b[0m \u001b[0;34m[\u001b[0m\u001b[0mearly_stopping\u001b[0m\u001b[0;34m]\u001b[0m\u001b[0;34m)\u001b[0m\u001b[0;34m\u001b[0m\u001b[0;34m\u001b[0m\u001b[0m\n\u001b[0m",
            "\u001b[0;32m/usr/local/lib/python3.9/dist-packages/sklearn/model_selection/_search.py\u001b[0m in \u001b[0;36mfit\u001b[0;34m(self, X, y, groups, **fit_params)\u001b[0m\n\u001b[1;32m    872\u001b[0m                 \u001b[0;32mreturn\u001b[0m \u001b[0mresults\u001b[0m\u001b[0;34m\u001b[0m\u001b[0;34m\u001b[0m\u001b[0m\n\u001b[1;32m    873\u001b[0m \u001b[0;34m\u001b[0m\u001b[0m\n\u001b[0;32m--> 874\u001b[0;31m             \u001b[0mself\u001b[0m\u001b[0;34m.\u001b[0m\u001b[0m_run_search\u001b[0m\u001b[0;34m(\u001b[0m\u001b[0mevaluate_candidates\u001b[0m\u001b[0;34m)\u001b[0m\u001b[0;34m\u001b[0m\u001b[0;34m\u001b[0m\u001b[0m\n\u001b[0m\u001b[1;32m    875\u001b[0m \u001b[0;34m\u001b[0m\u001b[0m\n\u001b[1;32m    876\u001b[0m             \u001b[0;31m# multimetric is determined here because in the case of a callable\u001b[0m\u001b[0;34m\u001b[0m\u001b[0;34m\u001b[0m\u001b[0m\n",
            "\u001b[0;32m/usr/local/lib/python3.9/dist-packages/sklearn/model_selection/_search.py\u001b[0m in \u001b[0;36m_run_search\u001b[0;34m(self, evaluate_candidates)\u001b[0m\n\u001b[1;32m   1386\u001b[0m     \u001b[0;32mdef\u001b[0m \u001b[0m_run_search\u001b[0m\u001b[0;34m(\u001b[0m\u001b[0mself\u001b[0m\u001b[0;34m,\u001b[0m \u001b[0mevaluate_candidates\u001b[0m\u001b[0;34m)\u001b[0m\u001b[0;34m:\u001b[0m\u001b[0;34m\u001b[0m\u001b[0;34m\u001b[0m\u001b[0m\n\u001b[1;32m   1387\u001b[0m         \u001b[0;34m\"\"\"Search all candidates in param_grid\"\"\"\u001b[0m\u001b[0;34m\u001b[0m\u001b[0;34m\u001b[0m\u001b[0m\n\u001b[0;32m-> 1388\u001b[0;31m         \u001b[0mevaluate_candidates\u001b[0m\u001b[0;34m(\u001b[0m\u001b[0mParameterGrid\u001b[0m\u001b[0;34m(\u001b[0m\u001b[0mself\u001b[0m\u001b[0;34m.\u001b[0m\u001b[0mparam_grid\u001b[0m\u001b[0;34m)\u001b[0m\u001b[0;34m)\u001b[0m\u001b[0;34m\u001b[0m\u001b[0;34m\u001b[0m\u001b[0m\n\u001b[0m\u001b[1;32m   1389\u001b[0m \u001b[0;34m\u001b[0m\u001b[0m\n\u001b[1;32m   1390\u001b[0m \u001b[0;34m\u001b[0m\u001b[0m\n",
            "\u001b[0;32m/usr/local/lib/python3.9/dist-packages/sklearn/model_selection/_search.py\u001b[0m in \u001b[0;36mevaluate_candidates\u001b[0;34m(candidate_params, cv, more_results)\u001b[0m\n\u001b[1;32m    819\u001b[0m                     )\n\u001b[1;32m    820\u001b[0m \u001b[0;34m\u001b[0m\u001b[0m\n\u001b[0;32m--> 821\u001b[0;31m                 out = parallel(\n\u001b[0m\u001b[1;32m    822\u001b[0m                     delayed(_fit_and_score)(\n\u001b[1;32m    823\u001b[0m                         \u001b[0mclone\u001b[0m\u001b[0;34m(\u001b[0m\u001b[0mbase_estimator\u001b[0m\u001b[0;34m)\u001b[0m\u001b[0;34m,\u001b[0m\u001b[0;34m\u001b[0m\u001b[0;34m\u001b[0m\u001b[0m\n",
            "\u001b[0;32m/usr/local/lib/python3.9/dist-packages/sklearn/utils/parallel.py\u001b[0m in \u001b[0;36m__call__\u001b[0;34m(self, iterable)\u001b[0m\n\u001b[1;32m     61\u001b[0m             \u001b[0;32mfor\u001b[0m \u001b[0mdelayed_func\u001b[0m\u001b[0;34m,\u001b[0m \u001b[0margs\u001b[0m\u001b[0;34m,\u001b[0m \u001b[0mkwargs\u001b[0m \u001b[0;32min\u001b[0m \u001b[0miterable\u001b[0m\u001b[0;34m\u001b[0m\u001b[0;34m\u001b[0m\u001b[0m\n\u001b[1;32m     62\u001b[0m         )\n\u001b[0;32m---> 63\u001b[0;31m         \u001b[0;32mreturn\u001b[0m \u001b[0msuper\u001b[0m\u001b[0;34m(\u001b[0m\u001b[0;34m)\u001b[0m\u001b[0;34m.\u001b[0m\u001b[0m__call__\u001b[0m\u001b[0;34m(\u001b[0m\u001b[0miterable_with_config\u001b[0m\u001b[0;34m)\u001b[0m\u001b[0;34m\u001b[0m\u001b[0;34m\u001b[0m\u001b[0m\n\u001b[0m\u001b[1;32m     64\u001b[0m \u001b[0;34m\u001b[0m\u001b[0m\n\u001b[1;32m     65\u001b[0m \u001b[0;34m\u001b[0m\u001b[0m\n",
            "\u001b[0;32m/usr/local/lib/python3.9/dist-packages/joblib/parallel.py\u001b[0m in \u001b[0;36m__call__\u001b[0;34m(self, iterable)\u001b[0m\n\u001b[1;32m   1096\u001b[0m \u001b[0;34m\u001b[0m\u001b[0m\n\u001b[1;32m   1097\u001b[0m             \u001b[0;32mwith\u001b[0m \u001b[0mself\u001b[0m\u001b[0;34m.\u001b[0m\u001b[0m_backend\u001b[0m\u001b[0;34m.\u001b[0m\u001b[0mretrieval_context\u001b[0m\u001b[0;34m(\u001b[0m\u001b[0;34m)\u001b[0m\u001b[0;34m:\u001b[0m\u001b[0;34m\u001b[0m\u001b[0;34m\u001b[0m\u001b[0m\n\u001b[0;32m-> 1098\u001b[0;31m                 \u001b[0mself\u001b[0m\u001b[0;34m.\u001b[0m\u001b[0mretrieve\u001b[0m\u001b[0;34m(\u001b[0m\u001b[0;34m)\u001b[0m\u001b[0;34m\u001b[0m\u001b[0;34m\u001b[0m\u001b[0m\n\u001b[0m\u001b[1;32m   1099\u001b[0m             \u001b[0;31m# Make sure that we get a last message telling us we are done\u001b[0m\u001b[0;34m\u001b[0m\u001b[0;34m\u001b[0m\u001b[0m\n\u001b[1;32m   1100\u001b[0m             \u001b[0melapsed_time\u001b[0m \u001b[0;34m=\u001b[0m \u001b[0mtime\u001b[0m\u001b[0;34m.\u001b[0m\u001b[0mtime\u001b[0m\u001b[0;34m(\u001b[0m\u001b[0;34m)\u001b[0m \u001b[0;34m-\u001b[0m \u001b[0mself\u001b[0m\u001b[0;34m.\u001b[0m\u001b[0m_start_time\u001b[0m\u001b[0;34m\u001b[0m\u001b[0;34m\u001b[0m\u001b[0m\n",
            "\u001b[0;32m/usr/local/lib/python3.9/dist-packages/joblib/parallel.py\u001b[0m in \u001b[0;36mretrieve\u001b[0;34m(self)\u001b[0m\n\u001b[1;32m    973\u001b[0m             \u001b[0;32mtry\u001b[0m\u001b[0;34m:\u001b[0m\u001b[0;34m\u001b[0m\u001b[0;34m\u001b[0m\u001b[0m\n\u001b[1;32m    974\u001b[0m                 \u001b[0;32mif\u001b[0m \u001b[0mgetattr\u001b[0m\u001b[0;34m(\u001b[0m\u001b[0mself\u001b[0m\u001b[0;34m.\u001b[0m\u001b[0m_backend\u001b[0m\u001b[0;34m,\u001b[0m \u001b[0;34m'supports_timeout'\u001b[0m\u001b[0;34m,\u001b[0m \u001b[0;32mFalse\u001b[0m\u001b[0;34m)\u001b[0m\u001b[0;34m:\u001b[0m\u001b[0;34m\u001b[0m\u001b[0;34m\u001b[0m\u001b[0m\n\u001b[0;32m--> 975\u001b[0;31m                     \u001b[0mself\u001b[0m\u001b[0;34m.\u001b[0m\u001b[0m_output\u001b[0m\u001b[0;34m.\u001b[0m\u001b[0mextend\u001b[0m\u001b[0;34m(\u001b[0m\u001b[0mjob\u001b[0m\u001b[0;34m.\u001b[0m\u001b[0mget\u001b[0m\u001b[0;34m(\u001b[0m\u001b[0mtimeout\u001b[0m\u001b[0;34m=\u001b[0m\u001b[0mself\u001b[0m\u001b[0;34m.\u001b[0m\u001b[0mtimeout\u001b[0m\u001b[0;34m)\u001b[0m\u001b[0;34m)\u001b[0m\u001b[0;34m\u001b[0m\u001b[0;34m\u001b[0m\u001b[0m\n\u001b[0m\u001b[1;32m    976\u001b[0m                 \u001b[0;32melse\u001b[0m\u001b[0;34m:\u001b[0m\u001b[0;34m\u001b[0m\u001b[0;34m\u001b[0m\u001b[0m\n\u001b[1;32m    977\u001b[0m                     \u001b[0mself\u001b[0m\u001b[0;34m.\u001b[0m\u001b[0m_output\u001b[0m\u001b[0;34m.\u001b[0m\u001b[0mextend\u001b[0m\u001b[0;34m(\u001b[0m\u001b[0mjob\u001b[0m\u001b[0;34m.\u001b[0m\u001b[0mget\u001b[0m\u001b[0;34m(\u001b[0m\u001b[0;34m)\u001b[0m\u001b[0;34m)\u001b[0m\u001b[0;34m\u001b[0m\u001b[0;34m\u001b[0m\u001b[0m\n",
            "\u001b[0;32m/usr/local/lib/python3.9/dist-packages/joblib/_parallel_backends.py\u001b[0m in \u001b[0;36mwrap_future_result\u001b[0;34m(future, timeout)\u001b[0m\n\u001b[1;32m    565\u001b[0m         AsyncResults.get from multiprocessing.\"\"\"\n\u001b[1;32m    566\u001b[0m         \u001b[0;32mtry\u001b[0m\u001b[0;34m:\u001b[0m\u001b[0;34m\u001b[0m\u001b[0;34m\u001b[0m\u001b[0m\n\u001b[0;32m--> 567\u001b[0;31m             \u001b[0;32mreturn\u001b[0m \u001b[0mfuture\u001b[0m\u001b[0;34m.\u001b[0m\u001b[0mresult\u001b[0m\u001b[0;34m(\u001b[0m\u001b[0mtimeout\u001b[0m\u001b[0;34m=\u001b[0m\u001b[0mtimeout\u001b[0m\u001b[0;34m)\u001b[0m\u001b[0;34m\u001b[0m\u001b[0;34m\u001b[0m\u001b[0m\n\u001b[0m\u001b[1;32m    568\u001b[0m         \u001b[0;32mexcept\u001b[0m \u001b[0mCfTimeoutError\u001b[0m \u001b[0;32mas\u001b[0m \u001b[0me\u001b[0m\u001b[0;34m:\u001b[0m\u001b[0;34m\u001b[0m\u001b[0;34m\u001b[0m\u001b[0m\n\u001b[1;32m    569\u001b[0m             \u001b[0;32mraise\u001b[0m \u001b[0mTimeoutError\u001b[0m \u001b[0;32mfrom\u001b[0m \u001b[0me\u001b[0m\u001b[0;34m\u001b[0m\u001b[0;34m\u001b[0m\u001b[0m\n",
            "\u001b[0;32m/usr/lib/python3.9/concurrent/futures/_base.py\u001b[0m in \u001b[0;36mresult\u001b[0;34m(self, timeout)\u001b[0m\n\u001b[1;32m    439\u001b[0m                     \u001b[0;32mreturn\u001b[0m \u001b[0mself\u001b[0m\u001b[0;34m.\u001b[0m\u001b[0m__get_result\u001b[0m\u001b[0;34m(\u001b[0m\u001b[0;34m)\u001b[0m\u001b[0;34m\u001b[0m\u001b[0;34m\u001b[0m\u001b[0m\n\u001b[1;32m    440\u001b[0m \u001b[0;34m\u001b[0m\u001b[0m\n\u001b[0;32m--> 441\u001b[0;31m                 \u001b[0mself\u001b[0m\u001b[0;34m.\u001b[0m\u001b[0m_condition\u001b[0m\u001b[0;34m.\u001b[0m\u001b[0mwait\u001b[0m\u001b[0;34m(\u001b[0m\u001b[0mtimeout\u001b[0m\u001b[0;34m)\u001b[0m\u001b[0;34m\u001b[0m\u001b[0;34m\u001b[0m\u001b[0m\n\u001b[0m\u001b[1;32m    442\u001b[0m \u001b[0;34m\u001b[0m\u001b[0m\n\u001b[1;32m    443\u001b[0m                 \u001b[0;32mif\u001b[0m \u001b[0mself\u001b[0m\u001b[0;34m.\u001b[0m\u001b[0m_state\u001b[0m \u001b[0;32min\u001b[0m \u001b[0;34m[\u001b[0m\u001b[0mCANCELLED\u001b[0m\u001b[0;34m,\u001b[0m \u001b[0mCANCELLED_AND_NOTIFIED\u001b[0m\u001b[0;34m]\u001b[0m\u001b[0;34m:\u001b[0m\u001b[0;34m\u001b[0m\u001b[0;34m\u001b[0m\u001b[0m\n",
            "\u001b[0;32m/usr/lib/python3.9/threading.py\u001b[0m in \u001b[0;36mwait\u001b[0;34m(self, timeout)\u001b[0m\n\u001b[1;32m    310\u001b[0m         \u001b[0;32mtry\u001b[0m\u001b[0;34m:\u001b[0m    \u001b[0;31m# restore state no matter what (e.g., KeyboardInterrupt)\u001b[0m\u001b[0;34m\u001b[0m\u001b[0;34m\u001b[0m\u001b[0m\n\u001b[1;32m    311\u001b[0m             \u001b[0;32mif\u001b[0m \u001b[0mtimeout\u001b[0m \u001b[0;32mis\u001b[0m \u001b[0;32mNone\u001b[0m\u001b[0;34m:\u001b[0m\u001b[0;34m\u001b[0m\u001b[0;34m\u001b[0m\u001b[0m\n\u001b[0;32m--> 312\u001b[0;31m                 \u001b[0mwaiter\u001b[0m\u001b[0;34m.\u001b[0m\u001b[0macquire\u001b[0m\u001b[0;34m(\u001b[0m\u001b[0;34m)\u001b[0m\u001b[0;34m\u001b[0m\u001b[0;34m\u001b[0m\u001b[0m\n\u001b[0m\u001b[1;32m    313\u001b[0m                 \u001b[0mgotit\u001b[0m \u001b[0;34m=\u001b[0m \u001b[0;32mTrue\u001b[0m\u001b[0;34m\u001b[0m\u001b[0;34m\u001b[0m\u001b[0m\n\u001b[1;32m    314\u001b[0m             \u001b[0;32melse\u001b[0m\u001b[0;34m:\u001b[0m\u001b[0;34m\u001b[0m\u001b[0;34m\u001b[0m\u001b[0m\n",
            "\u001b[0;31mKeyboardInterrupt\u001b[0m: "
          ]
        }
      ],
      "source": [
        "from sklearn.model_selection import GridSearchCV\n",
        "from scikeras.wrappers import KerasClassifier\n",
        "from keras.callbacks import EarlyStopping\n",
        "\n",
        "model = KerasClassifier(build_fn = create_model, c1 = 1, c2 = 1, h1 = 1, h2 = 1, regularizer_rate = 0.001, dropout_rate = 0.5, verbose = 0)\n",
        "\n",
        "early_stopping = EarlyStopping(patience = 10, restore_best_weights = True)\n",
        "\n",
        "c1 = [32, 64]\n",
        "c2 = [64, 128]\n",
        "\n",
        "h1 = [128, 256]\n",
        "h2 = [64, 128]\n",
        "\n",
        "param_grid = dict(c1 = c1, c2 = c2, h1 = h1, h2 = h2)\n",
        "grid = GridSearchCV(estimator = model, param_grid = param_grid, n_jobs = -1, cv = 3)\n",
        "grid_result = grid.fit(x_train, y_train, validation_data = (x_test, y_test), epochs = 100, batch_size = 10, callbacks = [early_stopping])"
      ]
    },
    {
      "cell_type": "code",
      "execution_count": null,
      "metadata": {
        "id": "AQsSceVnxHc1"
      },
      "outputs": [],
      "source": [
        "# Summarize results\n",
        "print('Best: %f using %s' % (grid_result.best_score_, grid_result.best_params_))\n",
        "\n",
        "means = grid_result.cv_results_['mean_test_score']\n",
        "stds = grid_result.cv_results_['std_test_score']\n",
        "params = grid_result.cv_results_['params']\n",
        "\n",
        "for mean, stdev, param in zip(means, stds, params):\n",
        "  print('%f (%f) with: %r' % (mean, stdev, param))"
      ]
    },
    {
      "cell_type": "markdown",
      "metadata": {
        "id": "hoqKfnLcwIX3"
      },
      "source": [
        "#**Conclusion**"
      ]
    },
    {
      "cell_type": "markdown",
      "metadata": {
        "id": "kTQBJTu_wNhK"
      },
      "source": [
        "Initially, the model is plagued with underfitting issue, causing both traing and testing dataset to perform poorly.\n",
        "<br>\n",
        "<br>After appylying data augmentation, reducing image size to (32, 32), increasing early stopping to 10, increasing the number of filters in the convolutional layers as well as the number of neurons in the hidden layers, the model's performance has improved slightly compared to the previous architecture. However, despite these improvements, the model is suffering from overfitting, indicating that further adjustments may be necessary to achieve better generalization.\n",
        "<br>\n",
        "<br>After applied dropout and regularizer L2 on all hidden layers, the model still overfitting, and the model had achieved the optimum loss at 1.9 and accuracy at 0.6.\n",
        "<br>\n",
        "<br><b><u>In summary:</u></b>\n",
        "1. For convolutional layers, it is encouraged to start with a smaller number of filters and increase the number of filters in subsequent layers to capture increasingly complex features. Since 256 represents the intensity or brightness of the pixel, so the filters in covolutional layers will be using the multiplier of 256.\n",
        "\n",
        "2. For hidden layers, it is encouraged to start with moderate number of neurons and decrease the number of neurons in subsequent hidden layers to reduce computational cost and prevent overfitting. Likewise, the number of neurons in hidden layers will be using the multiplier of 256 as well.\n",
        "\n",
        "3. During a hyperparameter tuning experiment using grid search on a deep learning model with a large number of hyperparameters, the search failed to complete due to over processing time."
      ]
    }
  ],
  "metadata": {
    "colab": {
      "provenance": []
    },
    "kernelspec": {
      "display_name": "Python 3",
      "name": "python3"
    },
    "language_info": {
      "name": "python"
    }
  },
  "nbformat": 4,
  "nbformat_minor": 0
}