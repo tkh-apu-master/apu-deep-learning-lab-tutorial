{
  "nbformat": 4,
  "nbformat_minor": 0,
  "metadata": {
    "colab": {
      "provenance": []
    },
    "kernelspec": {
      "name": "python3",
      "display_name": "Python 3"
    },
    "language_info": {
      "name": "python"
    }
  },
  "cells": [
    {
      "cell_type": "markdown",
      "source": [
        "#Exercise\n",
        "\n",
        "The dataset is about the image data of natural scenes around the world.\n",
        "This dataset size 150 x 150 distributed under 6 categories as follows:\n",
        "\n",
        "0 - buildings\n",
        "\n",
        "1 - forest\n",
        "\n",
        "2 - glacier\n",
        "\n",
        "3 - mountain\n",
        "\n",
        "4 - sea\n",
        "\n",
        "5 - street\n",
        "\n",
        "The train and test are separated in each files. "
      ],
      "metadata": {
        "id": "GmRSZYaZk5oP"
      }
    },
    {
      "cell_type": "code",
      "execution_count": 93,
      "metadata": {
        "colab": {
          "base_uri": "https://localhost:8080/"
        },
        "id": "wrleyyxmk5G0",
        "outputId": "a2245663-c858-4bfc-b7ed-937308edefd8"
      },
      "outputs": [
        {
          "output_type": "stream",
          "name": "stdout",
          "text": [
            "Drive already mounted at /drive; to attempt to forcibly remount, call drive.mount(\"/drive\", force_remount=True).\n"
          ]
        }
      ],
      "source": [
        "from google.colab import drive\n",
        "drive.mount('/drive')"
      ]
    },
    {
      "cell_type": "code",
      "source": [
        "!unzip \"/drive/My Drive/Colab Notebooks/nature.zip\" -d \"/drive/MyDrive/Colab Notebooks/nature\""
      ],
      "metadata": {
        "colab": {
          "base_uri": "https://localhost:8080/"
        },
        "id": "TfutXXXmrdMt",
        "outputId": "b2c808fc-043c-4d26-d89e-aedd9232d6b0"
      },
      "execution_count": 94,
      "outputs": [
        {
          "output_type": "stream",
          "name": "stdout",
          "text": [
            "Archive:  /drive/My Drive/Colab Notebooks/nature.zip\n",
            "replace /drive/MyDrive/Colab Notebooks/nature/nature/seg_test/seg_test/buildings/20057.jpg? [y]es, [n]o, [A]ll, [N]one, [r]ename: "
          ]
        }
      ]
    },
    {
      "cell_type": "code",
      "source": [
        "import numpy as np\n",
        "import pandas as pd\n",
        "import keras.utils as image\n",
        "import keras.layers as layers\n",
        "\n",
        "from keras.models import Sequential\n",
        "from keras.layers import Dense, Conv2D, MaxPooling2D, Flatten, Dropout\n",
        "from keras.utils import to_categorical\n",
        "from keras import initializers\n",
        "from keras import regularizers\n",
        "from keras.callbacks import EarlyStopping\n",
        "from keras.datasets import boston_housing\n",
        "from sklearn.preprocessing import StandardScaler "
      ],
      "metadata": {
        "id": "HVxnIMqlsbau"
      },
      "execution_count": 95,
      "outputs": []
    },
    {
      "cell_type": "code",
      "source": [
        "train_path = '/drive/MyDrive/Colab Notebooks/nature/nature/seg_train/seg_train'\n",
        "test_path = '/drive/MyDrive/Colab Notebooks/nature/nature/seg_test/seg_test'"
      ],
      "metadata": {
        "id": "xmvneLcRr9ln"
      },
      "execution_count": 96,
      "outputs": []
    },
    {
      "cell_type": "code",
      "source": [
        "import os\n",
        "\n",
        "folders = os.listdir(train_path)\n",
        "\n",
        "for folder in folders:\n",
        "    if os.path.isdir(os.path.join(train_path, folder)):\n",
        "        print(folder)"
      ],
      "metadata": {
        "colab": {
          "base_uri": "https://localhost:8080/"
        },
        "id": "QXyi08cREClX",
        "outputId": "0742fcb2-fe8f-4c69-ac00-bacf715dd31b"
      },
      "execution_count": 97,
      "outputs": [
        {
          "output_type": "stream",
          "name": "stdout",
          "text": [
            "buildings\n",
            "forest\n",
            "glacier\n",
            "mountain\n",
            "sea\n",
            "street\n"
          ]
        }
      ]
    },
    {
      "cell_type": "code",
      "source": [
        "\n",
        "items = ['buildings','forest','glacier','mountain','sea','street']\n",
        "\n",
        "import cv2\n",
        "from tqdm import tqdm\n",
        "\n",
        "features = []\n",
        "for i in items:\n",
        "    for img in tqdm((os.listdir(os.path.join(train_path,i)))):\n",
        "        im = cv2.imread(os.path.join(os.path.join(train_path,i) , img))\n",
        "        im = cv2.resize(im , (100,100))\n",
        "        features.append(im)"
      ],
      "metadata": {
        "colab": {
          "base_uri": "https://localhost:8080/"
        },
        "id": "y-Ymv1xuEMkh",
        "outputId": "46fc6714-72bd-4146-8fc5-639329c0a429"
      },
      "execution_count": 98,
      "outputs": [
        {
          "output_type": "stream",
          "name": "stderr",
          "text": [
            "100%|██████████| 210/210 [00:00<00:00, 236.10it/s]\n",
            "100%|██████████| 480/480 [00:01<00:00, 245.20it/s]\n",
            "100%|██████████| 480/480 [00:01<00:00, 249.62it/s]\n",
            "100%|██████████| 510/510 [00:02<00:00, 250.83it/s]\n",
            "100%|██████████| 510/510 [00:02<00:00, 251.99it/s]\n",
            "100%|██████████| 510/510 [00:02<00:00, 244.25it/s]\n"
          ]
        }
      ]
    },
    {
      "cell_type": "code",
      "source": [
        "X_train = np.array(features)\n",
        "X_train.shape"
      ],
      "metadata": {
        "colab": {
          "base_uri": "https://localhost:8080/"
        },
        "id": "B1mnVDWGEZre",
        "outputId": "2b57f617-90ed-40f4-d3d5-0847216abd90"
      },
      "execution_count": 99,
      "outputs": [
        {
          "output_type": "execute_result",
          "data": {
            "text/plain": [
              "(2700, 100, 100, 3)"
            ]
          },
          "metadata": {},
          "execution_count": 99
        }
      ]
    },
    {
      "cell_type": "code",
      "source": [
        "labels = []\n",
        "k = 0\n",
        "for i in items:\n",
        "    for img in tqdm((os.listdir(os.path.join(train_path,i)))):\n",
        "        labels.append(k)\n",
        "    k = k+1"
      ],
      "metadata": {
        "colab": {
          "base_uri": "https://localhost:8080/"
        },
        "id": "8tX0zKjVHrOn",
        "outputId": "39b7b189-6fb2-4999-be0e-45e3899add7d"
      },
      "execution_count": 100,
      "outputs": [
        {
          "output_type": "stream",
          "name": "stderr",
          "text": [
            "100%|██████████| 210/210 [00:00<00:00, 712624.47it/s]\n",
            "100%|██████████| 480/480 [00:00<00:00, 1423809.00it/s]\n",
            "100%|██████████| 480/480 [00:00<00:00, 1302241.86it/s]\n",
            "100%|██████████| 510/510 [00:00<00:00, 1178564.76it/s]\n",
            "100%|██████████| 510/510 [00:00<00:00, 1376509.03it/s]\n",
            "100%|██████████| 510/510 [00:00<00:00, 1484451.80it/s]\n"
          ]
        }
      ]
    },
    {
      "cell_type": "code",
      "source": [
        "Y_train = np.array(labels)\n",
        "Y_train.shape"
      ],
      "metadata": {
        "colab": {
          "base_uri": "https://localhost:8080/"
        },
        "id": "CamtyeImEkco",
        "outputId": "e1bcf6d6-936e-4e04-eeac-44fec9dbc924"
      },
      "execution_count": 101,
      "outputs": [
        {
          "output_type": "execute_result",
          "data": {
            "text/plain": [
              "(2700,)"
            ]
          },
          "metadata": {},
          "execution_count": 101
        }
      ]
    },
    {
      "cell_type": "code",
      "source": [
        "\n",
        "items = ['buildings','forest','glacier','mountain','sea','street']\n",
        "\n",
        "import cv2\n",
        "from tqdm import tqdm\n",
        "\n",
        "features_test = []\n",
        "for i in items:\n",
        "    for img in tqdm((os.listdir(os.path.join(test_path,i)))):\n",
        "        im = cv2.imread(os.path.join(os.path.join(test_path,i) , img))\n",
        "        #im = cv2.cvtColor(im , cv2.COLOR_BGR2GRAY)\n",
        "        im = cv2.resize(im , (100,100))\n",
        "        features_test.append(im)"
      ],
      "metadata": {
        "colab": {
          "base_uri": "https://localhost:8080/"
        },
        "id": "x8gHvsDcH2jT",
        "outputId": "78f4fcc3-4d8a-47fb-b48b-acf889fb8b61"
      },
      "execution_count": 102,
      "outputs": [
        {
          "output_type": "stream",
          "name": "stderr",
          "text": [
            "100%|██████████| 74/74 [00:00<00:00, 334.33it/s]\n",
            "100%|██████████| 93/93 [00:00<00:00, 332.45it/s]\n",
            "100%|██████████| 93/93 [00:00<00:00, 342.63it/s]\n",
            "100%|██████████| 90/90 [00:00<00:00, 326.33it/s]\n",
            "100%|██████████| 96/96 [00:00<00:00, 334.58it/s]\n",
            "100%|██████████| 90/90 [00:00<00:00, 334.88it/s]\n"
          ]
        }
      ]
    },
    {
      "cell_type": "code",
      "source": [
        "X_test = np.array(features_test)\n",
        "X_test.shape"
      ],
      "metadata": {
        "colab": {
          "base_uri": "https://localhost:8080/"
        },
        "id": "fyHC9GKkH6xY",
        "outputId": "cfaf232b-0962-4830-972a-12ef07ca3dcb"
      },
      "execution_count": 103,
      "outputs": [
        {
          "output_type": "execute_result",
          "data": {
            "text/plain": [
              "(536, 100, 100, 3)"
            ]
          },
          "metadata": {},
          "execution_count": 103
        }
      ]
    },
    {
      "cell_type": "code",
      "source": [
        "labels_test = []\n",
        "k = 0\n",
        "for i in items:\n",
        "    for img in tqdm((os.listdir(os.path.join(test_path,i)))):\n",
        "        labels_test.append(k)\n",
        "    k = k+1"
      ],
      "metadata": {
        "colab": {
          "base_uri": "https://localhost:8080/"
        },
        "id": "iWjXcW8fIAlD",
        "outputId": "755a9858-2eb5-4727-b32d-a63f91ebe40a"
      },
      "execution_count": 104,
      "outputs": [
        {
          "output_type": "stream",
          "name": "stderr",
          "text": [
            "100%|██████████| 74/74 [00:00<00:00, 409470.31it/s]\n",
            "100%|██████████| 93/93 [00:00<00:00, 799324.33it/s]\n",
            "100%|██████████| 93/93 [00:00<00:00, 804268.60it/s]\n",
            "100%|██████████| 90/90 [00:00<00:00, 641985.31it/s]\n",
            "100%|██████████| 96/96 [00:00<00:00, 752622.77it/s]\n",
            "100%|██████████| 90/90 [00:00<00:00, 612804.16it/s]\n"
          ]
        }
      ]
    },
    {
      "cell_type": "code",
      "source": [
        "Y_test = np.array(labels_test)\n",
        "Y_test.shape"
      ],
      "metadata": {
        "colab": {
          "base_uri": "https://localhost:8080/"
        },
        "id": "chsdUo_YIE-C",
        "outputId": "43f7edbe-2195-4518-f3cb-9322fcd3a251"
      },
      "execution_count": 105,
      "outputs": [
        {
          "output_type": "execute_result",
          "data": {
            "text/plain": [
              "(536,)"
            ]
          },
          "metadata": {},
          "execution_count": 105
        }
      ]
    },
    {
      "cell_type": "code",
      "source": [
        "# convert from integers to floats\n",
        "X_train = X_train.astype('float32')\n",
        "X_test = X_test.astype('float32')\n",
        "\n",
        "# normalizing the data to help with the training\n",
        "X_train /= 255\n",
        "X_test /= 255\n",
        "\n",
        "# one-hot encoding\n",
        "y_train = to_categorical(Y_train)\n",
        "y_test= to_categorical(Y_test)"
      ],
      "metadata": {
        "id": "INKd2fGdIKbK"
      },
      "execution_count": 106,
      "outputs": []
    },
    {
      "cell_type": "code",
      "source": [
        "L1 = 16\n",
        "L2 = 32\n",
        "L3 = 128\n",
        "\n",
        "model = Sequential()\n",
        "model.add(Conv2D(L1,(3,3),activation='relu', input_shape=(100,100,3), padding='same'))\n",
        "model.add(MaxPooling2D((2,2)))\n",
        "model.add(Dropout(0.2))\n",
        "\n",
        "model.add(Conv2D(L2,(3,3),activation='relu', padding='same'))\n",
        "model.add(MaxPooling2D((2,2)))\n",
        "model.add(Dropout(0.2))\n",
        "\n",
        "model.add(Conv2D(L3,(3,3),activation='relu', padding='same', kernel_regularizer=regularizers.l2(0.001)))\n",
        "model.add(MaxPooling2D((2,2)))\n",
        "model.add(Dropout(rate=0.5))\n",
        "\n",
        "model.add(Flatten())\n",
        "model.add(Dense(6,activation='softmax'))\n"
      ],
      "metadata": {
        "id": "vRvCMjT1vry4"
      },
      "execution_count": 123,
      "outputs": []
    },
    {
      "cell_type": "code",
      "source": [
        "model.compile(loss='categorical_crossentropy', optimizer='adam',\n",
        "             metrics=['accuracy'])"
      ],
      "metadata": {
        "id": "2kqHxrF9w0BB"
      },
      "execution_count": 124,
      "outputs": []
    },
    {
      "cell_type": "code",
      "source": [
        "history = model.fit(X_train, y_train, epochs =10, batch_size = 100, \n",
        "                    validation_data = (X_test, y_test))"
      ],
      "metadata": {
        "colab": {
          "base_uri": "https://localhost:8080/"
        },
        "id": "1YJPsF4kxAal",
        "outputId": "704dcdab-a793-44cf-9655-54445bf212be"
      },
      "execution_count": 125,
      "outputs": [
        {
          "output_type": "stream",
          "name": "stdout",
          "text": [
            "Epoch 1/10\n",
            "27/27 [==============================] - 29s 1s/step - loss: 1.5574 - accuracy: 0.4137 - val_loss: 1.3482 - val_accuracy: 0.4944\n",
            "Epoch 2/10\n",
            "27/27 [==============================] - 28s 1s/step - loss: 1.2090 - accuracy: 0.5459 - val_loss: 1.1861 - val_accuracy: 0.5354\n",
            "Epoch 3/10\n",
            "27/27 [==============================] - 27s 1s/step - loss: 1.0596 - accuracy: 0.6070 - val_loss: 1.0841 - val_accuracy: 0.6138\n",
            "Epoch 4/10\n",
            "27/27 [==============================] - 27s 1s/step - loss: 1.0059 - accuracy: 0.6311 - val_loss: 1.0578 - val_accuracy: 0.6250\n",
            "Epoch 5/10\n",
            "27/27 [==============================] - 27s 1s/step - loss: 0.9252 - accuracy: 0.6619 - val_loss: 0.9711 - val_accuracy: 0.6623\n",
            "Epoch 6/10\n",
            "27/27 [==============================] - 28s 1s/step - loss: 0.8791 - accuracy: 0.6807 - val_loss: 0.9811 - val_accuracy: 0.6399\n",
            "Epoch 7/10\n",
            "27/27 [==============================] - 27s 1s/step - loss: 0.8492 - accuracy: 0.7030 - val_loss: 0.9001 - val_accuracy: 0.6698\n",
            "Epoch 8/10\n",
            "27/27 [==============================] - 27s 1s/step - loss: 0.7969 - accuracy: 0.7163 - val_loss: 0.9089 - val_accuracy: 0.6418\n",
            "Epoch 9/10\n",
            "27/27 [==============================] - 29s 1s/step - loss: 0.7586 - accuracy: 0.7378 - val_loss: 0.9000 - val_accuracy: 0.6978\n",
            "Epoch 10/10\n",
            "27/27 [==============================] - 28s 1s/step - loss: 0.6991 - accuracy: 0.7522 - val_loss: 0.8648 - val_accuracy: 0.6996\n"
          ]
        }
      ]
    },
    {
      "cell_type": "code",
      "source": [
        "import matplotlib.pyplot as plt\n",
        "\n",
        "acc2 = history.history['accuracy']\n",
        "val_acc = history.history['val_accuracy']\n",
        "loss2 = history.history['loss']\n",
        "val_loss = history.history['val_loss']\n",
        "\n",
        "epochs = range(1, len(acc2)+1)\n",
        "\n",
        "plt.plot(epochs, acc2, 'b', label = 'Train Accuracy')\n",
        "plt.plot(epochs, val_acc, 'r', label = 'Test Accuracy')\n",
        "plt.legend()\n",
        "plt.figure()\n",
        "\n",
        "plt.plot(epochs, loss2, 'b', label = 'Train Loss')\n",
        "plt.plot(epochs, val_loss, 'r', label = 'Test Loss')\n",
        "plt.legend()\n",
        "plt.figure()"
      ],
      "metadata": {
        "colab": {
          "base_uri": "https://localhost:8080/",
          "height": 883
        },
        "id": "rl6a4Y3_GAMD",
        "outputId": "29b2dd64-9f58-438f-e10a-8c90c3abbb42"
      },
      "execution_count": 126,
      "outputs": [
        {
          "output_type": "execute_result",
          "data": {
            "text/plain": [
              "<Figure size 640x480 with 0 Axes>"
            ]
          },
          "metadata": {},
          "execution_count": 126
        },
        {
          "output_type": "display_data",
          "data": {
            "text/plain": [
              "<Figure size 640x480 with 1 Axes>"
            ],
            "image/png": "[encoded data removed]"
          },
          "metadata": {}
        },
        {
          "output_type": "display_data",
          "data": {
            "text/plain": [
              "<Figure size 640x480 with 1 Axes>"
            ],
            "image/png": "[encoded data removed]"
          },
          "metadata": {}
        },
        {
          "output_type": "display_data",
          "data": {
            "text/plain": [
              "<Figure size 640x480 with 0 Axes>"
            ]
          },
          "metadata": {}
        }
      ]
    }
  ]
}