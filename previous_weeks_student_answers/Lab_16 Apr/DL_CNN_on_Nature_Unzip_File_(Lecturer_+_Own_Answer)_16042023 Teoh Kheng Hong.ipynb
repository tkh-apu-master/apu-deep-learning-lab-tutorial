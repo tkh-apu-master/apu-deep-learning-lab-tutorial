{
  "nbformat": 4,
  "nbformat_minor": 0,
  "metadata": {
    "colab": {
      "provenance": []
    },
    "kernelspec": {
      "name": "python3",
      "display_name": "Python 3"
    },
    "language_info": {
      "name": "python"
    }
  },
  "cells": [
    {
      "cell_type": "markdown",
      "source": [
        "#Exercise\n",
        "\n",
        "The dataset is about the image data of natural scenes around the world. This dataset size 150 x 150 distributed under 6 categories as follows:\n",
        "\n",
        "\n",
        "\n",
        "\n",
        "0 - buildings\n",
        "\n",
        "\n",
        "\n",
        "\n",
        "1 - forest\n",
        "\n",
        "\n",
        "\n",
        "\n",
        "2 - glacier\n",
        "\n",
        "\n",
        "\n",
        "\n",
        "3 - mountain\n",
        "\n",
        "\n",
        "\n",
        "\n",
        "4 - sea\n",
        "\n",
        "\n",
        "\n",
        "\n",
        "5 - street\n",
        "\n",
        "\n",
        "\n",
        "\n",
        "The train and test are separated in each files. \n",
        "\n",
        "\n",
        "\n",
        "\n",
        "Conduct an analysis using an appropriate deep learning model. You are required to improve the performance of the model.\n",
        "\n",
        "Dataset content:\n",
        "\n",
        "zip file->seg_train,seg_test -> buildings,forest,glacier, mountain,sea,street\n",
        "\n",
        "\n",
        "Solution Reference: https://www.tensorflow.org/tutorials/load_data/images"
      ],
      "metadata": {
        "id": "uamo1bRKk_W4"
      }
    },
    {
      "cell_type": "code",
      "execution_count": 153,
      "metadata": {
        "colab": {
          "base_uri": "https://localhost:8080/"
        },
        "id": "wKLy-9xskpdd",
        "outputId": "79f7eb90-040c-4c30-f04a-0a765be2d5ba"
      },
      "outputs": [
        {
          "output_type": "stream",
          "name": "stdout",
          "text": [
            "Drive already mounted at /drive; to attempt to forcibly remount, call drive.mount(\"/drive\", force_remount=True).\n"
          ]
        }
      ],
      "source": [
        "from google.colab import drive\n",
        "drive.mount('/drive')"
      ]
    },
    {
      "cell_type": "code",
      "source": [
        "# First path in below cell - Your Google Drive location which you want to Unzip\n",
        "# Second path in below cell - Path where you want to extract the zip file in Google Drive\n",
        "import os.path\n",
        "from os import path\n",
        "\n",
        "extract_output_directory = '/drive/My Drive/apu-dl-datasets/nature'\n",
        "if path.exists(extract_output_directory) == False:\n",
        "  !unzip '/drive/My Drive/apu-dl-datasets/nature.zip' -d extract_output_directory\n",
        "else:\n",
        "  print('Path already exists')"
      ],
      "metadata": {
        "colab": {
          "base_uri": "https://localhost:8080/"
        },
        "id": "oqRnVMihmmK1",
        "outputId": "de056bf2-8a82-402f-8c26-5453aaab6412"
      },
      "execution_count": 154,
      "outputs": [
        {
          "output_type": "stream",
          "name": "stdout",
          "text": [
            "Path already exists\n"
          ]
        }
      ]
    },
    {
      "cell_type": "markdown",
      "source": [
        "\n",
        "Train and Test dataset\n",
        "Each Image is 150 x 150 pixels.\n"
      ],
      "metadata": {
        "id": "2aq0NNvsof8e"
      }
    },
    {
      "cell_type": "code",
      "source": [
        "import os\n",
        "import cv2\n",
        "import random\n",
        "import keras\n",
        "\n",
        "import numpy as np\n",
        "\n",
        "import matplotlib.pyplot as plt\n",
        "\n",
        "from keras.models import Sequential\n",
        "from keras.layers import Dense, Conv2D, MaxPooling2D, Flatten, Rescaling, Dropout\n",
        "from keras.utils import to_categorical\n",
        "\n",
        "%matplotlib inline"
      ],
      "metadata": {
        "id": "a3XuvcJCoqOG"
      },
      "execution_count": 155,
      "outputs": []
    },
    {
      "cell_type": "code",
      "source": [
        "DIRECTORY = '/drive/My Drive/apu-dl-datasets/nature/nature/seg_train/seg_train'\n",
        "CATEGORIES = ['buildings', 'forest', 'glacier', 'mountain', 'sea', 'street']"
      ],
      "metadata": {
        "id": "3DZ33cfcqZyh"
      },
      "execution_count": 156,
      "outputs": []
    },
    {
      "cell_type": "code",
      "source": [
        "data = []\n",
        "\n",
        "for category in CATEGORIES:\n",
        "  path = os.path.join(DIRECTORY, category)\n",
        "  for img in os.listdir(path):\n",
        "    img_path = os.path.join(path, img)\n",
        "    label = CATEGORIES.index(category)\n",
        "    # It specifies to load an image in grayscale mode. Can read a color image file in grayscale (black and white).\n",
        "    arr = cv2.imread(img_path, cv2.IMREAD_GRAYSCALE)\n",
        "    new_arr = cv2.resize(arr, (120,120))\n",
        "    data.append([new_arr,label])"
      ],
      "metadata": {
        "id": "skqPjeSW126x"
      },
      "execution_count": 157,
      "outputs": []
    },
    {
      "cell_type": "code",
      "source": [
        "len(data)"
      ],
      "metadata": {
        "colab": {
          "base_uri": "https://localhost:8080/"
        },
        "id": "0NHM6OX02p0Q",
        "outputId": "de8d2b3b-2b6e-45d7-fdc8-8198f6130016"
      },
      "execution_count": 158,
      "outputs": [
        {
          "output_type": "execute_result",
          "data": {
            "text/plain": [
              "2700"
            ]
          },
          "metadata": {},
          "execution_count": 158
        }
      ]
    },
    {
      "cell_type": "code",
      "source": [
        "DIRECTORY2 = '/drive/My Drive/apu-dl-datasets/nature/nature/seg_test/seg_test'"
      ],
      "metadata": {
        "id": "DPQLiY0TAeAf"
      },
      "execution_count": 159,
      "outputs": []
    },
    {
      "cell_type": "code",
      "source": [
        "data2 = []\n",
        "\n",
        "for category in CATEGORIES:\n",
        "  path = os.path.join(DIRECTORY2, category)\n",
        "  for img in os.listdir(path):\n",
        "    img_path = os.path.join(path, img)\n",
        "    label = CATEGORIES.index(category)\n",
        "    # It specifies to load an image in grayscale mode. Can read a color image file in grayscale (black and white).\n",
        "    arr = cv2.imread(img_path, cv2.IMREAD_GRAYSCALE)\n",
        "    new_arr = cv2.resize(arr, (120,120))\n",
        "    data2.append([new_arr,label])"
      ],
      "metadata": {
        "id": "oXL9KVwtAako"
      },
      "execution_count": 160,
      "outputs": []
    },
    {
      "cell_type": "code",
      "source": [
        "random.shuffle(data)\n",
        "\n",
        "X_train = []\n",
        "y_train = []\n",
        "\n",
        "for features, label in data:\n",
        "  X_train.append(features)\n",
        "  y_train.append(label)\n",
        "\n",
        "X_train = np.array(X_train)\n",
        "y_train = np.array(y_train)\n",
        "X_train = X_train/255\n",
        "X_train = X_train.reshape(-1,120,120,1)\n",
        "X_train.shape"
      ],
      "metadata": {
        "colab": {
          "base_uri": "https://localhost:8080/"
        },
        "id": "ptQhGkMY7yqY",
        "outputId": "702b3761-e3d6-4991-a48b-0409333fecaa"
      },
      "execution_count": 161,
      "outputs": [
        {
          "output_type": "execute_result",
          "data": {
            "text/plain": [
              "(2700, 120, 120, 1)"
            ]
          },
          "metadata": {},
          "execution_count": 161
        }
      ]
    },
    {
      "cell_type": "code",
      "source": [
        "random.shuffle(data2)\n",
        "\n",
        "X_test = []\n",
        "y_test = []\n",
        "\n",
        "for features, label in data:\n",
        "  X_test.append(features)\n",
        "  y_test.append(label)\n",
        "\n",
        "X_test = np.array(X_test)\n",
        "y_test = np.array(y_test)\n",
        "X_test = X_test/255\n",
        "X_test = X_test.reshape(-1,120,120,1)\n",
        "X_test.shape"
      ],
      "metadata": {
        "colab": {
          "base_uri": "https://localhost:8080/"
        },
        "id": "4VftVStEBVIT",
        "outputId": "740b083b-c5e5-4edf-c44f-cac54d9a7546"
      },
      "execution_count": 162,
      "outputs": [
        {
          "output_type": "execute_result",
          "data": {
            "text/plain": [
              "(2700, 120, 120, 1)"
            ]
          },
          "metadata": {},
          "execution_count": 162
        }
      ]
    },
    {
      "cell_type": "code",
      "source": [
        "# Step 2 Model\n",
        "# 28,28,1. The 1 means non color image, just black and white. You have to change to 3 if it's a color image.\n",
        "\n",
        "L1 = 30\n",
        "L2 = 30\n",
        "L3 = 60\n",
        "\n",
        "model = Sequential()\n",
        "model.add(Conv2D(L1,(3,3),activation='relu',input_shape=(120,120,1),padding='same'))\n",
        "model.add(MaxPooling2D(2,2))\n",
        "model.add(Conv2D(L2,(3,3),activation='relu',padding='same'))\n",
        "model.add(MaxPooling2D((2,2)))\n",
        "model.add(Flatten())\n",
        "model.add(Dense(L3,activation='relu'))\n",
        "model.add(Dropout(rate=0.5))\n",
        "model.add(Dense(6,activation='softmax'))"
      ],
      "metadata": {
        "id": "rR0X1om-_cO7"
      },
      "execution_count": 163,
      "outputs": []
    },
    {
      "cell_type": "code",
      "source": [
        "model.compile(loss='sparse_categorical_crossentropy',optimizer='adam',metrics=['accuracy'])"
      ],
      "metadata": {
        "id": "cW60S3_U_t-W"
      },
      "execution_count": 164,
      "outputs": []
    },
    {
      "cell_type": "code",
      "source": [
        "history = model.fit(X_train,y_train,epochs=30,batch_size=100,validation_data=(X_test,y_test))"
      ],
      "metadata": {
        "colab": {
          "base_uri": "https://localhost:8080/"
        },
        "id": "D_AlKb0H_vmB",
        "outputId": "4462103d-0a98-4a46-d850-7537d255b316"
      },
      "execution_count": 165,
      "outputs": [
        {
          "output_type": "stream",
          "name": "stdout",
          "text": [
            "Epoch 1/30\n",
            "27/27 [==============================] - 77s 3s/step - loss: 1.7718 - accuracy: 0.2363 - val_loss: 1.5553 - val_accuracy: 0.3904\n",
            "Epoch 2/30\n",
            "27/27 [==============================] - 75s 3s/step - loss: 1.5838 - accuracy: 0.3785 - val_loss: 1.4290 - val_accuracy: 0.5007\n",
            "Epoch 3/30\n",
            "27/27 [==============================] - 77s 3s/step - loss: 1.4368 - accuracy: 0.4300 - val_loss: 1.2681 - val_accuracy: 0.5252\n",
            "Epoch 4/30\n",
            "27/27 [==============================] - 76s 3s/step - loss: 1.3521 - accuracy: 0.4581 - val_loss: 1.1724 - val_accuracy: 0.5544\n",
            "Epoch 5/30\n",
            "27/27 [==============================] - 76s 3s/step - loss: 1.2809 - accuracy: 0.4941 - val_loss: 1.1164 - val_accuracy: 0.5867\n",
            "Epoch 6/30\n",
            "27/27 [==============================] - 77s 3s/step - loss: 1.2083 - accuracy: 0.5148 - val_loss: 1.0341 - val_accuracy: 0.6067\n",
            "Epoch 7/30\n",
            "27/27 [==============================] - 77s 3s/step - loss: 1.1845 - accuracy: 0.5267 - val_loss: 1.0457 - val_accuracy: 0.6222\n",
            "Epoch 8/30\n",
            "27/27 [==============================] - 75s 3s/step - loss: 1.1421 - accuracy: 0.5248 - val_loss: 0.9397 - val_accuracy: 0.6467\n",
            "Epoch 9/30\n",
            "27/27 [==============================] - 75s 3s/step - loss: 1.1042 - accuracy: 0.5459 - val_loss: 0.9108 - val_accuracy: 0.6781\n",
            "Epoch 10/30\n",
            "27/27 [==============================] - 75s 3s/step - loss: 1.0671 - accuracy: 0.5622 - val_loss: 0.8774 - val_accuracy: 0.7193\n",
            "Epoch 11/30\n",
            "27/27 [==============================] - 76s 3s/step - loss: 1.0015 - accuracy: 0.5848 - val_loss: 0.8068 - val_accuracy: 0.7211\n",
            "Epoch 12/30\n",
            "27/27 [==============================] - 76s 3s/step - loss: 1.0133 - accuracy: 0.5785 - val_loss: 0.8224 - val_accuracy: 0.7204\n",
            "Epoch 13/30\n",
            "27/27 [==============================] - 76s 3s/step - loss: 0.9520 - accuracy: 0.5996 - val_loss: 0.7334 - val_accuracy: 0.7744\n",
            "Epoch 14/30\n",
            "27/27 [==============================] - 78s 3s/step - loss: 0.9081 - accuracy: 0.6163 - val_loss: 0.6762 - val_accuracy: 0.7626\n",
            "Epoch 15/30\n",
            "27/27 [==============================] - 76s 3s/step - loss: 0.9015 - accuracy: 0.6300 - val_loss: 0.6552 - val_accuracy: 0.8007\n",
            "Epoch 16/30\n",
            "27/27 [==============================] - 74s 3s/step - loss: 0.8835 - accuracy: 0.6263 - val_loss: 0.6212 - val_accuracy: 0.8248\n",
            "Epoch 17/30\n",
            "27/27 [==============================] - 75s 3s/step - loss: 0.8202 - accuracy: 0.6548 - val_loss: 0.5781 - val_accuracy: 0.8493\n",
            "Epoch 18/30\n",
            "27/27 [==============================] - 77s 3s/step - loss: 0.8538 - accuracy: 0.6370 - val_loss: 0.5612 - val_accuracy: 0.8474\n",
            "Epoch 19/30\n",
            "27/27 [==============================] - 77s 3s/step - loss: 0.7446 - accuracy: 0.6837 - val_loss: 0.5012 - val_accuracy: 0.8733\n",
            "Epoch 20/30\n",
            "27/27 [==============================] - 77s 3s/step - loss: 0.7321 - accuracy: 0.6904 - val_loss: 0.4549 - val_accuracy: 0.8778\n",
            "Epoch 21/30\n",
            "27/27 [==============================] - 77s 3s/step - loss: 0.7204 - accuracy: 0.6922 - val_loss: 0.4246 - val_accuracy: 0.9022\n",
            "Epoch 22/30\n",
            "27/27 [==============================] - 70s 3s/step - loss: 0.6832 - accuracy: 0.7141 - val_loss: 0.4188 - val_accuracy: 0.8933\n",
            "Epoch 23/30\n",
            "27/27 [==============================] - 77s 3s/step - loss: 0.6912 - accuracy: 0.7133 - val_loss: 0.4319 - val_accuracy: 0.9115\n",
            "Epoch 24/30\n",
            "27/27 [==============================] - 77s 3s/step - loss: 0.6597 - accuracy: 0.7281 - val_loss: 0.3951 - val_accuracy: 0.9015\n",
            "Epoch 25/30\n",
            "27/27 [==============================] - 70s 3s/step - loss: 0.6565 - accuracy: 0.7230 - val_loss: 0.3628 - val_accuracy: 0.9207\n",
            "Epoch 26/30\n",
            "27/27 [==============================] - 77s 3s/step - loss: 0.6197 - accuracy: 0.7422 - val_loss: 0.3359 - val_accuracy: 0.9241\n",
            "Epoch 27/30\n",
            "27/27 [==============================] - 77s 3s/step - loss: 0.6037 - accuracy: 0.7441 - val_loss: 0.3000 - val_accuracy: 0.9344\n",
            "Epoch 28/30\n",
            "27/27 [==============================] - 76s 3s/step - loss: 0.5744 - accuracy: 0.7581 - val_loss: 0.2948 - val_accuracy: 0.9359\n",
            "Epoch 29/30\n",
            "27/27 [==============================] - 75s 3s/step - loss: 0.6018 - accuracy: 0.7422 - val_loss: 0.2749 - val_accuracy: 0.9389\n",
            "Epoch 30/30\n",
            "27/27 [==============================] - 75s 3s/step - loss: 0.5569 - accuracy: 0.7607 - val_loss: 0.2673 - val_accuracy: 0.9485\n"
          ]
        }
      ]
    },
    {
      "cell_type": "code",
      "source": [
        "# Visualisations\n",
        "\n",
        "import matplotlib.pyplot as plt\n",
        "\n",
        "acc2 = history.history['accuracy']\n",
        "val_acc = history.history['val_accuracy']\n",
        "loss2 = history.history['loss']\n",
        "val_loss = history.history['val_loss']\n",
        "\n",
        "epochs = range(1,len(acc2)+1)\n",
        "\n",
        "# 'b' and 'r' are blue and red color\n",
        "\n",
        "plt.plot(epochs, acc2, 'b', label='Train Accuracy')\n",
        "plt.plot(epochs, val_acc, 'r', label='Test Accuracy')\n",
        "plt.legend()\n",
        "plt.figure()\n",
        "\n",
        "plt.plot(epochs, loss2, 'b', label = 'Train loss')\n",
        "plt.plot(epochs, val_loss, 'r', label = 'Test loss')\n",
        "plt.legend()\n",
        "plt.show()"
      ],
      "metadata": {
        "colab": {
          "base_uri": "https://localhost:8080/",
          "height": 843
        },
        "id": "OazxflXz_x9U",
        "outputId": "af09f1cc-5fcd-45e6-a159-fb6faef722a2"
      },
      "execution_count": 166,
      "outputs": [
        {
          "output_type": "display_data",
          "data": {
            "text/plain": [
              "<Figure size 640x480 with 1 Axes>"
            ],
            "image/png": "[encoded data removed]"
          },
          "metadata": {}
        },
        {
          "output_type": "display_data",
          "data": {
            "text/plain": [
              "<Figure size 640x480 with 1 Axes>"
            ],
            "image/png": "[encoded data removed]"
          },
          "metadata": {}
        }
      ]
    }
  ]
}