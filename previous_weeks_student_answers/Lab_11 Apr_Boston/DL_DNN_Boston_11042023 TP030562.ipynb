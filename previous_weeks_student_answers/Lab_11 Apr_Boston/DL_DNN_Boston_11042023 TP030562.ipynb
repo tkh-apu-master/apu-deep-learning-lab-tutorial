{
  "nbformat": 4,
  "nbformat_minor": 0,
  "metadata": {
    "colab": {
      "provenance": []
    },
    "kernelspec": {
      "name": "python3",
      "display_name": "Python 3"
    },
    "language_info": {
      "name": "python"
    }
  },
  "cells": [
    {
      "cell_type": "markdown",
      "source": [
        "#Exercise : DNN - Boston data\n",
        "\n",
        "#Conduct the DNN analysis using the boston dataset. You are required to improve the performance of the model using different archictecture. \n",
        "\n",
        "\n",
        "https://keras.io/api/datasets/boston_housing/\n",
        "\n",
        "\n",
        "\n",
        "\n",
        "\n",
        "\n"
      ],
      "metadata": {
        "id": "ywkH0dNRA2QK"
      }
    },
    {
      "cell_type": "code",
      "execution_count": 196,
      "metadata": {
        "id": "CR-C8suGAvtJ"
      },
      "outputs": [],
      "source": [
        "from keras.datasets import boston_housing\n",
        "\n",
        "\n",
        "from keras.models import Sequential\n",
        "from keras.layers import Dense, Dropout\n",
        "from keras.utils import to_categorical # To perform one-hot encoding (Build dummy columns with the easiest way)\n",
        "\n",
        "from keras import initializers\n",
        "from keras import regularizers\n",
        "\n",
        "from sklearn.model_selection import GridSearchCV\n",
        "# from scikeras.wrappers import KerasClassifier\n",
        "from scikeras.wrappers import KerasRegressor \n",
        "\n",
        "# Load the dataset\n",
        "(X_train, y_train), (X_test, y_test) = boston_housing.load_data()"
      ]
    },
    {
      "cell_type": "code",
      "source": [
        "X_train"
      ],
      "metadata": {
        "colab": {
          "base_uri": "https://localhost:8080/"
        },
        "id": "7laDN5xfUmSD",
        "outputId": "d6ca32b7-7142-49f1-9536-aaf1a483dd50"
      },
      "execution_count": 197,
      "outputs": [
        {
          "output_type": "execute_result",
          "data": {
            "text/plain": [
              "array([[1.23247e+00, 0.00000e+00, 8.14000e+00, ..., 2.10000e+01,\n",
              "        3.96900e+02, 1.87200e+01],\n",
              "       [2.17700e-02, 8.25000e+01, 2.03000e+00, ..., 1.47000e+01,\n",
              "        3.95380e+02, 3.11000e+00],\n",
              "       [4.89822e+00, 0.00000e+00, 1.81000e+01, ..., 2.02000e+01,\n",
              "        3.75520e+02, 3.26000e+00],\n",
              "       ...,\n",
              "       [3.46600e-02, 3.50000e+01, 6.06000e+00, ..., 1.69000e+01,\n",
              "        3.62250e+02, 7.83000e+00],\n",
              "       [2.14918e+00, 0.00000e+00, 1.95800e+01, ..., 1.47000e+01,\n",
              "        2.61950e+02, 1.57900e+01],\n",
              "       [1.43900e-02, 6.00000e+01, 2.93000e+00, ..., 1.56000e+01,\n",
              "        3.76700e+02, 4.38000e+00]])"
            ]
          },
          "metadata": {},
          "execution_count": 197
        }
      ]
    },
    {
      "cell_type": "code",
      "source": [
        "y_train"
      ],
      "metadata": {
        "colab": {
          "base_uri": "https://localhost:8080/"
        },
        "id": "yACP992oUo8r",
        "outputId": "85b07ee0-5325-43bf-9c01-71ad8c01407d"
      },
      "execution_count": 198,
      "outputs": [
        {
          "output_type": "execute_result",
          "data": {
            "text/plain": [
              "array([15.2, 42.3, 50. , 21.1, 17.7, 18.5, 11.3, 15.6, 15.6, 14.4, 12.1,\n",
              "       17.9, 23.1, 19.9, 15.7,  8.8, 50. , 22.5, 24.1, 27.5, 10.9, 30.8,\n",
              "       32.9, 24. , 18.5, 13.3, 22.9, 34.7, 16.6, 17.5, 22.3, 16.1, 14.9,\n",
              "       23.1, 34.9, 25. , 13.9, 13.1, 20.4, 20. , 15.2, 24.7, 22.2, 16.7,\n",
              "       12.7, 15.6, 18.4, 21. , 30.1, 15.1, 18.7,  9.6, 31.5, 24.8, 19.1,\n",
              "       22. , 14.5, 11. , 32. , 29.4, 20.3, 24.4, 14.6, 19.5, 14.1, 14.3,\n",
              "       15.6, 10.5,  6.3, 19.3, 19.3, 13.4, 36.4, 17.8, 13.5, 16.5,  8.3,\n",
              "       14.3, 16. , 13.4, 28.6, 43.5, 20.2, 22. , 23. , 20.7, 12.5, 48.5,\n",
              "       14.6, 13.4, 23.7, 50. , 21.7, 39.8, 38.7, 22.2, 34.9, 22.5, 31.1,\n",
              "       28.7, 46. , 41.7, 21. , 26.6, 15. , 24.4, 13.3, 21.2, 11.7, 21.7,\n",
              "       19.4, 50. , 22.8, 19.7, 24.7, 36.2, 14.2, 18.9, 18.3, 20.6, 24.6,\n",
              "       18.2,  8.7, 44. , 10.4, 13.2, 21.2, 37. , 30.7, 22.9, 20. , 19.3,\n",
              "       31.7, 32. , 23.1, 18.8, 10.9, 50. , 19.6,  5. , 14.4, 19.8, 13.8,\n",
              "       19.6, 23.9, 24.5, 25. , 19.9, 17.2, 24.6, 13.5, 26.6, 21.4, 11.9,\n",
              "       22.6, 19.6,  8.5, 23.7, 23.1, 22.4, 20.5, 23.6, 18.4, 35.2, 23.1,\n",
              "       27.9, 20.6, 23.7, 28. , 13.6, 27.1, 23.6, 20.6, 18.2, 21.7, 17.1,\n",
              "        8.4, 25.3, 13.8, 22.2, 18.4, 20.7, 31.6, 30.5, 20.3,  8.8, 19.2,\n",
              "       19.4, 23.1, 23. , 14.8, 48.8, 22.6, 33.4, 21.1, 13.6, 32.2, 13.1,\n",
              "       23.4, 18.9, 23.9, 11.8, 23.3, 22.8, 19.6, 16.7, 13.4, 22.2, 20.4,\n",
              "       21.8, 26.4, 14.9, 24.1, 23.8, 12.3, 29.1, 21. , 19.5, 23.3, 23.8,\n",
              "       17.8, 11.5, 21.7, 19.9, 25. , 33.4, 28.5, 21.4, 24.3, 27.5, 33.1,\n",
              "       16.2, 23.3, 48.3, 22.9, 22.8, 13.1, 12.7, 22.6, 15. , 15.3, 10.5,\n",
              "       24. , 18.5, 21.7, 19.5, 33.2, 23.2,  5. , 19.1, 12.7, 22.3, 10.2,\n",
              "       13.9, 16.3, 17. , 20.1, 29.9, 17.2, 37.3, 45.4, 17.8, 23.2, 29. ,\n",
              "       22. , 18. , 17.4, 34.6, 20.1, 25. , 15.6, 24.8, 28.2, 21.2, 21.4,\n",
              "       23.8, 31. , 26.2, 17.4, 37.9, 17.5, 20. ,  8.3, 23.9,  8.4, 13.8,\n",
              "        7.2, 11.7, 17.1, 21.6, 50. , 16.1, 20.4, 20.6, 21.4, 20.6, 36.5,\n",
              "        8.5, 24.8, 10.8, 21.9, 17.3, 18.9, 36.2, 14.9, 18.2, 33.3, 21.8,\n",
              "       19.7, 31.6, 24.8, 19.4, 22.8,  7.5, 44.8, 16.8, 18.7, 50. , 50. ,\n",
              "       19.5, 20.1, 50. , 17.2, 20.8, 19.3, 41.3, 20.4, 20.5, 13.8, 16.5,\n",
              "       23.9, 20.6, 31.5, 23.3, 16.8, 14. , 33.8, 36.1, 12.8, 18.3, 18.7,\n",
              "       19.1, 29. , 30.1, 50. , 50. , 22. , 11.9, 37.6, 50. , 22.7, 20.8,\n",
              "       23.5, 27.9, 50. , 19.3, 23.9, 22.6, 15.2, 21.7, 19.2, 43.8, 20.3,\n",
              "       33.2, 19.9, 22.5, 32.7, 22. , 17.1, 19. , 15. , 16.1, 25.1, 23.7,\n",
              "       28.7, 37.2, 22.6, 16.4, 25. , 29.8, 22.1, 17.4, 18.1, 30.3, 17.5,\n",
              "       24.7, 12.6, 26.5, 28.7, 13.3, 10.4, 24.4, 23. , 20. , 17.8,  7. ,\n",
              "       11.8, 24.4, 13.8, 19.4, 25.2, 19.4, 19.4, 29.1])"
            ]
          },
          "metadata": {},
          "execution_count": 198
        }
      ]
    },
    {
      "cell_type": "code",
      "source": [
        "X_test"
      ],
      "metadata": {
        "colab": {
          "base_uri": "https://localhost:8080/"
        },
        "id": "u9prWNrGUp9a",
        "outputId": "0a50bb52-f8e2-4e7b-c751-29c74d34d71a"
      },
      "execution_count": 199,
      "outputs": [
        {
          "output_type": "execute_result",
          "data": {
            "text/plain": [
              "array([[1.80846e+01, 0.00000e+00, 1.81000e+01, ..., 2.02000e+01,\n",
              "        2.72500e+01, 2.90500e+01],\n",
              "       [1.23290e-01, 0.00000e+00, 1.00100e+01, ..., 1.78000e+01,\n",
              "        3.94950e+02, 1.62100e+01],\n",
              "       [5.49700e-02, 0.00000e+00, 5.19000e+00, ..., 2.02000e+01,\n",
              "        3.96900e+02, 9.74000e+00],\n",
              "       ...,\n",
              "       [1.83377e+00, 0.00000e+00, 1.95800e+01, ..., 1.47000e+01,\n",
              "        3.89610e+02, 1.92000e+00],\n",
              "       [3.58090e-01, 0.00000e+00, 6.20000e+00, ..., 1.74000e+01,\n",
              "        3.91700e+02, 9.71000e+00],\n",
              "       [2.92400e+00, 0.00000e+00, 1.95800e+01, ..., 1.47000e+01,\n",
              "        2.40160e+02, 9.81000e+00]])"
            ]
          },
          "metadata": {},
          "execution_count": 199
        }
      ]
    },
    {
      "cell_type": "code",
      "source": [
        "y_test"
      ],
      "metadata": {
        "colab": {
          "base_uri": "https://localhost:8080/"
        },
        "id": "JdXF0UXCUq55",
        "outputId": "e0e1553c-ab6f-4603-83ff-7c894fead5e0"
      },
      "execution_count": 200,
      "outputs": [
        {
          "output_type": "execute_result",
          "data": {
            "text/plain": [
              "array([ 7.2, 18.8, 19. , 27. , 22.2, 24.5, 31.2, 22.9, 20.5, 23.2, 18.6,\n",
              "       14.5, 17.8, 50. , 20.8, 24.3, 24.2, 19.8, 19.1, 22.7, 12. , 10.2,\n",
              "       20. , 18.5, 20.9, 23. , 27.5, 30.1,  9.5, 22. , 21.2, 14.1, 33.1,\n",
              "       23.4, 20.1,  7.4, 15.4, 23.8, 20.1, 24.5, 33. , 28.4, 14.1, 46.7,\n",
              "       32.5, 29.6, 28.4, 19.8, 20.2, 25. , 35.4, 20.3,  9.7, 14.5, 34.9,\n",
              "       26.6,  7.2, 50. , 32.4, 21.6, 29.8, 13.1, 27.5, 21.2, 23.1, 21.9,\n",
              "       13. , 23.2,  8.1,  5.6, 21.7, 29.6, 19.6,  7. , 26.4, 18.9, 20.9,\n",
              "       28.1, 35.4, 10.2, 24.3, 43.1, 17.6, 15.4, 16.2, 27.1, 21.4, 21.5,\n",
              "       22.4, 25. , 16.6, 18.6, 22. , 42.8, 35.1, 21.5, 36. , 21.9, 24.1,\n",
              "       50. , 26.7, 25. ])"
            ]
          },
          "metadata": {},
          "execution_count": 200
        }
      ]
    },
    {
      "cell_type": "code",
      "source": [
        "print(\"X_train.shape\", X_train.shape)\n",
        "print(\"X_test.shape\", X_test.shape)\n",
        "print(\"y_train.shape\", y_train.shape)\n",
        "print(\"y_test.shape\", y_test.shape)"
      ],
      "metadata": {
        "colab": {
          "base_uri": "https://localhost:8080/"
        },
        "id": "9eAQB3cQBfe8",
        "outputId": "be5154b2-08e5-466a-8060-429c38db672a"
      },
      "execution_count": 201,
      "outputs": [
        {
          "output_type": "stream",
          "name": "stdout",
          "text": [
            "X_train.shape (404, 13)\n",
            "X_test.shape (102, 13)\n",
            "y_train.shape (404,)\n",
            "y_test.shape (102,)\n"
          ]
        }
      ]
    },
    {
      "cell_type": "code",
      "source": [
        "# Option 1: Use initializers and regularizers\n",
        "\n",
        "from keras import initializers\n",
        "from keras import regularizers\n",
        "\n",
        "# Option 2: Use Dropout with early stopping\n",
        "from keras.layers import Dropout\n",
        "\n",
        "# Option 3: Use EarlyStopping\n",
        "from keras.callbacks import EarlyStopping"
      ],
      "metadata": {
        "id": "ynPXW41HW8In"
      },
      "execution_count": 202,
      "outputs": []
    },
    {
      "cell_type": "code",
      "source": [
        "# Normalizing the data to help with the training\n",
        "\n",
        "# X_train /= 255\n",
        "# X_test /= 255"
      ],
      "metadata": {
        "id": "6k5AOUyZN_Y_"
      },
      "execution_count": 203,
      "outputs": []
    },
    {
      "cell_type": "code",
      "source": [
        "# Form NN\n",
        "# Building a linear stack of layers with the sequential model\n",
        "\n",
        "# Ways to run: \n",
        "# Orginal,\n",
        "# Option 1,\n",
        "# Original + Option 2,\n",
        "# Original + Option 1 + Option 2,\n",
        "# Original + Option 3\n",
        "# Original + Option 2 + Option 3\n",
        "\n",
        "L1=200\n",
        "L2=100\n",
        "L3=50\n",
        "\n",
        "model = Sequential()\n",
        "model.add(Dense(L1, input_dim=13,activation='relu')) # Original\n",
        "# model.add(Dense(L1, input_dim=13,activation='relu',kernel_initializer='he_normal',kernel_regularizer=regularizers.l2(0.01))) # Option 1\n",
        "model.add(Dense(L2, activation='relu'))\n",
        "# model.add(Dropout(rate=0.2)) # Option 2\n",
        "model.add(Dense(L3, activation='relu'))\n",
        "# model.add(Dropout(rate=0.2)) # Option 2\n",
        "\n",
        "\n",
        "# Output layer (Softmax = multi nominal)\n",
        "model.add(Dense(1, activation='linear'))"
      ],
      "metadata": {
        "id": "x1WREv0qWG2V"
      },
      "execution_count": 204,
      "outputs": []
    },
    {
      "cell_type": "code",
      "source": [
        "# Compile the sequential model\n",
        "model.compile(loss = 'mse', metrics = ['mae'], optimizer = 'adam')"
      ],
      "metadata": {
        "id": "bUFmd0GcWJ9u"
      },
      "execution_count": 205,
      "outputs": []
    },
    {
      "cell_type": "code",
      "source": [
        " # Training the model for 10 epochs\n",
        "\n",
        "early_monitoring_monitor = EarlyStopping(patience=3) # Option 3\n",
        "\n",
        "# history = model.fit(X_train,y_train,epochs=10,batch_size=100,validation_data=(X_test,y_test))\n",
        "history = model.fit(X_train,y_train,epochs=30,batch_size=100,validation_data=(X_test,y_test),callbacks=[early_monitoring_monitor]) # Option 3 with increased epochs"
      ],
      "metadata": {
        "colab": {
          "base_uri": "https://localhost:8080/"
        },
        "id": "um_3VAFFWMvf",
        "outputId": "4e918dc3-c3b9-4677-a172-7e71455ca6dd"
      },
      "execution_count": 206,
      "outputs": [
        {
          "output_type": "stream",
          "name": "stdout",
          "text": [
            "Epoch 1/30\n",
            "5/5 [==============================] - 1s 50ms/step - loss: 240.2977 - mae: 12.1940 - val_loss: 222.1739 - val_mae: 12.6555\n",
            "Epoch 2/30\n",
            "5/5 [==============================] - 0s 17ms/step - loss: 144.3606 - mae: 9.4542 - val_loss: 82.9076 - val_mae: 7.6789\n",
            "Epoch 3/30\n",
            "5/5 [==============================] - 0s 15ms/step - loss: 89.8691 - mae: 6.8996 - val_loss: 87.8188 - val_mae: 6.7955\n",
            "Epoch 4/30\n",
            "5/5 [==============================] - 0s 12ms/step - loss: 77.6956 - mae: 6.6788 - val_loss: 96.1126 - val_mae: 7.9824\n",
            "Epoch 5/30\n",
            "5/5 [==============================] - 0s 11ms/step - loss: 74.9202 - mae: 6.4454 - val_loss: 93.1180 - val_mae: 7.0698\n"
          ]
        }
      ]
    },
    {
      "cell_type": "code",
      "source": [
        "# Visualisations\n",
        "\n",
        "import matplotlib.pyplot as plt\n",
        "\n",
        "mae2 = history.history['mae']\n",
        "# accuracy2 = history.history['accuracy']\n",
        "val_mae = history.history['val_mae']\n",
        "# val_accuracy = history.history['val_accuracy']\n",
        "loss2 = history.history['loss']\n",
        "val_loss = history.history['val_loss']\n",
        "\n",
        "epochs = range(1,len(mae2)+1)\n",
        "# epochs = range(1,len(accuracy2)+1)\n",
        "\n",
        "# 'b' and 'r' are blue and red color\n",
        "\n",
        "plt.plot(epochs, mae2, 'b', label='Train MAE')\n",
        "# plt.plot(epochs, accuracy2, 'b', label='Train Accuracy')\n",
        "plt.plot(epochs, val_mae, 'r', label='Test MAE')\n",
        "# plt.plot(epochs, val_accuracy, 'r', label='Test Accuracy')\n",
        "plt.legend()\n",
        "plt.figure()\n",
        "\n",
        "plt.plot(epochs, loss2, 'b', label = 'Train loss')\n",
        "plt.plot(epochs, val_loss, 'r', label = 'Test loss')\n",
        "plt.legend()\n",
        "plt.show()"
      ],
      "metadata": {
        "colab": {
          "base_uri": "https://localhost:8080/",
          "height": 843
        },
        "id": "fpxuBjUKWQhr",
        "outputId": "86f949e1-4f88-4764-e88f-01fa2725c417"
      },
      "execution_count": 207,
      "outputs": [
        {
          "output_type": "display_data",
          "data": {
            "text/plain": [
              "<Figure size 640x480 with 1 Axes>"
            ],
            "image/png": "[encoded data removed]"
          },
          "metadata": {}
        },
        {
          "output_type": "display_data",
          "data": {
            "text/plain": [
              "<Figure size 640x480 with 1 Axes>"
            ],
            "image/png": "[encoded data removed]"
          },
          "metadata": {}
        }
      ]
    },
    {
      "cell_type": "code",
      "source": [
        "pip install scikeras"
      ],
      "metadata": {
        "colab": {
          "base_uri": "https://localhost:8080/"
        },
        "id": "h_cvMVBeOJCn",
        "outputId": "3d42449b-4dc5-4bb6-91fd-16444a89acbe"
      },
      "execution_count": 208,
      "outputs": [
        {
          "output_type": "stream",
          "name": "stdout",
          "text": [
            "Looking in indexes: https://pypi.org/simple, https://us-python.pkg.dev/colab-wheels/public/simple/\n",
            "Requirement already satisfied: scikeras in /usr/local/lib/python3.9/dist-packages (0.10.0)\n",
            "Requirement already satisfied: scikit-learn>=1.0.0 in /usr/local/lib/python3.9/dist-packages (from scikeras) (1.2.2)\n",
            "Requirement already satisfied: packaging>=0.21 in /usr/local/lib/python3.9/dist-packages (from scikeras) (23.0)\n",
            "Requirement already satisfied: scipy>=1.3.2 in /usr/local/lib/python3.9/dist-packages (from scikit-learn>=1.0.0->scikeras) (1.10.1)\n",
            "Requirement already satisfied: joblib>=1.1.1 in /usr/local/lib/python3.9/dist-packages (from scikit-learn>=1.0.0->scikeras) (1.1.1)\n",
            "Requirement already satisfied: threadpoolctl>=2.0.0 in /usr/local/lib/python3.9/dist-packages (from scikit-learn>=1.0.0->scikeras) (3.1.0)\n",
            "Requirement already satisfied: numpy>=1.17.3 in /usr/local/lib/python3.9/dist-packages (from scikit-learn>=1.0.0->scikeras) (1.22.4)\n"
          ]
        }
      ]
    },
    {
      "cell_type": "code",
      "source": [
        "# No need to use to to_categorical for this dataset, as we are doing a linear data.\n",
        "\n",
        "# Y_train = to_categorical(y_train)\n",
        "# Y_test = to_categorical(y_test)\n",
        "# print(\"Shape before one-hot encoding: \", y_train.shape)\n",
        "# print(\"Shape after one-hot encoding: \", Y_train.shape)"
      ],
      "metadata": {
        "id": "dAmcLaRvOxQ1"
      },
      "execution_count": 209,
      "outputs": []
    },
    {
      "cell_type": "code",
      "source": [
        "# Function to create model, required for KerasClassifier (Categorial variables)\n",
        "\n",
        "\n",
        "def create_model():\n",
        "  # Create model\n",
        "  model2 = Sequential()\n",
        "\n",
        "  # Input layer\n",
        "  model2.add(Dense(200,input_dim=13,activation='relu'))\n",
        "\n",
        "  # Hidden layers\n",
        "  model2.add(Dense(100,activation='relu'))\n",
        "  model2.add(Dense(50,activation='relu'))\n",
        "  model2.add(Dense(10,activation='linear'))\n",
        "  \n",
        "  # Output layer\n",
        "  model2.add(Dense(1, activation= 'linear'))\n",
        "\n",
        "  # Compile the model\n",
        "  model2.compile(loss='mse',optimizer='adam',metrics=['mae'])\n",
        "\n",
        "  \n",
        "\n",
        "  return model2"
      ],
      "metadata": {
        "id": "XGfypzxMNlcR"
      },
      "execution_count": 210,
      "outputs": []
    },
    {
      "cell_type": "code",
      "source": [
        "# Create model (Time consuming)\n",
        "# model2 = KerasClassifier(model=create_model,verbose=0) # Previously using classifier for categorical data\n",
        "model2 = KerasRegressor(model=create_model,loss='mse',verbose=0) # Now use Regressor for linear data\n",
        "\n",
        "\n",
        "# Define the grid search parameters\n",
        "\n",
        "# Option 1: You may want to try Epochs and Batch Size.\n",
        "batch_size = [100,200] # Option 1\n",
        "epochs = [10,15,20] # Option 1\n",
        "\n",
        "# You may want to try with activation functions.\n",
        "# activation = ['elu', 'selu', 'relu', 'softmax', 'tanh'] # Option 2\n",
        "\n",
        "# Option 3: You may want to try with the optimizers.\n",
        "# optimizer = ['SGD', 'RMSprop', 'Adagrad', 'Adadelta', 'Adam','Adamax', 'Nadam'] # Option 3\n",
        "\n",
        "\n",
        "param_grid= dict(batch_size=batch_size,epochs=epochs)  # Option 1\n",
        "\n",
        "# param_grid= dict(model__activation = activation)  # Option 2\n",
        "\n",
        "# param_grid = dict(optimizer=optimizer) # Option 3\n",
        "\n",
        "# n_jobs = CPU processing. if -1 means it will use all CPUs.\n",
        "# cv=cross validation, times of cross validations\n",
        "grid = GridSearchCV(estimator=model2,param_grid=param_grid,n_jobs=-1,cv=3)\n",
        "grid_result = grid.fit(X_train,y_train)"
      ],
      "metadata": {
        "id": "1TGXpCR4Not-"
      },
      "execution_count": 212,
      "outputs": []
    },
    {
      "cell_type": "code",
      "source": [
        "# Summarize the results\n",
        "\n",
        "print('Best %f using %s' % (grid_result.best_score_, grid_result.best_params_))\n",
        "means = grid_result.cv_results_['mean_test_score']\n",
        "stds = grid_result.cv_results_['std_test_score']\n",
        "params = grid_result.cv_results_['params']\n",
        "for mean, stdev, param in zip(means, stds, params):\n",
        "  print('%f (%f) with %r' % (mean, stdev, param))"
      ],
      "metadata": {
        "colab": {
          "base_uri": "https://localhost:8080/"
        },
        "id": "FCip_5NiNxNu",
        "outputId": "296c9b16-01e7-4a5b-fc25-3d97365de31d"
      },
      "execution_count": 213,
      "outputs": [
        {
          "output_type": "stream",
          "name": "stdout",
          "text": [
            "Best 0.272049 using {'batch_size': 200, 'epochs': 20}\n",
            "0.241691 (0.073382) with {'batch_size': 100, 'epochs': 10}\n",
            "0.176316 (0.267620) with {'batch_size': 100, 'epochs': 15}\n",
            "0.239755 (0.051172) with {'batch_size': 100, 'epochs': 20}\n",
            "-1.046564 (1.609580) with {'batch_size': 200, 'epochs': 10}\n",
            "0.165044 (0.087528) with {'batch_size': 200, 'epochs': 15}\n",
            "0.272049 (0.053678) with {'batch_size': 200, 'epochs': 20}\n"
          ]
        }
      ]
    }
  ]
}