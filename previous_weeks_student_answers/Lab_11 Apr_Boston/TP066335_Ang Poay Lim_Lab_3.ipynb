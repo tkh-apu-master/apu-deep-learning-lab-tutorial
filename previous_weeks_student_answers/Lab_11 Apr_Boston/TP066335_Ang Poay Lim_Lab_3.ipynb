{
  "cells": [
    {
      "cell_type": "markdown",
      "metadata": {
        "id": "exr2CUzLxLiH"
      },
      "source": [
        "#**Lab 3 - Boston**"
      ]
    },
    {
      "cell_type": "code",
      "execution_count": 118,
      "metadata": {
        "id": "bnYbo9Vf9zb8",
        "colab": {
          "base_uri": "https://localhost:8080/"
        },
        "outputId": "dd011935-1260-4ee7-9eed-e7722d9c6fbb"
      },
      "outputs": [
        {
          "output_type": "execute_result",
          "data": {
            "text/plain": [
              "array([[1.23247e+00, 0.00000e+00, 8.14000e+00, ..., 2.10000e+01,\n",
              "        3.96900e+02, 1.87200e+01],\n",
              "       [2.17700e-02, 8.25000e+01, 2.03000e+00, ..., 1.47000e+01,\n",
              "        3.95380e+02, 3.11000e+00],\n",
              "       [4.89822e+00, 0.00000e+00, 1.81000e+01, ..., 2.02000e+01,\n",
              "        3.75520e+02, 3.26000e+00],\n",
              "       ...,\n",
              "       [3.46600e-02, 3.50000e+01, 6.06000e+00, ..., 1.69000e+01,\n",
              "        3.62250e+02, 7.83000e+00],\n",
              "       [2.14918e+00, 0.00000e+00, 1.95800e+01, ..., 1.47000e+01,\n",
              "        2.61950e+02, 1.57900e+01],\n",
              "       [1.43900e-02, 6.00000e+01, 2.93000e+00, ..., 1.56000e+01,\n",
              "        3.76700e+02, 4.38000e+00]])"
            ]
          },
          "metadata": {},
          "execution_count": 118
        }
      ],
      "source": [
        "# Load the dataset\n",
        "import numpy as np\n",
        "import pandas as pd\n",
        "import tensorflow as tf\n",
        "\n",
        "(x_train, y_train), (x_test, y_test) = tf.keras.datasets.boston_housing.load_data(\n",
        "    path = 'boston_housing.npz', test_split = 0.2, seed = 113\n",
        "    )\n",
        "\n",
        "x_train"
      ]
    },
    {
      "cell_type": "code",
      "source": [
        "x_train = pd.DataFrame(x_train, columns = range(x_train.shape[1]))\n",
        "y_train = pd.DataFrame(y_train, columns = ['Target'])\n",
        "x_test = pd.DataFrame(x_test, columns = range(x_test.shape[1]))\n",
        "y_test = pd.DataFrame(y_test, columns = ['Target'])"
      ],
      "metadata": {
        "id": "e_XaknbQD65Z"
      },
      "execution_count": 119,
      "outputs": []
    },
    {
      "cell_type": "code",
      "execution_count": 120,
      "metadata": {
        "colab": {
          "base_uri": "https://localhost:8080/"
        },
        "id": "AXD_AsCN-L6r",
        "outputId": "9200eef0-2864-4d53-fc7e-420d76df7c01"
      },
      "outputs": [
        {
          "output_type": "stream",
          "name": "stdout",
          "text": [
            "x_train shape (404, 13) <class 'pandas.core.frame.DataFrame'>\n",
            "y_train shape (404, 1) <class 'pandas.core.frame.DataFrame'>\n",
            "x_test shape (102, 13) <class 'pandas.core.frame.DataFrame'>\n",
            "y_test shape (102, 1) <class 'pandas.core.frame.DataFrame'>\n"
          ]
        }
      ],
      "source": [
        "print(\"x_train shape\", x_train.shape, type(x_train))\n",
        "print(\"y_train shape\", y_train.shape, type(y_train))\n",
        "print(\"x_test shape\", x_test.shape, type(x_test))\n",
        "print(\"y_test shape\", y_test.shape, type(y_test))"
      ]
    },
    {
      "cell_type": "code",
      "source": [
        "x_train.describe()"
      ],
      "metadata": {
        "colab": {
          "base_uri": "https://localhost:8080/",
          "height": 300
        },
        "id": "5i3dJZ87DPu4",
        "outputId": "88f59f57-6792-48d2-b8d6-f2f412ae19f9"
      },
      "execution_count": 121,
      "outputs": [
        {
          "output_type": "execute_result",
          "data": {
            "text/plain": [
              "               0           1           2           3           4           5   \\\n",
              "count  404.000000  404.000000  404.000000  404.000000  404.000000  404.000000   \n",
              "mean     3.745111   11.480198   11.104431    0.061881    0.557356    6.267082   \n",
              "std      9.240734   23.767711    6.811308    0.241238    0.117293    0.709788   \n",
              "min      0.006320    0.000000    0.460000    0.000000    0.385000    3.561000   \n",
              "25%      0.081437    0.000000    5.130000    0.000000    0.453000    5.874750   \n",
              "50%      0.268880    0.000000    9.690000    0.000000    0.538000    6.198500   \n",
              "75%      3.674808   12.500000   18.100000    0.000000    0.631000    6.609000   \n",
              "max     88.976200  100.000000   27.740000    1.000000    0.871000    8.725000   \n",
              "\n",
              "               6           7           8           9           10          11  \\\n",
              "count  404.000000  404.000000  404.000000  404.000000  404.000000  404.000000   \n",
              "mean    69.010644    3.740271    9.440594  405.898515   18.475990  354.783168   \n",
              "std     27.940665    2.030215    8.698360  166.374543    2.200382   94.111148   \n",
              "min      2.900000    1.129600    1.000000  188.000000   12.600000    0.320000   \n",
              "25%     45.475000    2.077100    4.000000  279.000000   17.225000  374.672500   \n",
              "50%     78.500000    3.142300    5.000000  330.000000   19.100000  391.250000   \n",
              "75%     94.100000    5.118000   24.000000  666.000000   20.200000  396.157500   \n",
              "max    100.000000   10.710300   24.000000  711.000000   22.000000  396.900000   \n",
              "\n",
              "               12  \n",
              "count  404.000000  \n",
              "mean    12.740817  \n",
              "std      7.254545  \n",
              "min      1.730000  \n",
              "25%      6.890000  \n",
              "50%     11.395000  \n",
              "75%     17.092500  \n",
              "max     37.970000  "
            ],
            "text/html": [
              "\n",
              "  <div id=\"df-4411bc23-6822-4a08-a399-ae821aed2e34\">\n",
              "    <div class=\"colab-df-container\">\n",
              "      <div>\n",
              "<style scoped>\n",
              "    .dataframe tbody tr th:only-of-type {\n",
              "        vertical-align: middle;\n",
              "    }\n",
              "\n",
              "    .dataframe tbody tr th {\n",
              "        vertical-align: top;\n",
              "    }\n",
              "\n",
              "    .dataframe thead th {\n",
              "        text-align: right;\n",
              "    }\n",
              "</style>\n",
              "<table border=\"1\" class=\"dataframe\">\n",
              "  <thead>\n",
              "    <tr style=\"text-align: right;\">\n",
              "      <th></th>\n",
              "      <th>0</th>\n",
              "      <th>1</th>\n",
              "      <th>2</th>\n",
              "      <th>3</th>\n",
              "      <th>4</th>\n",
              "      <th>5</th>\n",
              "      <th>6</th>\n",
              "      <th>7</th>\n",
              "      <th>8</th>\n",
              "      <th>9</th>\n",
              "      <th>10</th>\n",
              "      <th>11</th>\n",
              "      <th>12</th>\n",
              "    </tr>\n",
              "  </thead>\n",
              "  <tbody>\n",
              "    <tr>\n",
              "      <th>count</th>\n",
              "      <td>404.000000</td>\n",
              "      <td>404.000000</td>\n",
              "      <td>404.000000</td>\n",
              "      <td>404.000000</td>\n",
              "      <td>404.000000</td>\n",
              "      <td>404.000000</td>\n",
              "      <td>404.000000</td>\n",
              "      <td>404.000000</td>\n",
              "      <td>404.000000</td>\n",
              "      <td>404.000000</td>\n",
              "      <td>404.000000</td>\n",
              "      <td>404.000000</td>\n",
              "      <td>404.000000</td>\n",
              "    </tr>\n",
              "    <tr>\n",
              "      <th>mean</th>\n",
              "      <td>3.745111</td>\n",
              "      <td>11.480198</td>\n",
              "      <td>11.104431</td>\n",
              "      <td>0.061881</td>\n",
              "      <td>0.557356</td>\n",
              "      <td>6.267082</td>\n",
              "      <td>69.010644</td>\n",
              "      <td>3.740271</td>\n",
              "      <td>9.440594</td>\n",
              "      <td>405.898515</td>\n",
              "      <td>18.475990</td>\n",
              "      <td>354.783168</td>\n",
              "      <td>12.740817</td>\n",
              "    </tr>\n",
              "    <tr>\n",
              "      <th>std</th>\n",
              "      <td>9.240734</td>\n",
              "      <td>23.767711</td>\n",
              "      <td>6.811308</td>\n",
              "      <td>0.241238</td>\n",
              "      <td>0.117293</td>\n",
              "      <td>0.709788</td>\n",
              "      <td>27.940665</td>\n",
              "      <td>2.030215</td>\n",
              "      <td>8.698360</td>\n",
              "      <td>166.374543</td>\n",
              "      <td>2.200382</td>\n",
              "      <td>94.111148</td>\n",
              "      <td>7.254545</td>\n",
              "    </tr>\n",
              "    <tr>\n",
              "      <th>min</th>\n",
              "      <td>0.006320</td>\n",
              "      <td>0.000000</td>\n",
              "      <td>0.460000</td>\n",
              "      <td>0.000000</td>\n",
              "      <td>0.385000</td>\n",
              "      <td>3.561000</td>\n",
              "      <td>2.900000</td>\n",
              "      <td>1.129600</td>\n",
              "      <td>1.000000</td>\n",
              "      <td>188.000000</td>\n",
              "      <td>12.600000</td>\n",
              "      <td>0.320000</td>\n",
              "      <td>1.730000</td>\n",
              "    </tr>\n",
              "    <tr>\n",
              "      <th>25%</th>\n",
              "      <td>0.081437</td>\n",
              "      <td>0.000000</td>\n",
              "      <td>5.130000</td>\n",
              "      <td>0.000000</td>\n",
              "      <td>0.453000</td>\n",
              "      <td>5.874750</td>\n",
              "      <td>45.475000</td>\n",
              "      <td>2.077100</td>\n",
              "      <td>4.000000</td>\n",
              "      <td>279.000000</td>\n",
              "      <td>17.225000</td>\n",
              "      <td>374.672500</td>\n",
              "      <td>6.890000</td>\n",
              "    </tr>\n",
              "    <tr>\n",
              "      <th>50%</th>\n",
              "      <td>0.268880</td>\n",
              "      <td>0.000000</td>\n",
              "      <td>9.690000</td>\n",
              "      <td>0.000000</td>\n",
              "      <td>0.538000</td>\n",
              "      <td>6.198500</td>\n",
              "      <td>78.500000</td>\n",
              "      <td>3.142300</td>\n",
              "      <td>5.000000</td>\n",
              "      <td>330.000000</td>\n",
              "      <td>19.100000</td>\n",
              "      <td>391.250000</td>\n",
              "      <td>11.395000</td>\n",
              "    </tr>\n",
              "    <tr>\n",
              "      <th>75%</th>\n",
              "      <td>3.674808</td>\n",
              "      <td>12.500000</td>\n",
              "      <td>18.100000</td>\n",
              "      <td>0.000000</td>\n",
              "      <td>0.631000</td>\n",
              "      <td>6.609000</td>\n",
              "      <td>94.100000</td>\n",
              "      <td>5.118000</td>\n",
              "      <td>24.000000</td>\n",
              "      <td>666.000000</td>\n",
              "      <td>20.200000</td>\n",
              "      <td>396.157500</td>\n",
              "      <td>17.092500</td>\n",
              "    </tr>\n",
              "    <tr>\n",
              "      <th>max</th>\n",
              "      <td>88.976200</td>\n",
              "      <td>100.000000</td>\n",
              "      <td>27.740000</td>\n",
              "      <td>1.000000</td>\n",
              "      <td>0.871000</td>\n",
              "      <td>8.725000</td>\n",
              "      <td>100.000000</td>\n",
              "      <td>10.710300</td>\n",
              "      <td>24.000000</td>\n",
              "      <td>711.000000</td>\n",
              "      <td>22.000000</td>\n",
              "      <td>396.900000</td>\n",
              "      <td>37.970000</td>\n",
              "    </tr>\n",
              "  </tbody>\n",
              "</table>\n",
              "</div>\n",
              "      <button class=\"colab-df-convert\" onclick=\"convertToInteractive('df-4411bc23-6822-4a08-a399-ae821aed2e34')\"\n",
              "              title=\"Convert this dataframe to an interactive table.\"\n",
              "              style=\"display:none;\">\n",
              "        \n",
              "  <svg xmlns=\"http://www.w3.org/2000/svg\" height=\"24px\"viewBox=\"0 0 24 24\"\n",
              "       width=\"24px\">\n",
              "    <path d=\"M0 0h24v24H0V0z\" fill=\"none\"/>\n",
              "    <path d=\"M18.56 5.44l.94 2.06.94-2.06 2.06-.94-2.06-.94-.94-2.06-.94 2.06-2.06.94zm-11 1L8.5 8.5l.94-2.06 2.06-.94-2.06-.94L8.5 2.5l-.94 2.06-2.06.94zm10 10l.94 2.06.94-2.06 2.06-.94-2.06-.94-.94-2.06-.94 2.06-2.06.94z\"/><path d=\"M17.41 7.96l-1.37-1.37c-.4-.4-.92-.59-1.43-.59-.52 0-1.04.2-1.43.59L10.3 9.45l-7.72 7.72c-.78.78-.78 2.05 0 2.83L4 21.41c.39.39.9.59 1.41.59.51 0 1.02-.2 1.41-.59l7.78-7.78 2.81-2.81c.8-.78.8-2.07 0-2.86zM5.41 20L4 18.59l7.72-7.72 1.47 1.35L5.41 20z\"/>\n",
              "  </svg>\n",
              "      </button>\n",
              "      \n",
              "  <style>\n",
              "    .colab-df-container {\n",
              "      display:flex;\n",
              "      flex-wrap:wrap;\n",
              "      gap: 12px;\n",
              "    }\n",
              "\n",
              "    .colab-df-convert {\n",
              "      background-color: #E8F0FE;\n",
              "      border: none;\n",
              "      border-radius: 50%;\n",
              "      cursor: pointer;\n",
              "      display: none;\n",
              "      fill: #1967D2;\n",
              "      height: 32px;\n",
              "      padding: 0 0 0 0;\n",
              "      width: 32px;\n",
              "    }\n",
              "\n",
              "    .colab-df-convert:hover {\n",
              "      background-color: #E2EBFA;\n",
              "      box-shadow: 0px 1px 2px rgba(60, 64, 67, 0.3), 0px 1px 3px 1px rgba(60, 64, 67, 0.15);\n",
              "      fill: #174EA6;\n",
              "    }\n",
              "\n",
              "    [theme=dark] .colab-df-convert {\n",
              "      background-color: #3B4455;\n",
              "      fill: #D2E3FC;\n",
              "    }\n",
              "\n",
              "    [theme=dark] .colab-df-convert:hover {\n",
              "      background-color: #434B5C;\n",
              "      box-shadow: 0px 1px 3px 1px rgba(0, 0, 0, 0.15);\n",
              "      filter: drop-shadow(0px 1px 2px rgba(0, 0, 0, 0.3));\n",
              "      fill: #FFFFFF;\n",
              "    }\n",
              "  </style>\n",
              "\n",
              "      <script>\n",
              "        const buttonEl =\n",
              "          document.querySelector('#df-4411bc23-6822-4a08-a399-ae821aed2e34 button.colab-df-convert');\n",
              "        buttonEl.style.display =\n",
              "          google.colab.kernel.accessAllowed ? 'block' : 'none';\n",
              "\n",
              "        async function convertToInteractive(key) {\n",
              "          const element = document.querySelector('#df-4411bc23-6822-4a08-a399-ae821aed2e34');\n",
              "          const dataTable =\n",
              "            await google.colab.kernel.invokeFunction('convertToInteractive',\n",
              "                                                     [key], {});\n",
              "          if (!dataTable) return;\n",
              "\n",
              "          const docLinkHtml = 'Like what you see? Visit the ' +\n",
              "            '<a target=\"_blank\" href=https://colab.research.google.com/notebooks/data_table.ipynb>data table notebook</a>'\n",
              "            + ' to learn more about interactive tables.';\n",
              "          element.innerHTML = '';\n",
              "          dataTable['output_type'] = 'display_data';\n",
              "          await google.colab.output.renderOutput(dataTable, element);\n",
              "          const docLink = document.createElement('div');\n",
              "          docLink.innerHTML = docLinkHtml;\n",
              "          element.appendChild(docLink);\n",
              "        }\n",
              "      </script>\n",
              "    </div>\n",
              "  </div>\n",
              "  "
            ]
          },
          "metadata": {},
          "execution_count": 121
        }
      ]
    },
    {
      "cell_type": "code",
      "source": [
        "y_train.describe()"
      ],
      "metadata": {
        "colab": {
          "base_uri": "https://localhost:8080/",
          "height": 300
        },
        "id": "sLkXA8nLGSuD",
        "outputId": "d76a8ea0-0f11-4fbb-9ecd-a5826cee6dd0"
      },
      "execution_count": 122,
      "outputs": [
        {
          "output_type": "execute_result",
          "data": {
            "text/plain": [
              "           Target\n",
              "count  404.000000\n",
              "mean    22.395050\n",
              "std      9.210442\n",
              "min      5.000000\n",
              "25%     16.675000\n",
              "50%     20.750000\n",
              "75%     24.800000\n",
              "max     50.000000"
            ],
            "text/html": [
              "\n",
              "  <div id=\"df-2f7fd933-905e-43ea-9c17-9e82a79af336\">\n",
              "    <div class=\"colab-df-container\">\n",
              "      <div>\n",
              "<style scoped>\n",
              "    .dataframe tbody tr th:only-of-type {\n",
              "        vertical-align: middle;\n",
              "    }\n",
              "\n",
              "    .dataframe tbody tr th {\n",
              "        vertical-align: top;\n",
              "    }\n",
              "\n",
              "    .dataframe thead th {\n",
              "        text-align: right;\n",
              "    }\n",
              "</style>\n",
              "<table border=\"1\" class=\"dataframe\">\n",
              "  <thead>\n",
              "    <tr style=\"text-align: right;\">\n",
              "      <th></th>\n",
              "      <th>Target</th>\n",
              "    </tr>\n",
              "  </thead>\n",
              "  <tbody>\n",
              "    <tr>\n",
              "      <th>count</th>\n",
              "      <td>404.000000</td>\n",
              "    </tr>\n",
              "    <tr>\n",
              "      <th>mean</th>\n",
              "      <td>22.395050</td>\n",
              "    </tr>\n",
              "    <tr>\n",
              "      <th>std</th>\n",
              "      <td>9.210442</td>\n",
              "    </tr>\n",
              "    <tr>\n",
              "      <th>min</th>\n",
              "      <td>5.000000</td>\n",
              "    </tr>\n",
              "    <tr>\n",
              "      <th>25%</th>\n",
              "      <td>16.675000</td>\n",
              "    </tr>\n",
              "    <tr>\n",
              "      <th>50%</th>\n",
              "      <td>20.750000</td>\n",
              "    </tr>\n",
              "    <tr>\n",
              "      <th>75%</th>\n",
              "      <td>24.800000</td>\n",
              "    </tr>\n",
              "    <tr>\n",
              "      <th>max</th>\n",
              "      <td>50.000000</td>\n",
              "    </tr>\n",
              "  </tbody>\n",
              "</table>\n",
              "</div>\n",
              "      <button class=\"colab-df-convert\" onclick=\"convertToInteractive('df-2f7fd933-905e-43ea-9c17-9e82a79af336')\"\n",
              "              title=\"Convert this dataframe to an interactive table.\"\n",
              "              style=\"display:none;\">\n",
              "        \n",
              "  <svg xmlns=\"http://www.w3.org/2000/svg\" height=\"24px\"viewBox=\"0 0 24 24\"\n",
              "       width=\"24px\">\n",
              "    <path d=\"M0 0h24v24H0V0z\" fill=\"none\"/>\n",
              "    <path d=\"M18.56 5.44l.94 2.06.94-2.06 2.06-.94-2.06-.94-.94-2.06-.94 2.06-2.06.94zm-11 1L8.5 8.5l.94-2.06 2.06-.94-2.06-.94L8.5 2.5l-.94 2.06-2.06.94zm10 10l.94 2.06.94-2.06 2.06-.94-2.06-.94-.94-2.06-.94 2.06-2.06.94z\"/><path d=\"M17.41 7.96l-1.37-1.37c-.4-.4-.92-.59-1.43-.59-.52 0-1.04.2-1.43.59L10.3 9.45l-7.72 7.72c-.78.78-.78 2.05 0 2.83L4 21.41c.39.39.9.59 1.41.59.51 0 1.02-.2 1.41-.59l7.78-7.78 2.81-2.81c.8-.78.8-2.07 0-2.86zM5.41 20L4 18.59l7.72-7.72 1.47 1.35L5.41 20z\"/>\n",
              "  </svg>\n",
              "      </button>\n",
              "      \n",
              "  <style>\n",
              "    .colab-df-container {\n",
              "      display:flex;\n",
              "      flex-wrap:wrap;\n",
              "      gap: 12px;\n",
              "    }\n",
              "\n",
              "    .colab-df-convert {\n",
              "      background-color: #E8F0FE;\n",
              "      border: none;\n",
              "      border-radius: 50%;\n",
              "      cursor: pointer;\n",
              "      display: none;\n",
              "      fill: #1967D2;\n",
              "      height: 32px;\n",
              "      padding: 0 0 0 0;\n",
              "      width: 32px;\n",
              "    }\n",
              "\n",
              "    .colab-df-convert:hover {\n",
              "      background-color: #E2EBFA;\n",
              "      box-shadow: 0px 1px 2px rgba(60, 64, 67, 0.3), 0px 1px 3px 1px rgba(60, 64, 67, 0.15);\n",
              "      fill: #174EA6;\n",
              "    }\n",
              "\n",
              "    [theme=dark] .colab-df-convert {\n",
              "      background-color: #3B4455;\n",
              "      fill: #D2E3FC;\n",
              "    }\n",
              "\n",
              "    [theme=dark] .colab-df-convert:hover {\n",
              "      background-color: #434B5C;\n",
              "      box-shadow: 0px 1px 3px 1px rgba(0, 0, 0, 0.15);\n",
              "      filter: drop-shadow(0px 1px 2px rgba(0, 0, 0, 0.3));\n",
              "      fill: #FFFFFF;\n",
              "    }\n",
              "  </style>\n",
              "\n",
              "      <script>\n",
              "        const buttonEl =\n",
              "          document.querySelector('#df-2f7fd933-905e-43ea-9c17-9e82a79af336 button.colab-df-convert');\n",
              "        buttonEl.style.display =\n",
              "          google.colab.kernel.accessAllowed ? 'block' : 'none';\n",
              "\n",
              "        async function convertToInteractive(key) {\n",
              "          const element = document.querySelector('#df-2f7fd933-905e-43ea-9c17-9e82a79af336');\n",
              "          const dataTable =\n",
              "            await google.colab.kernel.invokeFunction('convertToInteractive',\n",
              "                                                     [key], {});\n",
              "          if (!dataTable) return;\n",
              "\n",
              "          const docLinkHtml = 'Like what you see? Visit the ' +\n",
              "            '<a target=\"_blank\" href=https://colab.research.google.com/notebooks/data_table.ipynb>data table notebook</a>'\n",
              "            + ' to learn more about interactive tables.';\n",
              "          element.innerHTML = '';\n",
              "          dataTable['output_type'] = 'display_data';\n",
              "          await google.colab.output.renderOutput(dataTable, element);\n",
              "          const docLink = document.createElement('div');\n",
              "          docLink.innerHTML = docLinkHtml;\n",
              "          element.appendChild(docLink);\n",
              "        }\n",
              "      </script>\n",
              "    </div>\n",
              "  </div>\n",
              "  "
            ]
          },
          "metadata": {},
          "execution_count": 122
        }
      ]
    },
    {
      "cell_type": "code",
      "execution_count": 123,
      "metadata": {
        "id": "KrVfn-5BAngd"
      },
      "outputs": [],
      "source": [
        "# Normalization\n",
        "# The reason perform normalization because all the feature variables are using different units\n",
        "from sklearn.preprocessing import StandardScaler\n",
        "\n",
        "scaler = StandardScaler()\n",
        "\n",
        "x_train =  scaler.fit_transform(x_train)\n",
        "x_test = scaler.transform(x_test)"
      ]
    },
    {
      "cell_type": "code",
      "execution_count": 124,
      "metadata": {
        "id": "ZUFBzz6cJHj5"
      },
      "outputs": [],
      "source": [
        "from keras.models import Sequential\n",
        "from keras.layers import Dense, Dropout\n",
        "from keras import initializers\n",
        "from keras import regularizers\n",
        "from keras.callbacks import EarlyStopping"
      ]
    },
    {
      "cell_type": "code",
      "execution_count": 128,
      "metadata": {
        "id": "krLRwYuKKpC6"
      },
      "outputs": [],
      "source": [
        "# Building a linear stack of layers with the sequential model\n",
        "L1 = 200\n",
        "L2 = 100\n",
        "L3 = 50\n",
        "\n",
        "model = Sequential()\n",
        "model.add(Dense(L1, input_dim = 13, activation = 'relu'))\n",
        "model.add(Dense(L2, activation = 'relu'))\n",
        "model.add(Dense(L3, activation = 'relu'))\n",
        "\n",
        "# Output layer (softmax = multinominal)\n",
        "model.add(Dense(1, activation = 'linear'))"
      ]
    },
    {
      "cell_type": "code",
      "execution_count": 129,
      "metadata": {
        "id": "zImAZubOLY93"
      },
      "outputs": [],
      "source": [
        "# Compiling the sequential model (model compilation)\n",
        "model.compile(loss = 'mse', metrics = ['mae'], optimizer = 'rmsprop')"
      ]
    },
    {
      "cell_type": "code",
      "execution_count": 130,
      "metadata": {
        "colab": {
          "base_uri": "https://localhost:8080/"
        },
        "id": "veyeiStoND_4",
        "outputId": "1166e42c-8cd6-4dc3-8835-69cd999dc420"
      },
      "outputs": [
        {
          "output_type": "stream",
          "name": "stdout",
          "text": [
            "Epoch 1/10\n",
            "5/5 [==============================] - 1s 51ms/step - loss: 533.9155 - mae: 21.1294 - val_loss: 454.7966 - val_mae: 19.2427\n",
            "Epoch 2/10\n",
            "5/5 [==============================] - 0s 15ms/step - loss: 368.6466 - mae: 16.9751 - val_loss: 251.3042 - val_mae: 13.8783\n",
            "Epoch 3/10\n",
            "5/5 [==============================] - 0s 11ms/step - loss: 193.1850 - mae: 11.5980 - val_loss: 141.8490 - val_mae: 10.1119\n",
            "Epoch 4/10\n",
            "5/5 [==============================] - 0s 11ms/step - loss: 106.5224 - mae: 8.0870 - val_loss: 68.3764 - val_mae: 6.5627\n",
            "Epoch 5/10\n",
            "5/5 [==============================] - 0s 14ms/step - loss: 59.7456 - mae: 5.8886 - val_loss: 57.3294 - val_mae: 5.9540\n",
            "Epoch 6/10\n",
            "5/5 [==============================] - 0s 14ms/step - loss: 47.5301 - mae: 5.0776 - val_loss: 42.7850 - val_mae: 5.1058\n",
            "Epoch 7/10\n",
            "5/5 [==============================] - 0s 14ms/step - loss: 37.5707 - mae: 4.5323 - val_loss: 36.8210 - val_mae: 4.5838\n",
            "Epoch 8/10\n",
            "5/5 [==============================] - 0s 10ms/step - loss: 31.6605 - mae: 4.0193 - val_loss: 32.8208 - val_mae: 4.3018\n",
            "Epoch 9/10\n",
            "5/5 [==============================] - 0s 14ms/step - loss: 27.6418 - mae: 3.6259 - val_loss: 26.4798 - val_mae: 4.1170\n",
            "Epoch 10/10\n",
            "5/5 [==============================] - 0s 10ms/step - loss: 23.1282 - mae: 3.3671 - val_loss: 23.1687 - val_mae: 3.6846\n"
          ]
        }
      ],
      "source": [
        "# Training the model for 10 epochs (model history)\n",
        "history = model.fit(x_train, y_train, epochs = 10, batch_size = 100, validation_data = (x_test, y_test))"
      ]
    },
    {
      "cell_type": "code",
      "execution_count": 131,
      "metadata": {
        "colab": {
          "base_uri": "https://localhost:8080/",
          "height": 843
        },
        "id": "mYc86YMLOKn6",
        "outputId": "ad689ac7-537e-4009-fd5a-8c39cc4c8dcc"
      },
      "outputs": [
        {
          "output_type": "display_data",
          "data": {
            "text/plain": [
              "<Figure size 640x480 with 1 Axes>"
            ],
            "image/png": "[encoded data removed]"
          },
          "metadata": {}
        },
        {
          "output_type": "display_data",
          "data": {
            "text/plain": [
              "<Figure size 640x480 with 1 Axes>"
            ],
            "image/png": "[encoded data removed]"
          },
          "metadata": {}
        }
      ],
      "source": [
        "# History of the epochs / iterations\n",
        "import matplotlib.pyplot as plt\n",
        "\n",
        "acc = history.history['mae']\n",
        "val_acc = history.history['val_mae']\n",
        "loss = history.history['loss']\n",
        "val_loss = history.history['val_loss']\n",
        "\n",
        "epochs = range(1, len(acc) + 1)\n",
        "\n",
        "plt.figure()\n",
        "plt.plot(epochs, acc, 'b', label = 'Train Accuracy')\n",
        "plt.plot(epochs, val_acc, 'r', label = 'Test Accuracy')\n",
        "plt.legend()\n",
        "\n",
        "plt.figure()\n",
        "plt.plot(epochs, loss, 'b', label = 'Train Loss')\n",
        "plt.plot(epochs, val_loss, 'r', label = 'Test Loss')\n",
        "plt.legend()\n",
        "\n",
        "plt.show()"
      ]
    },
    {
      "cell_type": "markdown",
      "metadata": {
        "id": "Ekaq_o-nS0hF"
      },
      "source": [
        "#**Model with Initializer and Regularizer**"
      ]
    },
    {
      "cell_type": "code",
      "execution_count": 132,
      "metadata": {
        "id": "xzgFANAnSXUo"
      },
      "outputs": [],
      "source": [
        "from keras import initializers\n",
        "from keras import regularizers"
      ]
    },
    {
      "cell_type": "code",
      "execution_count": 134,
      "metadata": {
        "id": "Iib1Li8wScno"
      },
      "outputs": [],
      "source": [
        "# Regularizer can be used for different hidden layer\n",
        "L1 = 200\n",
        "L2 = 100\n",
        "L3 = 50\n",
        "\n",
        "model = Sequential()\n",
        "model.add(Dense(L1, input_dim = 13, activation = 'relu', \n",
        "                kernel_initializer = 'he_normal',\n",
        "                kernel_regularizer = regularizers.l2(0.01)))\n",
        "model.add(Dense(L2, activation = 'relu', \n",
        "                kernel_initializer = 'he_normal',\n",
        "                kernel_regularizer = regularizers.l2(0.01)))\n",
        "model.add(Dense(L3, activation = 'relu', \n",
        "                kernel_initializer = 'he_normal',\n",
        "                kernel_regularizer = regularizers.l2(0.01)))\n",
        "model.add(Dense(1, activation = 'linear'))"
      ]
    },
    {
      "cell_type": "code",
      "execution_count": 135,
      "metadata": {
        "id": "pADDj5JOTO2T"
      },
      "outputs": [],
      "source": [
        "# Model compilation\n",
        "model.compile(loss = 'mse', metrics = ['mae'], optimizer = 'rmsprop')"
      ]
    },
    {
      "cell_type": "code",
      "execution_count": 136,
      "metadata": {
        "colab": {
          "base_uri": "https://localhost:8080/"
        },
        "id": "3ghbxLS3ThGf",
        "outputId": "0c3434b6-d70b-478d-e16f-92198d23eb18"
      },
      "outputs": [
        {
          "output_type": "stream",
          "name": "stdout",
          "text": [
            "Epoch 1/10\n",
            "5/5 [==============================] - 1s 79ms/step - loss: 486.1095 - mae: 19.6865 - val_loss: 262.1989 - val_mae: 13.8697\n",
            "Epoch 2/10\n",
            "5/5 [==============================] - 0s 15ms/step - loss: 198.0652 - mae: 11.4282 - val_loss: 100.0650 - val_mae: 8.0428\n",
            "Epoch 3/10\n",
            "5/5 [==============================] - 0s 15ms/step - loss: 90.4618 - mae: 7.1072 - val_loss: 73.0593 - val_mae: 6.5763\n",
            "Epoch 4/10\n",
            "5/5 [==============================] - 0s 19ms/step - loss: 65.0494 - mae: 5.7893 - val_loss: 56.0325 - val_mae: 5.5520\n",
            "Epoch 5/10\n",
            "5/5 [==============================] - 0s 15ms/step - loss: 49.2022 - mae: 4.7932 - val_loss: 49.1213 - val_mae: 5.2219\n",
            "Epoch 6/10\n",
            "5/5 [==============================] - 0s 21ms/step - loss: 41.9501 - mae: 4.3491 - val_loss: 42.7110 - val_mae: 4.6004\n",
            "Epoch 7/10\n",
            "5/5 [==============================] - 0s 20ms/step - loss: 36.3819 - mae: 3.9306 - val_loss: 38.4597 - val_mae: 4.1981\n",
            "Epoch 8/10\n",
            "5/5 [==============================] - 0s 15ms/step - loss: 30.3160 - mae: 3.5488 - val_loss: 36.7600 - val_mae: 3.9404\n",
            "Epoch 9/10\n",
            "5/5 [==============================] - 0s 19ms/step - loss: 29.7883 - mae: 3.4790 - val_loss: 35.2213 - val_mae: 3.8397\n",
            "Epoch 10/10\n",
            "5/5 [==============================] - 0s 16ms/step - loss: 27.3352 - mae: 3.3094 - val_loss: 43.6864 - val_mae: 4.6572\n"
          ]
        }
      ],
      "source": [
        "# Model history\n",
        "history = model.fit(x_train, y_train, epochs = 10, batch_size = 100, validation_data = (x_test, y_test))"
      ]
    },
    {
      "cell_type": "code",
      "execution_count": 137,
      "metadata": {
        "colab": {
          "base_uri": "https://localhost:8080/",
          "height": 843
        },
        "id": "FHnl46BjT-FW",
        "outputId": "3585af00-945f-41ba-c8fa-1cd7f2341d32"
      },
      "outputs": [
        {
          "output_type": "display_data",
          "data": {
            "text/plain": [
              "<Figure size 640x480 with 1 Axes>"
            ],
            "image/png": "[encoded data removed]"
          },
          "metadata": {}
        },
        {
          "output_type": "display_data",
          "data": {
            "text/plain": [
              "<Figure size 640x480 with 1 Axes>"
            ],
            "image/png": "[encoded data removed]"
          },
          "metadata": {}
        }
      ],
      "source": [
        "# History of the epochs / iterations\n",
        "import matplotlib.pyplot as plt\n",
        "\n",
        "acc = history.history['mae']\n",
        "val_acc = history.history['val_mae']\n",
        "loss = history.history['loss']\n",
        "val_loss = history.history['val_loss']\n",
        "\n",
        "epochs = range(1, len(acc) + 1)\n",
        "\n",
        "plt.figure()\n",
        "plt.plot(epochs, acc, 'b', label = 'Train Accuracy')\n",
        "plt.plot(epochs, val_acc, 'r', label = 'Test Accuracy')\n",
        "plt.legend()\n",
        "\n",
        "plt.figure()\n",
        "plt.plot(epochs, loss, 'b', label = 'Train Loss')\n",
        "plt.plot(epochs, val_loss, 'r', label = 'Test Loss')\n",
        "plt.legend()\n",
        "\n",
        "plt.show()"
      ]
    },
    {
      "cell_type": "markdown",
      "metadata": {
        "id": "XAIoKL6XUv5z"
      },
      "source": [
        "#**Dropout**"
      ]
    },
    {
      "cell_type": "code",
      "execution_count": 138,
      "metadata": {
        "id": "W8TWw-1-UyzB"
      },
      "outputs": [],
      "source": [
        "from keras.layers import Dropout"
      ]
    },
    {
      "cell_type": "code",
      "execution_count": 144,
      "metadata": {
        "id": "ZuT5BV9pU22B"
      },
      "outputs": [],
      "source": [
        "# Dropout can be used in different hidden layer\n",
        "L1 = 200\n",
        "L2 = 100\n",
        "L3 = 50\n",
        "\n",
        "model = Sequential()\n",
        "model.add(Dense(L1, input_dim = 13, activation = 'relu', \n",
        "                kernel_initializer = 'he_normal',\n",
        "                kernel_regularizer = regularizers.l2(0.01)))\n",
        "model.add(Dropout(rate = 0.05))\n",
        "model.add(Dense(L2, activation = 'relu'))\n",
        "model.add(Dropout(rate = 0.05))\n",
        "model.add(Dense(L3, activation = 'relu'))\n",
        "model.add(Dropout(rate = 0.05))\n",
        "model.add(Dense(1, activation = 'linear'))"
      ]
    },
    {
      "cell_type": "code",
      "execution_count": 145,
      "metadata": {
        "id": "inmfZWR6WEM2"
      },
      "outputs": [],
      "source": [
        "# Model compilation\n",
        "model.compile(loss = 'mse', metrics = ['mae'], optimizer = 'rmsprop')"
      ]
    },
    {
      "cell_type": "code",
      "execution_count": 146,
      "metadata": {
        "colab": {
          "base_uri": "https://localhost:8080/"
        },
        "id": "9mKUmR_tWJgh",
        "outputId": "c5d21041-9db5-4eeb-d3e4-e60b49786f22"
      },
      "outputs": [
        {
          "output_type": "stream",
          "name": "stdout",
          "text": [
            "Epoch 1/10\n",
            "5/5 [==============================] - 1s 50ms/step - loss: 434.7876 - mae: 18.4187 - val_loss: 216.7993 - val_mae: 12.2226\n",
            "Epoch 2/10\n",
            "5/5 [==============================] - 0s 16ms/step - loss: 166.9896 - mae: 10.2385 - val_loss: 103.7109 - val_mae: 7.9024\n",
            "Epoch 3/10\n",
            "5/5 [==============================] - 0s 12ms/step - loss: 95.2548 - mae: 7.3618 - val_loss: 80.0976 - val_mae: 6.7762\n",
            "Epoch 4/10\n",
            "5/5 [==============================] - 0s 11ms/step - loss: 75.1613 - mae: 6.3466 - val_loss: 65.1421 - val_mae: 6.3883\n",
            "Epoch 5/10\n",
            "5/5 [==============================] - 0s 15ms/step - loss: 54.8777 - mae: 5.2275 - val_loss: 50.5741 - val_mae: 5.4208\n",
            "Epoch 6/10\n",
            "5/5 [==============================] - 0s 18ms/step - loss: 44.3490 - mae: 4.6705 - val_loss: 43.7854 - val_mae: 4.8715\n",
            "Epoch 7/10\n",
            "5/5 [==============================] - 0s 11ms/step - loss: 39.2580 - mae: 4.2349 - val_loss: 33.9761 - val_mae: 4.0800\n",
            "Epoch 8/10\n",
            "5/5 [==============================] - 0s 11ms/step - loss: 30.8325 - mae: 3.7104 - val_loss: 37.2416 - val_mae: 4.4259\n",
            "Epoch 9/10\n",
            "5/5 [==============================] - 0s 11ms/step - loss: 27.8941 - mae: 3.5147 - val_loss: 29.0193 - val_mae: 3.7370\n",
            "Epoch 10/10\n",
            "5/5 [==============================] - 0s 15ms/step - loss: 25.9839 - mae: 3.3920 - val_loss: 29.0193 - val_mae: 3.5820\n"
          ]
        }
      ],
      "source": [
        "# Model history\n",
        "history = model.fit(x_train, y_train, epochs = 10, batch_size = 100, validation_data = (x_test, y_test))"
      ]
    },
    {
      "cell_type": "code",
      "execution_count": 147,
      "metadata": {
        "colab": {
          "base_uri": "https://localhost:8080/",
          "height": 844
        },
        "id": "wSvQFMDfWL6H",
        "outputId": "4ab69a79-e8fc-44f1-d0d5-e64af02d26e2"
      },
      "outputs": [
        {
          "output_type": "display_data",
          "data": {
            "text/plain": [
              "<Figure size 640x480 with 1 Axes>"
            ],
            "image/png": "[encoded data removed]"
          },
          "metadata": {}
        },
        {
          "output_type": "display_data",
          "data": {
            "text/plain": [
              "<Figure size 640x480 with 1 Axes>"
            ],
            "image/png": "[encoded data removed]"
          },
          "metadata": {}
        }
      ],
      "source": [
        "# History of the epochs / iterations\n",
        "import matplotlib.pyplot as plt\n",
        "\n",
        "acc = history.history['mae']\n",
        "val_acc = history.history['val_mae']\n",
        "loss = history.history['loss']\n",
        "val_loss = history.history['val_loss']\n",
        "\n",
        "epochs = range(1, len(acc) + 1)\n",
        "\n",
        "plt.figure()\n",
        "plt.plot(epochs, acc, 'b', label = 'Train Accuracy')\n",
        "plt.plot(epochs, val_acc, 'r', label = 'Test Accuracy')\n",
        "plt.legend()\n",
        "\n",
        "plt.figure()\n",
        "plt.plot(epochs, loss, 'b', label = 'Train Loss')\n",
        "plt.plot(epochs, val_loss, 'r', label = 'Test Loss')\n",
        "plt.legend()\n",
        "\n",
        "plt.show()"
      ]
    },
    {
      "cell_type": "markdown",
      "metadata": {
        "id": "ubSxOQKIWOmn"
      },
      "source": [
        "#**Early Stopping**"
      ]
    },
    {
      "cell_type": "code",
      "execution_count": 148,
      "metadata": {
        "id": "WDRDOL7pWRr2"
      },
      "outputs": [],
      "source": [
        "# When the training and testing set start to diverge, then can use early stopping, it is based on validation loss\n",
        "from keras.callbacks import EarlyStopping\n",
        "\n",
        "early_stopping_monitor = EarlyStopping(patience = 3)"
      ]
    },
    {
      "cell_type": "code",
      "execution_count": 151,
      "metadata": {
        "id": "gGeDUo_dXpV0"
      },
      "outputs": [],
      "source": [
        "# Dropout can be used for different hidden layer\n",
        "L1 = 200\n",
        "L2 = 100\n",
        "L3 = 50\n",
        "\n",
        "model = Sequential()\n",
        "model.add(Dense(L1, input_dim = 13, activation = 'relu', \n",
        "                kernel_initializer = 'he_normal',\n",
        "                kernel_regularizer = regularizers.l2(0.01)))\n",
        "model.add(Dense(L2, activation = 'relu'))\n",
        "model.add(Dense(L3, activation = 'relu'))\n",
        "model.add(Dense(1, activation = 'linear'))"
      ]
    },
    {
      "cell_type": "code",
      "execution_count": 153,
      "metadata": {
        "id": "38pKJ0wvX1Rl"
      },
      "outputs": [],
      "source": [
        "# Model compilation\n",
        "model.compile(loss = 'mse', metrics = ['mae'], optimizer = 'rmsprop')"
      ]
    },
    {
      "cell_type": "code",
      "execution_count": 154,
      "metadata": {
        "colab": {
          "base_uri": "https://localhost:8080/"
        },
        "id": "d8_jQQzoWrdU",
        "outputId": "79896a25-50c3-4034-d911-b0b88d3c84f0"
      },
      "outputs": [
        {
          "output_type": "stream",
          "name": "stdout",
          "text": [
            "Epoch 1/30\n",
            "5/5 [==============================] - 1s 71ms/step - loss: 416.0717 - mae: 18.1570 - val_loss: 237.0506 - val_mae: 13.0799\n",
            "Epoch 2/30\n",
            "5/5 [==============================] - 0s 15ms/step - loss: 177.4499 - mae: 10.9675 - val_loss: 100.9816 - val_mae: 8.2842\n",
            "Epoch 3/30\n",
            "5/5 [==============================] - 0s 16ms/step - loss: 86.6476 - mae: 7.3369 - val_loss: 70.6125 - val_mae: 6.5922\n",
            "Epoch 4/30\n",
            "5/5 [==============================] - 0s 22ms/step - loss: 59.3347 - mae: 5.7688 - val_loss: 52.8998 - val_mae: 5.5561\n",
            "Epoch 5/30\n",
            "5/5 [==============================] - 0s 16ms/step - loss: 43.5489 - mae: 4.7282 - val_loss: 43.3764 - val_mae: 4.7814\n",
            "Epoch 6/30\n",
            "5/5 [==============================] - 0s 22ms/step - loss: 32.8009 - mae: 3.9270 - val_loss: 33.9105 - val_mae: 4.1109\n",
            "Epoch 7/30\n",
            "5/5 [==============================] - 0s 20ms/step - loss: 27.3118 - mae: 3.4246 - val_loss: 41.2499 - val_mae: 4.6134\n",
            "Epoch 8/30\n",
            "5/5 [==============================] - 0s 22ms/step - loss: 25.7786 - mae: 3.3907 - val_loss: 41.8466 - val_mae: 4.7288\n",
            "Epoch 9/30\n",
            "5/5 [==============================] - 0s 16ms/step - loss: 24.4226 - mae: 3.3664 - val_loss: 31.7681 - val_mae: 3.8057\n",
            "Epoch 10/30\n",
            "5/5 [==============================] - 0s 19ms/step - loss: 20.5756 - mae: 2.9718 - val_loss: 29.0926 - val_mae: 3.6202\n",
            "Epoch 11/30\n",
            "5/5 [==============================] - 0s 16ms/step - loss: 19.9605 - mae: 2.9182 - val_loss: 37.5272 - val_mae: 4.4521\n",
            "Epoch 12/30\n",
            "5/5 [==============================] - 0s 16ms/step - loss: 21.6612 - mae: 3.0688 - val_loss: 28.1782 - val_mae: 3.5907\n",
            "Epoch 13/30\n",
            "5/5 [==============================] - 0s 17ms/step - loss: 19.2148 - mae: 2.8390 - val_loss: 28.0557 - val_mae: 3.5284\n",
            "Epoch 14/30\n",
            "5/5 [==============================] - 0s 21ms/step - loss: 19.4930 - mae: 2.9073 - val_loss: 42.8020 - val_mae: 4.9690\n",
            "Epoch 15/30\n",
            "5/5 [==============================] - 0s 17ms/step - loss: 22.7708 - mae: 3.2659 - val_loss: 37.5967 - val_mae: 4.0791\n",
            "Epoch 16/30\n",
            "5/5 [==============================] - 0s 16ms/step - loss: 19.7547 - mae: 2.9738 - val_loss: 28.7161 - val_mae: 3.4270\n"
          ]
        }
      ],
      "source": [
        "# Model history\n",
        "history = model.fit(x_train, y_train, epochs = 30, batch_size = 100, validation_data = (x_test, y_test), callbacks = [early_stopping_monitor])"
      ]
    },
    {
      "cell_type": "code",
      "execution_count": 155,
      "metadata": {
        "colab": {
          "base_uri": "https://localhost:8080/",
          "height": 843
        },
        "id": "aKq8_oSNXBam",
        "outputId": "1ebd2091-827a-46fb-ca1e-cec079873d7e"
      },
      "outputs": [
        {
          "output_type": "display_data",
          "data": {
            "text/plain": [
              "<Figure size 640x480 with 1 Axes>"
            ],
            "image/png": "[encoded data removed]"
          },
          "metadata": {}
        },
        {
          "output_type": "display_data",
          "data": {
            "text/plain": [
              "<Figure size 640x480 with 1 Axes>"
            ],
            "image/png": "[encoded data removed]"
          },
          "metadata": {}
        }
      ],
      "source": [
        "# History of the epochs / iterations\n",
        "import matplotlib.pyplot as plt\n",
        "\n",
        "acc = history.history['mae']\n",
        "val_acc = history.history['val_mae']\n",
        "loss = history.history['loss']\n",
        "val_loss = history.history['val_loss']\n",
        "\n",
        "epochs = range(1, len(acc) + 1)\n",
        "\n",
        "plt.figure()\n",
        "plt.plot(epochs, acc, 'b', label = 'Train Accuracy')\n",
        "plt.plot(epochs, val_acc, 'r', label = 'Test Accuracy')\n",
        "plt.legend()\n",
        "\n",
        "plt.figure()\n",
        "plt.plot(epochs, loss, 'b', label = 'Train Loss')\n",
        "plt.plot(epochs, val_loss, 'r', label = 'Test Loss')\n",
        "plt.legend()\n",
        "\n",
        "plt.show()"
      ]
    },
    {
      "cell_type": "markdown",
      "metadata": {
        "id": "jmENBGnVU5je"
      },
      "source": [
        "#**Grid Search Hypermarketers**"
      ]
    },
    {
      "cell_type": "code",
      "execution_count": 160,
      "metadata": {
        "colab": {
          "base_uri": "https://localhost:8080/"
        },
        "id": "FuUUEEygU-76",
        "outputId": "efa90bf9-2766-480d-eb27-7c1641285555"
      },
      "outputs": [
        {
          "output_type": "stream",
          "name": "stdout",
          "text": [
            "Looking in indexes: https://pypi.org/simple, https://us-python.pkg.dev/colab-wheels/public/simple/\n",
            "Requirement already satisfied: scikeras in /usr/local/lib/python3.9/dist-packages (0.10.0)\n",
            "Requirement already satisfied: scikit-learn>=1.0.0 in /usr/local/lib/python3.9/dist-packages (from scikeras) (1.2.2)\n",
            "Requirement already satisfied: packaging>=0.21 in /usr/local/lib/python3.9/dist-packages (from scikeras) (23.0)\n",
            "Requirement already satisfied: scipy>=1.3.2 in /usr/local/lib/python3.9/dist-packages (from scikit-learn>=1.0.0->scikeras) (1.10.1)\n",
            "Requirement already satisfied: numpy>=1.17.3 in /usr/local/lib/python3.9/dist-packages (from scikit-learn>=1.0.0->scikeras) (1.22.4)\n",
            "Requirement already satisfied: joblib>=1.1.1 in /usr/local/lib/python3.9/dist-packages (from scikit-learn>=1.0.0->scikeras) (1.1.1)\n",
            "Requirement already satisfied: threadpoolctl>=2.0.0 in /usr/local/lib/python3.9/dist-packages (from scikit-learn>=1.0.0->scikeras) (3.1.0)\n"
          ]
        }
      ],
      "source": [
        "pip install scikeras"
      ]
    },
    {
      "cell_type": "code",
      "execution_count": 167,
      "metadata": {
        "id": "yeLFjbtLV4tE"
      },
      "outputs": [],
      "source": [
        "from sklearn.model_selection import GridSearchCV\n",
        "from scikeras.wrappers import KerasRegressor"
      ]
    },
    {
      "cell_type": "code",
      "execution_count": 168,
      "metadata": {
        "id": "Q5_tZYlGWEi6"
      },
      "outputs": [],
      "source": [
        "# Function to create model, required for KerasClassifier\n",
        "def create_model():\n",
        "  # Create model\n",
        "  model = Sequential()\n",
        "\n",
        "  model.add(Dense(200, input_dim = 13, activation = 'relu'))\n",
        "  model.add(Dense(100, activation = 'relu'))\n",
        "  model.add(Dense(50, activation = 'relu'))\n",
        "  model.add(Dense(1, activation = 'linear'))\n",
        "\n",
        "  # Compile model\n",
        "  model.compile(loss = 'mse', metrics = ['mae'], optimizer = 'rmsprop')\n",
        "\n",
        "  return model"
      ]
    },
    {
      "cell_type": "markdown",
      "metadata": {
        "id": "DPx1gbvpXf0n"
      },
      "source": [
        "#**Tune the Batch Size and Epochs**\n"
      ]
    },
    {
      "cell_type": "markdown",
      "source": [
        "By setting verbose 0, 1, or 2 you just say how do you want to 'see' the training progress for each epoch. verbose = 0 will show you nothing (silent).\n",
        "\n",
        "n-jobs = -1 means using all processors. This means that the n_jobs parameter can be used to distribute and exploit all the CPUs available in the local computer."
      ],
      "metadata": {
        "id": "r_VfhZm7d_tW"
      }
    },
    {
      "cell_type": "code",
      "execution_count": 170,
      "metadata": {
        "id": "hqkZNX10WiSN"
      },
      "outputs": [],
      "source": [
        "# Create model\n",
        "# verbose 0 means we wouldn't have a detailed process of each iteration\n",
        "model = KerasRegressor(model = create_model, verbose = 0)\n",
        "\n",
        "# Define the grid search parameters\n",
        "# n_jobs = -1 means using all processors to run the jobs in parallel\n",
        "# cv means the number of cross-validation\n",
        "batch_size = [100, 128]\n",
        "epochs = [10, 15, 20]\n",
        "\n",
        "param_grid = dict(batch_size = batch_size, epochs = epochs)\n",
        "\n",
        "grid = GridSearchCV(estimator = model, param_grid = param_grid, n_jobs = -1, cv = 3)\n",
        "grid_result = grid.fit(x_train, y_train)"
      ]
    },
    {
      "cell_type": "code",
      "execution_count": 171,
      "metadata": {
        "colab": {
          "base_uri": "https://localhost:8080/"
        },
        "id": "8_CRDlxyZD31",
        "outputId": "a7058bae-5b96-48fd-e502-f97d7cb0caf8"
      },
      "outputs": [
        {
          "output_type": "stream",
          "name": "stdout",
          "text": [
            "Best: 0.781637 using {'batch_size': 100, 'epochs': 20}\n",
            "0.437642 (0.080311) with: {'batch_size': 100, 'epochs': 10}\n",
            "0.725420 (0.055032) with: {'batch_size': 100, 'epochs': 15}\n",
            "0.781637 (0.035356) with: {'batch_size': 100, 'epochs': 20}\n",
            "0.488974 (0.072720) with: {'batch_size': 128, 'epochs': 10}\n",
            "0.630786 (0.068812) with: {'batch_size': 128, 'epochs': 15}\n",
            "0.730133 (0.057179) with: {'batch_size': 128, 'epochs': 20}\n"
          ]
        }
      ],
      "source": [
        "# Summarize results\n",
        "# grid_result.best_score_, grid_result.best_params_ are all come from grid_result\n",
        "# The first code will print the best score and best parameters\n",
        "print('Best: %f using %s' % (grid_result.best_score_, grid_result.best_params_))\n",
        "\n",
        "means = grid_result.cv_results_['mean_test_score']\n",
        "stds = grid_result.cv_results_['std_test_score']\n",
        "params = grid_result.cv_results_['params']\n",
        "\n",
        "for mean, stdev, param in zip(means, stds, params):\n",
        "  print('%f (%f) with: %r' % (mean, stdev, param))\n",
        "\n",
        "# The 1st column is referred to the accuracy / mean value\n",
        "# The 2nd column is referred to the standard deviation\n",
        "# The 3rd column is referred to the parameters"
      ]
    },
    {
      "cell_type": "markdown",
      "metadata": {
        "id": "a_pMa6UOanOG"
      },
      "source": [
        "#**Tune the Training Optimization Algorithm (Only)**"
      ]
    },
    {
      "cell_type": "code",
      "execution_count": 172,
      "metadata": {
        "id": "Rb0aMNmSal3r"
      },
      "outputs": [],
      "source": [
        "# Create model\n",
        "model = KerasRegressor(model = create_model, loss = 'mse', epochs = 20, batch_size = 128, verbose = 0)\n",
        "\n",
        "# Define the grid search parameters\n",
        "# n_jobs = -1 means using all processors\n",
        "optimizer = ['SGD', 'RMSprop', 'Adagrad', 'Adadelta', 'Adam', 'Adamax', 'Nadam']\n",
        "\n",
        "param_grid = dict(optimizer = optimizer)\n",
        "\n",
        "grid = GridSearchCV(estimator = model, param_grid = param_grid, n_jobs = -1, cv = 3)\n",
        "grid_result = grid.fit(x_train, y_train)"
      ]
    },
    {
      "cell_type": "code",
      "execution_count": 173,
      "metadata": {
        "colab": {
          "base_uri": "https://localhost:8080/"
        },
        "id": "zeHP6cuBcstx",
        "outputId": "593a0e88-ea8e-4bd7-e798-c1c852260c90"
      },
      "outputs": [
        {
          "output_type": "stream",
          "name": "stdout",
          "text": [
            "Best: 0.750789 using {'optimizer': 'Adagrad'}\n",
            "0.723023 (0.031635) with: {'optimizer': 'SGD'}\n",
            "0.701675 (0.048724) with: {'optimizer': 'RMSprop'}\n",
            "0.750789 (0.037803) with: {'optimizer': 'Adagrad'}\n",
            "0.698395 (0.084090) with: {'optimizer': 'Adadelta'}\n",
            "0.726807 (0.017327) with: {'optimizer': 'Adam'}\n",
            "0.742474 (0.011279) with: {'optimizer': 'Adamax'}\n",
            "0.689435 (0.026680) with: {'optimizer': 'Nadam'}\n"
          ]
        }
      ],
      "source": [
        "# Summarize results\n",
        "print('Best: %f using %s' % (grid_result.best_score_, grid_result.best_params_))\n",
        "\n",
        "means = grid_result.cv_results_['mean_test_score']\n",
        "stds = grid_result.cv_results_['std_test_score']\n",
        "params = grid_result.cv_results_['params']\n",
        "\n",
        "for mean, stdev, param in zip(means, stds, params):\n",
        "  print('%f (%f) with: %r' % (mean, stdev, param))"
      ]
    },
    {
      "cell_type": "markdown",
      "metadata": {
        "id": "U3d_VemEgcJm"
      },
      "source": [
        "#**Tune the Neuron Activation Function**"
      ]
    },
    {
      "cell_type": "code",
      "execution_count": 177,
      "metadata": {
        "id": "kfz-tLmRgbQO"
      },
      "outputs": [],
      "source": [
        "# Function to create model, required for KerasClassifier\n",
        "def create_model(activation = 'relu'):\n",
        "  # Create model\n",
        "  model = Sequential()\n",
        "\n",
        "  model.add(Dense(200, input_dim = 13, activation = activation))\n",
        "  model.add(Dense(100, activation = activation))\n",
        "  model.add(Dense(50, activation = activation))\n",
        "  model.add(Dense(1, activation = 'linear'))\n",
        "\n",
        "  # Compile model\n",
        "  model.compile(loss = 'mse', metrics = ['mae'], optimizer = 'rmsprop')\n",
        "\n",
        "  return model"
      ]
    },
    {
      "cell_type": "code",
      "execution_count": 178,
      "metadata": {
        "id": "LUHCkKnkg9Tj"
      },
      "outputs": [],
      "source": [
        "# Create model\n",
        "model = KerasRegressor(model = create_model, epochs = 10, batch_size = 10, verbose = 0)\n",
        "\n",
        "# Define the grid search parameters\n",
        "activation = ['softmax', 'softplus', 'softsign', 'relu', 'tanh', 'sigmoid', 'hard_sigmoid', 'linear']\n",
        "\n",
        "param_grid = dict(model__activation = activation)\n",
        "\n",
        "grid = GridSearchCV(estimator = model, param_grid = param_grid, n_jobs = -1, cv = 3)\n",
        "grid_result = grid.fit(x_train, y_train)"
      ]
    },
    {
      "cell_type": "code",
      "execution_count": 179,
      "metadata": {
        "id": "iK4npqC0itEk",
        "colab": {
          "base_uri": "https://localhost:8080/"
        },
        "outputId": "3e1109cc-7ab6-48ec-fb33-fbeaa2822b4e"
      },
      "outputs": [
        {
          "output_type": "stream",
          "name": "stdout",
          "text": [
            "Best: 0.813726 using {'model__activation': 'relu'}\n",
            "-5.855190 (1.080360) with: {'model__activation': 'softmax'}\n",
            "0.647172 (0.176195) with: {'model__activation': 'softplus'}\n",
            "-0.068989 (0.141071) with: {'model__activation': 'softsign'}\n",
            "0.813726 (0.048447) with: {'model__activation': 'relu'}\n",
            "0.125902 (0.073206) with: {'model__activation': 'tanh'}\n",
            "-1.117335 (0.125466) with: {'model__activation': 'sigmoid'}\n",
            "-1.405698 (0.404388) with: {'model__activation': 'hard_sigmoid'}\n",
            "0.626031 (0.060546) with: {'model__activation': 'linear'}\n"
          ]
        }
      ],
      "source": [
        "# Summarize results\n",
        "print('Best: %f using %s' % (grid_result.best_score_, grid_result.best_params_))\n",
        "\n",
        "means = grid_result.cv_results_['mean_test_score']\n",
        "stds = grid_result.cv_results_['std_test_score']\n",
        "params = grid_result.cv_results_['params']\n",
        "\n",
        "for mean, stdev, param in zip(means, stds, params):\n",
        "  print('%f (%f) with: %r' % (mean, stdev, param))"
      ]
    },
    {
      "cell_type": "markdown",
      "source": [
        "#**Tune the Number of Neurons**"
      ],
      "metadata": {
        "id": "iKhmC9iklOWm"
      }
    },
    {
      "cell_type": "code",
      "source": [
        "# Function to create model, required for KerasClassifier\n",
        "def create_model(n1 = 200, n2 = 100, n3 = 50):\n",
        "  # Create model\n",
        "  model = Sequential()\n",
        "\n",
        "  model.add(Dense(n1, input_dim = 13, activation = 'relu'))\n",
        "  model.add(Dense(n2, activation = 'relu'))\n",
        "  model.add(Dense(n3, activation = 'relu'))\n",
        "  model.add(Dense(1, activation = 'linear'))\n",
        "\n",
        "  # Compile model\n",
        "  model.compile(loss = 'mse', metrics = ['mae'], optimizer = 'rmsprop')\n",
        "\n",
        "  return model"
      ],
      "metadata": {
        "id": "VOM-VNpolMlQ"
      },
      "execution_count": 188,
      "outputs": []
    },
    {
      "cell_type": "code",
      "source": [
        "from sklearn.neural_network import MLPRegressor\n",
        "regressor = MLPRegressor()\n",
        "print(regressor.get_params().keys())"
      ],
      "metadata": {
        "colab": {
          "base_uri": "https://localhost:8080/"
        },
        "id": "kGVcl0P0Pf3D",
        "outputId": "0ae96c53-3dd6-4a56-93e4-8e1adbe17ee6"
      },
      "execution_count": 187,
      "outputs": [
        {
          "output_type": "stream",
          "name": "stdout",
          "text": [
            "dict_keys(['activation', 'alpha', 'batch_size', 'beta_1', 'beta_2', 'early_stopping', 'epsilon', 'hidden_layer_sizes', 'learning_rate', 'learning_rate_init', 'max_fun', 'max_iter', 'momentum', 'n_iter_no_change', 'nesterovs_momentum', 'power_t', 'random_state', 'shuffle', 'solver', 'tol', 'validation_fraction', 'verbose', 'warm_start'])\n"
          ]
        }
      ]
    },
    {
      "cell_type": "code",
      "source": [
        "# Create model\n",
        "model = KerasRegressor(build_fn=create_model, n1 = 200, n2 = 100, n3 = 50, verbose=0)\n",
        "\n",
        "# Define the grid search parameters\n",
        "batch_size = [100, 128]\n",
        "epochs = [10, 15, 20]\n",
        "n1 = [100, 200, 300]\n",
        "n2 = [50, 100, 150]\n",
        "n3 = [25, 50, 75]\n",
        "\n",
        "param_grid = dict(batch_size=batch_size, epochs=epochs, n1 = n1, n2 = n2, n3 = n3)\n",
        "\n",
        "grid = GridSearchCV(estimator = model, param_grid = param_grid, n_jobs = -1, cv = 3)\n",
        "grid_result = grid.fit(x_train, y_train)"
      ],
      "metadata": {
        "id": "ITh8F8LflWWC",
        "colab": {
          "base_uri": "https://localhost:8080/"
        },
        "outputId": "773fa383-2fab-416e-b230-a42de01b185a"
      },
      "execution_count": 190,
      "outputs": [
        {
          "output_type": "stream",
          "name": "stderr",
          "text": [
            "/usr/local/lib/python3.9/dist-packages/scikeras/wrappers.py:301: UserWarning: ``build_fn`` will be renamed to ``model`` in a future release, at which point use of ``build_fn`` will raise an Error instead.\n",
            "  warnings.warn(\n"
          ]
        }
      ]
    },
    {
      "cell_type": "code",
      "source": [
        "# Summarize results\n",
        "print('Best: %f using %s' % (grid_result.best_score_, grid_result.best_params_))\n",
        "\n",
        "means = grid_result.cv_results_['mean_test_score']\n",
        "stds = grid_result.cv_results_['std_test_score']\n",
        "params = grid_result.cv_results_['params']\n",
        "\n",
        "for mean, stdev, param in zip(means, stds, params):\n",
        "  print('%f (%f) with: %r' % (mean, stdev, param))"
      ],
      "metadata": {
        "id": "QMwdGhVirkWq",
        "colab": {
          "base_uri": "https://localhost:8080/"
        },
        "outputId": "0ca654fe-5b78-4728-93a2-daf5b78bb1d1"
      },
      "execution_count": 191,
      "outputs": [
        {
          "output_type": "stream",
          "name": "stdout",
          "text": [
            "Best: 0.822614 using {'batch_size': 100, 'epochs': 20, 'n1': 300, 'n2': 150, 'n3': 75}\n",
            "-1.503965 (1.024447) with: {'batch_size': 100, 'epochs': 10, 'n1': 100, 'n2': 50, 'n3': 25}\n",
            "-0.395768 (0.446989) with: {'batch_size': 100, 'epochs': 10, 'n1': 100, 'n2': 50, 'n3': 50}\n",
            "-0.229286 (0.451033) with: {'batch_size': 100, 'epochs': 10, 'n1': 100, 'n2': 50, 'n3': 75}\n",
            "-0.096015 (0.143672) with: {'batch_size': 100, 'epochs': 10, 'n1': 100, 'n2': 100, 'n3': 25}\n",
            "0.124543 (0.446823) with: {'batch_size': 100, 'epochs': 10, 'n1': 100, 'n2': 100, 'n3': 50}\n",
            "0.330313 (0.187478) with: {'batch_size': 100, 'epochs': 10, 'n1': 100, 'n2': 100, 'n3': 75}\n",
            "0.130555 (0.170176) with: {'batch_size': 100, 'epochs': 10, 'n1': 100, 'n2': 150, 'n3': 25}\n",
            "0.425915 (0.179245) with: {'batch_size': 100, 'epochs': 10, 'n1': 100, 'n2': 150, 'n3': 50}\n",
            "0.506891 (0.099379) with: {'batch_size': 100, 'epochs': 10, 'n1': 100, 'n2': 150, 'n3': 75}\n",
            "-1.081721 (0.935200) with: {'batch_size': 100, 'epochs': 10, 'n1': 200, 'n2': 50, 'n3': 25}\n",
            "0.187867 (0.229681) with: {'batch_size': 100, 'epochs': 10, 'n1': 200, 'n2': 50, 'n3': 50}\n",
            "0.133228 (0.155585) with: {'batch_size': 100, 'epochs': 10, 'n1': 200, 'n2': 50, 'n3': 75}\n",
            "0.502785 (0.132555) with: {'batch_size': 100, 'epochs': 10, 'n1': 200, 'n2': 100, 'n3': 25}\n",
            "0.360073 (0.277929) with: {'batch_size': 100, 'epochs': 10, 'n1': 200, 'n2': 100, 'n3': 50}\n",
            "0.597283 (0.080275) with: {'batch_size': 100, 'epochs': 10, 'n1': 200, 'n2': 100, 'n3': 75}\n",
            "0.557305 (0.067845) with: {'batch_size': 100, 'epochs': 10, 'n1': 200, 'n2': 150, 'n3': 25}\n",
            "0.614150 (0.082668) with: {'batch_size': 100, 'epochs': 10, 'n1': 200, 'n2': 150, 'n3': 50}\n",
            "0.647741 (0.060697) with: {'batch_size': 100, 'epochs': 10, 'n1': 200, 'n2': 150, 'n3': 75}\n",
            "0.011942 (0.247287) with: {'batch_size': 100, 'epochs': 10, 'n1': 300, 'n2': 50, 'n3': 25}\n",
            "0.416436 (0.115230) with: {'batch_size': 100, 'epochs': 10, 'n1': 300, 'n2': 50, 'n3': 50}\n",
            "0.521931 (0.137594) with: {'batch_size': 100, 'epochs': 10, 'n1': 300, 'n2': 50, 'n3': 75}\n",
            "0.573007 (0.062601) with: {'batch_size': 100, 'epochs': 10, 'n1': 300, 'n2': 100, 'n3': 25}\n",
            "0.572129 (0.102837) with: {'batch_size': 100, 'epochs': 10, 'n1': 300, 'n2': 100, 'n3': 50}\n",
            "0.646740 (0.046172) with: {'batch_size': 100, 'epochs': 10, 'n1': 300, 'n2': 100, 'n3': 75}\n",
            "0.605532 (0.018419) with: {'batch_size': 100, 'epochs': 10, 'n1': 300, 'n2': 150, 'n3': 25}\n",
            "0.684652 (0.059214) with: {'batch_size': 100, 'epochs': 10, 'n1': 300, 'n2': 150, 'n3': 50}\n",
            "0.684266 (0.058442) with: {'batch_size': 100, 'epochs': 10, 'n1': 300, 'n2': 150, 'n3': 75}\n",
            "-0.510597 (0.079377) with: {'batch_size': 100, 'epochs': 15, 'n1': 100, 'n2': 50, 'n3': 25}\n",
            "0.168732 (0.178832) with: {'batch_size': 100, 'epochs': 15, 'n1': 100, 'n2': 50, 'n3': 50}\n",
            "0.490142 (0.092778) with: {'batch_size': 100, 'epochs': 15, 'n1': 100, 'n2': 50, 'n3': 75}\n",
            "0.408512 (0.056886) with: {'batch_size': 100, 'epochs': 15, 'n1': 100, 'n2': 100, 'n3': 25}\n",
            "0.581613 (0.077019) with: {'batch_size': 100, 'epochs': 15, 'n1': 100, 'n2': 100, 'n3': 50}\n",
            "0.601275 (0.046194) with: {'batch_size': 100, 'epochs': 15, 'n1': 100, 'n2': 100, 'n3': 75}\n",
            "0.663841 (0.058919) with: {'batch_size': 100, 'epochs': 15, 'n1': 100, 'n2': 150, 'n3': 25}\n",
            "0.623310 (0.073961) with: {'batch_size': 100, 'epochs': 15, 'n1': 100, 'n2': 150, 'n3': 50}\n",
            "0.667295 (0.058245) with: {'batch_size': 100, 'epochs': 15, 'n1': 100, 'n2': 150, 'n3': 75}\n",
            "0.446188 (0.091055) with: {'batch_size': 100, 'epochs': 15, 'n1': 200, 'n2': 50, 'n3': 25}\n",
            "0.578023 (0.122219) with: {'batch_size': 100, 'epochs': 15, 'n1': 200, 'n2': 50, 'n3': 50}\n",
            "0.583929 (0.150867) with: {'batch_size': 100, 'epochs': 15, 'n1': 200, 'n2': 50, 'n3': 75}\n",
            "0.638602 (0.043393) with: {'batch_size': 100, 'epochs': 15, 'n1': 200, 'n2': 100, 'n3': 25}\n",
            "0.705290 (0.034746) with: {'batch_size': 100, 'epochs': 15, 'n1': 200, 'n2': 100, 'n3': 50}\n",
            "0.708904 (0.077301) with: {'batch_size': 100, 'epochs': 15, 'n1': 200, 'n2': 100, 'n3': 75}\n",
            "0.699935 (0.049934) with: {'batch_size': 100, 'epochs': 15, 'n1': 200, 'n2': 150, 'n3': 25}\n",
            "0.724979 (0.056049) with: {'batch_size': 100, 'epochs': 15, 'n1': 200, 'n2': 150, 'n3': 50}\n",
            "0.756422 (0.029091) with: {'batch_size': 100, 'epochs': 15, 'n1': 200, 'n2': 150, 'n3': 75}\n",
            "0.513942 (0.237157) with: {'batch_size': 100, 'epochs': 15, 'n1': 300, 'n2': 50, 'n3': 25}\n",
            "0.699318 (0.036657) with: {'batch_size': 100, 'epochs': 15, 'n1': 300, 'n2': 50, 'n3': 50}\n",
            "0.680816 (0.057292) with: {'batch_size': 100, 'epochs': 15, 'n1': 300, 'n2': 50, 'n3': 75}\n",
            "0.726626 (0.044754) with: {'batch_size': 100, 'epochs': 15, 'n1': 300, 'n2': 100, 'n3': 25}\n",
            "0.738027 (0.032319) with: {'batch_size': 100, 'epochs': 15, 'n1': 300, 'n2': 100, 'n3': 50}\n",
            "0.753704 (0.022912) with: {'batch_size': 100, 'epochs': 15, 'n1': 300, 'n2': 100, 'n3': 75}\n",
            "0.748631 (0.058837) with: {'batch_size': 100, 'epochs': 15, 'n1': 300, 'n2': 150, 'n3': 25}\n",
            "0.768963 (0.039667) with: {'batch_size': 100, 'epochs': 15, 'n1': 300, 'n2': 150, 'n3': 50}\n",
            "0.784479 (0.037218) with: {'batch_size': 100, 'epochs': 15, 'n1': 300, 'n2': 150, 'n3': 75}\n",
            "0.445966 (0.205470) with: {'batch_size': 100, 'epochs': 20, 'n1': 100, 'n2': 50, 'n3': 25}\n",
            "0.590280 (0.066102) with: {'batch_size': 100, 'epochs': 20, 'n1': 100, 'n2': 50, 'n3': 50}\n",
            "0.652068 (0.054738) with: {'batch_size': 100, 'epochs': 20, 'n1': 100, 'n2': 50, 'n3': 75}\n",
            "0.668819 (0.025555) with: {'batch_size': 100, 'epochs': 20, 'n1': 100, 'n2': 100, 'n3': 25}\n",
            "0.709881 (0.079722) with: {'batch_size': 100, 'epochs': 20, 'n1': 100, 'n2': 100, 'n3': 50}\n",
            "0.721228 (0.028798) with: {'batch_size': 100, 'epochs': 20, 'n1': 100, 'n2': 100, 'n3': 75}\n",
            "0.684961 (0.049003) with: {'batch_size': 100, 'epochs': 20, 'n1': 100, 'n2': 150, 'n3': 25}\n",
            "0.749993 (0.018422) with: {'batch_size': 100, 'epochs': 20, 'n1': 100, 'n2': 150, 'n3': 50}\n",
            "0.740220 (0.049055) with: {'batch_size': 100, 'epochs': 20, 'n1': 100, 'n2': 150, 'n3': 75}\n",
            "0.574918 (0.063114) with: {'batch_size': 100, 'epochs': 20, 'n1': 200, 'n2': 50, 'n3': 25}\n",
            "0.735881 (0.045007) with: {'batch_size': 100, 'epochs': 20, 'n1': 200, 'n2': 50, 'n3': 50}\n",
            "0.734002 (0.051866) with: {'batch_size': 100, 'epochs': 20, 'n1': 200, 'n2': 50, 'n3': 75}\n",
            "0.737326 (0.031991) with: {'batch_size': 100, 'epochs': 20, 'n1': 200, 'n2': 100, 'n3': 25}\n",
            "0.745022 (0.060000) with: {'batch_size': 100, 'epochs': 20, 'n1': 200, 'n2': 100, 'n3': 50}\n",
            "0.776182 (0.045694) with: {'batch_size': 100, 'epochs': 20, 'n1': 200, 'n2': 100, 'n3': 75}\n",
            "0.744366 (0.053375) with: {'batch_size': 100, 'epochs': 20, 'n1': 200, 'n2': 150, 'n3': 25}\n",
            "0.781135 (0.030523) with: {'batch_size': 100, 'epochs': 20, 'n1': 200, 'n2': 150, 'n3': 50}\n",
            "0.806302 (0.031851) with: {'batch_size': 100, 'epochs': 20, 'n1': 200, 'n2': 150, 'n3': 75}\n",
            "0.743726 (0.034132) with: {'batch_size': 100, 'epochs': 20, 'n1': 300, 'n2': 50, 'n3': 25}\n",
            "0.737767 (0.046246) with: {'batch_size': 100, 'epochs': 20, 'n1': 300, 'n2': 50, 'n3': 50}\n",
            "0.745002 (0.046720) with: {'batch_size': 100, 'epochs': 20, 'n1': 300, 'n2': 50, 'n3': 75}\n",
            "0.755175 (0.038560) with: {'batch_size': 100, 'epochs': 20, 'n1': 300, 'n2': 100, 'n3': 25}\n",
            "0.784747 (0.038060) with: {'batch_size': 100, 'epochs': 20, 'n1': 300, 'n2': 100, 'n3': 50}\n",
            "0.771689 (0.038853) with: {'batch_size': 100, 'epochs': 20, 'n1': 300, 'n2': 100, 'n3': 75}\n",
            "0.732147 (0.087997) with: {'batch_size': 100, 'epochs': 20, 'n1': 300, 'n2': 150, 'n3': 25}\n",
            "0.794944 (0.025682) with: {'batch_size': 100, 'epochs': 20, 'n1': 300, 'n2': 150, 'n3': 50}\n",
            "0.822614 (0.036701) with: {'batch_size': 100, 'epochs': 20, 'n1': 300, 'n2': 150, 'n3': 75}\n",
            "-2.564432 (0.198756) with: {'batch_size': 128, 'epochs': 10, 'n1': 100, 'n2': 50, 'n3': 25}\n",
            "-1.105354 (0.340581) with: {'batch_size': 128, 'epochs': 10, 'n1': 100, 'n2': 50, 'n3': 50}\n",
            "-0.445268 (0.302985) with: {'batch_size': 128, 'epochs': 10, 'n1': 100, 'n2': 50, 'n3': 75}\n",
            "-0.388734 (0.266900) with: {'batch_size': 128, 'epochs': 10, 'n1': 100, 'n2': 100, 'n3': 25}\n",
            "0.103190 (0.199650) with: {'batch_size': 128, 'epochs': 10, 'n1': 100, 'n2': 100, 'n3': 50}\n",
            "0.425574 (0.130550) with: {'batch_size': 128, 'epochs': 10, 'n1': 100, 'n2': 100, 'n3': 75}\n",
            "-0.140132 (0.225529) with: {'batch_size': 128, 'epochs': 10, 'n1': 100, 'n2': 150, 'n3': 25}\n",
            "0.373609 (0.039458) with: {'batch_size': 128, 'epochs': 10, 'n1': 100, 'n2': 150, 'n3': 50}\n",
            "0.431602 (0.114962) with: {'batch_size': 128, 'epochs': 10, 'n1': 100, 'n2': 150, 'n3': 75}\n",
            "-0.590673 (0.346370) with: {'batch_size': 128, 'epochs': 10, 'n1': 200, 'n2': 50, 'n3': 25}\n",
            "0.269682 (0.175914) with: {'batch_size': 128, 'epochs': 10, 'n1': 200, 'n2': 50, 'n3': 50}\n",
            "0.406054 (0.158874) with: {'batch_size': 128, 'epochs': 10, 'n1': 200, 'n2': 50, 'n3': 75}\n",
            "0.320568 (0.119161) with: {'batch_size': 128, 'epochs': 10, 'n1': 200, 'n2': 100, 'n3': 25}\n",
            "0.482613 (0.071512) with: {'batch_size': 128, 'epochs': 10, 'n1': 200, 'n2': 100, 'n3': 50}\n",
            "0.538643 (0.039168) with: {'batch_size': 128, 'epochs': 10, 'n1': 200, 'n2': 100, 'n3': 75}\n",
            "0.523102 (0.063671) with: {'batch_size': 128, 'epochs': 10, 'n1': 200, 'n2': 150, 'n3': 25}\n",
            "0.557593 (0.120865) with: {'batch_size': 128, 'epochs': 10, 'n1': 200, 'n2': 150, 'n3': 50}\n",
            "0.600042 (0.076180) with: {'batch_size': 128, 'epochs': 10, 'n1': 200, 'n2': 150, 'n3': 75}\n",
            "0.103120 (0.107332) with: {'batch_size': 128, 'epochs': 10, 'n1': 300, 'n2': 50, 'n3': 25}\n",
            "0.223865 (0.378486) with: {'batch_size': 128, 'epochs': 10, 'n1': 300, 'n2': 50, 'n3': 50}\n",
            "0.354729 (0.198954) with: {'batch_size': 128, 'epochs': 10, 'n1': 300, 'n2': 50, 'n3': 75}\n",
            "0.469434 (0.147672) with: {'batch_size': 128, 'epochs': 10, 'n1': 300, 'n2': 100, 'n3': 25}\n",
            "0.559296 (0.089737) with: {'batch_size': 128, 'epochs': 10, 'n1': 300, 'n2': 100, 'n3': 50}\n",
            "0.630116 (0.055298) with: {'batch_size': 128, 'epochs': 10, 'n1': 300, 'n2': 100, 'n3': 75}\n",
            "0.597589 (0.081095) with: {'batch_size': 128, 'epochs': 10, 'n1': 300, 'n2': 150, 'n3': 25}\n",
            "0.635100 (0.069060) with: {'batch_size': 128, 'epochs': 10, 'n1': 300, 'n2': 150, 'n3': 50}\n",
            "0.696513 (0.040078) with: {'batch_size': 128, 'epochs': 10, 'n1': 300, 'n2': 150, 'n3': 75}\n",
            "-0.203426 (0.106050) with: {'batch_size': 128, 'epochs': 15, 'n1': 100, 'n2': 50, 'n3': 25}\n",
            "0.337502 (0.060124) with: {'batch_size': 128, 'epochs': 15, 'n1': 100, 'n2': 50, 'n3': 50}\n",
            "0.411603 (0.086980) with: {'batch_size': 128, 'epochs': 15, 'n1': 100, 'n2': 50, 'n3': 75}\n",
            "0.222794 (0.248640) with: {'batch_size': 128, 'epochs': 15, 'n1': 100, 'n2': 100, 'n3': 25}\n",
            "0.581317 (0.051223) with: {'batch_size': 128, 'epochs': 15, 'n1': 100, 'n2': 100, 'n3': 50}\n",
            "0.621627 (0.059170) with: {'batch_size': 128, 'epochs': 15, 'n1': 100, 'n2': 100, 'n3': 75}\n",
            "0.535422 (0.129886) with: {'batch_size': 128, 'epochs': 15, 'n1': 100, 'n2': 150, 'n3': 25}\n",
            "0.581417 (0.063430) with: {'batch_size': 128, 'epochs': 15, 'n1': 100, 'n2': 150, 'n3': 50}\n",
            "0.646281 (0.048557) with: {'batch_size': 128, 'epochs': 15, 'n1': 100, 'n2': 150, 'n3': 75}\n",
            "0.502495 (0.100770) with: {'batch_size': 128, 'epochs': 15, 'n1': 200, 'n2': 50, 'n3': 25}\n",
            "0.540331 (0.069655) with: {'batch_size': 128, 'epochs': 15, 'n1': 200, 'n2': 50, 'n3': 50}\n",
            "0.556069 (0.119404) with: {'batch_size': 128, 'epochs': 15, 'n1': 200, 'n2': 50, 'n3': 75}\n",
            "0.556996 (0.127773) with: {'batch_size': 128, 'epochs': 15, 'n1': 200, 'n2': 100, 'n3': 25}\n",
            "0.712135 (0.038903) with: {'batch_size': 128, 'epochs': 15, 'n1': 200, 'n2': 100, 'n3': 50}\n",
            "0.693102 (0.033615) with: {'batch_size': 128, 'epochs': 15, 'n1': 200, 'n2': 100, 'n3': 75}\n",
            "0.651766 (0.014309) with: {'batch_size': 128, 'epochs': 15, 'n1': 200, 'n2': 150, 'n3': 25}\n",
            "0.717211 (0.039371) with: {'batch_size': 128, 'epochs': 15, 'n1': 200, 'n2': 150, 'n3': 50}\n",
            "0.716404 (0.072826) with: {'batch_size': 128, 'epochs': 15, 'n1': 200, 'n2': 150, 'n3': 75}\n",
            "0.521058 (0.148975) with: {'batch_size': 128, 'epochs': 15, 'n1': 300, 'n2': 50, 'n3': 25}\n",
            "0.610213 (0.067391) with: {'batch_size': 128, 'epochs': 15, 'n1': 300, 'n2': 50, 'n3': 50}\n",
            "0.652802 (0.072095) with: {'batch_size': 128, 'epochs': 15, 'n1': 300, 'n2': 50, 'n3': 75}\n",
            "0.676235 (0.057868) with: {'batch_size': 128, 'epochs': 15, 'n1': 300, 'n2': 100, 'n3': 25}\n",
            "0.719075 (0.042754) with: {'batch_size': 128, 'epochs': 15, 'n1': 300, 'n2': 100, 'n3': 50}\n",
            "0.720914 (0.042080) with: {'batch_size': 128, 'epochs': 15, 'n1': 300, 'n2': 100, 'n3': 75}\n",
            "0.715275 (0.058017) with: {'batch_size': 128, 'epochs': 15, 'n1': 300, 'n2': 150, 'n3': 25}\n",
            "0.715672 (0.027181) with: {'batch_size': 128, 'epochs': 15, 'n1': 300, 'n2': 150, 'n3': 50}\n",
            "0.687055 (0.059544) with: {'batch_size': 128, 'epochs': 15, 'n1': 300, 'n2': 150, 'n3': 75}\n",
            "0.040464 (0.234574) with: {'batch_size': 128, 'epochs': 20, 'n1': 100, 'n2': 50, 'n3': 25}\n",
            "0.514933 (0.071455) with: {'batch_size': 128, 'epochs': 20, 'n1': 100, 'n2': 50, 'n3': 50}\n",
            "0.620387 (0.059319) with: {'batch_size': 128, 'epochs': 20, 'n1': 100, 'n2': 50, 'n3': 75}\n",
            "0.655336 (0.074779) with: {'batch_size': 128, 'epochs': 20, 'n1': 100, 'n2': 100, 'n3': 25}\n",
            "0.696824 (0.037628) with: {'batch_size': 128, 'epochs': 20, 'n1': 100, 'n2': 100, 'n3': 50}\n",
            "0.685697 (0.050641) with: {'batch_size': 128, 'epochs': 20, 'n1': 100, 'n2': 100, 'n3': 75}\n",
            "0.687950 (0.049903) with: {'batch_size': 128, 'epochs': 20, 'n1': 100, 'n2': 150, 'n3': 25}\n",
            "0.694046 (0.051363) with: {'batch_size': 128, 'epochs': 20, 'n1': 100, 'n2': 150, 'n3': 50}\n",
            "0.677214 (0.061143) with: {'batch_size': 128, 'epochs': 20, 'n1': 100, 'n2': 150, 'n3': 75}\n",
            "0.597162 (0.092162) with: {'batch_size': 128, 'epochs': 20, 'n1': 200, 'n2': 50, 'n3': 25}\n",
            "0.660581 (0.071515) with: {'batch_size': 128, 'epochs': 20, 'n1': 200, 'n2': 50, 'n3': 50}\n",
            "0.712560 (0.049686) with: {'batch_size': 128, 'epochs': 20, 'n1': 200, 'n2': 50, 'n3': 75}\n",
            "0.732330 (0.052147) with: {'batch_size': 128, 'epochs': 20, 'n1': 200, 'n2': 100, 'n3': 25}\n",
            "0.727304 (0.027228) with: {'batch_size': 128, 'epochs': 20, 'n1': 200, 'n2': 100, 'n3': 50}\n",
            "0.751265 (0.055299) with: {'batch_size': 128, 'epochs': 20, 'n1': 200, 'n2': 100, 'n3': 75}\n",
            "0.748400 (0.041101) with: {'batch_size': 128, 'epochs': 20, 'n1': 200, 'n2': 150, 'n3': 25}\n",
            "0.739977 (0.020436) with: {'batch_size': 128, 'epochs': 20, 'n1': 200, 'n2': 150, 'n3': 50}\n",
            "0.764391 (0.061407) with: {'batch_size': 128, 'epochs': 20, 'n1': 200, 'n2': 150, 'n3': 75}\n",
            "0.703933 (0.037936) with: {'batch_size': 128, 'epochs': 20, 'n1': 300, 'n2': 50, 'n3': 25}\n",
            "0.721325 (0.019126) with: {'batch_size': 128, 'epochs': 20, 'n1': 300, 'n2': 50, 'n3': 50}\n",
            "0.670581 (0.078094) with: {'batch_size': 128, 'epochs': 20, 'n1': 300, 'n2': 50, 'n3': 75}\n",
            "0.728198 (0.054989) with: {'batch_size': 128, 'epochs': 20, 'n1': 300, 'n2': 100, 'n3': 25}\n",
            "0.749410 (0.043212) with: {'batch_size': 128, 'epochs': 20, 'n1': 300, 'n2': 100, 'n3': 50}\n",
            "0.757990 (0.056215) with: {'batch_size': 128, 'epochs': 20, 'n1': 300, 'n2': 100, 'n3': 75}\n",
            "0.760846 (0.021072) with: {'batch_size': 128, 'epochs': 20, 'n1': 300, 'n2': 150, 'n3': 25}\n",
            "0.768616 (0.046037) with: {'batch_size': 128, 'epochs': 20, 'n1': 300, 'n2': 150, 'n3': 50}\n",
            "0.738486 (0.034285) with: {'batch_size': 128, 'epochs': 20, 'n1': 300, 'n2': 150, 'n3': 75}\n"
          ]
        }
      ]
    },
    {
      "cell_type": "markdown",
      "source": [
        "#**Outcomes:**"
      ],
      "metadata": {
        "id": "E0_k5pWvSBvL"
      }
    },
    {
      "cell_type": "markdown",
      "source": [
        "1. Original model gives \"loss: 23.1282\" and \"mae: 3.3671\".\n",
        "2. Model with initializer (he_normal) and regularizer (learning rate 0.01) gives \"loss: 27.3352\" and \"mae: 3.3094\".\n",
        "3. Model with dropout (dropout rate 5% in all hidden layers) gives \"loss: 25.9839\" and \"mae: 3.3920\".\n",
        "4. Model with early stopping after 3 patience gives \"loss: 19.7547\" and \"mae: 2.9738\".\n",
        "5. Model using gridsearch with batch size and epochs tuning gives Best: 0.781637 using {'batch_size': 100, 'epochs': 20}.\n",
        "6. Model using gridsearch with training optimization algorithm tuning gives Best: 0.750789 using {'optimizer': 'Adagrad'}.\n",
        "7. Model using gridsearch with neuron activation function tuning gives Best: 0.813726 using {'model__activation': 'relu'}.\n",
        "8. Model using gridsearch with number of neurons tuning gives Best: 0.822614 using {'batch_size': 100, 'epochs': 20, 'n1': 300, 'n2': 150, 'n3': 75}"
      ],
      "metadata": {
        "id": "7oTQqeEhSFbG"
      }
    },
    {
      "cell_type": "markdown",
      "source": [
        "#**Conclusion:**"
      ],
      "metadata": {
        "id": "ownId3CQUS1u"
      }
    },
    {
      "cell_type": "markdown",
      "source": [
        "Original model does not has significant improve after applying initializer, regularizer, and dropout. However, Early stopping does improve the model performance.\n",
        "\n",
        "On the other hand, the gridsearch gives the best performance when batch size = 100, epochs = 20, optimizer = Adagrad, neuron activation function = relu, and neurons for hidden layers = 300, 150, and 75."
      ],
      "metadata": {
        "id": "7c2FPinKUWei"
      }
    }
  ],
  "metadata": {
    "colab": {
      "provenance": []
    },
    "kernelspec": {
      "display_name": "Python 3",
      "name": "python3"
    },
    "language_info": {
      "name": "python"
    }
  },
  "nbformat": 4,
  "nbformat_minor": 0
}