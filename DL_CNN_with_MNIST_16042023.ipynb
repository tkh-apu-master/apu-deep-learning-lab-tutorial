{
  "nbformat": 4,
  "nbformat_minor": 0,
  "metadata": {
    "colab": {
      "provenance": []
    },
    "kernelspec": {
      "name": "python3",
      "display_name": "Python 3"
    },
    "language_info": {
      "name": "python"
    }
  },
  "cells": [
    {
      "cell_type": "markdown",
      "source": [
        "MNIST Digits classification Dataset\n",
        "\n",
        "This is a dataset of 60,000 28*28 grayscale images of the 10 digits, along with a test set of 10,000 images. More inf can be found at the "
      ],
      "metadata": {
        "id": "Dw4pLoBOG35K"
      }
    },
    {
      "cell_type": "code",
      "execution_count": null,
      "metadata": {
        "colab": {
          "base_uri": "https://localhost:8080/"
        },
        "id": "omNAE-IGEBBz",
        "outputId": "e549410d-5836-4b57-b131-23cd583bf35b"
      },
      "outputs": [
        {
          "output_type": "stream",
          "name": "stdout",
          "text": [
            "Downloading data from https://storage.googleapis.com/tensorflow/tf-keras-datasets/mnist.npz\n",
            "11490434/11490434 [==============================] - 0s 0us/step\n"
          ]
        }
      ],
      "source": [
        "import keras\n",
        "from keras.models import Sequential\n",
        "from keras.layers import Dense, Conv2D, MaxPooling2D, Flatten, Dropout\n",
        "from keras.utils import to_categorical\n",
        "from keras.datasets import mnist\n",
        "\n",
        "# Loading the dataset\n",
        "(X_train, y_train), (X_test, y_test) = mnist.load_data()"
      ]
    },
    {
      "cell_type": "code",
      "source": [
        "print('X_train shape', X_train.shape)\n",
        "print('X_test shape', X_test.shape)\n",
        "print('y_train shape', y_train.shape)\n",
        "print('y_test shape', y_test.shape)"
      ],
      "metadata": {
        "colab": {
          "base_uri": "https://localhost:8080/"
        },
        "id": "4cIHpS-jHduD",
        "outputId": "32fd1afd-dc22-437e-8d55-476c160ed27c"
      },
      "execution_count": null,
      "outputs": [
        {
          "output_type": "stream",
          "name": "stdout",
          "text": [
            "X_train shape (60000, 28, 28)\n",
            "X_test shape (10000, 28, 28)\n",
            "y_train shape (60000,)\n",
            "y_test shape (10000,)\n"
          ]
        }
      ]
    },
    {
      "cell_type": "code",
      "source": [
        "# Convert from integers to floats.\n",
        "X_train = X_train.astype('float32')\n",
        "X_test = X_test.astype('float32')\n",
        "\n",
        "# Normalizing the data to help with the encoding.\n",
        "X_train /= 255\n",
        "X_test /= 255\n",
        "\n",
        "# One-hot encoding\n",
        "Y_train = to_categorical(y_train)\n",
        "Y_test = to_categorical(y_test)\n"
      ],
      "metadata": {
        "id": "t7DFhcfuIAiz"
      },
      "execution_count": null,
      "outputs": []
    },
    {
      "cell_type": "code",
      "source": [
        "y_train"
      ],
      "metadata": {
        "colab": {
          "base_uri": "https://localhost:8080/"
        },
        "id": "fzdYL0asJtiN",
        "outputId": "b7b56a2a-4389-4a8a-bf4b-439039cd1597"
      },
      "execution_count": null,
      "outputs": [
        {
          "output_type": "execute_result",
          "data": {
            "text/plain": [
              "array([5, 0, 4, ..., 5, 6, 8], dtype=uint8)"
            ]
          },
          "metadata": {},
          "execution_count": 4
        }
      ]
    },
    {
      "cell_type": "code",
      "source": [
        "Y_train"
      ],
      "metadata": {
        "colab": {
          "base_uri": "https://localhost:8080/"
        },
        "id": "7CA607bvJuJv",
        "outputId": "94e43840-a021-4575-9224-ec8ee3521472"
      },
      "execution_count": null,
      "outputs": [
        {
          "output_type": "execute_result",
          "data": {
            "text/plain": [
              "array([[0., 0., 0., ..., 0., 0., 0.],\n",
              "       [1., 0., 0., ..., 0., 0., 0.],\n",
              "       [0., 0., 0., ..., 0., 0., 0.],\n",
              "       ...,\n",
              "       [0., 0., 0., ..., 0., 0., 0.],\n",
              "       [0., 0., 0., ..., 0., 0., 0.],\n",
              "       [0., 0., 0., ..., 0., 1., 0.]], dtype=float32)"
            ]
          },
          "metadata": {},
          "execution_count": 5
        }
      ]
    },
    {
      "cell_type": "markdown",
      "source": [
        "Main Part:\n",
        "\n",
        "The MNIST with 2 convolutional layers:\n",
        "\n",
        "16 (3x3) convolutional filters\n",
        "(2x2) max pooling \n",
        "32 (3x3) convolutional filters\n",
        "(2,2) max pooling \n",
        "1 fully connected layer with 64 neurons (Flatten)\n",
        "\n",
        "dropout rate = 0.5\n",
        "\n",
        "softmax output layer"
      ],
      "metadata": {
        "id": "q9iaZYaMJyXt"
      }
    },
    {
      "cell_type": "code",
      "source": [
        "# Step 2 Model\n",
        "# 28,28,1. The 1 means non color image, just black and white. You have to change to 3 if it's a color image.\n",
        "\n",
        "L1 = 16\n",
        "L2 = 32\n",
        "L3 = 64\n",
        "\n",
        "model = Sequential()\n",
        "model.add(Conv2D(L1,(3,3),activation='relu',input_shape=(28,28,1),padding='same'))\n",
        "model.add(MaxPooling2D(2,2))\n",
        "model.add(Conv2D(L2,(3,3),activation='relu',padding='same'))\n",
        "model.add(MaxPooling2D((2,2)))\n",
        "model.add(Flatten())\n",
        "model.add(Dense(L3,activation='relu'))\n",
        "model.add(Dropout(rate=0.5))\n",
        "model.add(Dense(10,activation='softmax'))\n"
      ],
      "metadata": {
        "id": "0s14zZPCJx60"
      },
      "execution_count": null,
      "outputs": []
    },
    {
      "cell_type": "code",
      "source": [
        "model.compile(loss='categorical_crossentropy',optimizer='adam',metrics=['accuracy'])"
      ],
      "metadata": {
        "id": "9KX6apkpMtTr"
      },
      "execution_count": null,
      "outputs": []
    },
    {
      "cell_type": "code",
      "source": [
        "history = model.fit(X_train,Y_train,epochs=30,batch_size=100,validation_data=(X_test,Y_test))"
      ],
      "metadata": {
        "colab": {
          "base_uri": "https://localhost:8080/"
        },
        "id": "sSGtN3qEM06m",
        "outputId": "9f52ccae-e535-4cea-b0d6-2b424e3e2c9e"
      },
      "execution_count": null,
      "outputs": [
        {
          "output_type": "stream",
          "name": "stdout",
          "text": [
            "Epoch 1/30\n",
            "600/600 [==============================] - 38s 61ms/step - loss: 0.4253 - accuracy: 0.8689 - val_loss: 0.0918 - val_accuracy: 0.9704\n",
            "Epoch 2/30\n",
            "600/600 [==============================] - 28s 47ms/step - loss: 0.1654 - accuracy: 0.9506 - val_loss: 0.0623 - val_accuracy: 0.9795\n",
            "Epoch 3/30\n",
            "600/600 [==============================] - 28s 47ms/step - loss: 0.1277 - accuracy: 0.9621 - val_loss: 0.0467 - val_accuracy: 0.9837\n",
            "Epoch 4/30\n",
            "600/600 [==============================] - 28s 46ms/step - loss: 0.1066 - accuracy: 0.9690 - val_loss: 0.0391 - val_accuracy: 0.9867\n",
            "Epoch 5/30\n",
            "600/600 [==============================] - 28s 47ms/step - loss: 0.0937 - accuracy: 0.9713 - val_loss: 0.0361 - val_accuracy: 0.9871\n",
            "Epoch 6/30\n",
            "600/600 [==============================] - 28s 46ms/step - loss: 0.0854 - accuracy: 0.9733 - val_loss: 0.0365 - val_accuracy: 0.9883\n",
            "Epoch 7/30\n",
            "600/600 [==============================] - 27s 46ms/step - loss: 0.0749 - accuracy: 0.9765 - val_loss: 0.0330 - val_accuracy: 0.9890\n",
            "Epoch 8/30\n",
            "600/600 [==============================] - 28s 47ms/step - loss: 0.0704 - accuracy: 0.9782 - val_loss: 0.0303 - val_accuracy: 0.9891\n",
            "Epoch 9/30\n",
            "600/600 [==============================] - 27s 46ms/step - loss: 0.0658 - accuracy: 0.9799 - val_loss: 0.0304 - val_accuracy: 0.9891\n",
            "Epoch 10/30\n",
            "600/600 [==============================] - 27s 46ms/step - loss: 0.0588 - accuracy: 0.9816 - val_loss: 0.0275 - val_accuracy: 0.9909\n",
            "Epoch 11/30\n",
            "600/600 [==============================] - 28s 47ms/step - loss: 0.0551 - accuracy: 0.9828 - val_loss: 0.0317 - val_accuracy: 0.9893\n",
            "Epoch 12/30\n",
            "600/600 [==============================] - 27s 46ms/step - loss: 0.0526 - accuracy: 0.9839 - val_loss: 0.0323 - val_accuracy: 0.9891\n",
            "Epoch 13/30\n",
            "600/600 [==============================] - 27s 46ms/step - loss: 0.0488 - accuracy: 0.9847 - val_loss: 0.0312 - val_accuracy: 0.9895\n",
            "Epoch 14/30\n",
            "600/600 [==============================] - 28s 47ms/step - loss: 0.0483 - accuracy: 0.9841 - val_loss: 0.0331 - val_accuracy: 0.9882\n",
            "Epoch 15/30\n",
            "600/600 [==============================] - 27s 46ms/step - loss: 0.0434 - accuracy: 0.9860 - val_loss: 0.0303 - val_accuracy: 0.9900\n",
            "Epoch 16/30\n",
            "600/600 [==============================] - 27s 46ms/step - loss: 0.0422 - accuracy: 0.9865 - val_loss: 0.0284 - val_accuracy: 0.9908\n",
            "Epoch 17/30\n",
            "600/600 [==============================] - 28s 47ms/step - loss: 0.0410 - accuracy: 0.9866 - val_loss: 0.0272 - val_accuracy: 0.9903\n",
            "Epoch 18/30\n",
            "600/600 [==============================] - 27s 46ms/step - loss: 0.0382 - accuracy: 0.9875 - val_loss: 0.0300 - val_accuracy: 0.9901\n",
            "Epoch 19/30\n",
            "600/600 [==============================] - 27s 46ms/step - loss: 0.0360 - accuracy: 0.9883 - val_loss: 0.0306 - val_accuracy: 0.9910\n",
            "Epoch 20/30\n",
            "600/600 [==============================] - 28s 47ms/step - loss: 0.0348 - accuracy: 0.9885 - val_loss: 0.0299 - val_accuracy: 0.9915\n",
            "Epoch 21/30\n",
            "600/600 [==============================] - 27s 46ms/step - loss: 0.0338 - accuracy: 0.9889 - val_loss: 0.0328 - val_accuracy: 0.9902\n",
            "Epoch 22/30\n",
            "600/600 [==============================] - 27s 46ms/step - loss: 0.0297 - accuracy: 0.9902 - val_loss: 0.0277 - val_accuracy: 0.9922\n",
            "Epoch 23/30\n",
            "600/600 [==============================] - 28s 47ms/step - loss: 0.0334 - accuracy: 0.9883 - val_loss: 0.0307 - val_accuracy: 0.9911\n",
            "Epoch 24/30\n",
            "600/600 [==============================] - 28s 46ms/step - loss: 0.0289 - accuracy: 0.9901 - val_loss: 0.0243 - val_accuracy: 0.9923\n",
            "Epoch 25/30\n",
            "600/600 [==============================] - 28s 46ms/step - loss: 0.0278 - accuracy: 0.9906 - val_loss: 0.0285 - val_accuracy: 0.9917\n",
            "Epoch 26/30\n",
            "600/600 [==============================] - 28s 46ms/step - loss: 0.0269 - accuracy: 0.9907 - val_loss: 0.0305 - val_accuracy: 0.9912\n",
            "Epoch 27/30\n",
            "600/600 [==============================] - 28s 46ms/step - loss: 0.0256 - accuracy: 0.9907 - val_loss: 0.0303 - val_accuracy: 0.9912\n",
            "Epoch 28/30\n",
            "600/600 [==============================] - 27s 46ms/step - loss: 0.0258 - accuracy: 0.9909 - val_loss: 0.0286 - val_accuracy: 0.9913\n",
            "Epoch 29/30\n",
            "600/600 [==============================] - 28s 46ms/step - loss: 0.0237 - accuracy: 0.9915 - val_loss: 0.0322 - val_accuracy: 0.9908\n",
            "Epoch 30/30\n",
            "600/600 [==============================] - 28s 47ms/step - loss: 0.0243 - accuracy: 0.9915 - val_loss: 0.0300 - val_accuracy: 0.9913\n"
          ]
        }
      ]
    },
    {
      "cell_type": "code",
      "source": [
        "# Visualisations\n",
        "\n",
        "import matplotlib.pyplot as plt\n",
        "\n",
        "acc2 = history.history['accuracy']\n",
        "val_acc = history.history['val_accuracy']\n",
        "loss2 = history.history['loss']\n",
        "val_loss = history.history['val_loss']\n",
        "\n",
        "epochs = range(1,len(acc2)+1)\n",
        "\n",
        "# 'b' and 'r' are blue and red color\n",
        "\n",
        "plt.plot(epochs, acc2, 'b', label='Train Accuracy')\n",
        "plt.plot(epochs, val_acc, 'r', label='Test Accuracy')\n",
        "plt.legend()\n",
        "plt.figure()\n",
        "\n",
        "plt.plot(epochs, loss2, 'b', label = 'Train loss')\n",
        "plt.plot(epochs, val_loss, 'r', label = 'Test loss')\n",
        "plt.legend()\n",
        "plt.show()"
      ],
      "metadata": {
        "colab": {
          "base_uri": "https://localhost:8080/",
          "height": 843
        },
        "id": "kcrAQ4cwO-rB",
        "outputId": "7080934b-0aab-4250-f5d6-5f4d6667f2b6"
      },
      "execution_count": null,
      "outputs": [
        {
          "output_type": "display_data",
          "data": {
            "text/plain": [
              "<Figure size 640x480 with 1 Axes>"
            ],
            "image/png": "[encoded data removed]"
          },
          "metadata": {}
        },
        {
          "output_type": "display_data",
          "data": {
            "text/plain": [
              "<Figure size 640x480 with 1 Axes>"
            ],
            "image/png": "[encoded data removed]"
          },
          "metadata": {}
        }
      ]
    }
  ]
}