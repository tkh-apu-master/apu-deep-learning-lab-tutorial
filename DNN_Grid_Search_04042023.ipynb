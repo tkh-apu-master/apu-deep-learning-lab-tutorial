{
  "nbformat": 4,
  "nbformat_minor": 0,
  "metadata": {
    "colab": {
      "provenance": []
    },
    "kernelspec": {
      "name": "python3",
      "display_name": "Python 3"
    },
    "language_info": {
      "name": "python"
    }
  },
  "cells": [
    {
      "cell_type": "markdown",
      "source": [
        "# MNIST Digits Classification Dataset"
      ],
      "metadata": {
        "id": "_WuGoFMQ9vkZ"
      }
    },
    {
      "cell_type": "code",
      "source": [
        "from keras.datasets import mnist\n",
        "\n",
        "# Load the dataset\n",
        "(X_train, y_train), (X_test, y_test) = mnist.load_data()\n"
      ],
      "metadata": {
        "id": "OH-x8GQW9mlq",
        "colab": {
          "base_uri": "https://localhost:8080/"
        },
        "outputId": "a6e120cb-888a-4097-a880-af55e01bcd78"
      },
      "execution_count": 1,
      "outputs": [
        {
          "output_type": "stream",
          "name": "stdout",
          "text": [
            "Downloading data from https://storage.googleapis.com/tensorflow/tf-keras-datasets/mnist.npz\n",
            "11490434/11490434 [==============================] - 0s 0us/step\n"
          ]
        }
      ]
    },
    {
      "cell_type": "code",
      "execution_count": 2,
      "metadata": {
        "colab": {
          "base_uri": "https://localhost:8080/"
        },
        "id": "GOsLuY4s9iab",
        "outputId": "401737cc-c9ad-468b-e3b5-f8ce806b2e26"
      },
      "outputs": [
        {
          "output_type": "stream",
          "name": "stdout",
          "text": [
            "X_train.shape (60000, 28, 28)\n",
            "X_test.shape (10000, 28, 28)\n",
            "y_train.shape (60000,)\n",
            "y_test.shape (10000,)\n"
          ]
        }
      ],
      "source": [
        "assert X_train.shape == (60000, 28, 28)\n",
        "assert X_test.shape == (10000, 28, 28)\n",
        "assert y_train.shape == (60000,)\n",
        "assert y_test.shape == (10000,)\n",
        "\n",
        "print(\"X_train.shape\", X_train.shape)\n",
        "print(\"X_test.shape\", X_test.shape)\n",
        "print(\"y_train.shape\", y_train.shape)\n",
        "print(\"y_test.shape\", y_test.shape)"
      ]
    },
    {
      "cell_type": "code",
      "source": [
        "# Keras imports for the dataset and building our neural network\n",
        "from keras.models import Sequential\n",
        "from keras.layers import Dense, Dropout\n",
        "from keras.utils import to_categorical # To perform one-hot encoding (Build dummy columns with the easiest way)\n",
        "\n",
        "# Flattening the images from the 28 * 28 pixels to 1 Dimensional 784 pixels\n",
        "X_train = X_train.reshape(60000, 784)\n",
        "X_test = X_test.reshape(10000, 784)\n",
        "X_train = X_train.astype('float32')\n",
        "X_test = X_test.astype('float32')\n"
      ],
      "metadata": {
        "id": "KNCtSLRS_zrE"
      },
      "execution_count": 3,
      "outputs": []
    },
    {
      "cell_type": "code",
      "source": [
        "# Normalizing the data to help with the training\n",
        "\n",
        "X_train /= 255\n",
        "X_test /= 255"
      ],
      "metadata": {
        "id": "_k5196-zJEzk"
      },
      "execution_count": 4,
      "outputs": []
    },
    {
      "cell_type": "code",
      "source": [
        "# One hot encoding\n",
        "\n",
        "Y_train = to_categorical(y_train)\n",
        "Y_test = to_categorical(y_test)\n",
        "print(\"Shape before one-hot encoding: \", y_train.shape)\n",
        "print(\"Shape after one-hot encoding: \", Y_train.shape)"
      ],
      "metadata": {
        "colab": {
          "base_uri": "https://localhost:8080/"
        },
        "id": "Q_PtScsjJLPy",
        "outputId": "43a8d172-de62-49ad-9e3f-4273b98647b9"
      },
      "execution_count": 5,
      "outputs": [
        {
          "output_type": "stream",
          "name": "stdout",
          "text": [
            "Shape before one-hot encoding:  (60000,)\n",
            "Shape after one-hot encoding:  (60000, 10)\n"
          ]
        }
      ]
    },
    {
      "cell_type": "code",
      "source": [
        "# Option 1: Use initializers and regularizers\n",
        "\n",
        "from keras import initializers\n",
        "from keras import regularizers\n",
        "\n",
        "# Option 2: Use Dropout with early stopping\n",
        "from keras.layers import Dropout\n",
        "\n",
        "# Option 3: Use EarlyStopping\n",
        "from keras.callbacks import EarlyStopping"
      ],
      "metadata": {
        "id": "jr3iGaP_SZG5"
      },
      "execution_count": 6,
      "outputs": []
    },
    {
      "cell_type": "code",
      "source": [
        "# Form NN\n",
        "# Building a linear stack of layers with the sequential model\n",
        "\n",
        "L1=100\n",
        "L2=100\n",
        "L3=100\n",
        "\n",
        "model = Sequential()\n",
        "# model.add(Dense(L1, input_dim=784,activation='relu')) # Original\n",
        "# model.add(Dense(L1, input_dim=784,activation='relu',kernel_initializer='he_normal',kernel_regularizer=regularizers.l2(0.01))) # Option 1\n",
        "model.add(Dense(L2, activation='relu'))\n",
        "model.add(Dense(L3, activation='relu'))\n",
        "# model.add(Dropout(rate=0.2)) # Option 2\n",
        "\n",
        "\n",
        "# Output layer (Softmax = multi nominal)\n",
        "model.add(Dense(10, activation='softmax'))\n"
      ],
      "metadata": {
        "id": "u-EqUTBIK7gw"
      },
      "execution_count": 7,
      "outputs": []
    },
    {
      "cell_type": "code",
      "source": [
        "# Compile the sequential model\n",
        "model.compile(loss='categorical_crossentropy', metrics=['accuracy'], optimizer='adam')"
      ],
      "metadata": {
        "id": "eain7drJLWb8"
      },
      "execution_count": 8,
      "outputs": []
    },
    {
      "cell_type": "code",
      "source": [
        " # Training the model for 10 epochs\n",
        "\n",
        "early_monitoring_monitor = EarlyStopping(patience=3) # Option 3\n",
        "\n",
        "# history = model.fit(X_train,Y_train,epochs=10,batch_size=100,validation_data=(X_test,Y_test))\n",
        "history = model.fit(X_train,Y_train,epochs=30,batch_size=100,validation_data=(X_test,Y_test),callbacks=[early_monitoring_monitor]) # Option 3 with increased epochs"
      ],
      "metadata": {
        "colab": {
          "base_uri": "https://localhost:8080/"
        },
        "id": "GVJPcRc0NMav",
        "outputId": "093b6a26-9639-417e-ced3-a04948e41cc2"
      },
      "execution_count": 9,
      "outputs": [
        {
          "output_type": "stream",
          "name": "stdout",
          "text": [
            "Epoch 1/30\n",
            "600/600 [==============================] - 4s 5ms/step - loss: 0.3189 - accuracy: 0.9111 - val_loss: 0.1629 - val_accuracy: 0.9497\n",
            "Epoch 2/30\n",
            "600/600 [==============================] - 4s 6ms/step - loss: 0.1354 - accuracy: 0.9596 - val_loss: 0.1132 - val_accuracy: 0.9648\n",
            "Epoch 3/30\n",
            "600/600 [==============================] - 5s 9ms/step - loss: 0.0940 - accuracy: 0.9716 - val_loss: 0.0928 - val_accuracy: 0.9703\n",
            "Epoch 4/30\n",
            "600/600 [==============================] - 4s 7ms/step - loss: 0.0711 - accuracy: 0.9786 - val_loss: 0.0878 - val_accuracy: 0.9726\n",
            "Epoch 5/30\n",
            "600/600 [==============================] - 4s 7ms/step - loss: 0.0572 - accuracy: 0.9827 - val_loss: 0.0845 - val_accuracy: 0.9733\n",
            "Epoch 6/30\n",
            "600/600 [==============================] - 6s 10ms/step - loss: 0.0458 - accuracy: 0.9853 - val_loss: 0.0814 - val_accuracy: 0.9761\n",
            "Epoch 7/30\n",
            "600/600 [==============================] - 3s 4ms/step - loss: 0.0373 - accuracy: 0.9887 - val_loss: 0.0881 - val_accuracy: 0.9729\n",
            "Epoch 8/30\n",
            "600/600 [==============================] - 2s 4ms/step - loss: 0.0307 - accuracy: 0.9904 - val_loss: 0.0840 - val_accuracy: 0.9757\n",
            "Epoch 9/30\n",
            "600/600 [==============================] - 2s 4ms/step - loss: 0.0265 - accuracy: 0.9913 - val_loss: 0.0812 - val_accuracy: 0.9782\n",
            "Epoch 10/30\n",
            "600/600 [==============================] - 3s 5ms/step - loss: 0.0217 - accuracy: 0.9926 - val_loss: 0.0816 - val_accuracy: 0.9764\n",
            "Epoch 11/30\n",
            "600/600 [==============================] - 3s 5ms/step - loss: 0.0186 - accuracy: 0.9936 - val_loss: 0.0747 - val_accuracy: 0.9789\n",
            "Epoch 12/30\n",
            "600/600 [==============================] - 2s 4ms/step - loss: 0.0180 - accuracy: 0.9943 - val_loss: 0.0914 - val_accuracy: 0.9765\n",
            "Epoch 13/30\n",
            "600/600 [==============================] - 2s 4ms/step - loss: 0.0154 - accuracy: 0.9947 - val_loss: 0.0914 - val_accuracy: 0.9746\n",
            "Epoch 14/30\n",
            "600/600 [==============================] - 2s 4ms/step - loss: 0.0118 - accuracy: 0.9961 - val_loss: 0.0916 - val_accuracy: 0.9761\n"
          ]
        }
      ]
    },
    {
      "cell_type": "code",
      "source": [
        "# Visualisations\n",
        "\n",
        "import matplotlib.pyplot as plt\n",
        "\n",
        "acc2 = history.history['accuracy']\n",
        "val_acc = history.history['val_accuracy']\n",
        "loss2 = history.history['loss']\n",
        "val_loss = history.history['val_loss']\n",
        "\n",
        "epochs = range(1,len(acc2)+1)\n",
        "\n",
        "# 'b' and 'r' are blue and red color\n",
        "\n",
        "plt.plot(epochs, acc2, 'b', label='Train Accuracy')\n",
        "plt.plot(epochs, val_acc, 'r', label='Test Accuracy')\n",
        "plt.legend()\n",
        "plt.figure()\n",
        "\n",
        "plt.plot(epochs, loss2, 'b', label = 'Train loss')\n",
        "plt.plot(epochs, val_loss, 'r', label = 'Test loss')\n",
        "plt.legend()\n",
        "plt.show()"
      ],
      "metadata": {
        "colab": {
          "base_uri": "https://localhost:8080/",
          "height": 847
        },
        "id": "LVd_eYscPhGy",
        "outputId": "3a0291bb-20d4-419c-a084-c11616e68005"
      },
      "execution_count": 10,
      "outputs": [
        {
          "output_type": "display_data",
          "data": {
            "text/plain": [
              "<Figure size 640x480 with 1 Axes>"
            ],
            "image/png": "[encoded data removed]"
          },
          "metadata": {}
        },
        {
          "output_type": "display_data",
          "data": {
            "text/plain": [
              "<Figure size 640x480 with 1 Axes>"
            ],
            "image/png": "[encoded data removed]"
          },
          "metadata": {}
        }
      ]
    },
    {
      "cell_type": "markdown",
      "source": [
        "# Grid Search Hyperparameters"
      ],
      "metadata": {
        "id": "zKrtDOTRU-Zg"
      }
    },
    {
      "cell_type": "code",
      "source": [
        "pip install scikeras"
      ],
      "metadata": {
        "colab": {
          "base_uri": "https://localhost:8080/"
        },
        "id": "d8i-OjXeU1vl",
        "outputId": "37503c63-ef65-4b19-ab2e-fa172debae30"
      },
      "execution_count": 11,
      "outputs": [
        {
          "output_type": "stream",
          "name": "stdout",
          "text": [
            "Looking in indexes: https://pypi.org/simple, https://us-python.pkg.dev/colab-wheels/public/simple/\n",
            "Collecting scikeras\n",
            "  Downloading scikeras-0.10.0-py3-none-any.whl (27 kB)\n",
            "Requirement already satisfied: packaging>=0.21 in /usr/local/lib/python3.9/dist-packages (from scikeras) (23.0)\n",
            "Requirement already satisfied: scikit-learn>=1.0.0 in /usr/local/lib/python3.9/dist-packages (from scikeras) (1.2.2)\n",
            "Requirement already satisfied: numpy>=1.17.3 in /usr/local/lib/python3.9/dist-packages (from scikit-learn>=1.0.0->scikeras) (1.22.4)\n",
            "Requirement already satisfied: scipy>=1.3.2 in /usr/local/lib/python3.9/dist-packages (from scikit-learn>=1.0.0->scikeras) (1.10.1)\n",
            "Requirement already satisfied: joblib>=1.1.1 in /usr/local/lib/python3.9/dist-packages (from scikit-learn>=1.0.0->scikeras) (1.1.1)\n",
            "Requirement already satisfied: threadpoolctl>=2.0.0 in /usr/local/lib/python3.9/dist-packages (from scikit-learn>=1.0.0->scikeras) (3.1.0)\n",
            "Installing collected packages: scikeras\n",
            "Successfully installed scikeras-0.10.0\n"
          ]
        }
      ]
    },
    {
      "cell_type": "code",
      "source": [
        "from sklearn.model_selection import GridSearchCV\n",
        "from scikeras.wrappers import KerasClassifier"
      ],
      "metadata": {
        "id": "m1C5HPPTWFD0"
      },
      "execution_count": 12,
      "outputs": []
    },
    {
      "cell_type": "code",
      "source": [
        "# Function to create model, required for KerasClassifier\n",
        "\n",
        "def create_model():\n",
        "  # Create model\n",
        "  model5 = Sequential()\n",
        "  model5.add(Dense(200,input_dim=784,activation='relu'))\n",
        "  model5.add(Dense(100,activation='relu'))\n",
        "  model5.add(Dense(50,activation='relu'))\n",
        "  model5.add(Dense(10,activation='softmax'))\n",
        "  \n",
        "  # Compile the model\n",
        "  model5.compile(loss='categorical_crossentropy',optimizer='adam',metrics=['accuracy'])\n",
        "\n",
        "  return model5"
      ],
      "metadata": {
        "id": "iBwOfZNmWSow"
      },
      "execution_count": 13,
      "outputs": []
    },
    {
      "cell_type": "markdown",
      "source": [
        "# Tune the batch size and epochs"
      ],
      "metadata": {
        "id": "4GjeLEcsXgCi"
      }
    },
    {
      "cell_type": "code",
      "source": [
        "# Create model (15 minutes)\n",
        "model5 = KerasClassifier(model=create_model,verbose=0)\n",
        "\n",
        "# Define the grid search parameters\n",
        "batch_size = [100,128]\n",
        "epochs = [10,15,20]\n",
        "param_grid= dict(batch_size=batch_size,epochs=epochs)\n",
        "# n_jobs = CPU processing. if -1 means it will use all CPUs.\n",
        "# cv=cross validation, times of cross validations\n",
        "grid = GridSearchCV(estimator=model5,param_grid=param_grid,n_jobs=-1,cv=3)\n",
        "grid_result = grid.fit(X_train,Y_train)"
      ],
      "metadata": {
        "id": "yoEz43j0XfdG"
      },
      "execution_count": 15,
      "outputs": []
    },
    {
      "cell_type": "code",
      "source": [
        "# Summarize the results\n",
        "\n",
        "print('Best %f using %s' % (grid_result.best_score_, grid_result.best_params_))\n",
        "means = grid_result.cv_results_['mean_test_score']\n",
        "stds = grid_result.cv_results_['std_test_score']\n",
        "params = grid_result.cv_results_['params']\n",
        "for mean, stdev, param in zip(means, stds, params):\n",
        "  print('%f (%f) with %r' % (mean, stdev, param))"
      ],
      "metadata": {
        "colab": {
          "base_uri": "https://localhost:8080/"
        },
        "id": "TK9eSlzwZV86",
        "outputId": "ad411914-7d81-4d24-b94e-69dd9b0bf4ff"
      },
      "execution_count": 22,
      "outputs": [
        {
          "output_type": "stream",
          "name": "stdout",
          "text": [
            "Best 0.973917 using {'batch_size': 100, 'epochs': 20}\n",
            "0.972767 (0.001360) with {'batch_size': 100, 'epochs': 10}\n",
            "0.972117 (0.002151) with {'batch_size': 100, 'epochs': 15}\n",
            "0.973917 (0.000440) with {'batch_size': 100, 'epochs': 20}\n",
            "0.970267 (0.002381) with {'batch_size': 128, 'epochs': 10}\n",
            "0.971650 (0.002531) with {'batch_size': 128, 'epochs': 15}\n",
            "0.972733 (0.001899) with {'batch_size': 128, 'epochs': 20}\n"
          ]
        }
      ]
    },
    {
      "cell_type": "markdown",
      "source": [
        "# Tune the training Optimization Algorithm (Only)"
      ],
      "metadata": {
        "id": "d5d3LykCasgF"
      }
    },
    {
      "cell_type": "code",
      "source": [
        "# Create the model (15 minutes)\n",
        "\n",
        "model6 = KerasClassifier(model=create_model,loss='categorical_crossentropy',epochs=20,batch_size=128,verbose=0)\n",
        "\n",
        "# Define the grid search parameters\n",
        "optimizer = ['SGD', 'RMSprop', 'Adagrad', 'Adadelta', 'Adam','Adamax', 'Nadam']\n",
        "param_grid = dict(optimizer=optimizer)\n",
        "grid = GridSearchCV(estimator=model6,param_grid=param_grid,n_jobs=-1,cv=3)\n",
        "grid_result = grid.fit(X_train,Y_train)"
      ],
      "metadata": {
        "id": "b5fzhTGHasGl"
      },
      "execution_count": 23,
      "outputs": []
    },
    {
      "cell_type": "markdown",
      "source": [],
      "metadata": {
        "id": "M5VTrJJIWh4S"
      }
    },
    {
      "cell_type": "code",
      "source": [
        "# Summarize the results\n",
        "\n",
        "print('Best %f using %s' % (grid_result.best_score_, grid_result.best_params_))\n",
        "means = grid_result.cv_results_['mean_test_score']\n",
        "stds = grid_result.cv_results_['std_test_score']\n",
        "params = grid_result.cv_results_['params']\n",
        "for mean, stdev, param in zip(means, stds, params):\n",
        "  print('%f (%f) with %r' % (mean, stdev, param))"
      ],
      "metadata": {
        "colab": {
          "base_uri": "https://localhost:8080/"
        },
        "id": "b5HDjR_Yc_am",
        "outputId": "5f28599f-298b-44a7-a524-692076d77967"
      },
      "execution_count": 24,
      "outputs": [
        {
          "output_type": "stream",
          "name": "stdout",
          "text": [
            "Best 0.973167 using {'optimizer': 'Nadam'}\n",
            "0.972767 (0.002504) with {'optimizer': 'SGD'}\n",
            "0.971450 (0.001619) with {'optimizer': 'RMSprop'}\n",
            "0.973000 (0.004287) with {'optimizer': 'Adagrad'}\n",
            "0.971967 (0.002800) with {'optimizer': 'Adadelta'}\n",
            "0.972133 (0.005552) with {'optimizer': 'Adam'}\n",
            "0.970267 (0.002960) with {'optimizer': 'Adamax'}\n",
            "0.973167 (0.002145) with {'optimizer': 'Nadam'}\n"
          ]
        }
      ]
    },
    {
      "cell_type": "markdown",
      "source": [
        "# Tune the neuron activation functions"
      ],
      "metadata": {
        "id": "Rn309yExgg6F"
      }
    },
    {
      "cell_type": "code",
      "source": [
        "# Function to create model, required for KerasClassifier\n",
        "\n",
        "def create_model(activation='relu'):\n",
        "  # Create model\n",
        "  model = Sequential()\n",
        "  model.add(Dense(200,input_dim=784,activation=activation))\n",
        "  model.add(Dense(100,activation=activation))\n",
        "  model.add(Dense(50,activation=activation))\n",
        "  model.add(Dense(10,activation='softmax'))\n",
        "  \n",
        "  # Compile the model\n",
        "  model.compile(loss='categorical_crossentropy',optimizer='adam',metrics=['accuracy'])\n",
        "\n",
        "  return model"
      ],
      "metadata": {
        "id": "UkOHQUrrggNk"
      },
      "execution_count": 25,
      "outputs": []
    },
    {
      "cell_type": "code",
      "source": [
        "# Create the model (2 hours)\n",
        "\n",
        "model8 = KerasClassifier(model=create_model,epochs=10,batch_size=10,verbose=0)\n",
        "\n",
        "# Define the grid search parameters\n",
        "activation = ['softmax', 'softplus', 'softsign', 'relu', 'tanh','sigmoid', 'hard_sigmoid', 'linear']\n",
        "param_grid = dict(model__activation=activation)\n",
        "grid = GridSearchCV(estimator=model8,param_grid=param_grid,n_jobs=-1,cv=3)\n",
        "grid_result = grid.fit(X_train,Y_train)"
      ],
      "metadata": {
        "id": "qHt0ilUYgx3r"
      },
      "execution_count": 26,
      "outputs": []
    },
    {
      "cell_type": "code",
      "source": [
        "# Summarize the results\n",
        "\n",
        "print('Best %f using %s' % (grid_result.best_score_, grid_result.best_params_))\n",
        "means = grid_result.cv_results_['mean_test_score']\n",
        "stds = grid_result.cv_results_['std_test_score']\n",
        "params = grid_result.cv_results_['params']\n",
        "for mean, stdev, param in zip(means, stds, params):\n",
        "  print('%f (%f) with %r' % (mean, stdev, param))"
      ],
      "metadata": {
        "colab": {
          "base_uri": "https://localhost:8080/"
        },
        "id": "svTR3knhhZNv",
        "outputId": "f3808972-f464-4f88-9614-7f2cd2638248"
      },
      "execution_count": 27,
      "outputs": [
        {
          "output_type": "stream",
          "name": "stdout",
          "text": [
            "Best 0.974200 using {'model__activation': 'softplus'}\n",
            "0.840500 (0.004736) with {'model__activation': 'softmax'}\n",
            "0.974200 (0.002985) with {'model__activation': 'softplus'}\n",
            "0.970000 (0.001310) with {'model__activation': 'softsign'}\n",
            "0.971800 (0.001785) with {'model__activation': 'relu'}\n",
            "0.967400 (0.000735) with {'model__activation': 'tanh'}\n",
            "0.971767 (0.002742) with {'model__activation': 'sigmoid'}\n",
            "0.971417 (0.001797) with {'model__activation': 'hard_sigmoid'}\n",
            "0.907133 (0.002990) with {'model__activation': 'linear'}\n"
          ]
        }
      ]
    }
  ]
}