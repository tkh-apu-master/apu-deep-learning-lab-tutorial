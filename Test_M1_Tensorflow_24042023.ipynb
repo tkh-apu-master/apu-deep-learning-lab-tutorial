{
 "cells": [
  {
   "cell_type": "markdown",
   "metadata": {},
   "source": [
    "# Issue 1: Unable to run Tensorflow on Macbook Pro M series (Arm64)\n",
    "\n",
    "Solution: Refer to the following Medium (blog)[https://medium.com/@caffeinedev/how-to-install-tensorflow-on-m1-mac-8e9b91d93706]\n",
    "After that, if you are using IDEs such as PyCharm or VS Code, you must ACTIVATE the environment (For example: mlp --- as created in the blog) in related Python interpreter settings.\n"
   ]
  },
  {
   "cell_type": "code",
   "execution_count": 1,
   "metadata": {
    "ExecuteTime": {
     "start_time": "2023-04-24T15:56:18.866876Z",
     "end_time": "2023-04-24T15:56:20.966494Z"
    }
   },
   "outputs": [
    {
     "name": "stdout",
     "output_type": "stream",
     "text": [
      "Num GPUs Available:  1\n"
     ]
    }
   ],
   "source": [
    "import tensorflow as tf\n",
    "print(\"Num GPUs Available: \", len(tf.config.experimental.list_physical_devices('GPU')))"
   ]
  },
  {
   "cell_type": "code",
   "execution_count": 2,
   "metadata": {
    "ExecuteTime": {
     "start_time": "2023-04-24T15:56:20.970836Z",
     "end_time": "2023-04-24T15:58:15.553423Z"
    }
   },
   "outputs": [
    {
     "name": "stderr",
     "output_type": "stream",
     "text": [
      "WARNING:absl:At this time, the v2.11+ optimizer `tf.keras.optimizers.Adam` runs slowly on M1/M2 Macs, please use the legacy Keras optimizer instead, located at `tf.keras.optimizers.legacy.Adam`.\n",
      "WARNING:absl:There is a known slowdown when using v2.11+ Keras optimizers on M1/M2 Macs. Falling back to the legacy Keras optimizer, i.e., `tf.keras.optimizers.legacy.Adam`.\n"
     ]
    },
    {
     "name": "stdout",
     "output_type": "stream",
     "text": [
      "TensorFlow version: 2.12.0\n",
      "Num GPUs Available:  1\n",
      "Metal device set to: Apple M1 Pro\n",
      "Epoch 1/12\n"
     ]
    },
    {
     "name": "stderr",
     "output_type": "stream",
     "text": [
      "2023-04-24 15:56:22.177495: W tensorflow/tsl/platform/profile_utils/cpu_utils.cc:128] Failed to get CPU frequency: 0 Hz\n"
     ]
    },
    {
     "name": "stdout",
     "output_type": "stream",
     "text": [
      "469/469 [==============================] - 12s 21ms/step - loss: 0.1464 - accuracy: 0.9568 - val_loss: 0.0459 - val_accuracy: 0.9860\n",
      "Epoch 2/12\n",
      "469/469 [==============================] - 9s 20ms/step - loss: 0.0411 - accuracy: 0.9875 - val_loss: 0.0425 - val_accuracy: 0.9866\n",
      "Epoch 3/12\n",
      "469/469 [==============================] - 9s 20ms/step - loss: 0.0269 - accuracy: 0.9915 - val_loss: 0.0382 - val_accuracy: 0.9879\n",
      "Epoch 4/12\n",
      "469/469 [==============================] - 9s 20ms/step - loss: 0.0174 - accuracy: 0.9945 - val_loss: 0.0328 - val_accuracy: 0.9903\n",
      "Epoch 5/12\n",
      "469/469 [==============================] - 9s 19ms/step - loss: 0.0125 - accuracy: 0.9958 - val_loss: 0.0365 - val_accuracy: 0.9891\n",
      "Epoch 6/12\n",
      "469/469 [==============================] - 9s 20ms/step - loss: 0.0106 - accuracy: 0.9965 - val_loss: 0.0368 - val_accuracy: 0.9899\n",
      "Epoch 7/12\n",
      "469/469 [==============================] - 9s 20ms/step - loss: 0.0073 - accuracy: 0.9977 - val_loss: 0.0374 - val_accuracy: 0.9899\n",
      "Epoch 8/12\n",
      "469/469 [==============================] - 9s 20ms/step - loss: 0.0060 - accuracy: 0.9980 - val_loss: 0.0426 - val_accuracy: 0.9895\n",
      "Epoch 9/12\n",
      "469/469 [==============================] - 9s 19ms/step - loss: 0.0053 - accuracy: 0.9981 - val_loss: 0.0454 - val_accuracy: 0.9888\n",
      "Epoch 10/12\n",
      "469/469 [==============================] - 9s 20ms/step - loss: 0.0060 - accuracy: 0.9981 - val_loss: 0.0436 - val_accuracy: 0.9899\n",
      "Epoch 11/12\n",
      "469/469 [==============================] - 9s 20ms/step - loss: 0.0047 - accuracy: 0.9983 - val_loss: 0.0434 - val_accuracy: 0.9902\n",
      "Epoch 12/12\n",
      "469/469 [==============================] - 9s 20ms/step - loss: 0.0055 - accuracy: 0.9984 - val_loss: 0.0482 - val_accuracy: 0.9877\n"
     ]
    },
    {
     "data": {
      "text/plain": "<keras.callbacks.History at 0x2bf899160>"
     },
     "execution_count": 2,
     "metadata": {},
     "output_type": "execute_result"
    }
   ],
   "source": [
    "import tensorflow as tf\n",
    "import tensorflow_datasets as tfds\n",
    "print(\"TensorFlow version:\", tf.__version__)\n",
    "print(\"Num GPUs Available: \", len(tf.config.experimental.list_physical_devices('GPU')))\n",
    "\n",
    "tf.config.list_physical_devices('GPU')\n",
    "\n",
    "(ds_train, ds_test), ds_info = tfds.load(\n",
    "    'mnist',\n",
    "    split=['train', 'test'],\n",
    "    shuffle_files=True,\n",
    "    as_supervised=True,\n",
    "    with_info=True,\n",
    ")\n",
    "\n",
    "def normalize_img(image, label):\n",
    "  \"\"\"Normalizes images: `uint8` -> `float32`.\"\"\"\n",
    "  return tf.cast(image, tf.float32) / 255., label\n",
    "batch_size = 128\n",
    "\n",
    "ds_train = ds_train.map(\n",
    "    normalize_img, num_parallel_calls=tf.data.experimental.AUTOTUNE)\n",
    "ds_train = ds_train.cache()\n",
    "ds_train = ds_train.shuffle(ds_info.splits['train'].num_examples)\n",
    "ds_train = ds_train.batch(batch_size)\n",
    "ds_train = ds_train.prefetch(tf.data.experimental.AUTOTUNE)\n",
    "\n",
    "ds_test = ds_test.map(\n",
    "    normalize_img, num_parallel_calls=tf.data.experimental.AUTOTUNE)\n",
    "\n",
    "ds_test = ds_test.batch(batch_size)\n",
    "ds_test = ds_test.cache()\n",
    "ds_test = ds_test.prefetch(tf.data.experimental.AUTOTUNE)\n",
    "\n",
    "model = tf.keras.models.Sequential([\n",
    "  tf.keras.layers.Conv2D(32, kernel_size=(3, 3),\n",
    "                 activation='relu'),\n",
    "  tf.keras.layers.Conv2D(64, kernel_size=(3, 3),\n",
    "                 activation='relu'),\n",
    "  tf.keras.layers.MaxPooling2D(pool_size=(2, 2)),\n",
    "#   tf.keras.layers.Dropout(0.25),\n",
    "  tf.keras.layers.Flatten(),\n",
    "  tf.keras.layers.Dense(128, activation='relu'),\n",
    "#   tf.keras.layers.Dropout(0.5),\n",
    "  tf.keras.layers.Dense(10, activation='softmax')\n",
    "])\n",
    "\n",
    "model.compile(\n",
    "    loss='sparse_categorical_crossentropy',\n",
    "    optimizer=tf.keras.optimizers.Adam(0.001),\n",
    "    metrics=['accuracy'],\n",
    ")\n",
    "model.fit(\n",
    "    ds_train,\n",
    "    epochs=12,\n",
    "    validation_data=ds_test,\n",
    ")"
   ]
  }
 ],
 "metadata": {
  "kernelspec": {
   "display_name": "Python 3 (ipykernel)",
   "language": "python",
   "name": "python3"
  },
  "language_info": {
   "codemirror_mode": {
    "name": "ipython",
    "version": 3
   },
   "file_extension": ".py",
   "mimetype": "text/x-python",
   "name": "python",
   "nbconvert_exporter": "python",
   "pygments_lexer": "ipython3",
   "version": "3.10.10"
  }
 },
 "nbformat": 4,
 "nbformat_minor": 1
}
