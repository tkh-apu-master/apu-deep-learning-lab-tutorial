{
 "cells": [
  {
   "cell_type": "markdown",
   "metadata": {
    "id": "AvGPyORg1EbP"
   },
   "source": [
    "#Exercise\n",
    "\n",
    "\n",
    "\n",
    "\n",
    "Estimate the location from WIFI Signal Strength\n",
    "\n",
    "\n",
    "\n",
    "\n",
    "The dataset has 2,000 rows and 8 columns. The data contains wifi signal strength observed from 7 wifi devices on a smartphone collected in an indoor space which could be used to estimate the location in one of the four rooms.\n",
    "\n",
    "\n",
    "\n",
    "\n",
    "You can use ANN analysis for this exerise to improve the ANN performance."
   ]
  },
  {
   "cell_type": "code",
   "execution_count": 1,
   "metadata": {
    "ExecuteTime": {
     "start_time": "2023-04-24T16:00:18.375902Z",
     "end_time": "2023-04-24T16:00:33.944023Z"
    },
    "colab": {
     "base_uri": "https://localhost:8080/"
    },
    "id": "PSxH3Xdk03Ma",
    "outputId": "30fd1b47-053c-4f54-ef90-d31dd124604c"
   },
   "outputs": [],
   "source": [
    "# from google.colab import drive\n",
    "# drive.mount('/drive')\n",
    "\n",
    "import numpy as np\n",
    "import pandas as pd\n",
    "from sklearn.model_selection import train_test_split\n",
    "\n",
    "\n",
    "path = './wifi.csv'\n",
    "\n",
    "df = pd.read_csv(path)"
   ]
  },
  {
   "cell_type": "code",
   "execution_count": 2,
   "metadata": {
    "ExecuteTime": {
     "start_time": "2023-04-24T16:00:33.949937Z",
     "end_time": "2023-04-24T16:00:33.964289Z"
    },
    "colab": {
     "base_uri": "https://localhost:8080/",
     "height": 424
    },
    "id": "Hze0fodS138e",
    "outputId": "49c325d1-c3ae-4646-de80-47d62701461e"
   },
   "outputs": [
    {
     "data": {
      "text/plain": "      Wifi 1  Wifi 2  Wifi 3  Wifi 4  Wifi 5  Wifi 6  Wifi 7  Room\n0        -64     -56     -61     -66     -71     -82     -81     1\n1        -68     -57     -61     -65     -71     -85     -85     1\n2        -63     -60     -60     -67     -76     -85     -84     1\n3        -61     -60     -68     -62     -77     -90     -80     1\n4        -63     -65     -60     -63     -77     -81     -87     1\n...      ...     ...     ...     ...     ...     ...     ...   ...\n1995     -59     -59     -48     -66     -50     -86     -94     4\n1996     -59     -56     -50     -62     -47     -87     -90     4\n1997     -62     -59     -46     -65     -45     -87     -88     4\n1998     -62     -58     -52     -61     -41     -90     -85     4\n1999     -59     -50     -45     -60     -45     -88     -87     4\n\n[2000 rows x 8 columns]",
      "text/html": "<div>\n<style scoped>\n    .dataframe tbody tr th:only-of-type {\n        vertical-align: middle;\n    }\n\n    .dataframe tbody tr th {\n        vertical-align: top;\n    }\n\n    .dataframe thead th {\n        text-align: right;\n    }\n</style>\n<table border=\"1\" class=\"dataframe\">\n  <thead>\n    <tr style=\"text-align: right;\">\n      <th></th>\n      <th>Wifi 1</th>\n      <th>Wifi 2</th>\n      <th>Wifi 3</th>\n      <th>Wifi 4</th>\n      <th>Wifi 5</th>\n      <th>Wifi 6</th>\n      <th>Wifi 7</th>\n      <th>Room</th>\n    </tr>\n  </thead>\n  <tbody>\n    <tr>\n      <th>0</th>\n      <td>-64</td>\n      <td>-56</td>\n      <td>-61</td>\n      <td>-66</td>\n      <td>-71</td>\n      <td>-82</td>\n      <td>-81</td>\n      <td>1</td>\n    </tr>\n    <tr>\n      <th>1</th>\n      <td>-68</td>\n      <td>-57</td>\n      <td>-61</td>\n      <td>-65</td>\n      <td>-71</td>\n      <td>-85</td>\n      <td>-85</td>\n      <td>1</td>\n    </tr>\n    <tr>\n      <th>2</th>\n      <td>-63</td>\n      <td>-60</td>\n      <td>-60</td>\n      <td>-67</td>\n      <td>-76</td>\n      <td>-85</td>\n      <td>-84</td>\n      <td>1</td>\n    </tr>\n    <tr>\n      <th>3</th>\n      <td>-61</td>\n      <td>-60</td>\n      <td>-68</td>\n      <td>-62</td>\n      <td>-77</td>\n      <td>-90</td>\n      <td>-80</td>\n      <td>1</td>\n    </tr>\n    <tr>\n      <th>4</th>\n      <td>-63</td>\n      <td>-65</td>\n      <td>-60</td>\n      <td>-63</td>\n      <td>-77</td>\n      <td>-81</td>\n      <td>-87</td>\n      <td>1</td>\n    </tr>\n    <tr>\n      <th>...</th>\n      <td>...</td>\n      <td>...</td>\n      <td>...</td>\n      <td>...</td>\n      <td>...</td>\n      <td>...</td>\n      <td>...</td>\n      <td>...</td>\n    </tr>\n    <tr>\n      <th>1995</th>\n      <td>-59</td>\n      <td>-59</td>\n      <td>-48</td>\n      <td>-66</td>\n      <td>-50</td>\n      <td>-86</td>\n      <td>-94</td>\n      <td>4</td>\n    </tr>\n    <tr>\n      <th>1996</th>\n      <td>-59</td>\n      <td>-56</td>\n      <td>-50</td>\n      <td>-62</td>\n      <td>-47</td>\n      <td>-87</td>\n      <td>-90</td>\n      <td>4</td>\n    </tr>\n    <tr>\n      <th>1997</th>\n      <td>-62</td>\n      <td>-59</td>\n      <td>-46</td>\n      <td>-65</td>\n      <td>-45</td>\n      <td>-87</td>\n      <td>-88</td>\n      <td>4</td>\n    </tr>\n    <tr>\n      <th>1998</th>\n      <td>-62</td>\n      <td>-58</td>\n      <td>-52</td>\n      <td>-61</td>\n      <td>-41</td>\n      <td>-90</td>\n      <td>-85</td>\n      <td>4</td>\n    </tr>\n    <tr>\n      <th>1999</th>\n      <td>-59</td>\n      <td>-50</td>\n      <td>-45</td>\n      <td>-60</td>\n      <td>-45</td>\n      <td>-88</td>\n      <td>-87</td>\n      <td>4</td>\n    </tr>\n  </tbody>\n</table>\n<p>2000 rows × 8 columns</p>\n</div>"
     },
     "execution_count": 2,
     "metadata": {},
     "output_type": "execute_result"
    }
   ],
   "source": [
    "df"
   ]
  },
  {
   "cell_type": "code",
   "execution_count": 3,
   "metadata": {
    "ExecuteTime": {
     "start_time": "2023-04-24T16:00:33.965861Z",
     "end_time": "2023-04-24T16:00:33.970985Z"
    },
    "colab": {
     "base_uri": "https://localhost:8080/",
     "height": 300
    },
    "id": "FpoBoJ0r17-q",
    "outputId": "6d1e1f3a-d1bd-478e-899a-9d954905c7eb"
   },
   "outputs": [
    {
     "data": {
      "text/plain": "         0   1   2   3   4\nWifi 1 -64 -68 -63 -61 -63\nWifi 2 -56 -57 -60 -60 -65\nWifi 3 -61 -61 -60 -68 -60\nWifi 4 -66 -65 -67 -62 -63\nWifi 5 -71 -71 -76 -77 -77\nWifi 6 -82 -85 -85 -90 -81\nWifi 7 -81 -85 -84 -80 -87\nRoom     1   1   1   1   1",
      "text/html": "<div>\n<style scoped>\n    .dataframe tbody tr th:only-of-type {\n        vertical-align: middle;\n    }\n\n    .dataframe tbody tr th {\n        vertical-align: top;\n    }\n\n    .dataframe thead th {\n        text-align: right;\n    }\n</style>\n<table border=\"1\" class=\"dataframe\">\n  <thead>\n    <tr style=\"text-align: right;\">\n      <th></th>\n      <th>0</th>\n      <th>1</th>\n      <th>2</th>\n      <th>3</th>\n      <th>4</th>\n    </tr>\n  </thead>\n  <tbody>\n    <tr>\n      <th>Wifi 1</th>\n      <td>-64</td>\n      <td>-68</td>\n      <td>-63</td>\n      <td>-61</td>\n      <td>-63</td>\n    </tr>\n    <tr>\n      <th>Wifi 2</th>\n      <td>-56</td>\n      <td>-57</td>\n      <td>-60</td>\n      <td>-60</td>\n      <td>-65</td>\n    </tr>\n    <tr>\n      <th>Wifi 3</th>\n      <td>-61</td>\n      <td>-61</td>\n      <td>-60</td>\n      <td>-68</td>\n      <td>-60</td>\n    </tr>\n    <tr>\n      <th>Wifi 4</th>\n      <td>-66</td>\n      <td>-65</td>\n      <td>-67</td>\n      <td>-62</td>\n      <td>-63</td>\n    </tr>\n    <tr>\n      <th>Wifi 5</th>\n      <td>-71</td>\n      <td>-71</td>\n      <td>-76</td>\n      <td>-77</td>\n      <td>-77</td>\n    </tr>\n    <tr>\n      <th>Wifi 6</th>\n      <td>-82</td>\n      <td>-85</td>\n      <td>-85</td>\n      <td>-90</td>\n      <td>-81</td>\n    </tr>\n    <tr>\n      <th>Wifi 7</th>\n      <td>-81</td>\n      <td>-85</td>\n      <td>-84</td>\n      <td>-80</td>\n      <td>-87</td>\n    </tr>\n    <tr>\n      <th>Room</th>\n      <td>1</td>\n      <td>1</td>\n      <td>1</td>\n      <td>1</td>\n      <td>1</td>\n    </tr>\n  </tbody>\n</table>\n</div>"
     },
     "execution_count": 3,
     "metadata": {},
     "output_type": "execute_result"
    }
   ],
   "source": [
    "df.head().T"
   ]
  },
  {
   "cell_type": "code",
   "execution_count": 4,
   "metadata": {
    "ExecuteTime": {
     "start_time": "2023-04-24T16:00:33.970663Z",
     "end_time": "2023-04-24T16:00:33.979970Z"
    },
    "colab": {
     "base_uri": "https://localhost:8080/"
    },
    "id": "js9UVWvC2CQG",
    "outputId": "2e48273d-fd33-4399-fdc2-cc603b0889c6"
   },
   "outputs": [
    {
     "data": {
      "text/plain": "Index(['Wifi 1', 'Wifi 2', 'Wifi 3', 'Wifi 4', 'Wifi 5', 'Wifi 6', 'Wifi 7',\n       'Room'],\n      dtype='object')"
     },
     "execution_count": 4,
     "metadata": {},
     "output_type": "execute_result"
    }
   ],
   "source": [
    "df.columns"
   ]
  },
  {
   "cell_type": "code",
   "execution_count": 5,
   "metadata": {
    "ExecuteTime": {
     "start_time": "2023-04-24T16:00:33.975930Z",
     "end_time": "2023-04-24T16:00:34.035641Z"
    },
    "colab": {
     "base_uri": "https://localhost:8080/"
    },
    "id": "bfIuFfPm4JqE",
    "outputId": "1267cd30-98e9-4191-ecc5-2814c7c06901"
   },
   "outputs": [
    {
     "name": "stdout",
     "output_type": "stream",
     "text": [
      "<class 'pandas.core.frame.DataFrame'>\n",
      "RangeIndex: 2000 entries, 0 to 1999\n",
      "Data columns (total 8 columns):\n",
      " #   Column  Non-Null Count  Dtype\n",
      "---  ------  --------------  -----\n",
      " 0   Wifi 1  2000 non-null   int64\n",
      " 1   Wifi 2  2000 non-null   int64\n",
      " 2   Wifi 3  2000 non-null   int64\n",
      " 3   Wifi 4  2000 non-null   int64\n",
      " 4   Wifi 5  2000 non-null   int64\n",
      " 5   Wifi 6  2000 non-null   int64\n",
      " 6   Wifi 7  2000 non-null   int64\n",
      " 7   Room    2000 non-null   int64\n",
      "dtypes: int64(8)\n",
      "memory usage: 125.1 KB\n"
     ]
    }
   ],
   "source": [
    "df.info()"
   ]
  },
  {
   "cell_type": "code",
   "execution_count": 6,
   "metadata": {
    "ExecuteTime": {
     "start_time": "2023-04-24T16:00:33.986013Z",
     "end_time": "2023-04-24T16:00:34.045507Z"
    },
    "id": "aS_A4Ncb2hex"
   },
   "outputs": [],
   "source": [
    "data = df.copy()"
   ]
  },
  {
   "cell_type": "code",
   "execution_count": 7,
   "metadata": {
    "ExecuteTime": {
     "start_time": "2023-04-24T16:00:33.992404Z",
     "end_time": "2023-04-24T16:00:34.048235Z"
    },
    "colab": {
     "base_uri": "https://localhost:8080/",
     "height": 424
    },
    "id": "8kFQuH8p3HDV",
    "outputId": "78353b45-c5cc-4d49-b28c-b456a47f6d53"
   },
   "outputs": [
    {
     "data": {
      "text/plain": "      Wifi 1  Wifi 2  Wifi 3  Wifi 4  Wifi 5  Wifi 6  Wifi 7  Room\n0        -64     -56     -61     -66     -71     -82     -81     1\n1        -68     -57     -61     -65     -71     -85     -85     1\n2        -63     -60     -60     -67     -76     -85     -84     1\n3        -61     -60     -68     -62     -77     -90     -80     1\n4        -63     -65     -60     -63     -77     -81     -87     1\n...      ...     ...     ...     ...     ...     ...     ...   ...\n1995     -59     -59     -48     -66     -50     -86     -94     4\n1996     -59     -56     -50     -62     -47     -87     -90     4\n1997     -62     -59     -46     -65     -45     -87     -88     4\n1998     -62     -58     -52     -61     -41     -90     -85     4\n1999     -59     -50     -45     -60     -45     -88     -87     4\n\n[2000 rows x 8 columns]",
      "text/html": "<div>\n<style scoped>\n    .dataframe tbody tr th:only-of-type {\n        vertical-align: middle;\n    }\n\n    .dataframe tbody tr th {\n        vertical-align: top;\n    }\n\n    .dataframe thead th {\n        text-align: right;\n    }\n</style>\n<table border=\"1\" class=\"dataframe\">\n  <thead>\n    <tr style=\"text-align: right;\">\n      <th></th>\n      <th>Wifi 1</th>\n      <th>Wifi 2</th>\n      <th>Wifi 3</th>\n      <th>Wifi 4</th>\n      <th>Wifi 5</th>\n      <th>Wifi 6</th>\n      <th>Wifi 7</th>\n      <th>Room</th>\n    </tr>\n  </thead>\n  <tbody>\n    <tr>\n      <th>0</th>\n      <td>-64</td>\n      <td>-56</td>\n      <td>-61</td>\n      <td>-66</td>\n      <td>-71</td>\n      <td>-82</td>\n      <td>-81</td>\n      <td>1</td>\n    </tr>\n    <tr>\n      <th>1</th>\n      <td>-68</td>\n      <td>-57</td>\n      <td>-61</td>\n      <td>-65</td>\n      <td>-71</td>\n      <td>-85</td>\n      <td>-85</td>\n      <td>1</td>\n    </tr>\n    <tr>\n      <th>2</th>\n      <td>-63</td>\n      <td>-60</td>\n      <td>-60</td>\n      <td>-67</td>\n      <td>-76</td>\n      <td>-85</td>\n      <td>-84</td>\n      <td>1</td>\n    </tr>\n    <tr>\n      <th>3</th>\n      <td>-61</td>\n      <td>-60</td>\n      <td>-68</td>\n      <td>-62</td>\n      <td>-77</td>\n      <td>-90</td>\n      <td>-80</td>\n      <td>1</td>\n    </tr>\n    <tr>\n      <th>4</th>\n      <td>-63</td>\n      <td>-65</td>\n      <td>-60</td>\n      <td>-63</td>\n      <td>-77</td>\n      <td>-81</td>\n      <td>-87</td>\n      <td>1</td>\n    </tr>\n    <tr>\n      <th>...</th>\n      <td>...</td>\n      <td>...</td>\n      <td>...</td>\n      <td>...</td>\n      <td>...</td>\n      <td>...</td>\n      <td>...</td>\n      <td>...</td>\n    </tr>\n    <tr>\n      <th>1995</th>\n      <td>-59</td>\n      <td>-59</td>\n      <td>-48</td>\n      <td>-66</td>\n      <td>-50</td>\n      <td>-86</td>\n      <td>-94</td>\n      <td>4</td>\n    </tr>\n    <tr>\n      <th>1996</th>\n      <td>-59</td>\n      <td>-56</td>\n      <td>-50</td>\n      <td>-62</td>\n      <td>-47</td>\n      <td>-87</td>\n      <td>-90</td>\n      <td>4</td>\n    </tr>\n    <tr>\n      <th>1997</th>\n      <td>-62</td>\n      <td>-59</td>\n      <td>-46</td>\n      <td>-65</td>\n      <td>-45</td>\n      <td>-87</td>\n      <td>-88</td>\n      <td>4</td>\n    </tr>\n    <tr>\n      <th>1998</th>\n      <td>-62</td>\n      <td>-58</td>\n      <td>-52</td>\n      <td>-61</td>\n      <td>-41</td>\n      <td>-90</td>\n      <td>-85</td>\n      <td>4</td>\n    </tr>\n    <tr>\n      <th>1999</th>\n      <td>-59</td>\n      <td>-50</td>\n      <td>-45</td>\n      <td>-60</td>\n      <td>-45</td>\n      <td>-88</td>\n      <td>-87</td>\n      <td>4</td>\n    </tr>\n  </tbody>\n</table>\n<p>2000 rows × 8 columns</p>\n</div>"
     },
     "execution_count": 7,
     "metadata": {},
     "output_type": "execute_result"
    }
   ],
   "source": [
    "data"
   ]
  },
  {
   "cell_type": "code",
   "execution_count": 8,
   "metadata": {
    "ExecuteTime": {
     "start_time": "2023-04-24T16:00:34.000277Z",
     "end_time": "2023-04-24T16:00:34.111058Z"
    },
    "colab": {
     "base_uri": "https://localhost:8080/",
     "height": 300
    },
    "id": "psyn8FII3Kej",
    "outputId": "468532e7-ed90-43ca-aafc-5255e56abbc9"
   },
   "outputs": [
    {
     "data": {
      "text/plain": "         0   1   2   3   4\nWifi 1 -64 -68 -63 -61 -63\nWifi 2 -56 -57 -60 -60 -65\nWifi 3 -61 -61 -60 -68 -60\nWifi 4 -66 -65 -67 -62 -63\nWifi 5 -71 -71 -76 -77 -77\nWifi 6 -82 -85 -85 -90 -81\nWifi 7 -81 -85 -84 -80 -87\nRoom     1   1   1   1   1",
      "text/html": "<div>\n<style scoped>\n    .dataframe tbody tr th:only-of-type {\n        vertical-align: middle;\n    }\n\n    .dataframe tbody tr th {\n        vertical-align: top;\n    }\n\n    .dataframe thead th {\n        text-align: right;\n    }\n</style>\n<table border=\"1\" class=\"dataframe\">\n  <thead>\n    <tr style=\"text-align: right;\">\n      <th></th>\n      <th>0</th>\n      <th>1</th>\n      <th>2</th>\n      <th>3</th>\n      <th>4</th>\n    </tr>\n  </thead>\n  <tbody>\n    <tr>\n      <th>Wifi 1</th>\n      <td>-64</td>\n      <td>-68</td>\n      <td>-63</td>\n      <td>-61</td>\n      <td>-63</td>\n    </tr>\n    <tr>\n      <th>Wifi 2</th>\n      <td>-56</td>\n      <td>-57</td>\n      <td>-60</td>\n      <td>-60</td>\n      <td>-65</td>\n    </tr>\n    <tr>\n      <th>Wifi 3</th>\n      <td>-61</td>\n      <td>-61</td>\n      <td>-60</td>\n      <td>-68</td>\n      <td>-60</td>\n    </tr>\n    <tr>\n      <th>Wifi 4</th>\n      <td>-66</td>\n      <td>-65</td>\n      <td>-67</td>\n      <td>-62</td>\n      <td>-63</td>\n    </tr>\n    <tr>\n      <th>Wifi 5</th>\n      <td>-71</td>\n      <td>-71</td>\n      <td>-76</td>\n      <td>-77</td>\n      <td>-77</td>\n    </tr>\n    <tr>\n      <th>Wifi 6</th>\n      <td>-82</td>\n      <td>-85</td>\n      <td>-85</td>\n      <td>-90</td>\n      <td>-81</td>\n    </tr>\n    <tr>\n      <th>Wifi 7</th>\n      <td>-81</td>\n      <td>-85</td>\n      <td>-84</td>\n      <td>-80</td>\n      <td>-87</td>\n    </tr>\n    <tr>\n      <th>Room</th>\n      <td>1</td>\n      <td>1</td>\n      <td>1</td>\n      <td>1</td>\n      <td>1</td>\n    </tr>\n  </tbody>\n</table>\n</div>"
     },
     "execution_count": 8,
     "metadata": {},
     "output_type": "execute_result"
    }
   ],
   "source": [
    "data.head().T"
   ]
  },
  {
   "cell_type": "code",
   "execution_count": 9,
   "metadata": {
    "ExecuteTime": {
     "start_time": "2023-04-24T16:00:34.002784Z",
     "end_time": "2023-04-24T16:00:34.114335Z"
    },
    "id": "MLjUKXww9Qcq"
   },
   "outputs": [],
   "source": [
    "# One Hot Encoding\n",
    "\n",
    "marital_dummies = pd.get_dummies(data['Room'])\n",
    "\n",
    "Y = pd.concat([data['Room'], marital_dummies], axis = 1)\n",
    "\n",
    "Y = Y.drop('Room', axis =1)"
   ]
  },
  {
   "cell_type": "code",
   "execution_count": 10,
   "metadata": {
    "ExecuteTime": {
     "start_time": "2023-04-24T16:00:34.008635Z",
     "end_time": "2023-04-24T16:00:34.114435Z"
    },
    "id": "xzIuT1Al5xfs"
   },
   "outputs": [],
   "source": [
    "X = data.drop('Room', axis = 1)"
   ]
  },
  {
   "cell_type": "code",
   "execution_count": 11,
   "metadata": {
    "ExecuteTime": {
     "start_time": "2023-04-24T16:00:34.014105Z",
     "end_time": "2023-04-24T16:00:34.114565Z"
    },
    "colab": {
     "base_uri": "https://localhost:8080/",
     "height": 424
    },
    "id": "mGuA7cvI9-X3",
    "outputId": "146f1dce-b7d4-40c8-c729-0d8a50ce024b"
   },
   "outputs": [
    {
     "data": {
      "text/plain": "      Wifi 1  Wifi 2  Wifi 3  Wifi 4  Wifi 5  Wifi 6  Wifi 7\n0        -64     -56     -61     -66     -71     -82     -81\n1        -68     -57     -61     -65     -71     -85     -85\n2        -63     -60     -60     -67     -76     -85     -84\n3        -61     -60     -68     -62     -77     -90     -80\n4        -63     -65     -60     -63     -77     -81     -87\n...      ...     ...     ...     ...     ...     ...     ...\n1995     -59     -59     -48     -66     -50     -86     -94\n1996     -59     -56     -50     -62     -47     -87     -90\n1997     -62     -59     -46     -65     -45     -87     -88\n1998     -62     -58     -52     -61     -41     -90     -85\n1999     -59     -50     -45     -60     -45     -88     -87\n\n[2000 rows x 7 columns]",
      "text/html": "<div>\n<style scoped>\n    .dataframe tbody tr th:only-of-type {\n        vertical-align: middle;\n    }\n\n    .dataframe tbody tr th {\n        vertical-align: top;\n    }\n\n    .dataframe thead th {\n        text-align: right;\n    }\n</style>\n<table border=\"1\" class=\"dataframe\">\n  <thead>\n    <tr style=\"text-align: right;\">\n      <th></th>\n      <th>Wifi 1</th>\n      <th>Wifi 2</th>\n      <th>Wifi 3</th>\n      <th>Wifi 4</th>\n      <th>Wifi 5</th>\n      <th>Wifi 6</th>\n      <th>Wifi 7</th>\n    </tr>\n  </thead>\n  <tbody>\n    <tr>\n      <th>0</th>\n      <td>-64</td>\n      <td>-56</td>\n      <td>-61</td>\n      <td>-66</td>\n      <td>-71</td>\n      <td>-82</td>\n      <td>-81</td>\n    </tr>\n    <tr>\n      <th>1</th>\n      <td>-68</td>\n      <td>-57</td>\n      <td>-61</td>\n      <td>-65</td>\n      <td>-71</td>\n      <td>-85</td>\n      <td>-85</td>\n    </tr>\n    <tr>\n      <th>2</th>\n      <td>-63</td>\n      <td>-60</td>\n      <td>-60</td>\n      <td>-67</td>\n      <td>-76</td>\n      <td>-85</td>\n      <td>-84</td>\n    </tr>\n    <tr>\n      <th>3</th>\n      <td>-61</td>\n      <td>-60</td>\n      <td>-68</td>\n      <td>-62</td>\n      <td>-77</td>\n      <td>-90</td>\n      <td>-80</td>\n    </tr>\n    <tr>\n      <th>4</th>\n      <td>-63</td>\n      <td>-65</td>\n      <td>-60</td>\n      <td>-63</td>\n      <td>-77</td>\n      <td>-81</td>\n      <td>-87</td>\n    </tr>\n    <tr>\n      <th>...</th>\n      <td>...</td>\n      <td>...</td>\n      <td>...</td>\n      <td>...</td>\n      <td>...</td>\n      <td>...</td>\n      <td>...</td>\n    </tr>\n    <tr>\n      <th>1995</th>\n      <td>-59</td>\n      <td>-59</td>\n      <td>-48</td>\n      <td>-66</td>\n      <td>-50</td>\n      <td>-86</td>\n      <td>-94</td>\n    </tr>\n    <tr>\n      <th>1996</th>\n      <td>-59</td>\n      <td>-56</td>\n      <td>-50</td>\n      <td>-62</td>\n      <td>-47</td>\n      <td>-87</td>\n      <td>-90</td>\n    </tr>\n    <tr>\n      <th>1997</th>\n      <td>-62</td>\n      <td>-59</td>\n      <td>-46</td>\n      <td>-65</td>\n      <td>-45</td>\n      <td>-87</td>\n      <td>-88</td>\n    </tr>\n    <tr>\n      <th>1998</th>\n      <td>-62</td>\n      <td>-58</td>\n      <td>-52</td>\n      <td>-61</td>\n      <td>-41</td>\n      <td>-90</td>\n      <td>-85</td>\n    </tr>\n    <tr>\n      <th>1999</th>\n      <td>-59</td>\n      <td>-50</td>\n      <td>-45</td>\n      <td>-60</td>\n      <td>-45</td>\n      <td>-88</td>\n      <td>-87</td>\n    </tr>\n  </tbody>\n</table>\n<p>2000 rows × 7 columns</p>\n</div>"
     },
     "execution_count": 11,
     "metadata": {},
     "output_type": "execute_result"
    }
   ],
   "source": [
    "X"
   ]
  },
  {
   "cell_type": "code",
   "execution_count": 12,
   "metadata": {
    "ExecuteTime": {
     "start_time": "2023-04-24T16:00:34.018877Z",
     "end_time": "2023-04-24T16:00:34.114630Z"
    },
    "colab": {
     "base_uri": "https://localhost:8080/",
     "height": 424
    },
    "id": "DPfuCPg09_KX",
    "outputId": "43853f89-5eeb-42b6-e457-49b8da71c1c9"
   },
   "outputs": [
    {
     "data": {
      "text/plain": "          1      2      3      4\n0      True  False  False  False\n1      True  False  False  False\n2      True  False  False  False\n3      True  False  False  False\n4      True  False  False  False\n...     ...    ...    ...    ...\n1995  False  False  False   True\n1996  False  False  False   True\n1997  False  False  False   True\n1998  False  False  False   True\n1999  False  False  False   True\n\n[2000 rows x 4 columns]",
      "text/html": "<div>\n<style scoped>\n    .dataframe tbody tr th:only-of-type {\n        vertical-align: middle;\n    }\n\n    .dataframe tbody tr th {\n        vertical-align: top;\n    }\n\n    .dataframe thead th {\n        text-align: right;\n    }\n</style>\n<table border=\"1\" class=\"dataframe\">\n  <thead>\n    <tr style=\"text-align: right;\">\n      <th></th>\n      <th>1</th>\n      <th>2</th>\n      <th>3</th>\n      <th>4</th>\n    </tr>\n  </thead>\n  <tbody>\n    <tr>\n      <th>0</th>\n      <td>True</td>\n      <td>False</td>\n      <td>False</td>\n      <td>False</td>\n    </tr>\n    <tr>\n      <th>1</th>\n      <td>True</td>\n      <td>False</td>\n      <td>False</td>\n      <td>False</td>\n    </tr>\n    <tr>\n      <th>2</th>\n      <td>True</td>\n      <td>False</td>\n      <td>False</td>\n      <td>False</td>\n    </tr>\n    <tr>\n      <th>3</th>\n      <td>True</td>\n      <td>False</td>\n      <td>False</td>\n      <td>False</td>\n    </tr>\n    <tr>\n      <th>4</th>\n      <td>True</td>\n      <td>False</td>\n      <td>False</td>\n      <td>False</td>\n    </tr>\n    <tr>\n      <th>...</th>\n      <td>...</td>\n      <td>...</td>\n      <td>...</td>\n      <td>...</td>\n    </tr>\n    <tr>\n      <th>1995</th>\n      <td>False</td>\n      <td>False</td>\n      <td>False</td>\n      <td>True</td>\n    </tr>\n    <tr>\n      <th>1996</th>\n      <td>False</td>\n      <td>False</td>\n      <td>False</td>\n      <td>True</td>\n    </tr>\n    <tr>\n      <th>1997</th>\n      <td>False</td>\n      <td>False</td>\n      <td>False</td>\n      <td>True</td>\n    </tr>\n    <tr>\n      <th>1998</th>\n      <td>False</td>\n      <td>False</td>\n      <td>False</td>\n      <td>True</td>\n    </tr>\n    <tr>\n      <th>1999</th>\n      <td>False</td>\n      <td>False</td>\n      <td>False</td>\n      <td>True</td>\n    </tr>\n  </tbody>\n</table>\n<p>2000 rows × 4 columns</p>\n</div>"
     },
     "execution_count": 12,
     "metadata": {},
     "output_type": "execute_result"
    }
   ],
   "source": [
    "Y"
   ]
  },
  {
   "cell_type": "code",
   "execution_count": 13,
   "metadata": {
    "ExecuteTime": {
     "start_time": "2023-04-24T16:00:34.024118Z",
     "end_time": "2023-04-24T16:00:34.114710Z"
    },
    "colab": {
     "base_uri": "https://localhost:8080/"
    },
    "id": "njLgian_4YLy",
    "outputId": "54ec915c-bc39-4dba-d56a-eabc80f07a57"
   },
   "outputs": [
    {
     "name": "stdout",
     "output_type": "stream",
     "text": [
      "X_train shape (1600, 7)\n",
      "X_test shape (400, 7)\n",
      "Y_train shape (1600, 4)\n",
      "Y_test shape (400, 4)\n"
     ]
    }
   ],
   "source": [
    "# Make training and testing datasets for X and Y.\n",
    "\n",
    "X_train, X_test, Y_train, Y_test = train_test_split(X, Y, test_size = 0.20, random_state = 0)\n",
    "\n",
    "print(\"X_train shape\", X_train.shape)\n",
    "\n",
    "print(\"X_test shape\", X_test.shape)\n",
    "\n",
    "print(\"Y_train shape\", Y_train.shape)\n",
    "\n",
    "print(\"Y_test shape\", Y_test.shape)"
   ]
  },
  {
   "cell_type": "code",
   "execution_count": 14,
   "metadata": {
    "id": "hk1YM1JI6BCb",
    "ExecuteTime": {
     "start_time": "2023-04-24T16:00:34.030102Z",
     "end_time": "2023-04-24T16:00:36.430747Z"
    }
   },
   "outputs": [],
   "source": [
    "# Import keras initializers and regularizers\n",
    "\n",
    "from keras import initializers\n",
    "from keras import regularizers\n",
    "\n",
    "# Import the Sequential\n",
    "\n",
    "from keras.models import Sequential\n",
    "from keras.layers import Dense"
   ]
  },
  {
   "cell_type": "code",
   "execution_count": 15,
   "metadata": {
    "id": "V1HHzNbQ6CdY",
    "ExecuteTime": {
     "start_time": "2023-04-24T16:00:36.431729Z",
     "end_time": "2023-04-24T16:00:36.963894Z"
    }
   },
   "outputs": [
    {
     "name": "stdout",
     "output_type": "stream",
     "text": [
      "Metal device set to: Apple M1 Pro\n"
     ]
    }
   ],
   "source": [
    "# Number of neurals\n",
    "L1 = 100 # First hidden layer neurons\n",
    "L2 = 100 # Second hidden layer neurons\n",
    "\n",
    "# This means parameters in input model. In X_train, there are only 7 Wifi columns.\n",
    "input = 7\n",
    "\n",
    "# Activation functions\n",
    "activation_function = 'relu'\n",
    "activation_function2 = 'relu'\n",
    "output_activation_function = 'softmax'\n",
    "\n",
    "# Kernel initializers\n",
    "kernel_initializer1 = 'he_normal'\n",
    "\n",
    "# Number of outputs\n",
    "# You need to know your columns, for example, you only made a column \"Target\", so here only one value.\n",
    "no_of_output = 4\n",
    "\n",
    "# Initialize object\n",
    "model = Sequential()\n",
    "\n",
    "# First hidden layer\n",
    "model.add(Dense(L1, input_dim=input, activation=activation_function, kernel_initializer=kernel_initializer1, kernel_regularizer = regularizers.l2(0.01)))\n",
    "\n",
    "# Second hidden layer\n",
    "model.add(Dense(L2, activation=activation_function2))\n",
    "\n",
    "# Output layer\n",
    "model.add(Dense(no_of_output, activation=output_activation_function))\n"
   ]
  },
  {
   "cell_type": "code",
   "execution_count": 16,
   "metadata": {
    "id": "x0J70-V76EfZ",
    "ExecuteTime": {
     "start_time": "2023-04-24T16:00:36.966624Z",
     "end_time": "2023-04-24T16:00:37.003987Z"
    }
   },
   "outputs": [],
   "source": [
    "model.compile(loss = 'categorical_crossentropy', metrics = ['accuracy'], optimizer = 'adam')"
   ]
  },
  {
   "cell_type": "code",
   "execution_count": 17,
   "metadata": {
    "colab": {
     "base_uri": "https://localhost:8080/"
    },
    "id": "wwLXmWs26M3z",
    "outputId": "e0b77ac1-1753-4c6c-e61b-4f454fded7d3",
    "ExecuteTime": {
     "start_time": "2023-04-24T16:00:37.005433Z",
     "end_time": "2023-04-24T16:00:41.517641Z"
    }
   },
   "outputs": [
    {
     "name": "stdout",
     "output_type": "stream",
     "text": [
      "Epoch 1/10\n"
     ]
    },
    {
     "name": "stderr",
     "output_type": "stream",
     "text": [
      "2023-04-24 16:00:37.035271: W tensorflow/tsl/platform/profile_utils/cpu_utils.cc:128] Failed to get CPU frequency: 0 Hz\n"
     ]
    },
    {
     "name": "stdout",
     "output_type": "stream",
     "text": [
      "16/16 [==============================] - 2s 23ms/step - loss: 19.0114 - accuracy: 0.3537 - val_loss: 9.7756 - val_accuracy: 0.2850\n",
      "Epoch 2/10\n",
      "16/16 [==============================] - 0s 14ms/step - loss: 4.8719 - accuracy: 0.5231 - val_loss: 2.7045 - val_accuracy: 0.6975\n",
      "Epoch 3/10\n",
      "16/16 [==============================] - 0s 14ms/step - loss: 2.4425 - accuracy: 0.8050 - val_loss: 2.1194 - val_accuracy: 0.8900\n",
      "Epoch 4/10\n",
      "16/16 [==============================] - 0s 14ms/step - loss: 2.0452 - accuracy: 0.9237 - val_loss: 1.9400 - val_accuracy: 0.9525\n",
      "Epoch 5/10\n",
      "16/16 [==============================] - 0s 14ms/step - loss: 1.9284 - accuracy: 0.9538 - val_loss: 1.8980 - val_accuracy: 0.9575\n",
      "Epoch 6/10\n",
      "16/16 [==============================] - 0s 14ms/step - loss: 1.8774 - accuracy: 0.9613 - val_loss: 1.8556 - val_accuracy: 0.9650\n",
      "Epoch 7/10\n",
      "16/16 [==============================] - 0s 14ms/step - loss: 1.8348 - accuracy: 0.9631 - val_loss: 1.8001 - val_accuracy: 0.9750\n",
      "Epoch 8/10\n",
      "16/16 [==============================] - 0s 14ms/step - loss: 1.8084 - accuracy: 0.9631 - val_loss: 1.7680 - val_accuracy: 0.9700\n",
      "Epoch 9/10\n",
      "16/16 [==============================] - 0s 13ms/step - loss: 1.7759 - accuracy: 0.9631 - val_loss: 1.7412 - val_accuracy: 0.9775\n",
      "Epoch 10/10\n",
      "16/16 [==============================] - 0s 14ms/step - loss: 1.7560 - accuracy: 0.9675 - val_loss: 1.7113 - val_accuracy: 0.9775\n"
     ]
    }
   ],
   "source": [
    "history = model.fit(X_train, Y_train, epochs = 10, batch_size = 100, validation_data = (X_test, Y_test))"
   ]
  },
  {
   "cell_type": "code",
   "execution_count": 18,
   "metadata": {
    "colab": {
     "base_uri": "https://localhost:8080/",
     "height": 513
    },
    "id": "5Uf93JLP6Pnm",
    "outputId": "e76e217e-5e54-44db-c2fe-d19bc8f8cb25"
   },
   "outputs": [
    {
     "ename": "ModuleNotFoundError",
     "evalue": "No module named 'matplotlib'",
     "output_type": "error",
     "traceback": [
      "\u001B[0;31m---------------------------------------------------------------------------\u001B[0m",
      "\u001B[0;31mModuleNotFoundError\u001B[0m                       Traceback (most recent call last)",
      "Cell \u001B[0;32mIn[18], line 4\u001B[0m\n\u001B[1;32m      1\u001B[0m \u001B[38;5;66;03m# Bring back the previous code and run. No changes in this part.\u001B[39;00m\n\u001B[1;32m      2\u001B[0m \u001B[38;5;66;03m# Visualisations\u001B[39;00m\n\u001B[0;32m----> 4\u001B[0m \u001B[38;5;28;01mimport\u001B[39;00m \u001B[38;5;21;01mmatplotlib\u001B[39;00m\u001B[38;5;21;01m.\u001B[39;00m\u001B[38;5;21;01mpyplot\u001B[39;00m \u001B[38;5;28;01mas\u001B[39;00m \u001B[38;5;21;01mplt\u001B[39;00m\n\u001B[1;32m      6\u001B[0m acc2 \u001B[38;5;241m=\u001B[39m history\u001B[38;5;241m.\u001B[39mhistory[\u001B[38;5;124m'\u001B[39m\u001B[38;5;124maccuracy\u001B[39m\u001B[38;5;124m'\u001B[39m]\n\u001B[1;32m      7\u001B[0m val_acc \u001B[38;5;241m=\u001B[39m history\u001B[38;5;241m.\u001B[39mhistory[\u001B[38;5;124m'\u001B[39m\u001B[38;5;124mval_accuracy\u001B[39m\u001B[38;5;124m'\u001B[39m]\n",
      "\u001B[0;31mModuleNotFoundError\u001B[0m: No module named 'matplotlib'"
     ]
    }
   ],
   "source": [
    "# Bring back the previous code and run. No changes in this part.\n",
    "# Visualisations\n",
    "\n",
    "import matplotlib.pyplot as plt\n",
    "\n",
    "acc2 = history.history['accuracy']\n",
    "val_acc = history.history['val_accuracy']\n",
    "loss2 = history.history['loss']\n",
    "val_loss = history.history['val_loss']\n",
    "\n",
    "epochs = range(1,len(acc2)+1)\n",
    "\n",
    "# 'b' and 'r' are blue and red color\n",
    "\n",
    "plt.plot(epochs, acc2, 'b', label='Train Accuracy')\n",
    "plt.plot(epochs, val_acc, 'r', label='Test Accuracy')\n",
    "plt.legend()\n",
    "plt.figure()\n",
    "\n",
    "plt.plot(epochs, loss2, 'b', label = 'Train loss')\n",
    "plt.plot(epochs, val_loss, 'r', label = 'Test loss')\n",
    "plt.legend()\n",
    "plt.show()"
   ]
  },
  {
   "cell_type": "code",
   "execution_count": null,
   "metadata": {},
   "outputs": [],
   "source": []
  }
 ],
 "metadata": {
  "colab": {
   "provenance": []
  },
  "kernelspec": {
   "display_name": "Python 3 (ipykernel)",
   "language": "python",
   "name": "python3"
  },
  "language_info": {
   "codemirror_mode": {
    "name": "ipython",
    "version": 3
   },
   "file_extension": ".py",
   "mimetype": "text/x-python",
   "name": "python",
   "nbconvert_exporter": "python",
   "pygments_lexer": "ipython3",
   "version": "3.11.2"
  }
 },
 "nbformat": 4,
 "nbformat_minor": 1
}
